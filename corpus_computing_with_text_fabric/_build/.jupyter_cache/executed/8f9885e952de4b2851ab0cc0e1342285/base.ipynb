{
 "cells": [
  {
   "cell_type": "code",
   "execution_count": 1,
   "metadata": {},
   "outputs": [],
   "source": [
    "%load_ext autoreload\n",
    "%autoreload 2"
   ]
  },
  {
   "cell_type": "code",
   "execution_count": 2,
   "metadata": {
    "ExecuteTime": {
     "end_time": "2018-05-24T10:17:06.453483Z",
     "start_time": "2018-05-24T10:17:06.432200Z"
    }
   },
   "outputs": [],
   "source": [
    "import sys, os\n",
    "import collections\n",
    "from IPython.display import display, Markdown\n",
    "from tf.app import use"
   ]
  },
  {
   "cell_type": "code",
   "execution_count": 3,
   "metadata": {
    "ExecuteTime": {
     "end_time": "2018-05-24T10:17:08.349408Z",
     "start_time": "2018-05-24T10:17:07.481634Z"
    }
   },
   "outputs": [
    {
     "data": {
      "text/html": [
       "<b title=\"local github\">TF-app:</b> <span title=\"repo clone offline under ~/github\">~/github/annotation/app-uruk/code</span>"
      ],
      "text/plain": [
       "<IPython.core.display.HTML object>"
      ]
     },
     "metadata": {},
     "output_type": "display_data"
    },
    {
     "data": {
      "text/html": [
       "<b title=\"local github\">data:</b> <span title=\"repo clone offline under ~/github\">~/github/Nino-cunei/uruk/tf/uruk/1.0</span>"
      ],
      "text/plain": [
       "<IPython.core.display.HTML object>"
      ]
     },
     "metadata": {},
     "output_type": "display_data"
    },
    {
     "data": {
      "text/html": [
       "<b>Text-Fabric:</b> <a target=\"_blank\" href=\"https://annotation.github.io/text-fabric/cheatsheet.html\" title=\"text-fabric-api\">Text-Fabric API 8.4.6</a>, <a target=\"_blank\" href=\"https://github.com/annotation/app-uruk\" title=\"uruk TF-app\">app-uruk v3</a>, <a target=\"_blank\" href=\"https://annotation.github.io/text-fabric/about/searchusage.html\" title=\"Search Templates Introduction and Reference\">Search Reference</a><br><b>Data:</b> <a target=\"_blank\" href=\"https://github.com/Nino-cunei/uruk/blob/master/docs/about.md\" title=\"provenance of Uruk IV/III: Proto-cuneiform tablets \">URUK</a>, <a target=\"_blank\" href=\"https://annotation.github.io/text-fabric/writing/.html\" title=\"How TF features represent text\">Character table</a>, <a target=\"_blank\" href=\"https://github.com/Nino-cunei/uruk/blob/master/docs/transcription.md\" title=\"URUK feature documentation\">Feature docs</a><br><b>Features:</b><br><details><summary><b>Uruk IV/III: Proto-cuneiform tablets </b></summary><a target=\"_blank\" href=\"https://github.com/Nino-cunei/uruk/blob/master/docs/transcription.md\" title=\"~/github/Nino-cunei/uruk/tf/uruk/1.0/catalogId.tf\">catalogId</a><br><a target=\"_blank\" href=\"https://github.com/Nino-cunei/uruk/blob/master/docs/transcription.md\" title=\"~/github/Nino-cunei/uruk/tf/uruk/1.0/crossref.tf\">crossref</a><br><a target=\"_blank\" href=\"https://github.com/Nino-cunei/uruk/blob/master/docs/transcription.md\" title=\"~/github/Nino-cunei/uruk/tf/uruk/1.0/damage.tf\">damage</a><br><a target=\"_blank\" href=\"https://github.com/Nino-cunei/uruk/blob/master/docs/transcription.md\" title=\"~/github/Nino-cunei/uruk/tf/uruk/1.0/depth.tf\">depth</a><br><a target=\"_blank\" href=\"https://github.com/Nino-cunei/uruk/blob/master/docs/transcription.md\" title=\"~/github/Nino-cunei/uruk/tf/uruk/1.0/excavation.tf\">excavation</a><br><a target=\"_blank\" href=\"https://github.com/Nino-cunei/uruk/blob/master/docs/transcription.md\" title=\"~/github/Nino-cunei/uruk/tf/uruk/1.0/fragment.tf\">fragment</a><br><a target=\"_blank\" href=\"https://github.com/Nino-cunei/uruk/blob/master/docs/transcription.md\" title=\"~/github/Nino-cunei/uruk/tf/uruk/1.0/fullNumber.tf\">fullNumber</a><br><a target=\"_blank\" href=\"https://github.com/Nino-cunei/uruk/blob/master/docs/transcription.md\" title=\"~/github/Nino-cunei/uruk/tf/uruk/1.0/grapheme.tf\">grapheme</a><br><a target=\"_blank\" href=\"https://github.com/Nino-cunei/uruk/blob/master/docs/transcription.md\" title=\"~/github/Nino-cunei/uruk/tf/uruk/1.0/identifier.tf\">identifier</a><br><a target=\"_blank\" href=\"https://github.com/Nino-cunei/uruk/blob/master/docs/transcription.md\" title=\"~/github/Nino-cunei/uruk/tf/uruk/1.0/modifier.tf\">modifier</a><br><a target=\"_blank\" href=\"https://github.com/Nino-cunei/uruk/blob/master/docs/transcription.md\" title=\"~/github/Nino-cunei/uruk/tf/uruk/1.0/modifierFirst.tf\">modifierFirst</a><br><a target=\"_blank\" href=\"https://github.com/Nino-cunei/uruk/blob/master/docs/transcription.md\" title=\"~/github/Nino-cunei/uruk/tf/uruk/1.0/modifierInner.tf\">modifierInner</a><br><a target=\"_blank\" href=\"https://github.com/Nino-cunei/uruk/blob/master/docs/transcription.md\" title=\"~/github/Nino-cunei/uruk/tf/uruk/1.0/name.tf\">name</a><br><a target=\"_blank\" href=\"https://github.com/Nino-cunei/uruk/blob/master/docs/transcription.md\" title=\"~/github/Nino-cunei/uruk/tf/uruk/1.0/number.tf\">number</a><br><a target=\"_blank\" href=\"https://github.com/Nino-cunei/uruk/blob/master/docs/transcription.md\" title=\"~/github/Nino-cunei/uruk/tf/uruk/1.0/otype.tf\">otype</a><br><a target=\"_blank\" href=\"https://github.com/Nino-cunei/uruk/blob/master/docs/transcription.md\" title=\"~/github/Nino-cunei/uruk/tf/uruk/1.0/period.tf\">period</a><br><a target=\"_blank\" href=\"https://github.com/Nino-cunei/uruk/blob/master/docs/transcription.md\" title=\"~/github/Nino-cunei/uruk/tf/uruk/1.0/prime.tf\">prime</a><br><a target=\"_blank\" href=\"https://github.com/Nino-cunei/uruk/blob/master/docs/transcription.md\" title=\"~/github/Nino-cunei/uruk/tf/uruk/1.0/remarkable.tf\">remarkable</a><br><a target=\"_blank\" href=\"https://github.com/Nino-cunei/uruk/blob/master/docs/transcription.md\" title=\"~/github/Nino-cunei/uruk/tf/uruk/1.0/repeat.tf\">repeat</a><br><a target=\"_blank\" href=\"https://github.com/Nino-cunei/uruk/blob/master/docs/transcription.md\" title=\"~/github/Nino-cunei/uruk/tf/uruk/1.0/srcLn.tf\">srcLn</a><br><a target=\"_blank\" href=\"https://github.com/Nino-cunei/uruk/blob/master/docs/transcription.md\" title=\"~/github/Nino-cunei/uruk/tf/uruk/1.0/srcLnNum.tf\">srcLnNum</a><br><a target=\"_blank\" href=\"https://github.com/Nino-cunei/uruk/blob/master/docs/transcription.md\" title=\"~/github/Nino-cunei/uruk/tf/uruk/1.0/terminal.tf\">terminal</a><br><a target=\"_blank\" href=\"https://github.com/Nino-cunei/uruk/blob/master/docs/transcription.md\" title=\"~/github/Nino-cunei/uruk/tf/uruk/1.0/text.tf\">text</a><br><a target=\"_blank\" href=\"https://github.com/Nino-cunei/uruk/blob/master/docs/transcription.md\" title=\"~/github/Nino-cunei/uruk/tf/uruk/1.0/type.tf\">type</a><br><a target=\"_blank\" href=\"https://github.com/Nino-cunei/uruk/blob/master/docs/transcription.md\" title=\"~/github/Nino-cunei/uruk/tf/uruk/1.0/uncertain.tf\">uncertain</a><br><a target=\"_blank\" href=\"https://github.com/Nino-cunei/uruk/blob/master/docs/transcription.md\" title=\"~/github/Nino-cunei/uruk/tf/uruk/1.0/variant.tf\">variant</a><br><a target=\"_blank\" href=\"https://github.com/Nino-cunei/uruk/blob/master/docs/transcription.md\" title=\"~/github/Nino-cunei/uruk/tf/uruk/1.0/variantOuter.tf\">variantOuter</a><br><a target=\"_blank\" href=\"https://github.com/Nino-cunei/uruk/blob/master/docs/transcription.md\" title=\"~/github/Nino-cunei/uruk/tf/uruk/1.0/written.tf\">written</a><br><b><i><a target=\"_blank\" href=\"https://github.com/Nino-cunei/uruk/blob/master/docs/transcription.md\" title=\"~/github/Nino-cunei/uruk/tf/uruk/1.0/comments.tf\">comments</a></i></b><br><b><i><a target=\"_blank\" href=\"https://github.com/Nino-cunei/uruk/blob/master/docs/transcription.md\" title=\"~/github/Nino-cunei/uruk/tf/uruk/1.0/op.tf\">op</a></i></b><br><b><i><a target=\"_blank\" href=\"https://github.com/Nino-cunei/uruk/blob/master/docs/transcription.md\" title=\"~/github/Nino-cunei/uruk/tf/uruk/1.0/oslots.tf\">oslots</a></i></b><br><b><i><a target=\"_blank\" href=\"https://github.com/Nino-cunei/uruk/blob/master/docs/transcription.md\" title=\"~/github/Nino-cunei/uruk/tf/uruk/1.0/sub.tf\">sub</a></i></b><br></details>"
      ],
      "text/plain": [
       "<IPython.core.display.HTML object>"
      ]
     },
     "metadata": {},
     "output_type": "display_data"
    },
    {
     "data": {
      "text/html": [
       "<style>tr.tf.ltr, td.tf.ltr, th.tf.ltr { text-align: left ! important;}\n",
       "tr.tf.rtl, td.tf.rtl, th.tf.rtl { text-align: right ! important;}\n",
       "@font-face {\n",
       "  font-family: \"Gentium Plus\";\n",
       "  src: local('Gentium Plus'), local('GentiumPlus'),\n",
       "    url('/server/static/fonts/GentiumPlus-R.woff') format('woff'),\n",
       "    url('https://github.com/annotation/text-fabric/blob/master/tf/server/static/fonts/GentiumPlus-R.woff?raw=true') format('woff');\n",
       "}\n",
       "\n",
       "@font-face {\n",
       "  font-family: \"Ezra SIL\";\n",
       "  src: local('Ezra SIL'), local('EzraSIL'),\n",
       "    url('/server/static/fonts/SILEOT.woff') format('woff'),\n",
       "    url('https://github.com/annotation/text-fabric/blob/master/tf/server/static/fonts/SILEOT.woff?raw=true') format('woff');\n",
       "}\n",
       "\n",
       "@font-face {\n",
       "  font-family: \"SBL Hebrew\";\n",
       "  src: local('SBL Hebrew'), local('SBLHebrew'),\n",
       "    url('/server/static/fonts/SBL_Hbrw.woff') format('woff'),\n",
       "    url('https://github.com/annotation/text-fabric/blob/master/tf/server/static/fonts/SBL_Hbrw.woff?raw=true') format('woff');\n",
       "}\n",
       "\n",
       "@font-face {\n",
       "  font-family: \"Estrangelo Edessa\";\n",
       "  src: local('Estrangelo Edessa'), local('EstrangeloEdessa');\n",
       "    url('/server/static/fonts/SyrCOMEdessa.woff') format('woff'),\n",
       "    url('https://github.com/annotation/text-fabric/blob/master/tf/server/static/fonts/SyrCOMEdessa.woff?raw=true') format('woff');\n",
       "}\n",
       "\n",
       "@font-face {\n",
       "  font-family: AmiriQuran;\n",
       "  font-style: normal;\n",
       "  font-weight: 400;\n",
       "  src: local('Amiri Quran'), local('AmiriQuran'),\n",
       "    url('/server/static/fonts/AmiriQuran.woff') format('woff'),\n",
       "    url('https://github.com/annotation/text-fabric/blob/master/tf/server/static/fonts/AmiriQuran.woff?raw=true') format('woff');\n",
       "}\n",
       "\n",
       "@font-face {\n",
       "  font-family: AmiriQuranColored;\n",
       "  font-style: normal;\n",
       "  font-weight: 400;\n",
       "  src: local('Amiri Quran Colored'), local('AmiriQuranColored'),\n",
       "    url('/server/static/fonts/AmiriQuranColored.woff') format('woff'),\n",
       "    url('https://github.com/annotation/text-fabric/blob/master/tf/server/static/fonts/AmiriQuranColored.woff?raw=true') format('woff');\n",
       "}\n",
       "\n",
       "@font-face {\n",
       "  font-family: \"Santakku\";\n",
       "  src: local('Santakku'),\n",
       "    url('/server/static/fonts/Santakku.woff') format('woff'),\n",
       "    url('https://github.com/annotation/text-fabric/blob/master/tf/server/static/fonts/Santakku.woff?raw=true') format('woff');\n",
       "}\n",
       "\n",
       "@font-face {\n",
       "  font-family: \"SantakkuM\";\n",
       "  src: local('SantakkuM'),\n",
       "    url('/server/static/fonts/SantakkuM.woff') format('woff'),\n",
       "    url('https://github.com/annotation/text-fabric/blob/master/tf/server/static/fonts/SantakkuM.woff?raw=true') format('woff');\n",
       "}\n",
       "/* bypassing some classical notebook settings */\n",
       "div#notebook {\n",
       "  line-height: unset;\n",
       "}\n",
       "/* neutral text */\n",
       ".txtn,.txtn a:visited,.txtn a:link {\n",
       "    font-family: sans-serif;\n",
       "    font-size: medium;\n",
       "    direction: ltr;\n",
       "    unicode-bidi: embed;\n",
       "    text-decoration: none;\n",
       "    color: var(--text-color);\n",
       "}\n",
       "/* transcription text */\n",
       ".txtt,.txtt a:visited,.txtt a:link {\n",
       "    font-family: monospace;\n",
       "    font-size: medium;\n",
       "    direction: ltr;\n",
       "    unicode-bidi: embed;\n",
       "    text-decoration: none;\n",
       "    color: var(--text-color);\n",
       "}\n",
       "/* source text */\n",
       ".txto,.txto a:visited,.txto a:link {\n",
       "    font-family: serif;\n",
       "    font-size: medium;\n",
       "    direction: ltr;\n",
       "    unicode-bidi: embed;\n",
       "    text-decoration: none;\n",
       "    color: var(--text-color);\n",
       "}\n",
       "/* phonetic text */\n",
       ".txtp,.txtp a:visited,.txtp a:link {\n",
       "    font-family: Gentium, sans-serif;\n",
       "    font-size: medium;\n",
       "    direction: ltr;\n",
       "    unicode-bidi: embed;\n",
       "    text-decoration: none;\n",
       "    color: var(--text-color);\n",
       "}\n",
       "/* original script text */\n",
       ".txtu,.txtu a:visited,.txtu a:link {\n",
       "    font-family: Gentium, sans-serif;\n",
       "    font-size: medium;\n",
       "    text-decoration: none;\n",
       "    color: var(--text-color);\n",
       "}\n",
       "/* hebrew */\n",
       ".txtu.hbo,.lex.hbo {\n",
       "    font-family: \"Ezra SIL\", \"SBL Hebrew\", sans-serif;\n",
       "    font-size: large;\n",
       "    direction: rtl ! important;\n",
       "    unicode-bidi: embed;\n",
       "}\n",
       "/* syriac */\n",
       ".txtu.syc,.lex.syc {\n",
       "    font-family: \"Estrangelo Edessa\", sans-serif;\n",
       "    font-size: medium;\n",
       "    direction: rtl ! important;\n",
       "    unicode-bidi: embed;\n",
       "}\n",
       "/* neo aramaic */\n",
       ".txtu.cld,.lex.cld {\n",
       "    font-family: \"CharisSIL-R\", sans-serif;\n",
       "    font-size: medium;\n",
       "    direction: ltr ! important;\n",
       "    unicode-bidi: embed;\n",
       "}\n",
       "/* standard arabic */\n",
       ".txtu.ara,.lex.ara {\n",
       "    font-family: \"AmiriQuran\", sans-serif;\n",
       "    font-size: large;\n",
       "    direction: rtl ! important;\n",
       "    unicode-bidi: embed;\n",
       "}\n",
       "/* cuneiform */\n",
       ".txtu.akk,.lex.akk {\n",
       "    font-family: Santakku, sans-serif;\n",
       "    font-size: large;\n",
       "    direction: ltr ! important;\n",
       "    unicode-bidi: embed;\n",
       "}\n",
       "/* greek */\n",
       ".txtu.grc,.lex.grc a:link {\n",
       "    font-family: Gentium, sans-serif;\n",
       "    font-size: medium;\n",
       "    direction: ltr ! important;\n",
       "    unicode-bidi: embed;\n",
       "}\n",
       "a:hover {\n",
       "    text-decoration: underline | important;\n",
       "    color: #0000ff | important;\n",
       "}\n",
       ".ltr {\n",
       "    direction: ltr ! important;\n",
       "    unicode-bidi: embed;\n",
       "}\n",
       ".rtl {\n",
       "    direction: rtl ! important;\n",
       "    unicode-bidi: embed;\n",
       "}\n",
       ".ubd {\n",
       "    unicode-bidi: embed;\n",
       "}\n",
       ".col {\n",
       "   display: inline-block;\n",
       "}\n",
       ".features {\n",
       "    font-family: monospace;\n",
       "    font-size: medium;\n",
       "    font-weight: bold;\n",
       "    color: var(--features);\n",
       "    display: flex;\n",
       "    flex-flow: column nowrap;\n",
       "    justify-content: flex-start;\n",
       "    align-items: flex-start;\n",
       "    align-content: flex-start;\n",
       "    padding: 2px;\n",
       "    margin: 2px;\n",
       "    direction: ltr;\n",
       "    unicode-bidi: embed;\n",
       "    border: var(--meta-width) solid var(--meta-color);\n",
       "    border-radius: var(--meta-width);\n",
       "}\n",
       ".features div,.features span {\n",
       "    padding: 0;\n",
       "    margin: -2px 0;\n",
       "}\n",
       ".features .f {\n",
       "    font-family: sans-serif;\n",
       "    font-size: small;\n",
       "    font-weight: normal;\n",
       "    color: #5555bb;\n",
       "}\n",
       ".features .xft {\n",
       "  color: #000000;\n",
       "  background-color: #eeeeee;\n",
       "  font-size: medium;\n",
       "  margin: 2px 0px;\n",
       "}\n",
       ".features .xft .f {\n",
       "  color: #000000;\n",
       "  background-color: #eeeeee;\n",
       "  font-size: small;\n",
       "  font-weight: normal;\n",
       "}\n",
       ".tfsechead {\n",
       "    font-family: sans-serif;\n",
       "    font-size: small;\n",
       "    font-weight: bold;\n",
       "    color: var(--tfsechead);\n",
       "    unicode-bidi: embed;\n",
       "    text-align: start;\n",
       "}\n",
       ".structure {\n",
       "    font-family: sans-serif;\n",
       "    font-size: small;\n",
       "    font-weight: bold;\n",
       "    color: var(--structure);\n",
       "    unicode-bidi: embed;\n",
       "    text-align: start;\n",
       "}\n",
       ".comments {\n",
       "    display: flex;\n",
       "    justify-content: flex-start;\n",
       "    align-items: flex-start;\n",
       "    align-content: flex-start;\n",
       "    flex-flow: column nowrap;\n",
       "}\n",
       ".nd, a:link.nd {\n",
       "    font-family: sans-serif;\n",
       "    font-size: small;\n",
       "    color: var(--node);\n",
       "    vertical-align: super;\n",
       "    direction: ltr ! important;\n",
       "    unicode-bidi: embed;\n",
       "}\n",
       ".lex {\n",
       "  color: var(--lex-color);;\n",
       "}\n",
       ".children,.children.ltr {\n",
       "    display: flex;\n",
       "    border: 0;\n",
       "    background-color: #ffffff;\n",
       "    justify-content: flex-start;\n",
       "    align-items: flex-start;\n",
       "    align-content: flex-start;\n",
       "}\n",
       ".children.stretch {\n",
       "    align-items: stretch;\n",
       "}\n",
       ".children.hor {\n",
       "    flex-flow: row nowrap;\n",
       "}\n",
       ".children.hor.wrap {\n",
       "    flex-flow: row wrap;\n",
       "}\n",
       ".children.ver {\n",
       "    flex-flow: column nowrap;\n",
       "}\n",
       ".children.ver.wrap {\n",
       "    flex-flow: column wrap;\n",
       "}\n",
       ".contnr {\n",
       "    width: fit-content;\n",
       "    display: flex;\n",
       "    justify-content: flex-start;\n",
       "    align-items: flex-start;\n",
       "    align-content: flex-start;\n",
       "    flex-flow: column nowrap;\n",
       "    background: #ffffff none repeat scroll 0 0;\n",
       "    padding:  10px 2px 2px 2px;\n",
       "    margin: 16px 2px 2px 2px;\n",
       "    border-style: solid;\n",
       "    font-size: small;\n",
       "}\n",
       ".contnr.trm {\n",
       "    background-attachment: local;\n",
       "}\n",
       ".contnr.cnul {\n",
       "    padding:  0;\n",
       "    margin: 0;\n",
       "    border-style: solid;\n",
       "    font-size: xx-small;\n",
       "}\n",
       ".contnr.cnul,.lbl.cnul {\n",
       "    border-color: var(--border-color-nul);\n",
       "    border-width: var(--border-width-nul);\n",
       "    border-radius: var(--border-width-nul);\n",
       "}\n",
       ".contnr.c0,.lbl.c0 {\n",
       "    border-color: var(--border-color0);\n",
       "    border-width: var(--border-width0);\n",
       "    border-radius: var(--border-width0);\n",
       "}\n",
       ".contnr.c1,.lbl.c1 {\n",
       "    border-color: var(--border-color1);\n",
       "    border-width: var(--border-width1);\n",
       "    border-radius: var(--border-width1);\n",
       "}\n",
       ".contnr.c2,.lbl.c2 {\n",
       "    border-color: var(--border-color2);\n",
       "    border-width: var(--border-width2);\n",
       "    border-radius: var(--border-width2);\n",
       "}\n",
       ".contnr.c3,.lbl.c3 {\n",
       "    border-color: var(--border-color3);\n",
       "    border-width: var(--border-width3);\n",
       "    border-radius: var(--border-width3);\n",
       "}\n",
       ".contnr.c4,.lbl.c4 {\n",
       "    border-color: var(--border-color4);\n",
       "    border-width: var(--border-width4);\n",
       "    border-radius: var(--border-width4);\n",
       "}\n",
       "span.plain {\n",
       "    display: inline-block;\n",
       "    white-space: pre-wrap;\n",
       "}\n",
       ".plain {\n",
       "    background-color: #ffffff;\n",
       "}\n",
       ".plain.l,.contnr.l,.contnr.l>.lbl {\n",
       "    border-left-style: dotted\n",
       "}\n",
       ".plain.r,.contnr.r,.contnr.r>.lbl {\n",
       "    border-right-style: dotted\n",
       "}\n",
       ".plain.lno,.contnr.lno,.contnr.lno>.lbl {\n",
       "    border-left-style: none\n",
       "}\n",
       ".plain.rno,.contnr.rno,.contnr.rno>.lbl {\n",
       "    border-right-style: none\n",
       "}\n",
       ".plain.l {\n",
       "    padding-left: 4px;\n",
       "    margin-left: 2px;\n",
       "    border-width: var(--border-width-plain);\n",
       "}\n",
       ".plain.r {\n",
       "    padding-right: 4px;\n",
       "    margin-right: 2px;\n",
       "    border-width: var(--border-width-plain);\n",
       "}\n",
       ".lbl {\n",
       "    font-family: monospace;\n",
       "    margin-top: -24px;\n",
       "    margin-left: 20px;\n",
       "    background: #ffffff none repeat scroll 0 0;\n",
       "    padding: 0 6px;\n",
       "    border-style: solid;\n",
       "    display: block;\n",
       "    color: var(--label)\n",
       "}\n",
       ".lbl.trm {\n",
       "    background-attachment: local;\n",
       "    margin-top: 2px;\n",
       "    margin-left: 2px;\n",
       "    padding: 2px 2px;\n",
       "    border-style: none;\n",
       "}\n",
       ".lbl.cnul {\n",
       "    font-size: xx-small;\n",
       "}\n",
       ".lbl.c0 {\n",
       "    font-size: small;\n",
       "}\n",
       ".lbl.c1 {\n",
       "    font-size: small;\n",
       "}\n",
       ".lbl.c2 {\n",
       "    font-size: medium;\n",
       "}\n",
       ".lbl.c3 {\n",
       "    font-size: medium;\n",
       "}\n",
       ".lbl.c4 {\n",
       "    font-size: large;\n",
       "}\n",
       ".occs, a:link.occs {\n",
       "    font-size: small;\n",
       "}\n",
       "\n",
       "/* PROVENANCE */\n",
       "\n",
       "div.prov {\n",
       "\tmargin: 40px;\n",
       "\tpadding: 20px;\n",
       "\tborder: 2px solid var(--fog-rim);\n",
       "}\n",
       "div.pline {\n",
       "\tdisplay: flex;\n",
       "\tflex-flow: row nowrap;\n",
       "\tjustify-content: stretch;\n",
       "\talign-items: baseline;\n",
       "}\n",
       "div.p2line {\n",
       "\tmargin-left: 2em;\n",
       "\tdisplay: flex;\n",
       "\tflex-flow: row nowrap;\n",
       "\tjustify-content: stretch;\n",
       "\talign-items: baseline;\n",
       "}\n",
       "div.psline {\n",
       "\tdisplay: flex;\n",
       "\tflex-flow: row nowrap;\n",
       "\tjustify-content: stretch;\n",
       "\talign-items: baseline;\n",
       "\tbackground-color: var(--gold-mist-back);\n",
       "}\n",
       "div.pname {\n",
       "\tflex: 0 0 5rem;\n",
       "\tfont-weight: bold;\n",
       "}\n",
       "div.pval {\n",
       "    flex: 1 1 auto;\n",
       "}\n",
       "\n",
       ":root {\n",
       "\t--node:               hsla(120, 100%,  20%, 1.0  );\n",
       "\t--label:              hsla(  0, 100%,  20%, 1.0  );\n",
       "\t--tfsechead:          hsla(  0, 100%,  25%, 1.0  );\n",
       "\t--structure:          hsla(120, 100%,  25%, 1.0  );\n",
       "\t--features:           hsla(  0,   0%,  30%, 1.0  );\n",
       "  --text-color:         hsla( 60,  80%,  10%, 1.0  );\n",
       "  --lex-color:          hsla(220,  90%,  60%, 1.0  );\n",
       "  --meta-color:         hsla(  0,   0%,  90%, 0.7  );\n",
       "  --meta-width:         3px;\n",
       "  --border-color-nul:   hsla(  0,   0%,  90%, 0.5  );\n",
       "  --border-color0:      hsla(  0,   0%,  90%, 0.9  );\n",
       "  --border-color1:      hsla(  0,   0%,  80%, 0.9  );\n",
       "  --border-color2:      hsla(  0,   0%,  70%, 0.9  );\n",
       "  --border-color3:      hsla(  0,   0%,  80%, 0.8  );\n",
       "  --border-color4:      hsla(  0,   0%,  60%, 0.9  );\n",
       "  --border-width-nul:   2px;\n",
       "  --border-width0:      2px;\n",
       "  --border-width1:      3px;\n",
       "  --border-width2:      4px;\n",
       "  --border-width3:      6px;\n",
       "  --border-width4:      5px;\n",
       "  --border-width-plain: 2px;\n",
       "}\n",
       ".hl {\n",
       "  background-color: var(--hl-strong);\n",
       "}\n",
       "span.hl {\n",
       "\tbackground-color: var(--hl-strong);\n",
       "\tborder-width: 0;\n",
       "\tborder-radius: 2px;\n",
       "\tborder-style: solid;\n",
       "}\n",
       "div.contnr.hl,div.lbl.hl {\n",
       "  background-color: var(--hl-strong);\n",
       "}\n",
       "div.contnr.hl {\n",
       "  border-color: var(--hl-rim) ! important;\n",
       "\tborder-width: 4px ! important;\n",
       "}\n",
       "\n",
       "span.hlbx {\n",
       "\tborder-color: var(--hl-rim);\n",
       "\tborder-width: 4px ! important;\n",
       "\tborder-style: solid;\n",
       "\tborder-radius: 6px;\n",
       "  padding: 4px;\n",
       "  margin: 4px;\n",
       "}\n",
       "\n",
       "span.plain {\n",
       "  display: inline-block;\n",
       "  white-space: pre-wrap;\n",
       "}\n",
       "\n",
       ":root {\n",
       "\t--hl-strong:        hsla( 60, 100%,  70%, 0.9  );\n",
       "\t--hl-rim:           hsla( 55,  80%,  50%, 1.0  );\n",
       "}\n",
       ".contnr.cluster {\n",
       "    flex-flow: row wrap;\n",
       "    border: 0;\n",
       "}\n",
       ".meta .features {\n",
       "    background-color: #ffeedd;\n",
       "}\n",
       ".lbl.clusterb,.lbl.clustere {\n",
       "    padding:  0.5em 0.1em 0.1em 0.1em;\n",
       "    margin: 0.8em 0.1em 0.1em 0.1em;\n",
       "    color: #888844;\n",
       "    font-size: x-small;\n",
       "}\n",
       ".lbl.clusterb {\n",
       "    border-left: 0.3em solid #cccc99;\n",
       "    border-right: 0;\n",
       "    border-top: 0;\n",
       "    border-bottom: 0;\n",
       "    border-radius: 1rem;\n",
       "}\n",
       ".lbl.clustere {\n",
       "    border-left: 0;\n",
       "    border-right: 0.3em solid #cccc99;\n",
       "    border-top: 0;\n",
       "    border-bottom: 0;\n",
       "    border-radius: 1rem;\n",
       "}\n",
       ".op {\n",
       "    padding:  0.5em 0.1em 0.1em 0.1em;\n",
       "    margin: 0.8em 0.1em 0.1em 0.1em;\n",
       "    font-family: monospace;\n",
       "    font-size: x-large;\n",
       "    font-weight: bold;\n",
       "}\n",
       ".period {\n",
       "    font-family: monospace;\n",
       "    font-size: medium;\n",
       "    font-weight: bold;\n",
       "    color: #0000bb;\n",
       "}\n",
       ".excavation {\n",
       "    font-family: monospace;\n",
       "    font-size: medium;\n",
       "    font-style: italic;\n",
       "    color: #779900;\n",
       "}\n",
       "</style>"
      ],
      "text/plain": [
       "<IPython.core.display.HTML object>"
      ]
     },
     "metadata": {},
     "output_type": "display_data"
    },
    {
     "data": {
      "text/html": [
       "<div><b>Text-Fabric API:</b> names <a target=\"_blank\" href=\"https://annotation.github.io/text-fabric/cheatsheet.html\" title=\"doc\">N F E L T S C TF</a> directly usable</div><hr>"
      ],
      "text/plain": [
       "<IPython.core.display.HTML object>"
      ]
     },
     "metadata": {},
     "output_type": "display_data"
    },
    {
     "data": {
      "text/html": [
       "<b title=\"local github\">data:</b> <span title=\"repo clone offline under ~/github\">~/github/Nino-cunei/uruk/sources/cdli/images</span>"
      ],
      "text/plain": [
       "<IPython.core.display.HTML object>"
      ]
     },
     "metadata": {},
     "output_type": "display_data"
    },
    {
     "data": {
      "text/html": [
       "Found 2095 ideograph linearts<br>"
      ],
      "text/plain": [
       "<IPython.core.display.HTML object>"
      ]
     },
     "metadata": {},
     "output_type": "display_data"
    },
    {
     "data": {
      "text/html": [
       "Found 2724 tablet linearts<br>"
      ],
      "text/plain": [
       "<IPython.core.display.HTML object>"
      ]
     },
     "metadata": {},
     "output_type": "display_data"
    },
    {
     "data": {
      "text/html": [
       "Found 5495 tablet photos<br>"
      ],
      "text/plain": [
       "<IPython.core.display.HTML object>"
      ]
     },
     "metadata": {},
     "output_type": "display_data"
    }
   ],
   "source": [
    "A = use('uruk:clone', checkout=\"clone\", hoist=globals())\n",
    "# A = use('uruk', hoist=globals())"
   ]
  },
  {
   "cell_type": "code",
   "execution_count": 4,
   "metadata": {
    "ExecuteTime": {
     "end_time": "2018-05-24T10:17:46.856080Z",
     "start_time": "2018-05-24T10:17:46.284836Z"
    }
   },
   "outputs": [
    {
     "name": "stdout",
     "output_type": "stream",
     "text": [
      "  0.35s 10673 results\n"
     ]
    }
   ],
   "source": [
    "query = '''\n",
    "line\n",
    "  case terminal=1\n",
    "% order is not important\n",
    "    sign type=ideograph\n",
    "    sign type=numeral\n",
    "'''\n",
    "results = A.search(query)"
   ]
  },
  {
   "cell_type": "code",
   "execution_count": 5,
   "metadata": {
    "ExecuteTime": {
     "end_time": "2018-05-24T10:17:49.495993Z",
     "start_time": "2018-05-24T10:17:49.480690Z"
    }
   },
   "outputs": [
    {
     "data": {
      "text/html": [
       "<table><tr class=\"tf ltr\"><th class=\"tf ltr\">n</th><th class=\"tf ltr\">p</th><th class=\"tf ltr\">line</th><th class=\"tf\">case</th><th class=\"tf\">sign</th><th class=\"tf\">sign</th></tr>\n",
       "<tr class=\"tf ltr\"><td class=\"tf ltr\">1</td><td class=\"tf ltr\"><span class=\"tfsechead ltr\"><a target=\"_blank\" href=\"https://cdli.ucla.edu/search/search_results.php?SearchMode=Text&amp;ObjectID=P448702\" title=\"to CDLI main page for this tablet\" sec=\"P448702 obverse:1:2\">P448702 obverse:1:2</a></span></td><td class=\"tf ltr\"><span class=\" ubd\"><span class=\"plain   hlbx\" ><span class=\"plain   hlbx\" ><span class=\"txtu \"><span title=\"number\">2a</span><span title=\"prime\">'</span></span><span class=\"plain \" >[<span class=\"plain hl\" >N</span>]</span> <span class=\"plain \" >2(N14)</span> <span class=\"plain \" >3(N01)</span> <span class=\"plain   hl\" ><span class=\"plain hl\" >KASZ~b</span> </span><span class=\"plain \" >NUN~a</span> </span><span class=\"txtu \"><span title=\"number\">2b</span><span title=\"prime\">'</span></span><span class=\"plain \" >3(N01)</span> <span class=\"plain \" >KASZ~a</span> <span class=\"plain \" >GI</span> </span></span></td><td class=\"tf ltr\"><span class=\" ubd\"><span class=\"plain   hlbx\" ><span class=\"txtu \"><span title=\"number\">2a</span><span title=\"prime\">'</span></span><span class=\"plain \" >[<span class=\"plain hl\" >N</span>]</span> <span class=\"plain \" >2(N14)</span> <span class=\"plain \" >3(N01)</span> <span class=\"plain   hl\" ><span class=\"plain hl\" >KASZ~b</span> </span><span class=\"plain \" >NUN~a</span> </span></span></td><td class=\"tf ltr\"><span class=\" ubd\"><span class=\"plain   hl\" ><span class=\"plain hl\" >KASZ~b</span> </span></span></td><td class=\"tf ltr\"><span class=\" ubd\"><span class=\"plain   hl\" ><span class=\"plain hl\" >N</span> </span></span></td></tr>\n",
       "<tr class=\"tf ltr\"><td class=\"tf ltr\">2</td><td class=\"tf ltr\"><span class=\"tfsechead ltr\"><a target=\"_blank\" href=\"https://cdli.ucla.edu/search/search_results.php?SearchMode=Text&amp;ObjectID=P448702\" title=\"to CDLI main page for this tablet\" sec=\"P448702 obverse:1:2\">P448702 obverse:1:2</a></span></td><td class=\"tf ltr\"><span class=\" ubd\"><span class=\"plain   hlbx\" ><span class=\"plain   hlbx\" ><span class=\"txtu \"><span title=\"number\">2a</span><span title=\"prime\">'</span></span><span class=\"plain \" >[<span class=\"plain \" >N</span>]</span> <span class=\"plain   hl\" ><span class=\"plain hl\" >2(N14)</span> </span><span class=\"plain \" >3(N01)</span> <span class=\"plain   hl\" ><span class=\"plain hl\" >KASZ~b</span> </span><span class=\"plain \" >NUN~a</span> </span><span class=\"txtu \"><span title=\"number\">2b</span><span title=\"prime\">'</span></span><span class=\"plain \" >3(N01)</span> <span class=\"plain \" >KASZ~a</span> <span class=\"plain \" >GI</span> </span></span></td><td class=\"tf ltr\"><span class=\" ubd\"><span class=\"plain   hlbx\" ><span class=\"txtu \"><span title=\"number\">2a</span><span title=\"prime\">'</span></span><span class=\"plain \" >[<span class=\"plain \" >N</span>]</span> <span class=\"plain   hl\" ><span class=\"plain hl\" >2(N14)</span> </span><span class=\"plain \" >3(N01)</span> <span class=\"plain   hl\" ><span class=\"plain hl\" >KASZ~b</span> </span><span class=\"plain \" >NUN~a</span> </span></span></td><td class=\"tf ltr\"><span class=\" ubd\"><span class=\"plain   hl\" ><span class=\"plain hl\" >KASZ~b</span> </span></span></td><td class=\"tf ltr\"><span class=\" ubd\"><span class=\"plain   hl\" ><span class=\"plain hl\" >2(N14)</span> </span></span></td></tr></table>"
      ],
      "text/plain": [
       "<IPython.core.display.HTML object>"
      ]
     },
     "metadata": {},
     "output_type": "display_data"
    }
   ],
   "source": [
    "A.table(results, end=2, showGraphics=False)"
   ]
  },
  {
   "cell_type": "code",
   "execution_count": 6,
   "metadata": {
    "ExecuteTime": {
     "end_time": "2018-05-24T10:17:49.495993Z",
     "start_time": "2018-05-24T10:17:49.480690Z"
    }
   },
   "outputs": [
    {
     "data": {
      "text/html": [
       "<table><tr class=\"tf ltr\"><th class=\"tf ltr\">n</th><th class=\"tf ltr\">p</th><th class=\"tf ltr\">line</th><th class=\"tf\">case</th><th class=\"tf\">sign</th><th class=\"tf\">sign</th></tr>\n",
       "<tr class=\"tf ltr\"><td class=\"tf ltr\">1</td><td class=\"tf ltr\"><span class=\"tfsechead ltr\"><a target=\"_blank\" href=\"https://cdli.ucla.edu/search/search_results.php?SearchMode=Text&amp;ObjectID=P448702\" title=\"to CDLI main page for this tablet\" sec=\"P448702 obverse:1:2\">P448702 obverse:1:2</a></span></td><td class=\"tf ltr\"><span class=\" ubd\"><span class=\"plain   hlbx\" ><span class=\"plain   hlbx\" ><span class=\"txtu \"><span title=\"number\">2a</span><span title=\"prime\">'</span></span><span class=\"plain \" >[<span class=\"plain hl\" >N</span>]</span> <span class=\"plain \" >2(N14)</span> <span class=\"plain \" >3(N01)</span> <span class=\"plain   hl\" ><span class=\"plain hl\" >KASZ~b</span> </span><span class=\"plain \" >NUN~a</span> </span><span class=\"txtu \"><span title=\"number\">2b</span><span title=\"prime\">'</span></span><span class=\"plain \" >3(N01)</span> <span class=\"plain \" >KASZ~a</span> <span class=\"plain \" >GI</span> </span></span></td><td class=\"tf ltr\"><span class=\" ubd\"><span class=\"plain   hlbx\" ><span class=\"txtu \"><span title=\"number\">2a</span><span title=\"prime\">'</span></span><span class=\"plain \" >[<span class=\"plain hl\" >N</span>]</span> <span class=\"plain \" >2(N14)</span> <span class=\"plain \" >3(N01)</span> <span class=\"plain   hl\" ><span class=\"plain hl\" >KASZ~b</span> </span><span class=\"plain \" >NUN~a</span> </span></span></td><td class=\"tf ltr\"><span class=\" ubd\"><span class=\"plain   hl\" ><span class=\"plain hl\" >KASZ~b</span> </span></span></td><td class=\"tf ltr\"><span class=\" ubd\"><span class=\"plain   hl\" ><span class=\"plain hl\" >N</span> </span></span></td></tr>\n",
       "<tr class=\"tf ltr\"><td class=\"tf ltr\">2</td><td class=\"tf ltr\"><span class=\"tfsechead ltr\"><a target=\"_blank\" href=\"https://cdli.ucla.edu/search/search_results.php?SearchMode=Text&amp;ObjectID=P448702\" title=\"to CDLI main page for this tablet\" sec=\"P448702 obverse:1:2\">P448702 obverse:1:2</a></span></td><td class=\"tf ltr\"><span class=\" ubd\"><span class=\"plain   hlbx\" ><span class=\"plain   hlbx\" ><span class=\"txtu \"><span title=\"number\">2a</span><span title=\"prime\">'</span></span><span class=\"plain \" >[<span class=\"plain \" >N</span>]</span> <span class=\"plain   hl\" ><span class=\"plain hl\" >2(N14)</span> </span><span class=\"plain \" >3(N01)</span> <span class=\"plain   hl\" ><span class=\"plain hl\" >KASZ~b</span> </span><span class=\"plain \" >NUN~a</span> </span><span class=\"txtu \"><span title=\"number\">2b</span><span title=\"prime\">'</span></span><span class=\"plain \" >3(N01)</span> <span class=\"plain \" >KASZ~a</span> <span class=\"plain \" >GI</span> </span></span></td><td class=\"tf ltr\"><span class=\" ubd\"><span class=\"plain   hlbx\" ><span class=\"txtu \"><span title=\"number\">2a</span><span title=\"prime\">'</span></span><span class=\"plain \" >[<span class=\"plain \" >N</span>]</span> <span class=\"plain   hl\" ><span class=\"plain hl\" >2(N14)</span> </span><span class=\"plain \" >3(N01)</span> <span class=\"plain   hl\" ><span class=\"plain hl\" >KASZ~b</span> </span><span class=\"plain \" >NUN~a</span> </span></span></td><td class=\"tf ltr\"><span class=\" ubd\"><span class=\"plain   hl\" ><span class=\"plain hl\" >KASZ~b</span> </span></span></td><td class=\"tf ltr\"><span class=\" ubd\"><span class=\"plain   hl\" ><span class=\"plain hl\" >2(N14)</span> </span></span></td></tr>\n",
       "<tr class=\"tf ltr\"><td class=\"tf ltr\">3</td><td class=\"tf ltr\"><span class=\"tfsechead ltr\"><a target=\"_blank\" href=\"https://cdli.ucla.edu/search/search_results.php?SearchMode=Text&amp;ObjectID=P448702\" title=\"to CDLI main page for this tablet\" sec=\"P448702 obverse:1:2\">P448702 obverse:1:2</a></span></td><td class=\"tf ltr\"><span class=\" ubd\"><span class=\"plain   hlbx\" ><span class=\"plain   hlbx\" ><span class=\"txtu \"><span title=\"number\">2a</span><span title=\"prime\">'</span></span><span class=\"plain \" >[<span class=\"plain \" >N</span>]</span> <span class=\"plain \" >2(N14)</span> <span class=\"plain   hl\" ><span class=\"plain hl\" >3(N01)</span> </span><span class=\"plain   hl\" ><span class=\"plain hl\" >KASZ~b</span> </span><span class=\"plain \" >NUN~a</span> </span><span class=\"txtu \"><span title=\"number\">2b</span><span title=\"prime\">'</span></span><span class=\"plain \" >3(N01)</span> <span class=\"plain \" >KASZ~a</span> <span class=\"plain \" >GI</span> </span></span></td><td class=\"tf ltr\"><span class=\" ubd\"><span class=\"plain   hlbx\" ><span class=\"txtu \"><span title=\"number\">2a</span><span title=\"prime\">'</span></span><span class=\"plain \" >[<span class=\"plain \" >N</span>]</span> <span class=\"plain \" >2(N14)</span> <span class=\"plain   hl\" ><span class=\"plain hl\" >3(N01)</span> </span><span class=\"plain   hl\" ><span class=\"plain hl\" >KASZ~b</span> </span><span class=\"plain \" >NUN~a</span> </span></span></td><td class=\"tf ltr\"><span class=\" ubd\"><span class=\"plain   hl\" ><span class=\"plain hl\" >KASZ~b</span> </span></span></td><td class=\"tf ltr\"><span class=\" ubd\"><span class=\"plain   hl\" ><span class=\"plain hl\" >3(N01)</span> </span></span></td></tr>\n",
       "<tr class=\"tf ltr\"><td class=\"tf ltr\">4</td><td class=\"tf ltr\"><span class=\"tfsechead ltr\"><a target=\"_blank\" href=\"https://cdli.ucla.edu/search/search_results.php?SearchMode=Text&amp;ObjectID=P448702\" title=\"to CDLI main page for this tablet\" sec=\"P448702 obverse:1:2\">P448702 obverse:1:2</a></span></td><td class=\"tf ltr\"><span class=\" ubd\"><span class=\"plain   hlbx\" ><span class=\"plain   hlbx\" ><span class=\"txtu \"><span title=\"number\">2a</span><span title=\"prime\">'</span></span><span class=\"plain \" >[<span class=\"plain hl\" >N</span>]</span> <span class=\"plain \" >2(N14)</span> <span class=\"plain \" >3(N01)</span> <span class=\"plain \" >KASZ~b</span> <span class=\"plain   hl\" ><span class=\"plain hl\" >NUN~a</span> </span></span><span class=\"txtu \"><span title=\"number\">2b</span><span title=\"prime\">'</span></span><span class=\"plain \" >3(N01)</span> <span class=\"plain \" >KASZ~a</span> <span class=\"plain \" >GI</span> </span></span></td><td class=\"tf ltr\"><span class=\" ubd\"><span class=\"plain   hlbx\" ><span class=\"txtu \"><span title=\"number\">2a</span><span title=\"prime\">'</span></span><span class=\"plain \" >[<span class=\"plain hl\" >N</span>]</span> <span class=\"plain \" >2(N14)</span> <span class=\"plain \" >3(N01)</span> <span class=\"plain \" >KASZ~b</span> <span class=\"plain   hl\" ><span class=\"plain hl\" >NUN~a</span> </span></span></span></td><td class=\"tf ltr\"><span class=\" ubd\"><span class=\"plain   hl\" ><span class=\"plain hl\" >NUN~a</span> </span></span></td><td class=\"tf ltr\"><span class=\" ubd\"><span class=\"plain   hl\" ><span class=\"plain hl\" >N</span> </span></span></td></tr>\n",
       "<tr class=\"tf ltr\"><td class=\"tf ltr\">5</td><td class=\"tf ltr\"><span class=\"tfsechead ltr\"><a target=\"_blank\" href=\"https://cdli.ucla.edu/search/search_results.php?SearchMode=Text&amp;ObjectID=P448702\" title=\"to CDLI main page for this tablet\" sec=\"P448702 obverse:1:2\">P448702 obverse:1:2</a></span></td><td class=\"tf ltr\"><span class=\" ubd\"><span class=\"plain   hlbx\" ><span class=\"plain   hlbx\" ><span class=\"txtu \"><span title=\"number\">2a</span><span title=\"prime\">'</span></span><span class=\"plain \" >[<span class=\"plain \" >N</span>]</span> <span class=\"plain   hl\" ><span class=\"plain hl\" >2(N14)</span> </span><span class=\"plain \" >3(N01)</span> <span class=\"plain \" >KASZ~b</span> <span class=\"plain   hl\" ><span class=\"plain hl\" >NUN~a</span> </span></span><span class=\"txtu \"><span title=\"number\">2b</span><span title=\"prime\">'</span></span><span class=\"plain \" >3(N01)</span> <span class=\"plain \" >KASZ~a</span> <span class=\"plain \" >GI</span> </span></span></td><td class=\"tf ltr\"><span class=\" ubd\"><span class=\"plain   hlbx\" ><span class=\"txtu \"><span title=\"number\">2a</span><span title=\"prime\">'</span></span><span class=\"plain \" >[<span class=\"plain \" >N</span>]</span> <span class=\"plain   hl\" ><span class=\"plain hl\" >2(N14)</span> </span><span class=\"plain \" >3(N01)</span> <span class=\"plain \" >KASZ~b</span> <span class=\"plain   hl\" ><span class=\"plain hl\" >NUN~a</span> </span></span></span></td><td class=\"tf ltr\"><span class=\" ubd\"><span class=\"plain   hl\" ><span class=\"plain hl\" >NUN~a</span> </span></span></td><td class=\"tf ltr\"><span class=\" ubd\"><span class=\"plain   hl\" ><span class=\"plain hl\" >2(N14)</span> </span></span></td></tr>\n",
       "<tr class=\"tf ltr\"><td class=\"tf ltr\">6</td><td class=\"tf ltr\"><span class=\"tfsechead ltr\"><a target=\"_blank\" href=\"https://cdli.ucla.edu/search/search_results.php?SearchMode=Text&amp;ObjectID=P448702\" title=\"to CDLI main page for this tablet\" sec=\"P448702 obverse:1:2\">P448702 obverse:1:2</a></span></td><td class=\"tf ltr\"><span class=\" ubd\"><span class=\"plain   hlbx\" ><span class=\"plain   hlbx\" ><span class=\"txtu \"><span title=\"number\">2a</span><span title=\"prime\">'</span></span><span class=\"plain \" >[<span class=\"plain \" >N</span>]</span> <span class=\"plain \" >2(N14)</span> <span class=\"plain   hl\" ><span class=\"plain hl\" >3(N01)</span> </span><span class=\"plain \" >KASZ~b</span> <span class=\"plain   hl\" ><span class=\"plain hl\" >NUN~a</span> </span></span><span class=\"txtu \"><span title=\"number\">2b</span><span title=\"prime\">'</span></span><span class=\"plain \" >3(N01)</span> <span class=\"plain \" >KASZ~a</span> <span class=\"plain \" >GI</span> </span></span></td><td class=\"tf ltr\"><span class=\" ubd\"><span class=\"plain   hlbx\" ><span class=\"txtu \"><span title=\"number\">2a</span><span title=\"prime\">'</span></span><span class=\"plain \" >[<span class=\"plain \" >N</span>]</span> <span class=\"plain \" >2(N14)</span> <span class=\"plain   hl\" ><span class=\"plain hl\" >3(N01)</span> </span><span class=\"plain \" >KASZ~b</span> <span class=\"plain   hl\" ><span class=\"plain hl\" >NUN~a</span> </span></span></span></td><td class=\"tf ltr\"><span class=\" ubd\"><span class=\"plain   hl\" ><span class=\"plain hl\" >NUN~a</span> </span></span></td><td class=\"tf ltr\"><span class=\" ubd\"><span class=\"plain   hl\" ><span class=\"plain hl\" >3(N01)</span> </span></span></td></tr>\n",
       "<tr class=\"tf ltr\"><td class=\"tf ltr\">7</td><td class=\"tf ltr\"><span class=\"tfsechead ltr\"><a target=\"_blank\" href=\"https://cdli.ucla.edu/search/search_results.php?SearchMode=Text&amp;ObjectID=P448702\" title=\"to CDLI main page for this tablet\" sec=\"P448702 obverse:1:2\">P448702 obverse:1:2</a></span></td><td class=\"tf ltr\"><span class=\" ubd\"><span class=\"plain   hlbx\" ><span class=\"txtu \"><span title=\"number\">2a</span><span title=\"prime\">'</span></span><span class=\"plain \" >[<span class=\"plain \" >N</span>]</span> <span class=\"plain \" >2(N14)</span> <span class=\"plain \" >3(N01)</span> <span class=\"plain \" >KASZ~b</span> <span class=\"plain \" >NUN~a</span> <span class=\"plain   hlbx\" ><span class=\"txtu \"><span title=\"number\">2b</span><span title=\"prime\">'</span></span><span class=\"plain   hl\" ><span class=\"plain hl\" >3(N01)</span> </span><span class=\"plain   hl\" ><span class=\"plain hl\" >KASZ~a</span> </span><span class=\"plain \" >GI</span> </span></span></span></td><td class=\"tf ltr\"><span class=\" ubd\"><span class=\"plain   hlbx\" ><span class=\"txtu \"><span title=\"number\">2b</span><span title=\"prime\">'</span></span><span class=\"plain   hl\" ><span class=\"plain hl\" >3(N01)</span> </span><span class=\"plain   hl\" ><span class=\"plain hl\" >KASZ~a</span> </span><span class=\"plain \" >GI</span> </span></span></td><td class=\"tf ltr\"><span class=\" ubd\"><span class=\"plain   hl\" ><span class=\"plain hl\" >KASZ~a</span> </span></span></td><td class=\"tf ltr\"><span class=\" ubd\"><span class=\"plain   hl\" ><span class=\"plain hl\" >3(N01)</span> </span></span></td></tr></table>"
      ],
      "text/plain": [
       "<IPython.core.display.HTML object>"
      ]
     },
     "metadata": {},
     "output_type": "display_data"
    }
   ],
   "source": [
    "A.table(results, condensed=False, end=7, showGraphics=False)"
   ]
  },
  {
   "cell_type": "code",
   "execution_count": 7,
   "metadata": {
    "ExecuteTime": {
     "end_time": "2018-05-24T10:17:52.967852Z",
     "start_time": "2018-05-24T10:17:52.635909Z"
    }
   },
   "outputs": [
    {
     "data": {
      "text/html": [
       "<p><b>result</b> <i>1</i></p>"
      ],
      "text/plain": [
       "<IPython.core.display.HTML object>"
      ]
     },
     "metadata": {},
     "output_type": "display_data"
    },
    {
     "data": {
      "text/html": [
       "<div class=\"tfsechead \"><a target=\"_blank\" href=\"https://cdli.ucla.edu/search/search_results.php?SearchMode=Text&amp;ObjectID=P448702\" title=\"to CDLI main page for this tablet\" sec=\"P448702 obverse:1:2\">P448702 obverse:1:2</a></div><div class=\" children\"><div class=\"contnr c2    \" ><div class=\"lbl c2  \" ><span class=\"nd\">line</span> <span class=\"txtu\"><span title=\"number\">2</span></span></div><div class=\"children hor  \"><div class=\"contnr c2    hl\" ><div class=\"lbl c2  hl\" ><span class=\"nd\">case</span> <span class=\"txtu\"><span title=\"number\">2a</span><span title=\"prime\">'</span></span></div><div class='features'><span class=\"terminal xft\" ><span class=\"f\">terminal=</span>1</span></div><div class=\"children ver False \"><div class=\"contnr c1 cluster trm   \" ><div class=\"lbl c1 clusterb trm \" ><span class=\"nd\">cluster</span> <span class=\"txtu\"><span title=\"type\">?</span></span></div><div class='features'><span class=\"type xft\" ><span class=\"f\">type=</span>uncertain</span></div></div><div class=\"children hor wrap \"><div class=\"contnr c0 trm   hl\" ><div class=\"lbl c0 trm hl\" ><span class=\"txtu\"><span title=\"atf\">N</span></span></div><div class='features'><span class=\"type xft\" ><span class=\"f\">type=</span>numeral</span></div></div></div><div class=\"contnr c1 cluster {}   \" ><div class=\"lbl c1 clustere trm \" ><span class=\"nd\">cluster</span> <span class=\"txtu\"><span title=\"type\">?</span></span></div> <div class='features'><span class=\"type xft\" ><span class=\"f\">type=</span>uncertain</span></div></div><div class=\"contnr c0 trm   \" ><div class=\"lbl c0 trm \" ><span class=\"txtu\"><span title=\"atf\">2(N14)</span></span></div><div class='features'><span class=\"type xft\" ><span class=\"f\">type=</span>numeral</span></div><div><a target=\"_blank\" href=\"https://cdli.ucla.edu/tools/SignLists/protocuneiform/archsigns/2(N14).jpg\" title=\"to higher resolution lineart on CDLI\"><img src=\"cdli-imagery/lineart-2(n14).jpg\" style=\"display: inline;max-width: 2em; max-height: 6em;\"  /></a></div></div><div class=\"contnr c0 trm   \" ><div class=\"lbl c0 trm \" ><span class=\"txtu\"><span title=\"atf\">3(N01)</span></span></div><div class='features'><span class=\"type xft\" ><span class=\"f\">type=</span>numeral</span></div><div><a target=\"_blank\" href=\"https://cdli.ucla.edu/tools/SignLists/protocuneiform/archsigns/3(N01).jpg\" title=\"to higher resolution lineart on CDLI\"><img src=\"cdli-imagery/lineart-3(n01).jpg\" style=\"display: inline;max-width: 2em; max-height: 6em;\"  /></a></div></div><div class=\"contnr c0 trm   hl\" ><div class=\"lbl c0 trm hl\" ><span class=\"txtu\"><span title=\"atf\">KASZ~b</span></span></div><div class='features'><span class=\"type xft\" ><span class=\"f\">type=</span>ideograph</span></div><div><a target=\"_blank\" href=\"https://cdli.ucla.edu/tools/SignLists/protocuneiform/archsigns/KASZ~b.jpg\" title=\"to higher resolution lineart on CDLI\"><img src=\"cdli-imagery/lineart-kasz-b.jpg\" style=\"display: inline;max-width: 2em; max-height: 6em;\"  /></a></div></div><div class=\"contnr c0 trm   \" ><div class=\"lbl c0 trm \" ><span class=\"txtu\"><span title=\"atf\">NUN~a</span></span></div><div class='features'><span class=\"type xft\" ><span class=\"f\">type=</span>ideograph</span></div><div><a target=\"_blank\" href=\"https://cdli.ucla.edu/tools/SignLists/protocuneiform/archsigns/NUN~a.jpg\" title=\"to higher resolution lineart on CDLI\"><img src=\"cdli-imagery/lineart-nun-a.jpg\" style=\"display: inline;max-width: 2em; max-height: 6em;\"  /></a></div></div></div></div><div class=\"contnr c2    \" ><div class=\"lbl c2  \" ><span class=\"nd\">case</span> <span class=\"txtu\"><span title=\"number\">2b</span><span title=\"prime\">'</span></span></div><div class='features'><span class=\"terminal xft\" ><span class=\"f\">terminal=</span>1</span></div><div class=\"children ver False \"><div class=\"contnr c0 trm   \" ><div class=\"lbl c0 trm \" ><span class=\"txtu\"><span title=\"atf\">3(N01)</span></span></div><div class='features'><span class=\"type xft\" ><span class=\"f\">type=</span>numeral</span></div><div><a target=\"_blank\" href=\"https://cdli.ucla.edu/tools/SignLists/protocuneiform/archsigns/3(N01).jpg\" title=\"to higher resolution lineart on CDLI\"><img src=\"cdli-imagery/lineart-3(n01).jpg\" style=\"display: inline;max-width: 2em; max-height: 6em;\"  /></a></div></div><div class=\"contnr c0 trm   \" ><div class=\"lbl c0 trm \" ><span class=\"txtu\"><span title=\"atf\">KASZ~a?</span></span></div><div class='features'><span class=\"type xft\" ><span class=\"f\">type=</span>ideograph</span></div><div><a target=\"_blank\" href=\"https://cdli.ucla.edu/tools/SignLists/protocuneiform/archsigns/KASZ~a.jpg\" title=\"to higher resolution lineart on CDLI\"><img src=\"cdli-imagery/lineart-kasz-a.jpg\" style=\"display: inline;max-width: 2em; max-height: 6em;\"  /></a></div></div><div class=\"contnr c0 trm   \" ><div class=\"lbl c0 trm \" ><span class=\"txtu\"><span title=\"atf\">GI</span></span></div><div class='features'><span class=\"type xft\" ><span class=\"f\">type=</span>ideograph</span></div><div><a target=\"_blank\" href=\"https://cdli.ucla.edu/tools/SignLists/protocuneiform/archsigns/GI.jpg\" title=\"to higher resolution lineart on CDLI\"><img src=\"cdli-imagery/lineart-gi.jpg\" style=\"display: inline;max-width: 2em; max-height: 6em;\"  /></a></div></div></div></div></div></div></div>"
      ],
      "text/plain": [
       "<IPython.core.display.HTML object>"
      ]
     },
     "metadata": {},
     "output_type": "display_data"
    }
   ],
   "source": [
    "A.show(results, end=1, condenseType=\"line\")"
   ]
  },
  {
   "cell_type": "code",
   "execution_count": 8,
   "metadata": {
    "ExecuteTime": {
     "end_time": "2018-05-24T10:17:56.152337Z",
     "start_time": "2018-05-24T10:17:55.609431Z"
    }
   },
   "outputs": [
    {
     "name": "stdout",
     "output_type": "stream",
     "text": [
      "  0.31s 6 results\n"
     ]
    }
   ],
   "source": [
    "query = '''\n",
    "tablet catalogId=P448702\n",
    "  line\n",
    "    case terminal=1 number=2a\n",
    "      sign type=ideograph\n",
    "      sign type=numeral\n",
    "'''\n",
    "results = A.search(query)"
   ]
  },
  {
   "cell_type": "code",
   "execution_count": 9,
   "metadata": {
    "ExecuteTime": {
     "end_time": "2018-05-24T10:17:58.399716Z",
     "start_time": "2018-05-24T10:17:58.386450Z"
    }
   },
   "outputs": [
    {
     "data": {
      "text/html": [
       "<p><b>result</b> <i>1</i></p>"
      ],
      "text/plain": [
       "<IPython.core.display.HTML object>"
      ]
     },
     "metadata": {},
     "output_type": "display_data"
    },
    {
     "data": {
      "text/html": [
       "<div class=\"tfsechead \"><a target=\"_blank\" href=\"https://cdli.ucla.edu/search/search_results.php?SearchMode=Text&amp;ObjectID=P448702\" title=\"to CDLI main page for this tablet\" sec=\"P448702\">P448702</a></div><div class=\" children\"><div class=\"contnr c4 trm   \" ><div class=\"lbl c4 trm \" ><span class=\"nd\">tablet</span> <span class=\"txtu\"><span class=\"tfsechead\">P448702</span></span></div><div class='features'><span class=\"name \" title=\"name\">Anonymous 448702</span><span class=\"period \" title=\"period\">uruk-iii</span><span class=\"catalogid xft\" ><span class=\"f\">catalogId=</span>P448702</span></div></div></div>"
      ],
      "text/plain": [
       "<IPython.core.display.HTML object>"
      ]
     },
     "metadata": {},
     "output_type": "display_data"
    },
    {
     "data": {
      "text/html": [
       "<div class=\"tfsechead \"><a target=\"_blank\" href=\"https://cdli.ucla.edu/search/search_results.php?SearchMode=Text&amp;ObjectID=P448702\" title=\"to CDLI main page for this tablet\" sec=\"P448702 obverse:1:2\">P448702 obverse:1:2</a></div><div class=\" children\"><div class=\"contnr c2    \" ><div class=\"lbl c2  \" ><span class=\"nd\">line</span> <span class=\"txtu\"><span title=\"number\">2</span></span></div><div class='features'><span class=\"number xft\" ><span class=\"f\">number=</span>2</span></div><div class=\"children hor  \"><div class=\"contnr c2    hl\" ><div class=\"lbl c2  hl\" ><span class=\"nd\">case</span> <span class=\"txtu\"><span title=\"number\">2a</span><span title=\"prime\">'</span></span></div><div class='features'><span class=\"number xft\" ><span class=\"f\">number=</span>2a</span><span class=\"terminal xft\" ><span class=\"f\">terminal=</span>1</span></div><div class=\"children ver False \"><div class=\"contnr c1 cluster trm   \" ><div class=\"lbl c1 clusterb trm \" ><span class=\"nd\">cluster</span> <span class=\"txtu\"><span title=\"type\">?</span></span></div><div class='features'><span class=\"type xft\" ><span class=\"f\">type=</span>uncertain</span></div></div><div class=\"children hor wrap \"><div class=\"contnr c0 trm   hl\" ><div class=\"lbl c0 trm hl\" ><span class=\"txtu\"><span title=\"atf\">N</span></span></div><div class='features'><span class=\"type xft\" ><span class=\"f\">type=</span>numeral</span></div></div></div><div class=\"contnr c1 cluster {}   \" ><div class=\"lbl c1 clustere trm \" ><span class=\"nd\">cluster</span> <span class=\"txtu\"><span title=\"type\">?</span></span></div> <div class='features'><span class=\"type xft\" ><span class=\"f\">type=</span>uncertain</span></div></div><div class=\"contnr c0 trm   \" ><div class=\"lbl c0 trm \" ><span class=\"txtu\"><span title=\"atf\">2(N14)</span></span></div><div class='features'><span class=\"type xft\" ><span class=\"f\">type=</span>numeral</span></div></div><div class=\"contnr c0 trm   \" ><div class=\"lbl c0 trm \" ><span class=\"txtu\"><span title=\"atf\">3(N01)</span></span></div><div class='features'><span class=\"type xft\" ><span class=\"f\">type=</span>numeral</span></div></div><div class=\"contnr c0 trm   hl\" ><div class=\"lbl c0 trm hl\" ><span class=\"txtu\"><span title=\"atf\">KASZ~b</span></span></div><div class='features'><span class=\"type xft\" ><span class=\"f\">type=</span>ideograph</span></div></div><div class=\"contnr c0 trm   \" ><div class=\"lbl c0 trm \" ><span class=\"txtu\"><span title=\"atf\">NUN~a</span></span></div><div class='features'><span class=\"type xft\" ><span class=\"f\">type=</span>ideograph</span></div></div></div></div><div class=\"contnr c2    \" ><div class=\"lbl c2  \" ><span class=\"nd\">case</span> <span class=\"txtu\"><span title=\"number\">2b</span><span title=\"prime\">'</span></span></div><div class='features'><span class=\"number xft\" ><span class=\"f\">number=</span>2b</span><span class=\"terminal xft\" ><span class=\"f\">terminal=</span>1</span></div><div class=\"children ver False \"><div class=\"contnr c0 trm   \" ><div class=\"lbl c0 trm \" ><span class=\"txtu\"><span title=\"atf\">3(N01)</span></span></div><div class='features'><span class=\"type xft\" ><span class=\"f\">type=</span>numeral</span></div></div><div class=\"contnr c0 trm   \" ><div class=\"lbl c0 trm \" ><span class=\"txtu\"><span title=\"atf\">KASZ~a?</span></span></div><div class='features'><span class=\"type xft\" ><span class=\"f\">type=</span>ideograph</span></div></div><div class=\"contnr c0 trm   \" ><div class=\"lbl c0 trm \" ><span class=\"txtu\"><span title=\"atf\">GI</span></span></div><div class='features'><span class=\"type xft\" ><span class=\"f\">type=</span>ideograph</span></div></div></div></div></div></div></div>"
      ],
      "text/plain": [
       "<IPython.core.display.HTML object>"
      ]
     },
     "metadata": {},
     "output_type": "display_data"
    },
    {
     "data": {
      "text/html": [
       "<p><b>result</b> <i>2</i></p>"
      ],
      "text/plain": [
       "<IPython.core.display.HTML object>"
      ]
     },
     "metadata": {},
     "output_type": "display_data"
    },
    {
     "data": {
      "text/html": [
       "<div class=\"tfsechead \"><a target=\"_blank\" href=\"https://cdli.ucla.edu/search/search_results.php?SearchMode=Text&amp;ObjectID=P448702\" title=\"to CDLI main page for this tablet\" sec=\"P448702\">P448702</a></div><div class=\" children\"><div class=\"contnr c4 trm   \" ><div class=\"lbl c4 trm \" ><span class=\"nd\">tablet</span> <span class=\"txtu\"><span class=\"tfsechead\">P448702</span></span></div><div class='features'><span class=\"name \" title=\"name\">Anonymous 448702</span><span class=\"period \" title=\"period\">uruk-iii</span><span class=\"catalogid xft\" ><span class=\"f\">catalogId=</span>P448702</span></div></div></div>"
      ],
      "text/plain": [
       "<IPython.core.display.HTML object>"
      ]
     },
     "metadata": {},
     "output_type": "display_data"
    },
    {
     "data": {
      "text/html": [
       "<div class=\"tfsechead \"><a target=\"_blank\" href=\"https://cdli.ucla.edu/search/search_results.php?SearchMode=Text&amp;ObjectID=P448702\" title=\"to CDLI main page for this tablet\" sec=\"P448702 obverse:1:2\">P448702 obverse:1:2</a></div><div class=\" children\"><div class=\"contnr c2    \" ><div class=\"lbl c2  \" ><span class=\"nd\">line</span> <span class=\"txtu\"><span title=\"number\">2</span></span></div><div class='features'><span class=\"number xft\" ><span class=\"f\">number=</span>2</span></div><div class=\"children hor  \"><div class=\"contnr c2    hl\" ><div class=\"lbl c2  hl\" ><span class=\"nd\">case</span> <span class=\"txtu\"><span title=\"number\">2a</span><span title=\"prime\">'</span></span></div><div class='features'><span class=\"number xft\" ><span class=\"f\">number=</span>2a</span><span class=\"terminal xft\" ><span class=\"f\">terminal=</span>1</span></div><div class=\"children ver False \"><div class=\"contnr c1 cluster trm   \" ><div class=\"lbl c1 clusterb trm \" ><span class=\"nd\">cluster</span> <span class=\"txtu\"><span title=\"type\">?</span></span></div><div class='features'><span class=\"type xft\" ><span class=\"f\">type=</span>uncertain</span></div></div><div class=\"children hor wrap \"><div class=\"contnr c0 trm   \" ><div class=\"lbl c0 trm \" ><span class=\"txtu\"><span title=\"atf\">N</span></span></div><div class='features'><span class=\"type xft\" ><span class=\"f\">type=</span>numeral</span></div></div></div><div class=\"contnr c1 cluster {}   \" ><div class=\"lbl c1 clustere trm \" ><span class=\"nd\">cluster</span> <span class=\"txtu\"><span title=\"type\">?</span></span></div> <div class='features'><span class=\"type xft\" ><span class=\"f\">type=</span>uncertain</span></div></div><div class=\"contnr c0 trm   hl\" ><div class=\"lbl c0 trm hl\" ><span class=\"txtu\"><span title=\"atf\">2(N14)</span></span></div><div class='features'><span class=\"type xft\" ><span class=\"f\">type=</span>numeral</span></div></div><div class=\"contnr c0 trm   \" ><div class=\"lbl c0 trm \" ><span class=\"txtu\"><span title=\"atf\">3(N01)</span></span></div><div class='features'><span class=\"type xft\" ><span class=\"f\">type=</span>numeral</span></div></div><div class=\"contnr c0 trm   hl\" ><div class=\"lbl c0 trm hl\" ><span class=\"txtu\"><span title=\"atf\">KASZ~b</span></span></div><div class='features'><span class=\"type xft\" ><span class=\"f\">type=</span>ideograph</span></div></div><div class=\"contnr c0 trm   \" ><div class=\"lbl c0 trm \" ><span class=\"txtu\"><span title=\"atf\">NUN~a</span></span></div><div class='features'><span class=\"type xft\" ><span class=\"f\">type=</span>ideograph</span></div></div></div></div><div class=\"contnr c2    \" ><div class=\"lbl c2  \" ><span class=\"nd\">case</span> <span class=\"txtu\"><span title=\"number\">2b</span><span title=\"prime\">'</span></span></div><div class='features'><span class=\"number xft\" ><span class=\"f\">number=</span>2b</span><span class=\"terminal xft\" ><span class=\"f\">terminal=</span>1</span></div><div class=\"children ver False \"><div class=\"contnr c0 trm   \" ><div class=\"lbl c0 trm \" ><span class=\"txtu\"><span title=\"atf\">3(N01)</span></span></div><div class='features'><span class=\"type xft\" ><span class=\"f\">type=</span>numeral</span></div></div><div class=\"contnr c0 trm   \" ><div class=\"lbl c0 trm \" ><span class=\"txtu\"><span title=\"atf\">KASZ~a?</span></span></div><div class='features'><span class=\"type xft\" ><span class=\"f\">type=</span>ideograph</span></div></div><div class=\"contnr c0 trm   \" ><div class=\"lbl c0 trm \" ><span class=\"txtu\"><span title=\"atf\">GI</span></span></div><div class='features'><span class=\"type xft\" ><span class=\"f\">type=</span>ideograph</span></div></div></div></div></div></div></div>"
      ],
      "text/plain": [
       "<IPython.core.display.HTML object>"
      ]
     },
     "metadata": {},
     "output_type": "display_data"
    },
    {
     "data": {
      "text/html": [
       "<p><b>result</b> <i>3</i></p>"
      ],
      "text/plain": [
       "<IPython.core.display.HTML object>"
      ]
     },
     "metadata": {},
     "output_type": "display_data"
    },
    {
     "data": {
      "text/html": [
       "<div class=\"tfsechead \"><a target=\"_blank\" href=\"https://cdli.ucla.edu/search/search_results.php?SearchMode=Text&amp;ObjectID=P448702\" title=\"to CDLI main page for this tablet\" sec=\"P448702\">P448702</a></div><div class=\" children\"><div class=\"contnr c4 trm   \" ><div class=\"lbl c4 trm \" ><span class=\"nd\">tablet</span> <span class=\"txtu\"><span class=\"tfsechead\">P448702</span></span></div><div class='features'><span class=\"name \" title=\"name\">Anonymous 448702</span><span class=\"period \" title=\"period\">uruk-iii</span><span class=\"catalogid xft\" ><span class=\"f\">catalogId=</span>P448702</span></div></div></div>"
      ],
      "text/plain": [
       "<IPython.core.display.HTML object>"
      ]
     },
     "metadata": {},
     "output_type": "display_data"
    },
    {
     "data": {
      "text/html": [
       "<div class=\"tfsechead \"><a target=\"_blank\" href=\"https://cdli.ucla.edu/search/search_results.php?SearchMode=Text&amp;ObjectID=P448702\" title=\"to CDLI main page for this tablet\" sec=\"P448702 obverse:1:2\">P448702 obverse:1:2</a></div><div class=\" children\"><div class=\"contnr c2    \" ><div class=\"lbl c2  \" ><span class=\"nd\">line</span> <span class=\"txtu\"><span title=\"number\">2</span></span></div><div class='features'><span class=\"number xft\" ><span class=\"f\">number=</span>2</span></div><div class=\"children hor  \"><div class=\"contnr c2    hl\" ><div class=\"lbl c2  hl\" ><span class=\"nd\">case</span> <span class=\"txtu\"><span title=\"number\">2a</span><span title=\"prime\">'</span></span></div><div class='features'><span class=\"number xft\" ><span class=\"f\">number=</span>2a</span><span class=\"terminal xft\" ><span class=\"f\">terminal=</span>1</span></div><div class=\"children ver False \"><div class=\"contnr c1 cluster trm   \" ><div class=\"lbl c1 clusterb trm \" ><span class=\"nd\">cluster</span> <span class=\"txtu\"><span title=\"type\">?</span></span></div><div class='features'><span class=\"type xft\" ><span class=\"f\">type=</span>uncertain</span></div></div><div class=\"children hor wrap \"><div class=\"contnr c0 trm   \" ><div class=\"lbl c0 trm \" ><span class=\"txtu\"><span title=\"atf\">N</span></span></div><div class='features'><span class=\"type xft\" ><span class=\"f\">type=</span>numeral</span></div></div></div><div class=\"contnr c1 cluster {}   \" ><div class=\"lbl c1 clustere trm \" ><span class=\"nd\">cluster</span> <span class=\"txtu\"><span title=\"type\">?</span></span></div> <div class='features'><span class=\"type xft\" ><span class=\"f\">type=</span>uncertain</span></div></div><div class=\"contnr c0 trm   \" ><div class=\"lbl c0 trm \" ><span class=\"txtu\"><span title=\"atf\">2(N14)</span></span></div><div class='features'><span class=\"type xft\" ><span class=\"f\">type=</span>numeral</span></div></div><div class=\"contnr c0 trm   hl\" ><div class=\"lbl c0 trm hl\" ><span class=\"txtu\"><span title=\"atf\">3(N01)</span></span></div><div class='features'><span class=\"type xft\" ><span class=\"f\">type=</span>numeral</span></div></div><div class=\"contnr c0 trm   hl\" ><div class=\"lbl c0 trm hl\" ><span class=\"txtu\"><span title=\"atf\">KASZ~b</span></span></div><div class='features'><span class=\"type xft\" ><span class=\"f\">type=</span>ideograph</span></div></div><div class=\"contnr c0 trm   \" ><div class=\"lbl c0 trm \" ><span class=\"txtu\"><span title=\"atf\">NUN~a</span></span></div><div class='features'><span class=\"type xft\" ><span class=\"f\">type=</span>ideograph</span></div></div></div></div><div class=\"contnr c2    \" ><div class=\"lbl c2  \" ><span class=\"nd\">case</span> <span class=\"txtu\"><span title=\"number\">2b</span><span title=\"prime\">'</span></span></div><div class='features'><span class=\"number xft\" ><span class=\"f\">number=</span>2b</span><span class=\"terminal xft\" ><span class=\"f\">terminal=</span>1</span></div><div class=\"children ver False \"><div class=\"contnr c0 trm   \" ><div class=\"lbl c0 trm \" ><span class=\"txtu\"><span title=\"atf\">3(N01)</span></span></div><div class='features'><span class=\"type xft\" ><span class=\"f\">type=</span>numeral</span></div></div><div class=\"contnr c0 trm   \" ><div class=\"lbl c0 trm \" ><span class=\"txtu\"><span title=\"atf\">KASZ~a?</span></span></div><div class='features'><span class=\"type xft\" ><span class=\"f\">type=</span>ideograph</span></div></div><div class=\"contnr c0 trm   \" ><div class=\"lbl c0 trm \" ><span class=\"txtu\"><span title=\"atf\">GI</span></span></div><div class='features'><span class=\"type xft\" ><span class=\"f\">type=</span>ideograph</span></div></div></div></div></div></div></div>"
      ],
      "text/plain": [
       "<IPython.core.display.HTML object>"
      ]
     },
     "metadata": {},
     "output_type": "display_data"
    },
    {
     "data": {
      "text/html": [
       "<p><b>result</b> <i>4</i></p>"
      ],
      "text/plain": [
       "<IPython.core.display.HTML object>"
      ]
     },
     "metadata": {},
     "output_type": "display_data"
    },
    {
     "data": {
      "text/html": [
       "<div class=\"tfsechead \"><a target=\"_blank\" href=\"https://cdli.ucla.edu/search/search_results.php?SearchMode=Text&amp;ObjectID=P448702\" title=\"to CDLI main page for this tablet\" sec=\"P448702\">P448702</a></div><div class=\" children\"><div class=\"contnr c4 trm   \" ><div class=\"lbl c4 trm \" ><span class=\"nd\">tablet</span> <span class=\"txtu\"><span class=\"tfsechead\">P448702</span></span></div><div class='features'><span class=\"name \" title=\"name\">Anonymous 448702</span><span class=\"period \" title=\"period\">uruk-iii</span><span class=\"catalogid xft\" ><span class=\"f\">catalogId=</span>P448702</span></div></div></div>"
      ],
      "text/plain": [
       "<IPython.core.display.HTML object>"
      ]
     },
     "metadata": {},
     "output_type": "display_data"
    },
    {
     "data": {
      "text/html": [
       "<div class=\"tfsechead \"><a target=\"_blank\" href=\"https://cdli.ucla.edu/search/search_results.php?SearchMode=Text&amp;ObjectID=P448702\" title=\"to CDLI main page for this tablet\" sec=\"P448702 obverse:1:2\">P448702 obverse:1:2</a></div><div class=\" children\"><div class=\"contnr c2    \" ><div class=\"lbl c2  \" ><span class=\"nd\">line</span> <span class=\"txtu\"><span title=\"number\">2</span></span></div><div class='features'><span class=\"number xft\" ><span class=\"f\">number=</span>2</span></div><div class=\"children hor  \"><div class=\"contnr c2    hl\" ><div class=\"lbl c2  hl\" ><span class=\"nd\">case</span> <span class=\"txtu\"><span title=\"number\">2a</span><span title=\"prime\">'</span></span></div><div class='features'><span class=\"number xft\" ><span class=\"f\">number=</span>2a</span><span class=\"terminal xft\" ><span class=\"f\">terminal=</span>1</span></div><div class=\"children ver False \"><div class=\"contnr c1 cluster trm   \" ><div class=\"lbl c1 clusterb trm \" ><span class=\"nd\">cluster</span> <span class=\"txtu\"><span title=\"type\">?</span></span></div><div class='features'><span class=\"type xft\" ><span class=\"f\">type=</span>uncertain</span></div></div><div class=\"children hor wrap \"><div class=\"contnr c0 trm   hl\" ><div class=\"lbl c0 trm hl\" ><span class=\"txtu\"><span title=\"atf\">N</span></span></div><div class='features'><span class=\"type xft\" ><span class=\"f\">type=</span>numeral</span></div></div></div><div class=\"contnr c1 cluster {}   \" ><div class=\"lbl c1 clustere trm \" ><span class=\"nd\">cluster</span> <span class=\"txtu\"><span title=\"type\">?</span></span></div> <div class='features'><span class=\"type xft\" ><span class=\"f\">type=</span>uncertain</span></div></div><div class=\"contnr c0 trm   \" ><div class=\"lbl c0 trm \" ><span class=\"txtu\"><span title=\"atf\">2(N14)</span></span></div><div class='features'><span class=\"type xft\" ><span class=\"f\">type=</span>numeral</span></div></div><div class=\"contnr c0 trm   \" ><div class=\"lbl c0 trm \" ><span class=\"txtu\"><span title=\"atf\">3(N01)</span></span></div><div class='features'><span class=\"type xft\" ><span class=\"f\">type=</span>numeral</span></div></div><div class=\"contnr c0 trm   \" ><div class=\"lbl c0 trm \" ><span class=\"txtu\"><span title=\"atf\">KASZ~b</span></span></div><div class='features'><span class=\"type xft\" ><span class=\"f\">type=</span>ideograph</span></div></div><div class=\"contnr c0 trm   hl\" ><div class=\"lbl c0 trm hl\" ><span class=\"txtu\"><span title=\"atf\">NUN~a</span></span></div><div class='features'><span class=\"type xft\" ><span class=\"f\">type=</span>ideograph</span></div></div></div></div><div class=\"contnr c2    \" ><div class=\"lbl c2  \" ><span class=\"nd\">case</span> <span class=\"txtu\"><span title=\"number\">2b</span><span title=\"prime\">'</span></span></div><div class='features'><span class=\"number xft\" ><span class=\"f\">number=</span>2b</span><span class=\"terminal xft\" ><span class=\"f\">terminal=</span>1</span></div><div class=\"children ver False \"><div class=\"contnr c0 trm   \" ><div class=\"lbl c0 trm \" ><span class=\"txtu\"><span title=\"atf\">3(N01)</span></span></div><div class='features'><span class=\"type xft\" ><span class=\"f\">type=</span>numeral</span></div></div><div class=\"contnr c0 trm   \" ><div class=\"lbl c0 trm \" ><span class=\"txtu\"><span title=\"atf\">KASZ~a?</span></span></div><div class='features'><span class=\"type xft\" ><span class=\"f\">type=</span>ideograph</span></div></div><div class=\"contnr c0 trm   \" ><div class=\"lbl c0 trm \" ><span class=\"txtu\"><span title=\"atf\">GI</span></span></div><div class='features'><span class=\"type xft\" ><span class=\"f\">type=</span>ideograph</span></div></div></div></div></div></div></div>"
      ],
      "text/plain": [
       "<IPython.core.display.HTML object>"
      ]
     },
     "metadata": {},
     "output_type": "display_data"
    },
    {
     "data": {
      "text/html": [
       "<p><b>result</b> <i>5</i></p>"
      ],
      "text/plain": [
       "<IPython.core.display.HTML object>"
      ]
     },
     "metadata": {},
     "output_type": "display_data"
    },
    {
     "data": {
      "text/html": [
       "<div class=\"tfsechead \"><a target=\"_blank\" href=\"https://cdli.ucla.edu/search/search_results.php?SearchMode=Text&amp;ObjectID=P448702\" title=\"to CDLI main page for this tablet\" sec=\"P448702\">P448702</a></div><div class=\" children\"><div class=\"contnr c4 trm   \" ><div class=\"lbl c4 trm \" ><span class=\"nd\">tablet</span> <span class=\"txtu\"><span class=\"tfsechead\">P448702</span></span></div><div class='features'><span class=\"name \" title=\"name\">Anonymous 448702</span><span class=\"period \" title=\"period\">uruk-iii</span><span class=\"catalogid xft\" ><span class=\"f\">catalogId=</span>P448702</span></div></div></div>"
      ],
      "text/plain": [
       "<IPython.core.display.HTML object>"
      ]
     },
     "metadata": {},
     "output_type": "display_data"
    },
    {
     "data": {
      "text/html": [
       "<div class=\"tfsechead \"><a target=\"_blank\" href=\"https://cdli.ucla.edu/search/search_results.php?SearchMode=Text&amp;ObjectID=P448702\" title=\"to CDLI main page for this tablet\" sec=\"P448702 obverse:1:2\">P448702 obverse:1:2</a></div><div class=\" children\"><div class=\"contnr c2    \" ><div class=\"lbl c2  \" ><span class=\"nd\">line</span> <span class=\"txtu\"><span title=\"number\">2</span></span></div><div class='features'><span class=\"number xft\" ><span class=\"f\">number=</span>2</span></div><div class=\"children hor  \"><div class=\"contnr c2    hl\" ><div class=\"lbl c2  hl\" ><span class=\"nd\">case</span> <span class=\"txtu\"><span title=\"number\">2a</span><span title=\"prime\">'</span></span></div><div class='features'><span class=\"number xft\" ><span class=\"f\">number=</span>2a</span><span class=\"terminal xft\" ><span class=\"f\">terminal=</span>1</span></div><div class=\"children ver False \"><div class=\"contnr c1 cluster trm   \" ><div class=\"lbl c1 clusterb trm \" ><span class=\"nd\">cluster</span> <span class=\"txtu\"><span title=\"type\">?</span></span></div><div class='features'><span class=\"type xft\" ><span class=\"f\">type=</span>uncertain</span></div></div><div class=\"children hor wrap \"><div class=\"contnr c0 trm   \" ><div class=\"lbl c0 trm \" ><span class=\"txtu\"><span title=\"atf\">N</span></span></div><div class='features'><span class=\"type xft\" ><span class=\"f\">type=</span>numeral</span></div></div></div><div class=\"contnr c1 cluster {}   \" ><div class=\"lbl c1 clustere trm \" ><span class=\"nd\">cluster</span> <span class=\"txtu\"><span title=\"type\">?</span></span></div> <div class='features'><span class=\"type xft\" ><span class=\"f\">type=</span>uncertain</span></div></div><div class=\"contnr c0 trm   hl\" ><div class=\"lbl c0 trm hl\" ><span class=\"txtu\"><span title=\"atf\">2(N14)</span></span></div><div class='features'><span class=\"type xft\" ><span class=\"f\">type=</span>numeral</span></div></div><div class=\"contnr c0 trm   \" ><div class=\"lbl c0 trm \" ><span class=\"txtu\"><span title=\"atf\">3(N01)</span></span></div><div class='features'><span class=\"type xft\" ><span class=\"f\">type=</span>numeral</span></div></div><div class=\"contnr c0 trm   \" ><div class=\"lbl c0 trm \" ><span class=\"txtu\"><span title=\"atf\">KASZ~b</span></span></div><div class='features'><span class=\"type xft\" ><span class=\"f\">type=</span>ideograph</span></div></div><div class=\"contnr c0 trm   hl\" ><div class=\"lbl c0 trm hl\" ><span class=\"txtu\"><span title=\"atf\">NUN~a</span></span></div><div class='features'><span class=\"type xft\" ><span class=\"f\">type=</span>ideograph</span></div></div></div></div><div class=\"contnr c2    \" ><div class=\"lbl c2  \" ><span class=\"nd\">case</span> <span class=\"txtu\"><span title=\"number\">2b</span><span title=\"prime\">'</span></span></div><div class='features'><span class=\"number xft\" ><span class=\"f\">number=</span>2b</span><span class=\"terminal xft\" ><span class=\"f\">terminal=</span>1</span></div><div class=\"children ver False \"><div class=\"contnr c0 trm   \" ><div class=\"lbl c0 trm \" ><span class=\"txtu\"><span title=\"atf\">3(N01)</span></span></div><div class='features'><span class=\"type xft\" ><span class=\"f\">type=</span>numeral</span></div></div><div class=\"contnr c0 trm   \" ><div class=\"lbl c0 trm \" ><span class=\"txtu\"><span title=\"atf\">KASZ~a?</span></span></div><div class='features'><span class=\"type xft\" ><span class=\"f\">type=</span>ideograph</span></div></div><div class=\"contnr c0 trm   \" ><div class=\"lbl c0 trm \" ><span class=\"txtu\"><span title=\"atf\">GI</span></span></div><div class='features'><span class=\"type xft\" ><span class=\"f\">type=</span>ideograph</span></div></div></div></div></div></div></div>"
      ],
      "text/plain": [
       "<IPython.core.display.HTML object>"
      ]
     },
     "metadata": {},
     "output_type": "display_data"
    },
    {
     "data": {
      "text/html": [
       "<p><b>result</b> <i>6</i></p>"
      ],
      "text/plain": [
       "<IPython.core.display.HTML object>"
      ]
     },
     "metadata": {},
     "output_type": "display_data"
    },
    {
     "data": {
      "text/html": [
       "<div class=\"tfsechead \"><a target=\"_blank\" href=\"https://cdli.ucla.edu/search/search_results.php?SearchMode=Text&amp;ObjectID=P448702\" title=\"to CDLI main page for this tablet\" sec=\"P448702\">P448702</a></div><div class=\" children\"><div class=\"contnr c4 trm   \" ><div class=\"lbl c4 trm \" ><span class=\"nd\">tablet</span> <span class=\"txtu\"><span class=\"tfsechead\">P448702</span></span></div><div class='features'><span class=\"name \" title=\"name\">Anonymous 448702</span><span class=\"period \" title=\"period\">uruk-iii</span><span class=\"catalogid xft\" ><span class=\"f\">catalogId=</span>P448702</span></div></div></div>"
      ],
      "text/plain": [
       "<IPython.core.display.HTML object>"
      ]
     },
     "metadata": {},
     "output_type": "display_data"
    },
    {
     "data": {
      "text/html": [
       "<div class=\"tfsechead \"><a target=\"_blank\" href=\"https://cdli.ucla.edu/search/search_results.php?SearchMode=Text&amp;ObjectID=P448702\" title=\"to CDLI main page for this tablet\" sec=\"P448702 obverse:1:2\">P448702 obverse:1:2</a></div><div class=\" children\"><div class=\"contnr c2    \" ><div class=\"lbl c2  \" ><span class=\"nd\">line</span> <span class=\"txtu\"><span title=\"number\">2</span></span></div><div class='features'><span class=\"number xft\" ><span class=\"f\">number=</span>2</span></div><div class=\"children hor  \"><div class=\"contnr c2    hl\" ><div class=\"lbl c2  hl\" ><span class=\"nd\">case</span> <span class=\"txtu\"><span title=\"number\">2a</span><span title=\"prime\">'</span></span></div><div class='features'><span class=\"number xft\" ><span class=\"f\">number=</span>2a</span><span class=\"terminal xft\" ><span class=\"f\">terminal=</span>1</span></div><div class=\"children ver False \"><div class=\"contnr c1 cluster trm   \" ><div class=\"lbl c1 clusterb trm \" ><span class=\"nd\">cluster</span> <span class=\"txtu\"><span title=\"type\">?</span></span></div><div class='features'><span class=\"type xft\" ><span class=\"f\">type=</span>uncertain</span></div></div><div class=\"children hor wrap \"><div class=\"contnr c0 trm   \" ><div class=\"lbl c0 trm \" ><span class=\"txtu\"><span title=\"atf\">N</span></span></div><div class='features'><span class=\"type xft\" ><span class=\"f\">type=</span>numeral</span></div></div></div><div class=\"contnr c1 cluster {}   \" ><div class=\"lbl c1 clustere trm \" ><span class=\"nd\">cluster</span> <span class=\"txtu\"><span title=\"type\">?</span></span></div> <div class='features'><span class=\"type xft\" ><span class=\"f\">type=</span>uncertain</span></div></div><div class=\"contnr c0 trm   \" ><div class=\"lbl c0 trm \" ><span class=\"txtu\"><span title=\"atf\">2(N14)</span></span></div><div class='features'><span class=\"type xft\" ><span class=\"f\">type=</span>numeral</span></div></div><div class=\"contnr c0 trm   hl\" ><div class=\"lbl c0 trm hl\" ><span class=\"txtu\"><span title=\"atf\">3(N01)</span></span></div><div class='features'><span class=\"type xft\" ><span class=\"f\">type=</span>numeral</span></div></div><div class=\"contnr c0 trm   \" ><div class=\"lbl c0 trm \" ><span class=\"txtu\"><span title=\"atf\">KASZ~b</span></span></div><div class='features'><span class=\"type xft\" ><span class=\"f\">type=</span>ideograph</span></div></div><div class=\"contnr c0 trm   hl\" ><div class=\"lbl c0 trm hl\" ><span class=\"txtu\"><span title=\"atf\">NUN~a</span></span></div><div class='features'><span class=\"type xft\" ><span class=\"f\">type=</span>ideograph</span></div></div></div></div><div class=\"contnr c2    \" ><div class=\"lbl c2  \" ><span class=\"nd\">case</span> <span class=\"txtu\"><span title=\"number\">2b</span><span title=\"prime\">'</span></span></div><div class='features'><span class=\"number xft\" ><span class=\"f\">number=</span>2b</span><span class=\"terminal xft\" ><span class=\"f\">terminal=</span>1</span></div><div class=\"children ver False \"><div class=\"contnr c0 trm   \" ><div class=\"lbl c0 trm \" ><span class=\"txtu\"><span title=\"atf\">3(N01)</span></span></div><div class='features'><span class=\"type xft\" ><span class=\"f\">type=</span>numeral</span></div></div><div class=\"contnr c0 trm   \" ><div class=\"lbl c0 trm \" ><span class=\"txtu\"><span title=\"atf\">KASZ~a?</span></span></div><div class='features'><span class=\"type xft\" ><span class=\"f\">type=</span>ideograph</span></div></div><div class=\"contnr c0 trm   \" ><div class=\"lbl c0 trm \" ><span class=\"txtu\"><span title=\"atf\">GI</span></span></div><div class='features'><span class=\"type xft\" ><span class=\"f\">type=</span>ideograph</span></div></div></div></div></div></div></div>"
      ],
      "text/plain": [
       "<IPython.core.display.HTML object>"
      ]
     },
     "metadata": {},
     "output_type": "display_data"
    }
   ],
   "source": [
    "A.show(results, showGraphics=False, condenseType=\"line\")"
   ]
  },
  {
   "cell_type": "code",
   "execution_count": 10,
   "metadata": {},
   "outputs": [],
   "source": [
    "A.displaySetup(condensed=False, skipCols=\"1\", colorMap={2: '', 3: 'cyan', 4: 'magenta'}, showGraphics=False, condenseType=\"line\", queryFeatures=False)"
   ]
  },
  {
   "cell_type": "code",
   "execution_count": 11,
   "metadata": {
    "ExecuteTime": {
     "end_time": "2018-05-24T10:18:01.547855Z",
     "start_time": "2018-05-24T10:18:01.495155Z"
    }
   },
   "outputs": [
    {
     "data": {
      "text/html": [
       "<p><b>result</b> <i>1</i></p>"
      ],
      "text/plain": [
       "<IPython.core.display.HTML object>"
      ]
     },
     "metadata": {},
     "output_type": "display_data"
    },
    {
     "data": {
      "text/html": [
       "<div class=\"tfsechead \"><a target=\"_blank\" href=\"https://cdli.ucla.edu/search/search_results.php?SearchMode=Text&amp;ObjectID=P448702\" title=\"to CDLI main page for this tablet\" sec=\"P448702 obverse:1:2\">P448702 obverse:1:2</a></div><div class=\" children\"><div class=\"contnr c2    \" ><div class=\"lbl c2  \" ><span class=\"nd\">line</span> <span class=\"txtu\"><span title=\"number\">2</span></span></div><div class=\"children hor  \"><div class=\"contnr c2    hl\" ><div class=\"lbl c2  hl\" ><span class=\"nd\">case</span> <span class=\"txtu\"><span title=\"number\">2a</span><span title=\"prime\">'</span></span></div><div class=\"children ver False \"><div class=\"contnr c1 cluster trm   \" ><div class=\"lbl c1 clusterb trm \" ><span class=\"nd\">cluster</span> <span class=\"txtu\"><span title=\"type\">?</span></span></div></div><div class=\"children hor wrap \"><div class=\"contnr c0 trm   hl\"  style=\"background-color: magenta;\" ><div class=\"lbl c0 trm hl\"  style=\"background-color: magenta;\" ><span class=\"txtu\"><span title=\"atf\">N</span></span></div></div></div><div class=\"contnr c1 cluster {}   \" ><div class=\"lbl c1 clustere trm \" ><span class=\"nd\">cluster</span> <span class=\"txtu\"><span title=\"type\">?</span></span></div> </div><div class=\"contnr c0 trm   \" ><div class=\"lbl c0 trm \" ><span class=\"txtu\"><span title=\"atf\">2(N14)</span></span></div></div><div class=\"contnr c0 trm   \" ><div class=\"lbl c0 trm \" ><span class=\"txtu\"><span title=\"atf\">3(N01)</span></span></div></div><div class=\"contnr c0 trm   hl\"  style=\"background-color: cyan;\" ><div class=\"lbl c0 trm hl\"  style=\"background-color: cyan;\" ><span class=\"txtu\"><span title=\"atf\">KASZ~b</span></span></div></div><div class=\"contnr c0 trm   \" ><div class=\"lbl c0 trm \" ><span class=\"txtu\"><span title=\"atf\">NUN~a</span></span></div></div></div></div><div class=\"contnr c2    \" ><div class=\"lbl c2  \" ><span class=\"nd\">case</span> <span class=\"txtu\"><span title=\"number\">2b</span><span title=\"prime\">'</span></span></div><div class=\"children ver False \"><div class=\"contnr c0 trm   \" ><div class=\"lbl c0 trm \" ><span class=\"txtu\"><span title=\"atf\">3(N01)</span></span></div></div><div class=\"contnr c0 trm   \" ><div class=\"lbl c0 trm \" ><span class=\"txtu\"><span title=\"atf\">KASZ~a?</span></span></div></div><div class=\"contnr c0 trm   \" ><div class=\"lbl c0 trm \" ><span class=\"txtu\"><span title=\"atf\">GI</span></span></div></div></div></div></div></div></div>"
      ],
      "text/plain": [
       "<IPython.core.display.HTML object>"
      ]
     },
     "metadata": {},
     "output_type": "display_data"
    },
    {
     "data": {
      "text/html": [
       "<p><b>result</b> <i>2</i></p>"
      ],
      "text/plain": [
       "<IPython.core.display.HTML object>"
      ]
     },
     "metadata": {},
     "output_type": "display_data"
    },
    {
     "data": {
      "text/html": [
       "<div class=\"tfsechead \"><a target=\"_blank\" href=\"https://cdli.ucla.edu/search/search_results.php?SearchMode=Text&amp;ObjectID=P448702\" title=\"to CDLI main page for this tablet\" sec=\"P448702 obverse:1:2\">P448702 obverse:1:2</a></div><div class=\" children\"><div class=\"contnr c2    \" ><div class=\"lbl c2  \" ><span class=\"nd\">line</span> <span class=\"txtu\"><span title=\"number\">2</span></span></div><div class=\"children hor  \"><div class=\"contnr c2    hl\" ><div class=\"lbl c2  hl\" ><span class=\"nd\">case</span> <span class=\"txtu\"><span title=\"number\">2a</span><span title=\"prime\">'</span></span></div><div class=\"children ver False \"><div class=\"contnr c1 cluster trm   \" ><div class=\"lbl c1 clusterb trm \" ><span class=\"nd\">cluster</span> <span class=\"txtu\"><span title=\"type\">?</span></span></div></div><div class=\"children hor wrap \"><div class=\"contnr c0 trm   \" ><div class=\"lbl c0 trm \" ><span class=\"txtu\"><span title=\"atf\">N</span></span></div></div></div><div class=\"contnr c1 cluster {}   \" ><div class=\"lbl c1 clustere trm \" ><span class=\"nd\">cluster</span> <span class=\"txtu\"><span title=\"type\">?</span></span></div> </div><div class=\"contnr c0 trm   hl\"  style=\"background-color: magenta;\" ><div class=\"lbl c0 trm hl\"  style=\"background-color: magenta;\" ><span class=\"txtu\"><span title=\"atf\">2(N14)</span></span></div></div><div class=\"contnr c0 trm   \" ><div class=\"lbl c0 trm \" ><span class=\"txtu\"><span title=\"atf\">3(N01)</span></span></div></div><div class=\"contnr c0 trm   hl\"  style=\"background-color: cyan;\" ><div class=\"lbl c0 trm hl\"  style=\"background-color: cyan;\" ><span class=\"txtu\"><span title=\"atf\">KASZ~b</span></span></div></div><div class=\"contnr c0 trm   \" ><div class=\"lbl c0 trm \" ><span class=\"txtu\"><span title=\"atf\">NUN~a</span></span></div></div></div></div><div class=\"contnr c2    \" ><div class=\"lbl c2  \" ><span class=\"nd\">case</span> <span class=\"txtu\"><span title=\"number\">2b</span><span title=\"prime\">'</span></span></div><div class=\"children ver False \"><div class=\"contnr c0 trm   \" ><div class=\"lbl c0 trm \" ><span class=\"txtu\"><span title=\"atf\">3(N01)</span></span></div></div><div class=\"contnr c0 trm   \" ><div class=\"lbl c0 trm \" ><span class=\"txtu\"><span title=\"atf\">KASZ~a?</span></span></div></div><div class=\"contnr c0 trm   \" ><div class=\"lbl c0 trm \" ><span class=\"txtu\"><span title=\"atf\">GI</span></span></div></div></div></div></div></div></div>"
      ],
      "text/plain": [
       "<IPython.core.display.HTML object>"
      ]
     },
     "metadata": {},
     "output_type": "display_data"
    },
    {
     "data": {
      "text/html": [
       "<p><b>result</b> <i>3</i></p>"
      ],
      "text/plain": [
       "<IPython.core.display.HTML object>"
      ]
     },
     "metadata": {},
     "output_type": "display_data"
    },
    {
     "data": {
      "text/html": [
       "<div class=\"tfsechead \"><a target=\"_blank\" href=\"https://cdli.ucla.edu/search/search_results.php?SearchMode=Text&amp;ObjectID=P448702\" title=\"to CDLI main page for this tablet\" sec=\"P448702 obverse:1:2\">P448702 obverse:1:2</a></div><div class=\" children\"><div class=\"contnr c2    \" ><div class=\"lbl c2  \" ><span class=\"nd\">line</span> <span class=\"txtu\"><span title=\"number\">2</span></span></div><div class=\"children hor  \"><div class=\"contnr c2    hl\" ><div class=\"lbl c2  hl\" ><span class=\"nd\">case</span> <span class=\"txtu\"><span title=\"number\">2a</span><span title=\"prime\">'</span></span></div><div class=\"children ver False \"><div class=\"contnr c1 cluster trm   \" ><div class=\"lbl c1 clusterb trm \" ><span class=\"nd\">cluster</span> <span class=\"txtu\"><span title=\"type\">?</span></span></div></div><div class=\"children hor wrap \"><div class=\"contnr c0 trm   \" ><div class=\"lbl c0 trm \" ><span class=\"txtu\"><span title=\"atf\">N</span></span></div></div></div><div class=\"contnr c1 cluster {}   \" ><div class=\"lbl c1 clustere trm \" ><span class=\"nd\">cluster</span> <span class=\"txtu\"><span title=\"type\">?</span></span></div> </div><div class=\"contnr c0 trm   \" ><div class=\"lbl c0 trm \" ><span class=\"txtu\"><span title=\"atf\">2(N14)</span></span></div></div><div class=\"contnr c0 trm   hl\"  style=\"background-color: magenta;\" ><div class=\"lbl c0 trm hl\"  style=\"background-color: magenta;\" ><span class=\"txtu\"><span title=\"atf\">3(N01)</span></span></div></div><div class=\"contnr c0 trm   hl\"  style=\"background-color: cyan;\" ><div class=\"lbl c0 trm hl\"  style=\"background-color: cyan;\" ><span class=\"txtu\"><span title=\"atf\">KASZ~b</span></span></div></div><div class=\"contnr c0 trm   \" ><div class=\"lbl c0 trm \" ><span class=\"txtu\"><span title=\"atf\">NUN~a</span></span></div></div></div></div><div class=\"contnr c2    \" ><div class=\"lbl c2  \" ><span class=\"nd\">case</span> <span class=\"txtu\"><span title=\"number\">2b</span><span title=\"prime\">'</span></span></div><div class=\"children ver False \"><div class=\"contnr c0 trm   \" ><div class=\"lbl c0 trm \" ><span class=\"txtu\"><span title=\"atf\">3(N01)</span></span></div></div><div class=\"contnr c0 trm   \" ><div class=\"lbl c0 trm \" ><span class=\"txtu\"><span title=\"atf\">KASZ~a?</span></span></div></div><div class=\"contnr c0 trm   \" ><div class=\"lbl c0 trm \" ><span class=\"txtu\"><span title=\"atf\">GI</span></span></div></div></div></div></div></div></div>"
      ],
      "text/plain": [
       "<IPython.core.display.HTML object>"
      ]
     },
     "metadata": {},
     "output_type": "display_data"
    },
    {
     "data": {
      "text/html": [
       "<p><b>result</b> <i>4</i></p>"
      ],
      "text/plain": [
       "<IPython.core.display.HTML object>"
      ]
     },
     "metadata": {},
     "output_type": "display_data"
    },
    {
     "data": {
      "text/html": [
       "<div class=\"tfsechead \"><a target=\"_blank\" href=\"https://cdli.ucla.edu/search/search_results.php?SearchMode=Text&amp;ObjectID=P448702\" title=\"to CDLI main page for this tablet\" sec=\"P448702 obverse:1:2\">P448702 obverse:1:2</a></div><div class=\" children\"><div class=\"contnr c2    \" ><div class=\"lbl c2  \" ><span class=\"nd\">line</span> <span class=\"txtu\"><span title=\"number\">2</span></span></div><div class=\"children hor  \"><div class=\"contnr c2    hl\" ><div class=\"lbl c2  hl\" ><span class=\"nd\">case</span> <span class=\"txtu\"><span title=\"number\">2a</span><span title=\"prime\">'</span></span></div><div class=\"children ver False \"><div class=\"contnr c1 cluster trm   \" ><div class=\"lbl c1 clusterb trm \" ><span class=\"nd\">cluster</span> <span class=\"txtu\"><span title=\"type\">?</span></span></div></div><div class=\"children hor wrap \"><div class=\"contnr c0 trm   hl\"  style=\"background-color: magenta;\" ><div class=\"lbl c0 trm hl\"  style=\"background-color: magenta;\" ><span class=\"txtu\"><span title=\"atf\">N</span></span></div></div></div><div class=\"contnr c1 cluster {}   \" ><div class=\"lbl c1 clustere trm \" ><span class=\"nd\">cluster</span> <span class=\"txtu\"><span title=\"type\">?</span></span></div> </div><div class=\"contnr c0 trm   \" ><div class=\"lbl c0 trm \" ><span class=\"txtu\"><span title=\"atf\">2(N14)</span></span></div></div><div class=\"contnr c0 trm   \" ><div class=\"lbl c0 trm \" ><span class=\"txtu\"><span title=\"atf\">3(N01)</span></span></div></div><div class=\"contnr c0 trm   \" ><div class=\"lbl c0 trm \" ><span class=\"txtu\"><span title=\"atf\">KASZ~b</span></span></div></div><div class=\"contnr c0 trm   hl\"  style=\"background-color: cyan;\" ><div class=\"lbl c0 trm hl\"  style=\"background-color: cyan;\" ><span class=\"txtu\"><span title=\"atf\">NUN~a</span></span></div></div></div></div><div class=\"contnr c2    \" ><div class=\"lbl c2  \" ><span class=\"nd\">case</span> <span class=\"txtu\"><span title=\"number\">2b</span><span title=\"prime\">'</span></span></div><div class=\"children ver False \"><div class=\"contnr c0 trm   \" ><div class=\"lbl c0 trm \" ><span class=\"txtu\"><span title=\"atf\">3(N01)</span></span></div></div><div class=\"contnr c0 trm   \" ><div class=\"lbl c0 trm \" ><span class=\"txtu\"><span title=\"atf\">KASZ~a?</span></span></div></div><div class=\"contnr c0 trm   \" ><div class=\"lbl c0 trm \" ><span class=\"txtu\"><span title=\"atf\">GI</span></span></div></div></div></div></div></div></div>"
      ],
      "text/plain": [
       "<IPython.core.display.HTML object>"
      ]
     },
     "metadata": {},
     "output_type": "display_data"
    },
    {
     "data": {
      "text/html": [
       "<p><b>result</b> <i>5</i></p>"
      ],
      "text/plain": [
       "<IPython.core.display.HTML object>"
      ]
     },
     "metadata": {},
     "output_type": "display_data"
    },
    {
     "data": {
      "text/html": [
       "<div class=\"tfsechead \"><a target=\"_blank\" href=\"https://cdli.ucla.edu/search/search_results.php?SearchMode=Text&amp;ObjectID=P448702\" title=\"to CDLI main page for this tablet\" sec=\"P448702 obverse:1:2\">P448702 obverse:1:2</a></div><div class=\" children\"><div class=\"contnr c2    \" ><div class=\"lbl c2  \" ><span class=\"nd\">line</span> <span class=\"txtu\"><span title=\"number\">2</span></span></div><div class=\"children hor  \"><div class=\"contnr c2    hl\" ><div class=\"lbl c2  hl\" ><span class=\"nd\">case</span> <span class=\"txtu\"><span title=\"number\">2a</span><span title=\"prime\">'</span></span></div><div class=\"children ver False \"><div class=\"contnr c1 cluster trm   \" ><div class=\"lbl c1 clusterb trm \" ><span class=\"nd\">cluster</span> <span class=\"txtu\"><span title=\"type\">?</span></span></div></div><div class=\"children hor wrap \"><div class=\"contnr c0 trm   \" ><div class=\"lbl c0 trm \" ><span class=\"txtu\"><span title=\"atf\">N</span></span></div></div></div><div class=\"contnr c1 cluster {}   \" ><div class=\"lbl c1 clustere trm \" ><span class=\"nd\">cluster</span> <span class=\"txtu\"><span title=\"type\">?</span></span></div> </div><div class=\"contnr c0 trm   hl\"  style=\"background-color: magenta;\" ><div class=\"lbl c0 trm hl\"  style=\"background-color: magenta;\" ><span class=\"txtu\"><span title=\"atf\">2(N14)</span></span></div></div><div class=\"contnr c0 trm   \" ><div class=\"lbl c0 trm \" ><span class=\"txtu\"><span title=\"atf\">3(N01)</span></span></div></div><div class=\"contnr c0 trm   \" ><div class=\"lbl c0 trm \" ><span class=\"txtu\"><span title=\"atf\">KASZ~b</span></span></div></div><div class=\"contnr c0 trm   hl\"  style=\"background-color: cyan;\" ><div class=\"lbl c0 trm hl\"  style=\"background-color: cyan;\" ><span class=\"txtu\"><span title=\"atf\">NUN~a</span></span></div></div></div></div><div class=\"contnr c2    \" ><div class=\"lbl c2  \" ><span class=\"nd\">case</span> <span class=\"txtu\"><span title=\"number\">2b</span><span title=\"prime\">'</span></span></div><div class=\"children ver False \"><div class=\"contnr c0 trm   \" ><div class=\"lbl c0 trm \" ><span class=\"txtu\"><span title=\"atf\">3(N01)</span></span></div></div><div class=\"contnr c0 trm   \" ><div class=\"lbl c0 trm \" ><span class=\"txtu\"><span title=\"atf\">KASZ~a?</span></span></div></div><div class=\"contnr c0 trm   \" ><div class=\"lbl c0 trm \" ><span class=\"txtu\"><span title=\"atf\">GI</span></span></div></div></div></div></div></div></div>"
      ],
      "text/plain": [
       "<IPython.core.display.HTML object>"
      ]
     },
     "metadata": {},
     "output_type": "display_data"
    },
    {
     "data": {
      "text/html": [
       "<p><b>result</b> <i>6</i></p>"
      ],
      "text/plain": [
       "<IPython.core.display.HTML object>"
      ]
     },
     "metadata": {},
     "output_type": "display_data"
    },
    {
     "data": {
      "text/html": [
       "<div class=\"tfsechead \"><a target=\"_blank\" href=\"https://cdli.ucla.edu/search/search_results.php?SearchMode=Text&amp;ObjectID=P448702\" title=\"to CDLI main page for this tablet\" sec=\"P448702 obverse:1:2\">P448702 obverse:1:2</a></div><div class=\" children\"><div class=\"contnr c2    \" ><div class=\"lbl c2  \" ><span class=\"nd\">line</span> <span class=\"txtu\"><span title=\"number\">2</span></span></div><div class=\"children hor  \"><div class=\"contnr c2    hl\" ><div class=\"lbl c2  hl\" ><span class=\"nd\">case</span> <span class=\"txtu\"><span title=\"number\">2a</span><span title=\"prime\">'</span></span></div><div class=\"children ver False \"><div class=\"contnr c1 cluster trm   \" ><div class=\"lbl c1 clusterb trm \" ><span class=\"nd\">cluster</span> <span class=\"txtu\"><span title=\"type\">?</span></span></div></div><div class=\"children hor wrap \"><div class=\"contnr c0 trm   \" ><div class=\"lbl c0 trm \" ><span class=\"txtu\"><span title=\"atf\">N</span></span></div></div></div><div class=\"contnr c1 cluster {}   \" ><div class=\"lbl c1 clustere trm \" ><span class=\"nd\">cluster</span> <span class=\"txtu\"><span title=\"type\">?</span></span></div> </div><div class=\"contnr c0 trm   \" ><div class=\"lbl c0 trm \" ><span class=\"txtu\"><span title=\"atf\">2(N14)</span></span></div></div><div class=\"contnr c0 trm   hl\"  style=\"background-color: magenta;\" ><div class=\"lbl c0 trm hl\"  style=\"background-color: magenta;\" ><span class=\"txtu\"><span title=\"atf\">3(N01)</span></span></div></div><div class=\"contnr c0 trm   \" ><div class=\"lbl c0 trm \" ><span class=\"txtu\"><span title=\"atf\">KASZ~b</span></span></div></div><div class=\"contnr c0 trm   hl\"  style=\"background-color: cyan;\" ><div class=\"lbl c0 trm hl\"  style=\"background-color: cyan;\" ><span class=\"txtu\"><span title=\"atf\">NUN~a</span></span></div></div></div></div><div class=\"contnr c2    \" ><div class=\"lbl c2  \" ><span class=\"nd\">case</span> <span class=\"txtu\"><span title=\"number\">2b</span><span title=\"prime\">'</span></span></div><div class=\"children ver False \"><div class=\"contnr c0 trm   \" ><div class=\"lbl c0 trm \" ><span class=\"txtu\"><span title=\"atf\">3(N01)</span></span></div></div><div class=\"contnr c0 trm   \" ><div class=\"lbl c0 trm \" ><span class=\"txtu\"><span title=\"atf\">KASZ~a?</span></span></div></div><div class=\"contnr c0 trm   \" ><div class=\"lbl c0 trm \" ><span class=\"txtu\"><span title=\"atf\">GI</span></span></div></div></div></div></div></div></div>"
      ],
      "text/plain": [
       "<IPython.core.display.HTML object>"
      ]
     },
     "metadata": {},
     "output_type": "display_data"
    }
   ],
   "source": [
    "A.show(results)"
   ]
  },
  {
   "cell_type": "code",
   "execution_count": 12,
   "metadata": {
    "ExecuteTime": {
     "end_time": "2018-05-24T10:18:08.424670Z",
     "start_time": "2018-05-24T10:18:08.412515Z"
    }
   },
   "outputs": [
    {
     "data": {
      "text/html": [
       "<p><b>line</b> <i>1</i></p>"
      ],
      "text/plain": [
       "<IPython.core.display.HTML object>"
      ]
     },
     "metadata": {},
     "output_type": "display_data"
    },
    {
     "data": {
      "text/html": [
       "<div class=\"tfsechead \"><a target=\"_blank\" href=\"https://cdli.ucla.edu/search/search_results.php?SearchMode=Text&amp;ObjectID=P448702\" title=\"to CDLI main page for this tablet\" sec=\"P448702 obverse:1:2\">P448702 obverse:1:2</a></div><div class=\" children\"><div class=\"contnr c2    \" ><div class=\"lbl c2  \" ><span class=\"nd\">line</span> <span class=\"txtu\"><span title=\"number\">2</span></span></div><div class=\"children hor  \"><div class=\"contnr c2    hl\" ><div class=\"lbl c2  hl\" ><span class=\"nd\">case</span> <span class=\"txtu\"><span title=\"number\">2a</span><span title=\"prime\">'</span></span></div><div class=\"children ver False \"><div class=\"contnr c1 cluster trm   \" ><div class=\"lbl c1 clusterb trm \" ><span class=\"nd\">cluster</span> <span class=\"txtu\"><span title=\"type\">?</span></span></div></div><div class=\"children hor wrap \"><div class=\"contnr c0 trm   hl\"  style=\"background-color: cyan;\" ><div class=\"lbl c0 trm hl\"  style=\"background-color: cyan;\" ><span class=\"txtu\"><span title=\"atf\">N</span></span></div></div></div><div class=\"contnr c1 cluster {}   \" ><div class=\"lbl c1 clustere trm \" ><span class=\"nd\">cluster</span> <span class=\"txtu\"><span title=\"type\">?</span></span></div> </div><div class=\"contnr c0 trm   hl\"  style=\"background-color: magenta;\" ><div class=\"lbl c0 trm hl\"  style=\"background-color: magenta;\" ><span class=\"txtu\"><span title=\"atf\">2(N14)</span></span></div></div><div class=\"contnr c0 trm   hl\" ><div class=\"lbl c0 trm hl\" ><span class=\"txtu\"><span title=\"atf\">3(N01)</span></span></div></div><div class=\"contnr c0 trm   hl\" ><div class=\"lbl c0 trm hl\" ><span class=\"txtu\"><span title=\"atf\">KASZ~b</span></span></div></div><div class=\"contnr c0 trm   hl\" ><div class=\"lbl c0 trm hl\" ><span class=\"txtu\"><span title=\"atf\">NUN~a</span></span></div></div></div></div><div class=\"contnr c2    \" ><div class=\"lbl c2  \" ><span class=\"nd\">case</span> <span class=\"txtu\"><span title=\"number\">2b</span><span title=\"prime\">'</span></span></div><div class=\"children ver False \"><div class=\"contnr c0 trm   \" ><div class=\"lbl c0 trm \" ><span class=\"txtu\"><span title=\"atf\">3(N01)</span></span></div></div><div class=\"contnr c0 trm   \" ><div class=\"lbl c0 trm \" ><span class=\"txtu\"><span title=\"atf\">KASZ~a?</span></span></div></div><div class=\"contnr c0 trm   \" ><div class=\"lbl c0 trm \" ><span class=\"txtu\"><span title=\"atf\">GI</span></span></div></div></div></div></div></div></div>"
      ],
      "text/plain": [
       "<IPython.core.display.HTML object>"
      ]
     },
     "metadata": {},
     "output_type": "display_data"
    }
   ],
   "source": [
    "A.show(results, condensed=True)"
   ]
  },
  {
   "cell_type": "code",
   "execution_count": 13,
   "metadata": {},
   "outputs": [],
   "source": [
    "A.displayReset()"
   ]
  },
  {
   "cell_type": "code",
   "execution_count": 14,
   "metadata": {
    "ExecuteTime": {
     "end_time": "2018-05-24T10:18:13.882678Z",
     "start_time": "2018-05-24T10:18:13.342157Z"
    }
   },
   "outputs": [
    {
     "name": "stdout",
     "output_type": "stream",
     "text": [
      "  0.27s 6 results\n"
     ]
    },
    {
     "data": {
      "text/html": [
       "<table><tr class=\"tf ltr\"><th class=\"tf ltr\">n</th><th class=\"tf ltr\">p</th><th class=\"tf ltr\">tablet</th><th class=\"tf\">line</th><th class=\"tf\">case</th><th class=\"tf\">sign</th><th class=\"tf\">sign</th></tr>\n",
       "<tr class=\"tf ltr\"><td class=\"tf ltr\">1</td><td class=\"tf ltr\"><span class=\"tfsechead ltr\"><a target=\"_blank\" href=\"https://cdli.ucla.edu/search/search_results.php?SearchMode=Text&amp;ObjectID=P448702\" title=\"to CDLI main page for this tablet\" sec=\"P448702 obverse:1:2\">P448702 obverse:1:2</a></span></td><td class=\"tf ltr\"><span class=\" ubd\"><span class=\"txtu \"><span class=\"tfsechead\">P448702</span></span></span></td><td class=\"tf ltr\"><span class=\" ubd\"><span class=\"plain   hlbx\" ><span class=\"plain   hlbx\" ><span class=\"txtu \"><span title=\"number\">2a</span><span title=\"prime\">'</span></span><span class=\"plain \" >[<span class=\"plain hl\" >N</span>]</span> <span class=\"plain \" >2(N14)</span> <span class=\"plain \" >3(N01)</span> <span class=\"plain   hl\" ><span class=\"plain hl\" >KASZ~b</span> </span><span class=\"plain \" >NUN~a</span> </span><span class=\"txtu \"><span title=\"number\">2b</span><span title=\"prime\">'</span></span><span class=\"plain \" >3(N01)</span> <span class=\"plain \" >KASZ~a</span> <span class=\"plain \" >GI</span> </span></span></td><td class=\"tf ltr\"><span class=\" ubd\"><span class=\"plain   hlbx\" ><span class=\"txtu \"><span title=\"number\">2a</span><span title=\"prime\">'</span></span><span class=\"plain \" >[<span class=\"plain hl\" >N</span>]</span> <span class=\"plain \" >2(N14)</span> <span class=\"plain \" >3(N01)</span> <span class=\"plain   hl\" ><span class=\"plain hl\" >KASZ~b</span> </span><span class=\"plain \" >NUN~a</span> </span></span></td><td class=\"tf ltr\"><span class=\" ubd\"><span class=\"plain   hl\" ><span class=\"plain hl\" >KASZ~b</span> </span></span></td><td class=\"tf ltr\"><span class=\" ubd\"><span class=\"plain   hl\" ><span class=\"plain hl\" >N</span> </span></span></td></tr>\n",
       "<tr class=\"tf ltr\"><td class=\"tf ltr\">2</td><td class=\"tf ltr\"><span class=\"tfsechead ltr\"><a target=\"_blank\" href=\"https://cdli.ucla.edu/search/search_results.php?SearchMode=Text&amp;ObjectID=P448702\" title=\"to CDLI main page for this tablet\" sec=\"P448702 obverse:1:2\">P448702 obverse:1:2</a></span></td><td class=\"tf ltr\"><span class=\" ubd\"><span class=\"txtu \"><span class=\"tfsechead\">P448702</span></span></span></td><td class=\"tf ltr\"><span class=\" ubd\"><span class=\"plain   hlbx\" ><span class=\"plain   hlbx\" ><span class=\"txtu \"><span title=\"number\">2a</span><span title=\"prime\">'</span></span><span class=\"plain \" >[<span class=\"plain \" >N</span>]</span> <span class=\"plain   hl\" ><span class=\"plain hl\" >2(N14)</span> </span><span class=\"plain \" >3(N01)</span> <span class=\"plain   hl\" ><span class=\"plain hl\" >KASZ~b</span> </span><span class=\"plain \" >NUN~a</span> </span><span class=\"txtu \"><span title=\"number\">2b</span><span title=\"prime\">'</span></span><span class=\"plain \" >3(N01)</span> <span class=\"plain \" >KASZ~a</span> <span class=\"plain \" >GI</span> </span></span></td><td class=\"tf ltr\"><span class=\" ubd\"><span class=\"plain   hlbx\" ><span class=\"txtu \"><span title=\"number\">2a</span><span title=\"prime\">'</span></span><span class=\"plain \" >[<span class=\"plain \" >N</span>]</span> <span class=\"plain   hl\" ><span class=\"plain hl\" >2(N14)</span> </span><span class=\"plain \" >3(N01)</span> <span class=\"plain   hl\" ><span class=\"plain hl\" >KASZ~b</span> </span><span class=\"plain \" >NUN~a</span> </span></span></td><td class=\"tf ltr\"><span class=\" ubd\"><span class=\"plain   hl\" ><span class=\"plain hl\" >KASZ~b</span> </span></span></td><td class=\"tf ltr\"><span class=\" ubd\"><span class=\"plain   hl\" ><span class=\"plain hl\" >2(N14)</span> </span></span></td></tr>\n",
       "<tr class=\"tf ltr\"><td class=\"tf ltr\">3</td><td class=\"tf ltr\"><span class=\"tfsechead ltr\"><a target=\"_blank\" href=\"https://cdli.ucla.edu/search/search_results.php?SearchMode=Text&amp;ObjectID=P448702\" title=\"to CDLI main page for this tablet\" sec=\"P448702 obverse:1:2\">P448702 obverse:1:2</a></span></td><td class=\"tf ltr\"><span class=\" ubd\"><span class=\"txtu \"><span class=\"tfsechead\">P448702</span></span></span></td><td class=\"tf ltr\"><span class=\" ubd\"><span class=\"plain   hlbx\" ><span class=\"plain   hlbx\" ><span class=\"txtu \"><span title=\"number\">2a</span><span title=\"prime\">'</span></span><span class=\"plain \" >[<span class=\"plain \" >N</span>]</span> <span class=\"plain \" >2(N14)</span> <span class=\"plain   hl\" ><span class=\"plain hl\" >3(N01)</span> </span><span class=\"plain   hl\" ><span class=\"plain hl\" >KASZ~b</span> </span><span class=\"plain \" >NUN~a</span> </span><span class=\"txtu \"><span title=\"number\">2b</span><span title=\"prime\">'</span></span><span class=\"plain \" >3(N01)</span> <span class=\"plain \" >KASZ~a</span> <span class=\"plain \" >GI</span> </span></span></td><td class=\"tf ltr\"><span class=\" ubd\"><span class=\"plain   hlbx\" ><span class=\"txtu \"><span title=\"number\">2a</span><span title=\"prime\">'</span></span><span class=\"plain \" >[<span class=\"plain \" >N</span>]</span> <span class=\"plain \" >2(N14)</span> <span class=\"plain   hl\" ><span class=\"plain hl\" >3(N01)</span> </span><span class=\"plain   hl\" ><span class=\"plain hl\" >KASZ~b</span> </span><span class=\"plain \" >NUN~a</span> </span></span></td><td class=\"tf ltr\"><span class=\" ubd\"><span class=\"plain   hl\" ><span class=\"plain hl\" >KASZ~b</span> </span></span></td><td class=\"tf ltr\"><span class=\" ubd\"><span class=\"plain   hl\" ><span class=\"plain hl\" >3(N01)</span> </span></span></td></tr>\n",
       "<tr class=\"tf ltr\"><td class=\"tf ltr\">4</td><td class=\"tf ltr\"><span class=\"tfsechead ltr\"><a target=\"_blank\" href=\"https://cdli.ucla.edu/search/search_results.php?SearchMode=Text&amp;ObjectID=P448702\" title=\"to CDLI main page for this tablet\" sec=\"P448702 obverse:1:2\">P448702 obverse:1:2</a></span></td><td class=\"tf ltr\"><span class=\" ubd\"><span class=\"txtu \"><span class=\"tfsechead\">P448702</span></span></span></td><td class=\"tf ltr\"><span class=\" ubd\"><span class=\"plain   hlbx\" ><span class=\"plain   hlbx\" ><span class=\"txtu \"><span title=\"number\">2a</span><span title=\"prime\">'</span></span><span class=\"plain \" >[<span class=\"plain hl\" >N</span>]</span> <span class=\"plain \" >2(N14)</span> <span class=\"plain \" >3(N01)</span> <span class=\"plain \" >KASZ~b</span> <span class=\"plain   hl\" ><span class=\"plain hl\" >NUN~a</span> </span></span><span class=\"txtu \"><span title=\"number\">2b</span><span title=\"prime\">'</span></span><span class=\"plain \" >3(N01)</span> <span class=\"plain \" >KASZ~a</span> <span class=\"plain \" >GI</span> </span></span></td><td class=\"tf ltr\"><span class=\" ubd\"><span class=\"plain   hlbx\" ><span class=\"txtu \"><span title=\"number\">2a</span><span title=\"prime\">'</span></span><span class=\"plain \" >[<span class=\"plain hl\" >N</span>]</span> <span class=\"plain \" >2(N14)</span> <span class=\"plain \" >3(N01)</span> <span class=\"plain \" >KASZ~b</span> <span class=\"plain   hl\" ><span class=\"plain hl\" >NUN~a</span> </span></span></span></td><td class=\"tf ltr\"><span class=\" ubd\"><span class=\"plain   hl\" ><span class=\"plain hl\" >NUN~a</span> </span></span></td><td class=\"tf ltr\"><span class=\" ubd\"><span class=\"plain   hl\" ><span class=\"plain hl\" >N</span> </span></span></td></tr>\n",
       "<tr class=\"tf ltr\"><td class=\"tf ltr\">5</td><td class=\"tf ltr\"><span class=\"tfsechead ltr\"><a target=\"_blank\" href=\"https://cdli.ucla.edu/search/search_results.php?SearchMode=Text&amp;ObjectID=P448702\" title=\"to CDLI main page for this tablet\" sec=\"P448702 obverse:1:2\">P448702 obverse:1:2</a></span></td><td class=\"tf ltr\"><span class=\" ubd\"><span class=\"txtu \"><span class=\"tfsechead\">P448702</span></span></span></td><td class=\"tf ltr\"><span class=\" ubd\"><span class=\"plain   hlbx\" ><span class=\"plain   hlbx\" ><span class=\"txtu \"><span title=\"number\">2a</span><span title=\"prime\">'</span></span><span class=\"plain \" >[<span class=\"plain \" >N</span>]</span> <span class=\"plain   hl\" ><span class=\"plain hl\" >2(N14)</span> </span><span class=\"plain \" >3(N01)</span> <span class=\"plain \" >KASZ~b</span> <span class=\"plain   hl\" ><span class=\"plain hl\" >NUN~a</span> </span></span><span class=\"txtu \"><span title=\"number\">2b</span><span title=\"prime\">'</span></span><span class=\"plain \" >3(N01)</span> <span class=\"plain \" >KASZ~a</span> <span class=\"plain \" >GI</span> </span></span></td><td class=\"tf ltr\"><span class=\" ubd\"><span class=\"plain   hlbx\" ><span class=\"txtu \"><span title=\"number\">2a</span><span title=\"prime\">'</span></span><span class=\"plain \" >[<span class=\"plain \" >N</span>]</span> <span class=\"plain   hl\" ><span class=\"plain hl\" >2(N14)</span> </span><span class=\"plain \" >3(N01)</span> <span class=\"plain \" >KASZ~b</span> <span class=\"plain   hl\" ><span class=\"plain hl\" >NUN~a</span> </span></span></span></td><td class=\"tf ltr\"><span class=\" ubd\"><span class=\"plain   hl\" ><span class=\"plain hl\" >NUN~a</span> </span></span></td><td class=\"tf ltr\"><span class=\" ubd\"><span class=\"plain   hl\" ><span class=\"plain hl\" >2(N14)</span> </span></span></td></tr>\n",
       "<tr class=\"tf ltr\"><td class=\"tf ltr\">6</td><td class=\"tf ltr\"><span class=\"tfsechead ltr\"><a target=\"_blank\" href=\"https://cdli.ucla.edu/search/search_results.php?SearchMode=Text&amp;ObjectID=P448702\" title=\"to CDLI main page for this tablet\" sec=\"P448702 obverse:1:2\">P448702 obverse:1:2</a></span></td><td class=\"tf ltr\"><span class=\" ubd\"><span class=\"txtu \"><span class=\"tfsechead\">P448702</span></span></span></td><td class=\"tf ltr\"><span class=\" ubd\"><span class=\"plain   hlbx\" ><span class=\"plain   hlbx\" ><span class=\"txtu \"><span title=\"number\">2a</span><span title=\"prime\">'</span></span><span class=\"plain \" >[<span class=\"plain \" >N</span>]</span> <span class=\"plain \" >2(N14)</span> <span class=\"plain   hl\" ><span class=\"plain hl\" >3(N01)</span> </span><span class=\"plain \" >KASZ~b</span> <span class=\"plain   hl\" ><span class=\"plain hl\" >NUN~a</span> </span></span><span class=\"txtu \"><span title=\"number\">2b</span><span title=\"prime\">'</span></span><span class=\"plain \" >3(N01)</span> <span class=\"plain \" >KASZ~a</span> <span class=\"plain \" >GI</span> </span></span></td><td class=\"tf ltr\"><span class=\" ubd\"><span class=\"plain   hlbx\" ><span class=\"txtu \"><span title=\"number\">2a</span><span title=\"prime\">'</span></span><span class=\"plain \" >[<span class=\"plain \" >N</span>]</span> <span class=\"plain \" >2(N14)</span> <span class=\"plain   hl\" ><span class=\"plain hl\" >3(N01)</span> </span><span class=\"plain \" >KASZ~b</span> <span class=\"plain   hl\" ><span class=\"plain hl\" >NUN~a</span> </span></span></span></td><td class=\"tf ltr\"><span class=\" ubd\"><span class=\"plain   hl\" ><span class=\"plain hl\" >NUN~a</span> </span></span></td><td class=\"tf ltr\"><span class=\" ubd\"><span class=\"plain   hl\" ><span class=\"plain hl\" >3(N01)</span> </span></span></td></tr></table>"
      ],
      "text/plain": [
       "<IPython.core.display.HTML object>"
      ]
     },
     "metadata": {},
     "output_type": "display_data"
    }
   ],
   "source": [
    "query = '''\n",
    "tablet catalogId=P448702\n",
    "  line\n",
    "    case terminal=1 number=2a\n",
    "      sign type=ideograph\n",
    "      > sign type=numeral\n",
    "'''\n",
    "results = A.search(query)\n",
    "A.table(results, condensed=False, showGraphics=False)"
   ]
  },
  {
   "cell_type": "code",
   "execution_count": 15,
   "metadata": {
    "ExecuteTime": {
     "end_time": "2018-05-24T10:18:18.838300Z",
     "start_time": "2018-05-24T10:18:18.284271Z"
    }
   },
   "outputs": [
    {
     "name": "stdout",
     "output_type": "stream",
     "text": [
      "  0.29s 1 result\n"
     ]
    }
   ],
   "source": [
    "query = '''\n",
    "tablet catalogId=P448702\n",
    "  line\n",
    "    case terminal=1 number=2a\n",
    "      sign type=ideograph\n",
    "      :> sign type=numeral\n",
    "'''\n",
    "results = A.search(query)"
   ]
  },
  {
   "cell_type": "code",
   "execution_count": 16,
   "metadata": {
    "ExecuteTime": {
     "end_time": "2018-05-24T10:18:18.838300Z",
     "start_time": "2018-05-24T10:18:18.284271Z"
    }
   },
   "outputs": [
    {
     "data": {
      "text/html": [
       "<table><tr class=\"tf ltr\"><th class=\"tf ltr\">n</th><th class=\"tf ltr\">p</th><th class=\"tf ltr\">tablet</th><th class=\"tf\">line</th><th class=\"tf\">case</th><th class=\"tf\">sign</th><th class=\"tf\">sign</th></tr>\n",
       "<tr class=\"tf ltr\"><td class=\"tf ltr\">1</td><td class=\"tf ltr\"><span class=\"tfsechead ltr\"><a target=\"_blank\" href=\"https://cdli.ucla.edu/search/search_results.php?SearchMode=Text&amp;ObjectID=P448702\" title=\"to CDLI main page for this tablet\" sec=\"P448702 obverse:1:2\">P448702 obverse:1:2</a></span></td><td class=\"tf ltr\"><span class=\" ubd\"><span class=\"txtu \"><span class=\"tfsechead\">P448702</span></span></span></td><td class=\"tf ltr\"><span class=\" ubd\"><span class=\"plain   hlbx\" ><span class=\"plain   hlbx\" ><span class=\"txtu \"><span title=\"number\">2a</span><span title=\"prime\">'</span></span><span class=\"plain \" >[<span class=\"plain \" >N</span>]</span> <span class=\"plain \" >2(N14)</span> <span class=\"plain   hl\" ><span class=\"plain hl\" >3(N01)</span> </span><span class=\"plain   hl\" ><span class=\"plain hl\" >KASZ~b</span> </span><span class=\"plain \" >NUN~a</span> </span><span class=\"txtu \"><span title=\"number\">2b</span><span title=\"prime\">'</span></span><span class=\"plain \" >3(N01)</span> <span class=\"plain \" >KASZ~a</span> <span class=\"plain \" >GI</span> </span></span></td><td class=\"tf ltr\"><span class=\" ubd\"><span class=\"plain   hlbx\" ><span class=\"txtu \"><span title=\"number\">2a</span><span title=\"prime\">'</span></span><span class=\"plain \" >[<span class=\"plain \" >N</span>]</span> <span class=\"plain \" >2(N14)</span> <span class=\"plain   hl\" ><span class=\"plain hl\" >3(N01)</span> </span><span class=\"plain   hl\" ><span class=\"plain hl\" >KASZ~b</span> </span><span class=\"plain \" >NUN~a</span> </span></span></td><td class=\"tf ltr\"><span class=\" ubd\"><span class=\"plain   hl\" ><span class=\"plain hl\" >KASZ~b</span> </span></span></td><td class=\"tf ltr\"><span class=\" ubd\"><span class=\"plain   hl\" ><span class=\"plain hl\" >3(N01)</span> </span></span></td></tr></table>"
      ],
      "text/plain": [
       "<IPython.core.display.HTML object>"
      ]
     },
     "metadata": {},
     "output_type": "display_data"
    }
   ],
   "source": [
    "A.table(results, condensed=False, showGraphics=False)"
   ]
  },
  {
   "cell_type": "code",
   "execution_count": 17,
   "metadata": {},
   "outputs": [],
   "source": [
    "A.displaySetup(\n",
    "    condensed=False, skipCols=\"1\",\n",
    "    colorMap={2: '', 3: 'cyan', 4: 'magenta'},\n",
    "    showGraphics=False, condenseType=\"line\", queryFeatures=False\n",
    ")"
   ]
  },
  {
   "cell_type": "code",
   "execution_count": 18,
   "metadata": {
    "ExecuteTime": {
     "end_time": "2018-05-24T10:18:18.838300Z",
     "start_time": "2018-05-24T10:18:18.284271Z"
    }
   },
   "outputs": [
    {
     "data": {
      "text/html": [
       "<p><b>result</b> <i>1</i></p>"
      ],
      "text/plain": [
       "<IPython.core.display.HTML object>"
      ]
     },
     "metadata": {},
     "output_type": "display_data"
    },
    {
     "data": {
      "text/html": [
       "<div class=\"tfsechead \"><a target=\"_blank\" href=\"https://cdli.ucla.edu/search/search_results.php?SearchMode=Text&amp;ObjectID=P448702\" title=\"to CDLI main page for this tablet\" sec=\"P448702 obverse:1:2\">P448702 obverse:1:2</a></div><div class=\" children\"><div class=\"contnr c2    \" ><div class=\"lbl c2  \" ><span class=\"nd\">line</span> <span class=\"txtu\"><span title=\"number\">2</span></span></div><div class=\"children hor  \"><div class=\"contnr c2    hl\" ><div class=\"lbl c2  hl\" ><span class=\"nd\">case</span> <span class=\"txtu\"><span title=\"number\">2a</span><span title=\"prime\">'</span></span></div><div class=\"children ver False \"><div class=\"contnr c1 cluster trm   \" ><div class=\"lbl c1 clusterb trm \" ><span class=\"nd\">cluster</span> <span class=\"txtu\"><span title=\"type\">?</span></span></div></div><div class=\"children hor wrap \"><div class=\"contnr c0 trm   \" ><div class=\"lbl c0 trm \" ><span class=\"txtu\"><span title=\"atf\">N</span></span></div></div></div><div class=\"contnr c1 cluster {}   \" ><div class=\"lbl c1 clustere trm \" ><span class=\"nd\">cluster</span> <span class=\"txtu\"><span title=\"type\">?</span></span></div> </div><div class=\"contnr c0 trm   \" ><div class=\"lbl c0 trm \" ><span class=\"txtu\"><span title=\"atf\">2(N14)</span></span></div></div><div class=\"contnr c0 trm   hl\"  style=\"background-color: magenta;\" ><div class=\"lbl c0 trm hl\"  style=\"background-color: magenta;\" ><span class=\"txtu\"><span title=\"atf\">3(N01)</span></span></div></div><div class=\"contnr c0 trm   hl\"  style=\"background-color: cyan;\" ><div class=\"lbl c0 trm hl\"  style=\"background-color: cyan;\" ><span class=\"txtu\"><span title=\"atf\">KASZ~b</span></span></div></div><div class=\"contnr c0 trm   \" ><div class=\"lbl c0 trm \" ><span class=\"txtu\"><span title=\"atf\">NUN~a</span></span></div></div></div></div><div class=\"contnr c2    \" ><div class=\"lbl c2  \" ><span class=\"nd\">case</span> <span class=\"txtu\"><span title=\"number\">2b</span><span title=\"prime\">'</span></span></div><div class=\"children ver False \"><div class=\"contnr c0 trm   \" ><div class=\"lbl c0 trm \" ><span class=\"txtu\"><span title=\"atf\">3(N01)</span></span></div></div><div class=\"contnr c0 trm   \" ><div class=\"lbl c0 trm \" ><span class=\"txtu\"><span title=\"atf\">KASZ~a?</span></span></div></div><div class=\"contnr c0 trm   \" ><div class=\"lbl c0 trm \" ><span class=\"txtu\"><span title=\"atf\">GI</span></span></div></div></div></div></div></div></div>"
      ],
      "text/plain": [
       "<IPython.core.display.HTML object>"
      ]
     },
     "metadata": {},
     "output_type": "display_data"
    }
   ],
   "source": [
    "A.show(results, condensed=False) "
   ]
  },
  {
   "cell_type": "code",
   "execution_count": 19,
   "metadata": {},
   "outputs": [],
   "source": [
    "A.displayReset()"
   ]
  },
  {
   "cell_type": "code",
   "execution_count": 20,
   "metadata": {
    "ExecuteTime": {
     "end_time": "2018-05-24T10:18:21.290354Z",
     "start_time": "2018-05-24T10:18:21.285739Z"
    }
   },
   "outputs": [
    {
     "name": "stdout",
     "output_type": "stream",
     "text": [
      "                      = left equal to right (as node)\n",
      "                      # left unequal to right (as node)\n",
      "                      < left before right (in canonical node ordering)\n",
      "                      > left after right (in canonical node ordering)\n",
      "                     == left occupies same slots as right\n",
      "                     && left has overlapping slots with right\n",
      "                     ## left and right do not have the same slot set\n",
      "                     || left and right do not have common slots\n",
      "                     [[ left embeds right\n",
      "                     ]] left embedded in right\n",
      "                     << left completely before right\n",
      "                     >> left completely after right\n",
      "                     =: left and right start at the same slot\n",
      "                     := left and right end at the same slot\n",
      "                     :: left and right start and end at the same slot\n",
      "                     <: left immediately before right\n",
      "                     :> left immediately after right\n",
      "                    =k: left and right start at k-nearly the same slot\n",
      "                    :k= left and right end at k-nearly the same slot\n",
      "                    :k: left and right start and end at k-near slots\n",
      "                    <k: left k-nearly before right\n",
      "                    :k> left k-nearly after right\n",
      "                    .f. left.f = right.f\n",
      "                  .f=g. left.f = right.g\n",
      "                .f~r~g. left.f matches right.g\n",
      "                  .f#g. left.f # right.g\n",
      "                  .f>g. left.f > right.g\n",
      "                  .f<g. left.f > right.g\n",
      "             -comments> edge feature \"comments\"\n",
      "             <comments- edge feature \"comments\" (opposite direction)\n",
      "             <comments> edge feature \"comments\" (either direction)\n",
      "                   -op> edge feature \"op\" with value specification allowed\n",
      "                   <op- edge feature \"op\" with value specification allowed (opposite direction)\n",
      "                   <op> edge feature \"op\" with value specification allowed (either direction)\n",
      "                  -sub> edge feature \"sub\"\n",
      "                  <sub- edge feature \"sub\" (opposite direction)\n",
      "                  <sub> edge feature \"sub\" (either direction)\n",
      "The warp feature \"oslots\" cannot be used in searches.\n",
      "One of the above relations on nodes and/or slots will suit you better.\n"
     ]
    }
   ],
   "source": [
    "S.relationsLegend()"
   ]
  },
  {
   "cell_type": "code",
   "execution_count": 21,
   "metadata": {
    "ExecuteTime": {
     "end_time": "2018-05-24T10:18:45.976887Z",
     "start_time": "2018-05-24T10:18:45.964422Z"
    }
   },
   "outputs": [
    {
     "name": "stdout",
     "output_type": "stream",
     "text": [
      "x :  2346x\n",
      ". :  1042x\n",
      "& :   222x\n",
      "+ :   200x\n"
     ]
    }
   ],
   "source": [
    "for (op, freq) in E.op.freqList():\n",
    "    print(f'{op} : {freq:>5}x')"
   ]
  },
  {
   "cell_type": "code",
   "execution_count": 22,
   "metadata": {
    "ExecuteTime": {
     "end_time": "2018-05-24T10:18:47.834105Z",
     "start_time": "2018-05-24T10:18:47.352938Z"
    }
   },
   "outputs": [
    {
     "name": "stdout",
     "output_type": "stream",
     "text": [
      "  0.14s 3642 results\n"
     ]
    }
   ],
   "source": [
    "query = '''\n",
    "sign\n",
    "-op> sign\n",
    "'''\n",
    "results = A.search(query)"
   ]
  },
  {
   "cell_type": "code",
   "execution_count": 23,
   "metadata": {
    "ExecuteTime": {
     "end_time": "2018-05-24T10:18:50.032239Z",
     "start_time": "2018-05-24T10:18:49.683663Z"
    }
   },
   "outputs": [
    {
     "name": "stdout",
     "output_type": "stream",
     "text": [
      "  0.12s 2238 results\n"
     ]
    }
   ],
   "source": [
    "query = '''\n",
    "sign\n",
    "-op=x> sign\n",
    "'''\n",
    "results = A.search(query)"
   ]
  },
  {
   "cell_type": "code",
   "execution_count": 24,
   "metadata": {
    "ExecuteTime": {
     "end_time": "2018-05-24T10:18:52.433677Z",
     "start_time": "2018-05-24T10:18:52.427761Z"
    }
   },
   "outputs": [],
   "source": [
    "def getCombi(op):\n",
    "    types = ('sign', 'quad')\n",
    "    allResults = []\n",
    "    for type1 in types:\n",
    "        for type2 in types:\n",
    "            query = f'''\n",
    "{type1}\n",
    "-op{op}> {type2}\n",
    "'''\n",
    "            results = A.search(query, silent=True)\n",
    "            print(f'{len(results):>5} {type1} {op} {type2}')\n",
    "            allResults += results\n",
    "    print(f'{len(allResults):>5} {op}')"
   ]
  },
  {
   "cell_type": "code",
   "execution_count": 25,
   "metadata": {
    "ExecuteTime": {
     "end_time": "2018-05-24T10:18:54.827984Z",
     "start_time": "2018-05-24T10:18:54.177596Z"
    }
   },
   "outputs": [
    {
     "name": "stdout",
     "output_type": "stream",
     "text": [
      " 2238 sign =x sign\n"
     ]
    },
    {
     "name": "stdout",
     "output_type": "stream",
     "text": [
      "  105 sign =x quad\n",
      "    3 quad =x sign\n",
      "    0 quad =x quad\n",
      " 2346 =x\n"
     ]
    }
   ],
   "source": [
    "getCombi('=x')"
   ]
  },
  {
   "cell_type": "code",
   "execution_count": 26,
   "metadata": {
    "ExecuteTime": {
     "end_time": "2018-05-24T10:18:56.734739Z",
     "start_time": "2018-05-24T10:18:56.098035Z"
    }
   },
   "outputs": [
    {
     "name": "stdout",
     "output_type": "stream",
     "text": [
      "  985 sign =. sign\n",
      "   43 sign =. quad\n",
      "   14 quad =. sign\n",
      "    0 quad =. quad\n",
      " 1042 =.\n"
     ]
    }
   ],
   "source": [
    "getCombi('=.')"
   ]
  },
  {
   "cell_type": "code",
   "execution_count": 27,
   "metadata": {
    "ExecuteTime": {
     "end_time": "2018-05-24T10:18:59.101012Z",
     "start_time": "2018-05-24T10:18:58.459589Z"
    }
   },
   "outputs": [
    {
     "name": "stdout",
     "output_type": "stream",
     "text": [
      "  220 sign =& sign\n",
      "    1 sign =& quad\n",
      "    0 quad =& sign\n",
      "    1 quad =& quad\n",
      "  222 =&\n"
     ]
    }
   ],
   "source": [
    "getCombi('=&')"
   ]
  },
  {
   "cell_type": "code",
   "execution_count": 28,
   "metadata": {
    "ExecuteTime": {
     "end_time": "2018-05-24T10:19:00.555930Z",
     "start_time": "2018-05-24T10:18:59.932307Z"
    }
   },
   "outputs": [
    {
     "name": "stdout",
     "output_type": "stream",
     "text": [
      "  199 sign =+ sign\n",
      "    0 sign =+ quad\n",
      "    0 quad =+ sign\n",
      "    1 quad =+ quad\n",
      "  200 =+\n"
     ]
    }
   ],
   "source": [
    "getCombi('=+')"
   ]
  },
  {
   "cell_type": "code",
   "execution_count": 29,
   "metadata": {
    "ExecuteTime": {
     "end_time": "2018-05-24T10:19:02.823778Z",
     "start_time": "2018-05-24T10:19:02.169533Z"
    }
   },
   "outputs": [
    {
     "name": "stdout",
     "output_type": "stream",
     "text": [
      " 2437 sign =x|+ sign\n",
      "  105 sign =x|+ quad\n",
      "    3 quad =x|+ sign\n",
      "    1 quad =x|+ quad\n",
      " 2546 =x|+\n"
     ]
    }
   ],
   "source": [
    "getCombi('=x|+')"
   ]
  },
  {
   "cell_type": "code",
   "execution_count": 30,
   "metadata": {
    "ExecuteTime": {
     "end_time": "2018-05-24T10:19:05.873634Z",
     "start_time": "2018-05-24T10:19:05.095921Z"
    }
   },
   "outputs": [
    {
     "name": "stdout",
     "output_type": "stream",
     "text": [
      " 1404 sign ~[^a-z] sign\n",
      "   44 sign ~[^a-z] quad\n",
      "   14 quad ~[^a-z] sign\n",
      "    2 quad ~[^a-z] quad\n",
      " 1464 ~[^a-z]\n"
     ]
    }
   ],
   "source": [
    "getCombi('~[^a-z]')"
   ]
  },
  {
   "cell_type": "code",
   "execution_count": 31,
   "metadata": {
    "ExecuteTime": {
     "end_time": "2018-05-24T10:19:09.476226Z",
     "start_time": "2018-05-24T10:19:09.362590Z"
    }
   },
   "outputs": [
    {
     "name": "stdout",
     "output_type": "stream",
     "text": [
      "  0.10s 3 results\n"
     ]
    },
    {
     "data": {
      "text/html": [
       "<p><b>result</b> <i>1</i></p>"
      ],
      "text/plain": [
       "<IPython.core.display.HTML object>"
      ]
     },
     "metadata": {},
     "output_type": "display_data"
    },
    {
     "data": {
      "text/html": [
       "<div class=\"tfsechead \"><a target=\"_blank\" href=\"https://cdli.ucla.edu/search/search_results.php?SearchMode=Text&amp;ObjectID=P002264\" title=\"to CDLI main page for this tablet\" sec=\"P002264 obverse:1:1\">P002264 obverse:1:1</a></div><div class=\" children\"><div class=\"contnr c2    \" ><div class=\"lbl c2  \" ><span class=\"nd\">line:244724</span> <span class=\"txtu\"><span title=\"number\">1</span></span></div><div class=\"children hor  \"><div class=\"contnr c1 cluster trm   \" ><div class=\"lbl c1 clusterb trm \" ><span class=\"nd\">cluster:210220</span> <span class=\"txtu\"><span title=\"type\">?</span></span></div></div><div class=\"children hor wrap \"><div class=\"contnr c0 trm   \" ><div class=\"lbl c0 trm \" ><span class=\"nd\">67704</span> <span class=\"txtu\"><span title=\"atf\">...</span></span></div></div></div><div class=\"contnr c1 cluster {}   \" ><div class=\"lbl c1 clustere trm \" ><span class=\"nd\">cluster:210220</span> <span class=\"txtu\"><span title=\"type\">?</span></span></div> </div><div class=\"contnr c1    \" ><div class=\"lbl c1  \" ><span class=\"nd\">quad:141950</span></div><div class=\"children hor wrap \"><div class=\"contnr c1    hl\" ><div class=\"lbl c1  hl\" ><span class=\"nd\">quad:141951</span></div><div class=\"children hor wrap \"><div class=\"contnr c0 trm   \" ><div class=\"lbl c0 trm \" ><span class=\"nd\">67705</span> <span class=\"txtu\"><span title=\"atf\">GI</span></span></div></div><div class=\"op\">&</div><div class=\"contnr c0 trm   \" ><div class=\"lbl c0 trm \" ><span class=\"nd\">67706</span> <span class=\"txtu\"><span title=\"atf\">GI</span></span></div></div></div></div><div class=\"op\">x</div><div class=\"contnr c0 trm   hl\" ><div class=\"lbl c0 trm hl\" ><span class=\"nd\">67707</span> <span class=\"txtu\"><span title=\"atf\">SZE3</span></span></div></div></div></div><div class=\"contnr c0 trm   \" ><div class=\"lbl c0 trm \" ><span class=\"nd\">67708</span> <span class=\"txtu\"><span title=\"atf\">UR2</span></span></div><div><a target=\"_blank\" href=\"https://cdli.ucla.edu/tools/SignLists/protocuneiform/archsigns/UR2.jpg\" title=\"to higher resolution lineart on CDLI\"><img src=\"cdli-imagery/lineart-ur2.jpg\" style=\"display: inline;max-width: 2em; max-height: 6em;\"  /></a></div></div><div class=\"contnr c1 cluster trm   \" ><div class=\"lbl c1 clusterb trm \" ><span class=\"nd\">cluster:210221</span> <span class=\"txtu\"><span title=\"type\">?</span></span></div></div><div class=\"children hor wrap \"><div class=\"contnr c0 trm   \" ><div class=\"lbl c0 trm \" ><span class=\"nd\">67709</span> <span class=\"txtu\"><span title=\"atf\">...</span></span></div></div></div><div class=\"contnr c1 cluster {}   \" ><div class=\"lbl c1 clustere trm \" ><span class=\"nd\">cluster:210221</span> <span class=\"txtu\"><span title=\"type\">?</span></span></div> </div></div></div></div>"
      ],
      "text/plain": [
       "<IPython.core.display.HTML object>"
      ]
     },
     "metadata": {},
     "output_type": "display_data"
    },
    {
     "data": {
      "text/html": [
       "<p><b>result</b> <i>2</i></p>"
      ],
      "text/plain": [
       "<IPython.core.display.HTML object>"
      ]
     },
     "metadata": {},
     "output_type": "display_data"
    },
    {
     "data": {
      "text/html": [
       "<div class=\"tfsechead \"><a target=\"_blank\" href=\"https://cdli.ucla.edu/search/search_results.php?SearchMode=Text&amp;ObjectID=P002624\" title=\"to CDLI main page for this tablet\" sec=\"P002624 obverse:2:3\">P002624 obverse:2:3</a></div><div class=\" children\"><div class=\"contnr c2    \" ><div class=\"lbl c2  \" ><span class=\"nd\">line:255152</span> <span class=\"txtu\"><span title=\"number\">3</span></span></div><div class=\"children hor  \"><div class=\"contnr c1    \" ><div class=\"lbl c1  \" ><span class=\"nd\">quad:143120</span></div><div class=\"children hor wrap \"><div class=\"contnr c1    hl\" ><div class=\"lbl c1  hl\" ><span class=\"nd\">quad:143121</span></div><div class=\"children hor wrap \"><div class=\"contnr c0 trm   \" ><div class=\"lbl c0 trm \" ><span class=\"nd\">110687</span> <span class=\"txtu\"><span title=\"atf\">GI</span></span></div></div><div class=\"op\">&</div><div class=\"contnr c0 trm   \" ><div class=\"lbl c0 trm \" ><span class=\"nd\">110688</span> <span class=\"txtu\"><span title=\"atf\">GI</span></span></div></div></div></div><div class=\"op\">x</div><div class=\"contnr c0 trm   hl\" ><div class=\"lbl c0 trm hl\" ><span class=\"nd\">110689</span> <span class=\"txtu\"><span title=\"atf\">SZE3</span></span></div></div></div></div><div class=\"contnr c0 trm   \" ><div class=\"lbl c0 trm \" ><span class=\"nd\">110690</span> <span class=\"txtu\"><span title=\"atf\">3(N57)</span></span></div><div><a target=\"_blank\" href=\"https://cdli.ucla.edu/tools/SignLists/protocuneiform/archsigns/3(N57).jpg\" title=\"to higher resolution lineart on CDLI\"><img src=\"cdli-imagery/lineart-3(n57).jpg\" style=\"display: inline;max-width: 2em; max-height: 6em;\"  /></a></div></div></div></div></div>"
      ],
      "text/plain": [
       "<IPython.core.display.HTML object>"
      ]
     },
     "metadata": {},
     "output_type": "display_data"
    },
    {
     "data": {
      "text/html": [
       "<p><b>result</b> <i>3</i></p>"
      ],
      "text/plain": [
       "<IPython.core.display.HTML object>"
      ]
     },
     "metadata": {},
     "output_type": "display_data"
    },
    {
     "data": {
      "text/html": [
       "<div class=\"tfsechead \"><a target=\"_blank\" href=\"https://cdli.ucla.edu/search/search_results.php?SearchMode=Text&amp;ObjectID=P004659\" title=\"to CDLI main page for this tablet\" sec=\"P004659 obverse:1:2\">P004659 obverse:1:2</a></div><div class=\" children\"><div class=\"contnr c2    \" ><div class=\"lbl c2  \" ><span class=\"nd\">line:260576</span> <span class=\"txtu\"><span title=\"number\">2</span></span></div><div class=\"children hor  \"><div class=\"contnr c0 trm   \" ><div class=\"lbl c0 trm \" ><span class=\"nd\">131407</span> <span class=\"txtu\"><span title=\"atf\">1(N48)#</span></span></div><div><a target=\"_blank\" href=\"https://cdli.ucla.edu/tools/SignLists/protocuneiform/archsigns/1(N48).jpg\" title=\"to higher resolution lineart on CDLI\"><img src=\"cdli-imagery/lineart-1(n48).jpg\" style=\"display: inline;max-width: 2em; max-height: 6em;\"  /></a></div></div><div class=\"contnr c0 trm   \" ><div class=\"lbl c0 trm \" ><span class=\"nd\">131408</span> <span class=\"txtu\"><span title=\"atf\">8(N34)#</span></span></div><div><a target=\"_blank\" href=\"https://cdli.ucla.edu/tools/SignLists/protocuneiform/archsigns/8(N34).jpg\" title=\"to higher resolution lineart on CDLI\"><img src=\"cdli-imagery/lineart-8(n34).jpg\" style=\"display: inline;max-width: 2em; max-height: 6em;\"  /></a></div></div><div class=\"contnr c1    \" ><div class=\"lbl c1  \" ><span class=\"nd\">quad:143672</span></div><div><a target=\"_blank\" href=\"https://cdli.ucla.edu/tools/SignLists/protocuneiform/archsigns/|(GI&amp;GI)xGISZ@t|.jpg\" title=\"to higher resolution lineart on CDLI\"><img src=\"cdli-imagery/lineart-q(gi(e)gi)xgisz(a)tq.jpg\" style=\"display: inline;max-width: 4em; max-height: 4em;\"  /></a></div><div class=\"children hor wrap \"><div class=\"contnr c1    hl\" ><div class=\"lbl c1  hl\" ><span class=\"nd\">quad:143673</span></div><div class=\"children hor wrap \"><div class=\"contnr c0 trm   \" ><div class=\"lbl c0 trm \" ><span class=\"nd\">131409</span> <span class=\"txtu\"><span title=\"atf\">GI</span></span></div></div><div class=\"op\">&</div><div class=\"contnr c0 trm   \" ><div class=\"lbl c0 trm \" ><span class=\"nd\">131410</span> <span class=\"txtu\"><span title=\"atf\">GI</span></span></div></div></div></div><div class=\"op\">x</div><div class=\"contnr c0 trm   hl\" ><div class=\"lbl c0 trm hl\" ><span class=\"nd\">131411</span> <span class=\"txtu\"><span title=\"atf\">GISZ@t</span></span></div></div></div></div><div class=\"contnr c0 trm   \" ><div class=\"lbl c0 trm \" ><span class=\"nd\">131412</span> <span class=\"txtu\"><span title=\"atf\">ZATU659#?</span></span></div><div><a target=\"_blank\" href=\"https://cdli.ucla.edu/tools/SignLists/protocuneiform/archsigns/ZATU659.jpg\" title=\"to higher resolution lineart on CDLI\"><img src=\"cdli-imagery/lineart-zatu659.jpg\" style=\"display: inline;max-width: 2em; max-height: 6em;\"  /></a></div></div><div class=\"contnr c0 trm   \" ><div class=\"lbl c0 trm \" ><span class=\"nd\">131413</span> <span class=\"txtu\"><span title=\"atf\">USZ~a</span></span></div><div><a target=\"_blank\" href=\"https://cdli.ucla.edu/tools/SignLists/protocuneiform/archsigns/USZ~a.jpg\" title=\"to higher resolution lineart on CDLI\"><img src=\"cdli-imagery/lineart-usz-a.jpg\" style=\"display: inline;max-width: 2em; max-height: 6em;\"  /></a></div></div><div class=\"contnr c0 trm   \" ><div class=\"lbl c0 trm \" ><span class=\"nd\">131414</span> <span class=\"txtu\"><span title=\"atf\">GU4#</span></span></div><div><a target=\"_blank\" href=\"https://cdli.ucla.edu/tools/SignLists/protocuneiform/archsigns/GU4.jpg\" title=\"to higher resolution lineart on CDLI\"><img src=\"cdli-imagery/lineart-gu4.jpg\" style=\"display: inline;max-width: 2em; max-height: 6em;\"  /></a></div></div></div></div></div>"
      ],
      "text/plain": [
       "<IPython.core.display.HTML object>"
      ]
     },
     "metadata": {},
     "output_type": "display_data"
    }
   ],
   "source": [
    "query = '''\n",
    "line\n",
    "  quad\n",
    "  -op=x> sign\n",
    "'''\n",
    "results = A.search(query)\n",
    "A.show(results, withNodes=True, showGraphics=True, condenseType=\"line\")"
   ]
  },
  {
   "cell_type": "code",
   "execution_count": 32,
   "metadata": {},
   "outputs": [
    {
     "data": {
      "text/html": [
       "<p><b>result</b> <i>1</i></p>"
      ],
      "text/plain": [
       "<IPython.core.display.HTML object>"
      ]
     },
     "metadata": {},
     "output_type": "display_data"
    },
    {
     "data": {
      "text/html": [
       "<div class=\"tfsechead \"><a target=\"_blank\" href=\"https://cdli.ucla.edu/search/search_results.php?SearchMode=Text&amp;ObjectID=P002264\" title=\"to CDLI main page for this tablet\" sec=\"P002264\">P002264</a></div><div class=\" children\"><div class=\"contnr c4    \" ><div class=\"lbl c4  \" ><span class=\"nd\">tablet:146811</span> <span class=\"txtu\"><span class=\"tfsechead\">P002264</span></span></div><div class='features'><span class=\"name \" title=\"name\">IM 023435,19</span><span class=\"period \" title=\"period\">uruk-iii</span><span class=\"excavation \" title=\"excavation\">W 15771,h</span></div><div class=\"children ver  \"><div class=\"contnr c1    \" ><div class=\"lbl c1  \" ><span class=\"nd\">comment:176501</span> <span class=\"txtu\"><span title=\"type\">meta</span></span></div><div class='features'><span class=\"text \" title=\"text\">atf: lang qpc</span></div><div class=\"children hor wrap \"><div class=\"contnr c0 trm   \" ><div class=\"lbl c0 trm \" ><span class=\"nd\">67703</span> <span class=\"txtu\"><span title=\"atf\"></span></span></div></div></div></div><div class=\"contnr c2    \" ><div class=\"lbl c2  \" ><span class=\"nd\">face:154869</span> <span class=\"txtu\"><span title=\"type\">obverse</span></span></div><div class=\"children hor  \"><div class=\"contnr c3    \" ><div class=\"lbl c3  \" ><span class=\"nd\">column:186837</span> <span class=\"txtu\"><span title=\"number\">1</span><span title=\"prime\"></span></span></div><div class=\"children ver  \"><div class=\"contnr c2    hl\" ><div class=\"lbl c2  hl\" ><span class=\"nd\">line:244724</span> <span class=\"txtu\"><span title=\"number\">1</span></span></div><div class=\"children hor  \"><div class=\"contnr c1 cluster trm   \" ><div class=\"lbl c1 clusterb trm \" ><span class=\"nd\">cluster:210220</span> <span class=\"txtu\"><span class=\"plain   \" ><span class=\"plain \" >[<span class=\"plain \" >...</span>]</span> </span></span></div></div><div class=\"contnr c1 cluster {}   \" ><div class=\"lbl c1 clustere trm \" ><span class=\"nd\">cluster:210220</span> <span class=\"txtu\"><span class=\"plain   \" ><span class=\"plain \" >[<span class=\"plain \" >...</span>]</span> </span></span></div> </div><div class=\"contnr c1 trm   \" ><div class=\"lbl c1 trm \" ><span class=\"nd\">quad:141950</span> <span class=\"txtu\"><span class=\"plain   \" ><span class=\"plain \" >|<span class=\"plain hl\" >(<span class=\"plain \" >GI</span>&<span class=\"plain \" >GI</span>)</span>x<span class=\"plain hl\" >SZE3</span>|</span> </span></span></div></div><div class=\"contnr c0 trm   \" ><div class=\"lbl c0 trm \" ><span class=\"nd\">67708</span> <span class=\"txtu\"><span title=\"atf\">UR2</span></span></div><div><a target=\"_blank\" href=\"https://cdli.ucla.edu/tools/SignLists/protocuneiform/archsigns/UR2.jpg\" title=\"to higher resolution lineart on CDLI\"><img src=\"cdli-imagery/lineart-ur2.jpg\" style=\"display: inline;max-width: 2em; max-height: 6em;\"  /></a></div></div><div class=\"contnr c1 cluster trm   \" ><div class=\"lbl c1 clusterb trm \" ><span class=\"nd\">cluster:210221</span> <span class=\"txtu\"><span class=\"plain   \" ><span class=\"plain \" >[<span class=\"plain \" >...</span>]</span> </span></span></div></div><div class=\"contnr c1 cluster {}   \" ><div class=\"lbl c1 clustere trm \" ><span class=\"nd\">cluster:210221</span> <span class=\"txtu\"><span class=\"plain   \" ><span class=\"plain \" >[<span class=\"plain \" >...</span>]</span> </span></span></div> </div></div></div><div class=\"contnr c2    \" ><div class=\"lbl c2  \" ><span class=\"nd\">line:244725</span> <span class=\"txtu\"><span title=\"number\">2</span></span></div><div class=\"children hor  \"><div class=\"contnr c1 trm   \" ><div class=\"lbl c1 trm \" ><span class=\"nd\">quad:141952</span> <span class=\"txtu\"><span class=\"plain   \" ><span class=\"plain \" >|<span class=\"plain \" >SILA3~a</span>x<span class=\"plain \" >DUG~a</span>|</span>  <a target=\"_blank\" href=\"https://cdli.ucla.edu/tools/SignLists/protocuneiform/archsigns/|SILA3~axDUG~a|.jpg\" title=\"to higher resolution lineart on CDLI\"><img src=\"cdli-imagery/lineart-qsila3-axdug-aq.jpg\" style=\"display: inline;max-width: 4em; max-height: 4em;\"  /></a></span></span></div><div><a target=\"_blank\" href=\"https://cdli.ucla.edu/tools/SignLists/protocuneiform/archsigns/|SILA3~axDUG~a|.jpg\" title=\"to higher resolution lineart on CDLI\"><img src=\"cdli-imagery/lineart-qsila3-axdug-aq.jpg\" style=\"display: inline;max-width: 4em; max-height: 4em;\"  /></a></div></div><div class=\"contnr c0 trm   \" ><div class=\"lbl c0 trm \" ><span class=\"nd\">67712</span> <span class=\"txtu\"><span title=\"atf\">MEN~a</span></span></div><div><a target=\"_blank\" href=\"https://cdli.ucla.edu/tools/SignLists/protocuneiform/archsigns/MEN~a.jpg\" title=\"to higher resolution lineart on CDLI\"><img src=\"cdli-imagery/lineart-men-a.jpg\" style=\"display: inline;max-width: 2em; max-height: 6em;\"  /></a></div></div><div class=\"contnr c0 trm   \" ><div class=\"lbl c0 trm \" ><span class=\"nd\">67713</span> <span class=\"txtu\"><span title=\"atf\">SUKKAL#?</span></span></div><div><a target=\"_blank\" href=\"https://cdli.ucla.edu/tools/SignLists/protocuneiform/archsigns/SUKKAL.jpg\" title=\"to higher resolution lineart on CDLI\"><img src=\"cdli-imagery/lineart-sukkal.jpg\" style=\"display: inline;max-width: 2em; max-height: 6em;\"  /></a></div></div><div class=\"contnr c0 trm   \" ><div class=\"lbl c0 trm \" ><span class=\"nd\">67714</span> <span class=\"txtu\"><span title=\"atf\">X</span></span></div></div><div class=\"contnr c0 trm   \" ><div class=\"lbl c0 trm \" ><span class=\"nd\">67715</span> <span class=\"txtu\"><span title=\"atf\">X</span></span></div></div><div class=\"contnr c1 cluster trm   \" ><div class=\"lbl c1 clusterb trm \" ><span class=\"nd\">cluster:210222</span> <span class=\"txtu\"><span class=\"plain   \" ><span class=\"plain \" >[<span class=\"plain \" >...</span>]</span> </span></span></div></div><div class=\"contnr c1 cluster {}   \" ><div class=\"lbl c1 clustere trm \" ><span class=\"nd\">cluster:210222</span> <span class=\"txtu\"><span class=\"plain   \" ><span class=\"plain \" >[<span class=\"plain \" >...</span>]</span> </span></span></div> </div></div></div></div></div></div></div></div></div></div>"
      ],
      "text/plain": [
       "<IPython.core.display.HTML object>"
      ]
     },
     "metadata": {},
     "output_type": "display_data"
    },
    {
     "data": {
      "text/html": [
       "<p><b>result</b> <i>2</i></p>"
      ],
      "text/plain": [
       "<IPython.core.display.HTML object>"
      ]
     },
     "metadata": {},
     "output_type": "display_data"
    },
    {
     "data": {
      "text/html": [
       "<div class=\"tfsechead \"><a target=\"_blank\" href=\"https://cdli.ucla.edu/search/search_results.php?SearchMode=Text&amp;ObjectID=P002624\" title=\"to CDLI main page for this tablet\" sec=\"P002624\">P002624</a></div><div class=\" children\"><div class=\"contnr c4    \" ><div class=\"lbl c4  \" ><span class=\"nd\">tablet:148296</span> <span class=\"txtu\"><span class=\"tfsechead\">P002624</span></span></div><div class='features'><span class=\"name \" title=\"name\">W 17480,b</span><span class=\"period \" title=\"period\">uruk-iii</span><span class=\"excavation \" title=\"excavation\">W 17480,b</span></div><div class=\"children ver  \"><div class=\"contnr c1    \" ><div class=\"lbl c1  \" ><span class=\"nd\">comment:178317</span> <span class=\"txtu\"><span title=\"type\">meta</span></span></div><div class='features'><span class=\"text \" title=\"text\">atf: lang qpc</span></div><div class=\"children hor wrap \"><div class=\"contnr c0 trm   \" ><div class=\"lbl c0 trm \" ><span class=\"nd\">110673</span> <span class=\"txtu\"><span title=\"atf\"></span></span></div></div></div></div><div class=\"contnr c2    \" ><div class=\"lbl c2  \" ><span class=\"nd\">face:157130</span> <span class=\"txtu\"><span title=\"type\">obverse</span></span></div><div class=\"children hor  \"><div class=\"contnr c3    \" ><div class=\"lbl c3  \" ><span class=\"nd\">column:190707</span> <span class=\"txtu\"><span title=\"number\">1</span><span title=\"prime\"></span></span></div><div class=\"children ver  \"><div class=\"contnr c2    \" ><div class=\"lbl c2  \" ><span class=\"nd\">line:255146</span> <span class=\"txtu\"><span title=\"number\">1</span></span></div><div class=\"children hor  \"><div class=\"contnr c0 trm   \" ><div class=\"lbl c0 trm \" ><span class=\"nd\">110674</span> <span class=\"txtu\"><span title=\"atf\">TUM~b#</span></span></div><div><a target=\"_blank\" href=\"https://cdli.ucla.edu/tools/SignLists/protocuneiform/archsigns/TUM~b.jpg\" title=\"to higher resolution lineart on CDLI\"><img src=\"cdli-imagery/lineart-tum-b.jpg\" style=\"display: inline;max-width: 2em; max-height: 6em;\"  /></a></div></div><div class=\"contnr c1 cluster trm   \" ><div class=\"lbl c1 clusterb trm \" ><span class=\"nd\">cluster:220130</span> <span class=\"txtu\"><span class=\"plain   \" ><span class=\"plain \" >[<span class=\"plain \" >...</span>]</span> </span></span></div></div><div class=\"contnr c1 cluster {}   \" ><div class=\"lbl c1 clustere trm \" ><span class=\"nd\">cluster:220130</span> <span class=\"txtu\"><span class=\"plain   \" ><span class=\"plain \" >[<span class=\"plain \" >...</span>]</span> </span></span></div> </div></div></div><div class=\"contnr c2    \" ><div class=\"lbl c2  \" ><span class=\"nd\">line:255147</span> <span class=\"txtu\"><span title=\"number\">2</span></span></div><div class=\"children hor  \"><div class=\"contnr c0 trm   \" ><div class=\"lbl c0 trm \" ><span class=\"nd\">110676</span> <span class=\"txtu\"><span title=\"atf\">SU~a</span></span></div><div><a target=\"_blank\" href=\"https://cdli.ucla.edu/tools/SignLists/protocuneiform/archsigns/SU~a.jpg\" title=\"to higher resolution lineart on CDLI\"><img src=\"cdli-imagery/lineart-su-a.jpg\" style=\"display: inline;max-width: 2em; max-height: 6em;\"  /></a></div></div><div class=\"contnr c1 cluster trm   \" ><div class=\"lbl c1 clusterb trm \" ><span class=\"nd\">cluster:220131</span> <span class=\"txtu\"><span class=\"plain   \" ><span class=\"plain \" >[<span class=\"plain \" >...</span>]</span> </span></span></div></div><div class=\"contnr c1 cluster {}   \" ><div class=\"lbl c1 clustere trm \" ><span class=\"nd\">cluster:220131</span> <span class=\"txtu\"><span class=\"plain   \" ><span class=\"plain \" >[<span class=\"plain \" >...</span>]</span> </span></span></div> </div></div></div><div class=\"contnr c2    \" ><div class=\"lbl c2  \" ><span class=\"nd\">line:255148</span> <span class=\"txtu\"><span title=\"number\">3</span></span></div><div class=\"children hor  \"><div class=\"contnr c0 trm   \" ><div class=\"lbl c0 trm \" ><span class=\"nd\">110678</span> <span class=\"txtu\"><span title=\"atf\">PIRIG~b1</span></span></div><div><a target=\"_blank\" href=\"https://cdli.ucla.edu/tools/SignLists/protocuneiform/archsigns/PIRIG~b1.jpg\" title=\"to higher resolution lineart on CDLI\"><img src=\"cdli-imagery/lineart-pirig-b1.jpg\" style=\"display: inline;max-width: 2em; max-height: 6em;\"  /></a></div></div><div class=\"contnr c0 trm   \" ><div class=\"lbl c0 trm \" ><span class=\"nd\">110679</span> <span class=\"txtu\"><span title=\"atf\">X</span></span></div></div></div></div><div class=\"contnr c2    \" ><div class=\"lbl c2  \" ><span class=\"nd\">line:255149</span> <span class=\"txtu\"><span title=\"number\">4</span></span></div><div class=\"children hor  \"><div class=\"contnr c0 trm   \" ><div class=\"lbl c0 trm \" ><span class=\"nd\">110680</span> <span class=\"txtu\"><span title=\"atf\">NA2~a#</span></span></div><div><a target=\"_blank\" href=\"https://cdli.ucla.edu/tools/SignLists/protocuneiform/archsigns/NA2~a.jpg\" title=\"to higher resolution lineart on CDLI\"><img src=\"cdli-imagery/lineart-na2-a.jpg\" style=\"display: inline;max-width: 2em; max-height: 6em;\"  /></a></div></div><div class=\"contnr c1 cluster trm   \" ><div class=\"lbl c1 clusterb trm \" ><span class=\"nd\">cluster:220132</span> <span class=\"txtu\"><span class=\"plain   \" ><span class=\"plain \" >[<span class=\"plain \" >...</span>]</span> </span></span></div></div><div class=\"contnr c1 cluster {}   \" ><div class=\"lbl c1 clustere trm \" ><span class=\"nd\">cluster:220132</span> <span class=\"txtu\"><span class=\"plain   \" ><span class=\"plain \" >[<span class=\"plain \" >...</span>]</span> </span></span></div> </div></div></div></div></div><div class=\"contnr c3    \" ><div class=\"lbl c3  \" ><span class=\"nd\">column:190708</span> <span class=\"txtu\"><span title=\"number\">2</span><span title=\"prime\"></span></span></div><div class=\"children ver  \"><div class=\"contnr c2    \" ><div class=\"lbl c2  \" ><span class=\"nd\">line:255150</span> <span class=\"txtu\"><span title=\"number\">1</span></span></div><div class=\"children hor  \"><div class=\"contnr c0 trm   \" ><div class=\"lbl c0 trm \" ><span class=\"nd\">110682</span> <span class=\"txtu\"><span title=\"atf\">RU#?</span></span></div><div><a target=\"_blank\" href=\"https://cdli.ucla.edu/tools/SignLists/protocuneiform/archsigns/RU.jpg\" title=\"to higher resolution lineart on CDLI\"><img src=\"cdli-imagery/lineart-ru.jpg\" style=\"display: inline;max-width: 2em; max-height: 6em;\"  /></a></div></div><div class=\"contnr c1 cluster trm   \" ><div class=\"lbl c1 clusterb trm \" ><span class=\"nd\">cluster:220133</span> <span class=\"txtu\"><span class=\"plain   \" ><span class=\"plain \" >[<span class=\"plain \" >...</span>]</span> </span></span></div></div><div class=\"contnr c1 cluster {}   \" ><div class=\"lbl c1 clustere trm \" ><span class=\"nd\">cluster:220133</span> <span class=\"txtu\"><span class=\"plain   \" ><span class=\"plain \" >[<span class=\"plain \" >...</span>]</span> </span></span></div> </div></div></div><div class=\"contnr c2    \" ><div class=\"lbl c2  \" ><span class=\"nd\">line:255151</span> <span class=\"txtu\"><span title=\"number\">2</span></span></div><div class=\"children hor  \"><div class=\"contnr c1 trm   \" ><div class=\"lbl c1 trm \" ><span class=\"nd\">quad:143119</span> <span class=\"txtu\"><span class=\"plain   \" ><span class=\"plain \" >|<span class=\"plain \" >BU~b</span>.<span class=\"plain \" >NA2~a</span>|</span>  <a target=\"_blank\" href=\"https://cdli.ucla.edu/tools/SignLists/protocuneiform/archsigns/|BU~b.NA2~a|.jpg\" title=\"to higher resolution lineart on CDLI\"><img src=\"cdli-imagery/lineart-qbu-b(d)na2-aq.jpg\" style=\"display: inline;max-width: 4em; max-height: 4em;\"  /></a></span></span></div><div><a target=\"_blank\" href=\"https://cdli.ucla.edu/tools/SignLists/protocuneiform/archsigns/|BU~b.NA2~a|.jpg\" title=\"to higher resolution lineart on CDLI\"><img src=\"cdli-imagery/lineart-qbu-b(d)na2-aq.jpg\" style=\"display: inline;max-width: 4em; max-height: 4em;\"  /></a></div></div><div class=\"contnr c0 trm   \" ><div class=\"lbl c0 trm \" ><span class=\"nd\">110686</span> <span class=\"txtu\"><span title=\"atf\">3(N57)</span></span></div><div><a target=\"_blank\" href=\"https://cdli.ucla.edu/tools/SignLists/protocuneiform/archsigns/3(N57).jpg\" title=\"to higher resolution lineart on CDLI\"><img src=\"cdli-imagery/lineart-3(n57).jpg\" style=\"display: inline;max-width: 2em; max-height: 6em;\"  /></a></div></div></div></div><div class=\"contnr c2    hl\" ><div class=\"lbl c2  hl\" ><span class=\"nd\">line:255152</span> <span class=\"txtu\"><span title=\"number\">3</span></span></div><div class=\"children hor  \"><div class=\"contnr c1 trm   \" ><div class=\"lbl c1 trm \" ><span class=\"nd\">quad:143120</span> <span class=\"txtu\"><span class=\"plain   \" ><span class=\"plain \" >|<span class=\"plain hl\" >(<span class=\"plain \" >GI</span>&<span class=\"plain \" >GI</span>)</span>x<span class=\"plain hl\" >SZE3</span>|</span> </span></span></div></div><div class=\"contnr c0 trm   \" ><div class=\"lbl c0 trm \" ><span class=\"nd\">110690</span> <span class=\"txtu\"><span title=\"atf\">3(N57)</span></span></div><div><a target=\"_blank\" href=\"https://cdli.ucla.edu/tools/SignLists/protocuneiform/archsigns/3(N57).jpg\" title=\"to higher resolution lineart on CDLI\"><img src=\"cdli-imagery/lineart-3(n57).jpg\" style=\"display: inline;max-width: 2em; max-height: 6em;\"  /></a></div></div></div></div></div></div><div class=\"contnr c3    \" ><div class=\"lbl c3  \" ><span class=\"nd\">column:190709</span> <span class=\"txtu\"><span title=\"number\">3</span><span title=\"prime\"></span></span></div><div class=\"children ver  \"><div class=\"contnr c2    \" ><div class=\"lbl c2  \" ><span class=\"nd\">line:255153</span> <span class=\"txtu\"><span title=\"number\">1</span></span></div><div class=\"children hor  \"><div class=\"contnr c1 cluster trm   \" ><div class=\"lbl c1 clusterb trm \" ><span class=\"nd\">cluster:220134</span> <span class=\"txtu\"><span class=\"plain   \" ><span class=\"plain \" >[<span class=\"plain \" >...</span>]</span> </span></span></div></div><div class=\"contnr c1 cluster {}   \" ><div class=\"lbl c1 clustere trm \" ><span class=\"nd\">cluster:220134</span> <span class=\"txtu\"><span class=\"plain   \" ><span class=\"plain \" >[<span class=\"plain \" >...</span>]</span> </span></span></div> </div><div class=\"contnr c0 trm   \" ><div class=\"lbl c0 trm \" ><span class=\"nd\">110692</span> <span class=\"txtu\"><span title=\"atf\">X</span></span></div></div><div class=\"contnr c1 cluster trm   \" ><div class=\"lbl c1 clusterb trm \" ><span class=\"nd\">cluster:220135</span> <span class=\"txtu\"><span class=\"plain   \" ><span class=\"plain \" >[<span class=\"plain \" >...</span>]</span> </span></span></div></div><div class=\"contnr c1 cluster {}   \" ><div class=\"lbl c1 clustere trm \" ><span class=\"nd\">cluster:220135</span> <span class=\"txtu\"><span class=\"plain   \" ><span class=\"plain \" >[<span class=\"plain \" >...</span>]</span> </span></span></div> </div></div></div></div></div></div></div></div></div></div>"
      ],
      "text/plain": [
       "<IPython.core.display.HTML object>"
      ]
     },
     "metadata": {},
     "output_type": "display_data"
    },
    {
     "data": {
      "text/html": [
       "<p><b>result</b> <i>3</i></p>"
      ],
      "text/plain": [
       "<IPython.core.display.HTML object>"
      ]
     },
     "metadata": {},
     "output_type": "display_data"
    },
    {
     "data": {
      "text/html": [
       "<div class=\"tfsechead \"><a target=\"_blank\" href=\"https://cdli.ucla.edu/search/search_results.php?SearchMode=Text&amp;ObjectID=P004659\" title=\"to CDLI main page for this tablet\" sec=\"P004659\">P004659</a></div><div class=\" children\"><div class=\"contnr c4    \" ><div class=\"lbl c4  \" ><span class=\"nd\">tablet:149624</span> <span class=\"txtu\"><span class=\"tfsechead\">P004659</span></span></div><div class='features'><span class=\"name \" title=\"name\">ATU 7, pl. 091, W 22133</span><span class=\"period \" title=\"period\">uruk-iv</span><span class=\"excavation \" title=\"excavation\">W 22133</span></div><div class=\"children ver  \"><div class=\"contnr c1    \" ><div class=\"lbl c1  \" ><span class=\"nd\">comment:179698</span> <span class=\"txtu\"><span title=\"type\">meta</span></span></div><div class='features'><span class=\"text \" title=\"text\">atf: lang qpc</span></div><div class=\"children hor wrap \"><div class=\"contnr c0 trm   \" ><div class=\"lbl c0 trm \" ><span class=\"nd\">131402</span> <span class=\"txtu\"><span title=\"atf\"></span></span></div></div></div></div><div class=\"contnr c2    \" ><div class=\"lbl c2  \" ><span class=\"nd\">face:158867</span> <span class=\"txtu\"><span title=\"type\">obverse</span></span></div><div class=\"children hor  \"><div class=\"contnr c3    \" ><div class=\"lbl c3  \" ><span class=\"nd\">column:193298</span> <span class=\"txtu\"><span title=\"number\">1</span><span title=\"prime\"></span></span></div><div class=\"children ver  \"><div class=\"contnr c2    \" ><div class=\"lbl c2  \" ><span class=\"nd\">line:260575</span> <span class=\"txtu\"><span title=\"number\">1</span></span></div><div class=\"children hor  \"><div class=\"contnr c0 trm   \" ><div class=\"lbl c0 trm \" ><span class=\"nd\">131403</span> <span class=\"txtu\"><span title=\"atf\">1(N34)</span></span></div><div><a target=\"_blank\" href=\"https://cdli.ucla.edu/tools/SignLists/protocuneiform/archsigns/1(N34).jpg\" title=\"to higher resolution lineart on CDLI\"><img src=\"cdli-imagery/lineart-1(n34).jpg\" style=\"display: inline;max-width: 2em; max-height: 6em;\"  /></a></div></div><div class=\"contnr c0 trm   \" ><div class=\"lbl c0 trm \" ><span class=\"nd\">131404</span> <span class=\"txtu\"><span title=\"atf\">3(N14)</span></span></div><div><a target=\"_blank\" href=\"https://cdli.ucla.edu/tools/SignLists/protocuneiform/archsigns/3(N14).jpg\" title=\"to higher resolution lineart on CDLI\"><img src=\"cdli-imagery/lineart-3(n14).jpg\" style=\"display: inline;max-width: 2em; max-height: 6em;\"  /></a></div></div><div class=\"contnr c0 trm   \" ><div class=\"lbl c0 trm \" ><span class=\"nd\">131405</span> <span class=\"txtu\"><span title=\"atf\">2(N01)#</span></span></div><div><a target=\"_blank\" href=\"https://cdli.ucla.edu/tools/SignLists/protocuneiform/archsigns/2(N01).jpg\" title=\"to higher resolution lineart on CDLI\"><img src=\"cdli-imagery/lineart-2(n01).jpg\" style=\"display: inline;max-width: 2em; max-height: 6em;\"  /></a></div></div><div class=\"contnr c0 trm   \" ><div class=\"lbl c0 trm \" ><span class=\"nd\">131406</span> <span class=\"txtu\"><span title=\"atf\">SZE3</span></span></div><div><a target=\"_blank\" href=\"https://cdli.ucla.edu/tools/SignLists/protocuneiform/archsigns/SZE3.jpg\" title=\"to higher resolution lineart on CDLI\"><img src=\"cdli-imagery/lineart-sze3.jpg\" style=\"display: inline;max-width: 2em; max-height: 6em;\"  /></a></div></div></div></div><div class=\"contnr c2    hl\" ><div class=\"lbl c2  hl\" ><span class=\"nd\">line:260576</span> <span class=\"txtu\"><span title=\"number\">2</span></span></div><div class=\"children hor  \"><div class=\"contnr c0 trm   \" ><div class=\"lbl c0 trm \" ><span class=\"nd\">131407</span> <span class=\"txtu\"><span title=\"atf\">1(N48)#</span></span></div><div><a target=\"_blank\" href=\"https://cdli.ucla.edu/tools/SignLists/protocuneiform/archsigns/1(N48).jpg\" title=\"to higher resolution lineart on CDLI\"><img src=\"cdli-imagery/lineart-1(n48).jpg\" style=\"display: inline;max-width: 2em; max-height: 6em;\"  /></a></div></div><div class=\"contnr c0 trm   \" ><div class=\"lbl c0 trm \" ><span class=\"nd\">131408</span> <span class=\"txtu\"><span title=\"atf\">8(N34)#</span></span></div><div><a target=\"_blank\" href=\"https://cdli.ucla.edu/tools/SignLists/protocuneiform/archsigns/8(N34).jpg\" title=\"to higher resolution lineart on CDLI\"><img src=\"cdli-imagery/lineart-8(n34).jpg\" style=\"display: inline;max-width: 2em; max-height: 6em;\"  /></a></div></div><div class=\"contnr c1 trm   \" ><div class=\"lbl c1 trm \" ><span class=\"nd\">quad:143672</span> <span class=\"txtu\"><span class=\"plain   \" ><span class=\"plain \" >|<span class=\"plain hl\" >(<span class=\"plain \" >GI</span>&<span class=\"plain \" >GI</span>)</span>x<span class=\"plain hl\" >GISZ@t</span>|</span>  <a target=\"_blank\" href=\"https://cdli.ucla.edu/tools/SignLists/protocuneiform/archsigns/|(GI&amp;GI)xGISZ@t|.jpg\" title=\"to higher resolution lineart on CDLI\"><img src=\"cdli-imagery/lineart-q(gi(e)gi)xgisz(a)tq.jpg\" style=\"display: inline;max-width: 4em; max-height: 4em;\"  /></a></span></span></div><div><a target=\"_blank\" href=\"https://cdli.ucla.edu/tools/SignLists/protocuneiform/archsigns/|(GI&amp;GI)xGISZ@t|.jpg\" title=\"to higher resolution lineart on CDLI\"><img src=\"cdli-imagery/lineart-q(gi(e)gi)xgisz(a)tq.jpg\" style=\"display: inline;max-width: 4em; max-height: 4em;\"  /></a></div></div><div class=\"contnr c0 trm   \" ><div class=\"lbl c0 trm \" ><span class=\"nd\">131412</span> <span class=\"txtu\"><span title=\"atf\">ZATU659#?</span></span></div><div><a target=\"_blank\" href=\"https://cdli.ucla.edu/tools/SignLists/protocuneiform/archsigns/ZATU659.jpg\" title=\"to higher resolution lineart on CDLI\"><img src=\"cdli-imagery/lineart-zatu659.jpg\" style=\"display: inline;max-width: 2em; max-height: 6em;\"  /></a></div></div><div class=\"contnr c0 trm   \" ><div class=\"lbl c0 trm \" ><span class=\"nd\">131413</span> <span class=\"txtu\"><span title=\"atf\">USZ~a</span></span></div><div><a target=\"_blank\" href=\"https://cdli.ucla.edu/tools/SignLists/protocuneiform/archsigns/USZ~a.jpg\" title=\"to higher resolution lineart on CDLI\"><img src=\"cdli-imagery/lineart-usz-a.jpg\" style=\"display: inline;max-width: 2em; max-height: 6em;\"  /></a></div></div><div class=\"contnr c0 trm   \" ><div class=\"lbl c0 trm \" ><span class=\"nd\">131414</span> <span class=\"txtu\"><span title=\"atf\">GU4#</span></span></div><div><a target=\"_blank\" href=\"https://cdli.ucla.edu/tools/SignLists/protocuneiform/archsigns/GU4.jpg\" title=\"to higher resolution lineart on CDLI\"><img src=\"cdli-imagery/lineart-gu4.jpg\" style=\"display: inline;max-width: 2em; max-height: 6em;\"  /></a></div></div></div></div></div></div></div></div><div class=\"contnr c2    \" ><div class=\"lbl c2  \" ><span class=\"nd\">face:158868</span> <span class=\"txtu\"><span title=\"type\">reverse</span></span></div><div class=\"children hor  \"><div class=\"contnr c3    \" ><div class=\"lbl c3  \" ><span class=\"nd\">column:193299</span> <span class=\"txtu\"><span title=\"number\">1</span><span title=\"prime\"></span></span></div><div class=\"children ver  \"><div class=\"contnr c2    \" ><div class=\"lbl c2  \" ><span class=\"nd\">line:260577</span> <span class=\"txtu\"><span title=\"number\">1</span></span></div><div class=\"children hor  \"><div class=\"contnr c1 cluster trm   \" ><div class=\"lbl c1 clusterb trm \" ><span class=\"nd\">cluster:225099</span> <span class=\"txtu\"><span class=\"plain   \" ><span class=\"plain \" >[<span class=\"plain \" >...</span>]</span> </span></span></div></div><div class=\"contnr c1 cluster {}   \" ><div class=\"lbl c1 clustere trm \" ><span class=\"nd\">cluster:225099</span> <span class=\"txtu\"><span class=\"plain   \" ><span class=\"plain \" >[<span class=\"plain \" >...</span>]</span> </span></span></div> </div><div class=\"contnr c1 cluster trm   \" ><div class=\"lbl c1 clusterb trm \" ><span class=\"nd\">cluster:225100</span> <span class=\"txtu\"><span class=\"plain   \" ><span class=\"plain \" >[<span class=\"plain \" >...</span>]</span> </span></span></div></div><div class=\"contnr c1 cluster {}   \" ><div class=\"lbl c1 clustere trm \" ><span class=\"nd\">cluster:225100</span> <span class=\"txtu\"><span class=\"plain   \" ><span class=\"plain \" >[<span class=\"plain \" >...</span>]</span> </span></span></div> </div><div class=\"contnr c0 trm   \" ><div class=\"lbl c0 trm \" ><span class=\"nd\">131417</span> <span class=\"txtu\"><span title=\"atf\">EN~a#?</span></span></div><div><a target=\"_blank\" href=\"https://cdli.ucla.edu/tools/SignLists/protocuneiform/archsigns/EN~a.jpg\" title=\"to higher resolution lineart on CDLI\"><img src=\"cdli-imagery/lineart-en-a.jpg\" style=\"display: inline;max-width: 2em; max-height: 6em;\"  /></a></div></div></div></div></div></div></div></div></div></div></div>"
      ],
      "text/plain": [
       "<IPython.core.display.HTML object>"
      ]
     },
     "metadata": {},
     "output_type": "display_data"
    }
   ],
   "source": [
    "A.show(results, withNodes=True, showGraphics=True, condenseType=\"tablet\", baseTypes=\"quad\")"
   ]
  }
 ],
 "metadata": {
  "kernelspec": {
   "display_name": "Python3.9",
   "language": "python",
   "name": "python3"
  },
  "language_info": {
   "codemirror_mode": {
    "name": "ipython",
    "version": 3
   },
   "file_extension": ".py",
   "mimetype": "text/x-python",
   "name": "python",
   "nbconvert_exporter": "python",
   "pygments_lexer": "ipython3",
   "version": "3.9.0"
  }
 },
 "nbformat": 4,
 "nbformat_minor": 4
}