{
 "cells": [
  {
   "cell_type": "code",
   "execution_count": 1,
   "metadata": {},
   "outputs": [],
   "source": [
    "%load_ext autoreload\n",
    "%autoreload 2"
   ]
  },
  {
   "cell_type": "code",
   "execution_count": 2,
   "metadata": {
    "ExecuteTime": {
     "end_time": "2018-05-24T10:17:06.453483Z",
     "start_time": "2018-05-24T10:17:06.432200Z"
    }
   },
   "outputs": [],
   "source": [
    "import sys, os\n",
    "import collections\n",
    "from IPython.display import display, Markdown\n",
    "from tf.app import use"
   ]
  },
  {
   "cell_type": "code",
   "execution_count": 3,
   "metadata": {
    "ExecuteTime": {
     "end_time": "2018-05-24T10:17:08.349408Z",
     "start_time": "2018-05-24T10:17:07.481634Z"
    }
   },
   "outputs": [
    {
     "data": {
      "text/html": [
       "<b title=\"local github\">TF-app:</b> <span title=\"repo clone offline under ~/github\">~/github/annotation/app-uruk/code</span>"
      ],
      "text/plain": [
       "<IPython.core.display.HTML object>"
      ]
     },
     "metadata": {},
     "output_type": "display_data"
    },
    {
     "data": {
      "text/html": [
       "<b title=\"local github\">data:</b> <span title=\"repo clone offline under ~/github\">~/github/Nino-cunei/uruk/tf/uruk/1.0</span>"
      ],
      "text/plain": [
       "<IPython.core.display.HTML object>"
      ]
     },
     "metadata": {},
     "output_type": "display_data"
    },
    {
     "data": {
      "text/html": [
       "<b>Text-Fabric:</b> <a target=\"_blank\" href=\"https://annotation.github.io/text-fabric/cheatsheet.html\" title=\"text-fabric-api\">Text-Fabric API 8.4.6</a>, <a target=\"_blank\" href=\"https://github.com/annotation/app-uruk\" title=\"uruk TF-app\">app-uruk v3</a>, <a target=\"_blank\" href=\"https://annotation.github.io/text-fabric/about/searchusage.html\" title=\"Search Templates Introduction and Reference\">Search Reference</a><br><b>Data:</b> <a target=\"_blank\" href=\"https://github.com/Nino-cunei/uruk/blob/master/docs/about.md\" title=\"provenance of Uruk IV/III: Proto-cuneiform tablets \">URUK</a>, <a target=\"_blank\" href=\"https://annotation.github.io/text-fabric/writing/.html\" title=\"How TF features represent text\">Character table</a>, <a target=\"_blank\" href=\"https://github.com/Nino-cunei/uruk/blob/master/docs/transcription.md\" title=\"URUK feature documentation\">Feature docs</a><br><b>Features:</b><br><details><summary><b>Uruk IV/III: Proto-cuneiform tablets </b></summary><a target=\"_blank\" href=\"https://github.com/Nino-cunei/uruk/blob/master/docs/transcription.md\" title=\"~/github/Nino-cunei/uruk/tf/uruk/1.0/catalogId.tf\">catalogId</a><br><a target=\"_blank\" href=\"https://github.com/Nino-cunei/uruk/blob/master/docs/transcription.md\" title=\"~/github/Nino-cunei/uruk/tf/uruk/1.0/crossref.tf\">crossref</a><br><a target=\"_blank\" href=\"https://github.com/Nino-cunei/uruk/blob/master/docs/transcription.md\" title=\"~/github/Nino-cunei/uruk/tf/uruk/1.0/damage.tf\">damage</a><br><a target=\"_blank\" href=\"https://github.com/Nino-cunei/uruk/blob/master/docs/transcription.md\" title=\"~/github/Nino-cunei/uruk/tf/uruk/1.0/depth.tf\">depth</a><br><a target=\"_blank\" href=\"https://github.com/Nino-cunei/uruk/blob/master/docs/transcription.md\" title=\"~/github/Nino-cunei/uruk/tf/uruk/1.0/excavation.tf\">excavation</a><br><a target=\"_blank\" href=\"https://github.com/Nino-cunei/uruk/blob/master/docs/transcription.md\" title=\"~/github/Nino-cunei/uruk/tf/uruk/1.0/fragment.tf\">fragment</a><br><a target=\"_blank\" href=\"https://github.com/Nino-cunei/uruk/blob/master/docs/transcription.md\" title=\"~/github/Nino-cunei/uruk/tf/uruk/1.0/fullNumber.tf\">fullNumber</a><br><a target=\"_blank\" href=\"https://github.com/Nino-cunei/uruk/blob/master/docs/transcription.md\" title=\"~/github/Nino-cunei/uruk/tf/uruk/1.0/grapheme.tf\">grapheme</a><br><a target=\"_blank\" href=\"https://github.com/Nino-cunei/uruk/blob/master/docs/transcription.md\" title=\"~/github/Nino-cunei/uruk/tf/uruk/1.0/identifier.tf\">identifier</a><br><a target=\"_blank\" href=\"https://github.com/Nino-cunei/uruk/blob/master/docs/transcription.md\" title=\"~/github/Nino-cunei/uruk/tf/uruk/1.0/modifier.tf\">modifier</a><br><a target=\"_blank\" href=\"https://github.com/Nino-cunei/uruk/blob/master/docs/transcription.md\" title=\"~/github/Nino-cunei/uruk/tf/uruk/1.0/modifierFirst.tf\">modifierFirst</a><br><a target=\"_blank\" href=\"https://github.com/Nino-cunei/uruk/blob/master/docs/transcription.md\" title=\"~/github/Nino-cunei/uruk/tf/uruk/1.0/modifierInner.tf\">modifierInner</a><br><a target=\"_blank\" href=\"https://github.com/Nino-cunei/uruk/blob/master/docs/transcription.md\" title=\"~/github/Nino-cunei/uruk/tf/uruk/1.0/name.tf\">name</a><br><a target=\"_blank\" href=\"https://github.com/Nino-cunei/uruk/blob/master/docs/transcription.md\" title=\"~/github/Nino-cunei/uruk/tf/uruk/1.0/number.tf\">number</a><br><a target=\"_blank\" href=\"https://github.com/Nino-cunei/uruk/blob/master/docs/transcription.md\" title=\"~/github/Nino-cunei/uruk/tf/uruk/1.0/otype.tf\">otype</a><br><a target=\"_blank\" href=\"https://github.com/Nino-cunei/uruk/blob/master/docs/transcription.md\" title=\"~/github/Nino-cunei/uruk/tf/uruk/1.0/period.tf\">period</a><br><a target=\"_blank\" href=\"https://github.com/Nino-cunei/uruk/blob/master/docs/transcription.md\" title=\"~/github/Nino-cunei/uruk/tf/uruk/1.0/prime.tf\">prime</a><br><a target=\"_blank\" href=\"https://github.com/Nino-cunei/uruk/blob/master/docs/transcription.md\" title=\"~/github/Nino-cunei/uruk/tf/uruk/1.0/remarkable.tf\">remarkable</a><br><a target=\"_blank\" href=\"https://github.com/Nino-cunei/uruk/blob/master/docs/transcription.md\" title=\"~/github/Nino-cunei/uruk/tf/uruk/1.0/repeat.tf\">repeat</a><br><a target=\"_blank\" href=\"https://github.com/Nino-cunei/uruk/blob/master/docs/transcription.md\" title=\"~/github/Nino-cunei/uruk/tf/uruk/1.0/srcLn.tf\">srcLn</a><br><a target=\"_blank\" href=\"https://github.com/Nino-cunei/uruk/blob/master/docs/transcription.md\" title=\"~/github/Nino-cunei/uruk/tf/uruk/1.0/srcLnNum.tf\">srcLnNum</a><br><a target=\"_blank\" href=\"https://github.com/Nino-cunei/uruk/blob/master/docs/transcription.md\" title=\"~/github/Nino-cunei/uruk/tf/uruk/1.0/terminal.tf\">terminal</a><br><a target=\"_blank\" href=\"https://github.com/Nino-cunei/uruk/blob/master/docs/transcription.md\" title=\"~/github/Nino-cunei/uruk/tf/uruk/1.0/text.tf\">text</a><br><a target=\"_blank\" href=\"https://github.com/Nino-cunei/uruk/blob/master/docs/transcription.md\" title=\"~/github/Nino-cunei/uruk/tf/uruk/1.0/type.tf\">type</a><br><a target=\"_blank\" href=\"https://github.com/Nino-cunei/uruk/blob/master/docs/transcription.md\" title=\"~/github/Nino-cunei/uruk/tf/uruk/1.0/uncertain.tf\">uncertain</a><br><a target=\"_blank\" href=\"https://github.com/Nino-cunei/uruk/blob/master/docs/transcription.md\" title=\"~/github/Nino-cunei/uruk/tf/uruk/1.0/variant.tf\">variant</a><br><a target=\"_blank\" href=\"https://github.com/Nino-cunei/uruk/blob/master/docs/transcription.md\" title=\"~/github/Nino-cunei/uruk/tf/uruk/1.0/variantOuter.tf\">variantOuter</a><br><a target=\"_blank\" href=\"https://github.com/Nino-cunei/uruk/blob/master/docs/transcription.md\" title=\"~/github/Nino-cunei/uruk/tf/uruk/1.0/written.tf\">written</a><br><b><i><a target=\"_blank\" href=\"https://github.com/Nino-cunei/uruk/blob/master/docs/transcription.md\" title=\"~/github/Nino-cunei/uruk/tf/uruk/1.0/comments.tf\">comments</a></i></b><br><b><i><a target=\"_blank\" href=\"https://github.com/Nino-cunei/uruk/blob/master/docs/transcription.md\" title=\"~/github/Nino-cunei/uruk/tf/uruk/1.0/op.tf\">op</a></i></b><br><b><i><a target=\"_blank\" href=\"https://github.com/Nino-cunei/uruk/blob/master/docs/transcription.md\" title=\"~/github/Nino-cunei/uruk/tf/uruk/1.0/oslots.tf\">oslots</a></i></b><br><b><i><a target=\"_blank\" href=\"https://github.com/Nino-cunei/uruk/blob/master/docs/transcription.md\" title=\"~/github/Nino-cunei/uruk/tf/uruk/1.0/sub.tf\">sub</a></i></b><br></details>"
      ],
      "text/plain": [
       "<IPython.core.display.HTML object>"
      ]
     },
     "metadata": {},
     "output_type": "display_data"
    },
    {
     "data": {
      "text/html": [
       "<style>tr.tf.ltr, td.tf.ltr, th.tf.ltr { text-align: left ! important;}\n",
       "tr.tf.rtl, td.tf.rtl, th.tf.rtl { text-align: right ! important;}\n",
       "@font-face {\n",
       "  font-family: \"Gentium Plus\";\n",
       "  src: local('Gentium Plus'), local('GentiumPlus'),\n",
       "    url('/server/static/fonts/GentiumPlus-R.woff') format('woff'),\n",
       "    url('https://github.com/annotation/text-fabric/blob/master/tf/server/static/fonts/GentiumPlus-R.woff?raw=true') format('woff');\n",
       "}\n",
       "\n",
       "@font-face {\n",
       "  font-family: \"Ezra SIL\";\n",
       "  src: local('Ezra SIL'), local('EzraSIL'),\n",
       "    url('/server/static/fonts/SILEOT.woff') format('woff'),\n",
       "    url('https://github.com/annotation/text-fabric/blob/master/tf/server/static/fonts/SILEOT.woff?raw=true') format('woff');\n",
       "}\n",
       "\n",
       "@font-face {\n",
       "  font-family: \"SBL Hebrew\";\n",
       "  src: local('SBL Hebrew'), local('SBLHebrew'),\n",
       "    url('/server/static/fonts/SBL_Hbrw.woff') format('woff'),\n",
       "    url('https://github.com/annotation/text-fabric/blob/master/tf/server/static/fonts/SBL_Hbrw.woff?raw=true') format('woff');\n",
       "}\n",
       "\n",
       "@font-face {\n",
       "  font-family: \"Estrangelo Edessa\";\n",
       "  src: local('Estrangelo Edessa'), local('EstrangeloEdessa');\n",
       "    url('/server/static/fonts/SyrCOMEdessa.woff') format('woff'),\n",
       "    url('https://github.com/annotation/text-fabric/blob/master/tf/server/static/fonts/SyrCOMEdessa.woff?raw=true') format('woff');\n",
       "}\n",
       "\n",
       "@font-face {\n",
       "  font-family: AmiriQuran;\n",
       "  font-style: normal;\n",
       "  font-weight: 400;\n",
       "  src: local('Amiri Quran'), local('AmiriQuran'),\n",
       "    url('/server/static/fonts/AmiriQuran.woff') format('woff'),\n",
       "    url('https://github.com/annotation/text-fabric/blob/master/tf/server/static/fonts/AmiriQuran.woff?raw=true') format('woff');\n",
       "}\n",
       "\n",
       "@font-face {\n",
       "  font-family: AmiriQuranColored;\n",
       "  font-style: normal;\n",
       "  font-weight: 400;\n",
       "  src: local('Amiri Quran Colored'), local('AmiriQuranColored'),\n",
       "    url('/server/static/fonts/AmiriQuranColored.woff') format('woff'),\n",
       "    url('https://github.com/annotation/text-fabric/blob/master/tf/server/static/fonts/AmiriQuranColored.woff?raw=true') format('woff');\n",
       "}\n",
       "\n",
       "@font-face {\n",
       "  font-family: \"Santakku\";\n",
       "  src: local('Santakku'),\n",
       "    url('/server/static/fonts/Santakku.woff') format('woff'),\n",
       "    url('https://github.com/annotation/text-fabric/blob/master/tf/server/static/fonts/Santakku.woff?raw=true') format('woff');\n",
       "}\n",
       "\n",
       "@font-face {\n",
       "  font-family: \"SantakkuM\";\n",
       "  src: local('SantakkuM'),\n",
       "    url('/server/static/fonts/SantakkuM.woff') format('woff'),\n",
       "    url('https://github.com/annotation/text-fabric/blob/master/tf/server/static/fonts/SantakkuM.woff?raw=true') format('woff');\n",
       "}\n",
       "/* bypassing some classical notebook settings */\n",
       "div#notebook {\n",
       "  line-height: unset;\n",
       "}\n",
       "/* neutral text */\n",
       ".txtn,.txtn a:visited,.txtn a:link {\n",
       "    font-family: sans-serif;\n",
       "    font-size: medium;\n",
       "    direction: ltr;\n",
       "    unicode-bidi: embed;\n",
       "    text-decoration: none;\n",
       "    color: var(--text-color);\n",
       "}\n",
       "/* transcription text */\n",
       ".txtt,.txtt a:visited,.txtt a:link {\n",
       "    font-family: monospace;\n",
       "    font-size: medium;\n",
       "    direction: ltr;\n",
       "    unicode-bidi: embed;\n",
       "    text-decoration: none;\n",
       "    color: var(--text-color);\n",
       "}\n",
       "/* source text */\n",
       ".txto,.txto a:visited,.txto a:link {\n",
       "    font-family: serif;\n",
       "    font-size: medium;\n",
       "    direction: ltr;\n",
       "    unicode-bidi: embed;\n",
       "    text-decoration: none;\n",
       "    color: var(--text-color);\n",
       "}\n",
       "/* phonetic text */\n",
       ".txtp,.txtp a:visited,.txtp a:link {\n",
       "    font-family: Gentium, sans-serif;\n",
       "    font-size: medium;\n",
       "    direction: ltr;\n",
       "    unicode-bidi: embed;\n",
       "    text-decoration: none;\n",
       "    color: var(--text-color);\n",
       "}\n",
       "/* original script text */\n",
       ".txtu,.txtu a:visited,.txtu a:link {\n",
       "    font-family: Gentium, sans-serif;\n",
       "    font-size: medium;\n",
       "    text-decoration: none;\n",
       "    color: var(--text-color);\n",
       "}\n",
       "/* hebrew */\n",
       ".txtu.hbo,.lex.hbo {\n",
       "    font-family: \"Ezra SIL\", \"SBL Hebrew\", sans-serif;\n",
       "    font-size: large;\n",
       "    direction: rtl ! important;\n",
       "    unicode-bidi: embed;\n",
       "}\n",
       "/* syriac */\n",
       ".txtu.syc,.lex.syc {\n",
       "    font-family: \"Estrangelo Edessa\", sans-serif;\n",
       "    font-size: medium;\n",
       "    direction: rtl ! important;\n",
       "    unicode-bidi: embed;\n",
       "}\n",
       "/* neo aramaic */\n",
       ".txtu.cld,.lex.cld {\n",
       "    font-family: \"CharisSIL-R\", sans-serif;\n",
       "    font-size: medium;\n",
       "    direction: ltr ! important;\n",
       "    unicode-bidi: embed;\n",
       "}\n",
       "/* standard arabic */\n",
       ".txtu.ara,.lex.ara {\n",
       "    font-family: \"AmiriQuran\", sans-serif;\n",
       "    font-size: large;\n",
       "    direction: rtl ! important;\n",
       "    unicode-bidi: embed;\n",
       "}\n",
       "/* cuneiform */\n",
       ".txtu.akk,.lex.akk {\n",
       "    font-family: Santakku, sans-serif;\n",
       "    font-size: large;\n",
       "    direction: ltr ! important;\n",
       "    unicode-bidi: embed;\n",
       "}\n",
       "/* greek */\n",
       ".txtu.grc,.lex.grc a:link {\n",
       "    font-family: Gentium, sans-serif;\n",
       "    font-size: medium;\n",
       "    direction: ltr ! important;\n",
       "    unicode-bidi: embed;\n",
       "}\n",
       "a:hover {\n",
       "    text-decoration: underline | important;\n",
       "    color: #0000ff | important;\n",
       "}\n",
       ".ltr {\n",
       "    direction: ltr ! important;\n",
       "    unicode-bidi: embed;\n",
       "}\n",
       ".rtl {\n",
       "    direction: rtl ! important;\n",
       "    unicode-bidi: embed;\n",
       "}\n",
       ".ubd {\n",
       "    unicode-bidi: embed;\n",
       "}\n",
       ".col {\n",
       "   display: inline-block;\n",
       "}\n",
       ".features {\n",
       "    font-family: monospace;\n",
       "    font-size: medium;\n",
       "    font-weight: bold;\n",
       "    color: var(--features);\n",
       "    display: flex;\n",
       "    flex-flow: column nowrap;\n",
       "    justify-content: flex-start;\n",
       "    align-items: flex-start;\n",
       "    align-content: flex-start;\n",
       "    padding: 2px;\n",
       "    margin: 2px;\n",
       "    direction: ltr;\n",
       "    unicode-bidi: embed;\n",
       "    border: var(--meta-width) solid var(--meta-color);\n",
       "    border-radius: var(--meta-width);\n",
       "}\n",
       ".features div,.features span {\n",
       "    padding: 0;\n",
       "    margin: -2px 0;\n",
       "}\n",
       ".features .f {\n",
       "    font-family: sans-serif;\n",
       "    font-size: small;\n",
       "    font-weight: normal;\n",
       "    color: #5555bb;\n",
       "}\n",
       ".features .xft {\n",
       "  color: #000000;\n",
       "  background-color: #eeeeee;\n",
       "  font-size: medium;\n",
       "  margin: 2px 0px;\n",
       "}\n",
       ".features .xft .f {\n",
       "  color: #000000;\n",
       "  background-color: #eeeeee;\n",
       "  font-size: small;\n",
       "  font-weight: normal;\n",
       "}\n",
       ".tfsechead {\n",
       "    font-family: sans-serif;\n",
       "    font-size: small;\n",
       "    font-weight: bold;\n",
       "    color: var(--tfsechead);\n",
       "    unicode-bidi: embed;\n",
       "    text-align: start;\n",
       "}\n",
       ".structure {\n",
       "    font-family: sans-serif;\n",
       "    font-size: small;\n",
       "    font-weight: bold;\n",
       "    color: var(--structure);\n",
       "    unicode-bidi: embed;\n",
       "    text-align: start;\n",
       "}\n",
       ".comments {\n",
       "    display: flex;\n",
       "    justify-content: flex-start;\n",
       "    align-items: flex-start;\n",
       "    align-content: flex-start;\n",
       "    flex-flow: column nowrap;\n",
       "}\n",
       ".nd, a:link.nd {\n",
       "    font-family: sans-serif;\n",
       "    font-size: small;\n",
       "    color: var(--node);\n",
       "    vertical-align: super;\n",
       "    direction: ltr ! important;\n",
       "    unicode-bidi: embed;\n",
       "}\n",
       ".lex {\n",
       "  color: var(--lex-color);;\n",
       "}\n",
       ".children,.children.ltr {\n",
       "    display: flex;\n",
       "    border: 0;\n",
       "    background-color: #ffffff;\n",
       "    justify-content: flex-start;\n",
       "    align-items: flex-start;\n",
       "    align-content: flex-start;\n",
       "}\n",
       ".children.stretch {\n",
       "    align-items: stretch;\n",
       "}\n",
       ".children.hor {\n",
       "    flex-flow: row nowrap;\n",
       "}\n",
       ".children.hor.wrap {\n",
       "    flex-flow: row wrap;\n",
       "}\n",
       ".children.ver {\n",
       "    flex-flow: column nowrap;\n",
       "}\n",
       ".children.ver.wrap {\n",
       "    flex-flow: column wrap;\n",
       "}\n",
       ".contnr {\n",
       "    width: fit-content;\n",
       "    display: flex;\n",
       "    justify-content: flex-start;\n",
       "    align-items: flex-start;\n",
       "    align-content: flex-start;\n",
       "    flex-flow: column nowrap;\n",
       "    background: #ffffff none repeat scroll 0 0;\n",
       "    padding:  10px 2px 2px 2px;\n",
       "    margin: 16px 2px 2px 2px;\n",
       "    border-style: solid;\n",
       "    font-size: small;\n",
       "}\n",
       ".contnr.trm {\n",
       "    background-attachment: local;\n",
       "}\n",
       ".contnr.cnul {\n",
       "    padding:  0;\n",
       "    margin: 0;\n",
       "    border-style: solid;\n",
       "    font-size: xx-small;\n",
       "}\n",
       ".contnr.cnul,.lbl.cnul {\n",
       "    border-color: var(--border-color-nul);\n",
       "    border-width: var(--border-width-nul);\n",
       "    border-radius: var(--border-width-nul);\n",
       "}\n",
       ".contnr.c0,.lbl.c0 {\n",
       "    border-color: var(--border-color0);\n",
       "    border-width: var(--border-width0);\n",
       "    border-radius: var(--border-width0);\n",
       "}\n",
       ".contnr.c1,.lbl.c1 {\n",
       "    border-color: var(--border-color1);\n",
       "    border-width: var(--border-width1);\n",
       "    border-radius: var(--border-width1);\n",
       "}\n",
       ".contnr.c2,.lbl.c2 {\n",
       "    border-color: var(--border-color2);\n",
       "    border-width: var(--border-width2);\n",
       "    border-radius: var(--border-width2);\n",
       "}\n",
       ".contnr.c3,.lbl.c3 {\n",
       "    border-color: var(--border-color3);\n",
       "    border-width: var(--border-width3);\n",
       "    border-radius: var(--border-width3);\n",
       "}\n",
       ".contnr.c4,.lbl.c4 {\n",
       "    border-color: var(--border-color4);\n",
       "    border-width: var(--border-width4);\n",
       "    border-radius: var(--border-width4);\n",
       "}\n",
       "span.plain {\n",
       "    display: inline-block;\n",
       "    white-space: pre-wrap;\n",
       "}\n",
       ".plain {\n",
       "    background-color: #ffffff;\n",
       "}\n",
       ".plain.l,.contnr.l,.contnr.l>.lbl {\n",
       "    border-left-style: dotted\n",
       "}\n",
       ".plain.r,.contnr.r,.contnr.r>.lbl {\n",
       "    border-right-style: dotted\n",
       "}\n",
       ".plain.lno,.contnr.lno,.contnr.lno>.lbl {\n",
       "    border-left-style: none\n",
       "}\n",
       ".plain.rno,.contnr.rno,.contnr.rno>.lbl {\n",
       "    border-right-style: none\n",
       "}\n",
       ".plain.l {\n",
       "    padding-left: 4px;\n",
       "    margin-left: 2px;\n",
       "    border-width: var(--border-width-plain);\n",
       "}\n",
       ".plain.r {\n",
       "    padding-right: 4px;\n",
       "    margin-right: 2px;\n",
       "    border-width: var(--border-width-plain);\n",
       "}\n",
       ".lbl {\n",
       "    font-family: monospace;\n",
       "    margin-top: -24px;\n",
       "    margin-left: 20px;\n",
       "    background: #ffffff none repeat scroll 0 0;\n",
       "    padding: 0 6px;\n",
       "    border-style: solid;\n",
       "    display: block;\n",
       "    color: var(--label)\n",
       "}\n",
       ".lbl.trm {\n",
       "    background-attachment: local;\n",
       "    margin-top: 2px;\n",
       "    margin-left: 2px;\n",
       "    padding: 2px 2px;\n",
       "    border-style: none;\n",
       "}\n",
       ".lbl.cnul {\n",
       "    font-size: xx-small;\n",
       "}\n",
       ".lbl.c0 {\n",
       "    font-size: small;\n",
       "}\n",
       ".lbl.c1 {\n",
       "    font-size: small;\n",
       "}\n",
       ".lbl.c2 {\n",
       "    font-size: medium;\n",
       "}\n",
       ".lbl.c3 {\n",
       "    font-size: medium;\n",
       "}\n",
       ".lbl.c4 {\n",
       "    font-size: large;\n",
       "}\n",
       ".occs, a:link.occs {\n",
       "    font-size: small;\n",
       "}\n",
       "\n",
       "/* PROVENANCE */\n",
       "\n",
       "div.prov {\n",
       "\tmargin: 40px;\n",
       "\tpadding: 20px;\n",
       "\tborder: 2px solid var(--fog-rim);\n",
       "}\n",
       "div.pline {\n",
       "\tdisplay: flex;\n",
       "\tflex-flow: row nowrap;\n",
       "\tjustify-content: stretch;\n",
       "\talign-items: baseline;\n",
       "}\n",
       "div.p2line {\n",
       "\tmargin-left: 2em;\n",
       "\tdisplay: flex;\n",
       "\tflex-flow: row nowrap;\n",
       "\tjustify-content: stretch;\n",
       "\talign-items: baseline;\n",
       "}\n",
       "div.psline {\n",
       "\tdisplay: flex;\n",
       "\tflex-flow: row nowrap;\n",
       "\tjustify-content: stretch;\n",
       "\talign-items: baseline;\n",
       "\tbackground-color: var(--gold-mist-back);\n",
       "}\n",
       "div.pname {\n",
       "\tflex: 0 0 5rem;\n",
       "\tfont-weight: bold;\n",
       "}\n",
       "div.pval {\n",
       "    flex: 1 1 auto;\n",
       "}\n",
       "\n",
       ":root {\n",
       "\t--node:               hsla(120, 100%,  20%, 1.0  );\n",
       "\t--label:              hsla(  0, 100%,  20%, 1.0  );\n",
       "\t--tfsechead:          hsla(  0, 100%,  25%, 1.0  );\n",
       "\t--structure:          hsla(120, 100%,  25%, 1.0  );\n",
       "\t--features:           hsla(  0,   0%,  30%, 1.0  );\n",
       "  --text-color:         hsla( 60,  80%,  10%, 1.0  );\n",
       "  --lex-color:          hsla(220,  90%,  60%, 1.0  );\n",
       "  --meta-color:         hsla(  0,   0%,  90%, 0.7  );\n",
       "  --meta-width:         3px;\n",
       "  --border-color-nul:   hsla(  0,   0%,  90%, 0.5  );\n",
       "  --border-color0:      hsla(  0,   0%,  90%, 0.9  );\n",
       "  --border-color1:      hsla(  0,   0%,  80%, 0.9  );\n",
       "  --border-color2:      hsla(  0,   0%,  70%, 0.9  );\n",
       "  --border-color3:      hsla(  0,   0%,  80%, 0.8  );\n",
       "  --border-color4:      hsla(  0,   0%,  60%, 0.9  );\n",
       "  --border-width-nul:   2px;\n",
       "  --border-width0:      2px;\n",
       "  --border-width1:      3px;\n",
       "  --border-width2:      4px;\n",
       "  --border-width3:      6px;\n",
       "  --border-width4:      5px;\n",
       "  --border-width-plain: 2px;\n",
       "}\n",
       ".hl {\n",
       "  background-color: var(--hl-strong);\n",
       "}\n",
       "span.hl {\n",
       "\tbackground-color: var(--hl-strong);\n",
       "\tborder-width: 0;\n",
       "\tborder-radius: 2px;\n",
       "\tborder-style: solid;\n",
       "}\n",
       "div.contnr.hl,div.lbl.hl {\n",
       "  background-color: var(--hl-strong);\n",
       "}\n",
       "div.contnr.hl {\n",
       "  border-color: var(--hl-rim) ! important;\n",
       "\tborder-width: 4px ! important;\n",
       "}\n",
       "\n",
       "span.hlbx {\n",
       "\tborder-color: var(--hl-rim);\n",
       "\tborder-width: 4px ! important;\n",
       "\tborder-style: solid;\n",
       "\tborder-radius: 6px;\n",
       "  padding: 4px;\n",
       "  margin: 4px;\n",
       "}\n",
       "\n",
       "span.plain {\n",
       "  display: inline-block;\n",
       "  white-space: pre-wrap;\n",
       "}\n",
       "\n",
       ":root {\n",
       "\t--hl-strong:        hsla( 60, 100%,  70%, 0.9  );\n",
       "\t--hl-rim:           hsla( 55,  80%,  50%, 1.0  );\n",
       "}\n",
       ".contnr.cluster {\n",
       "    flex-flow: row wrap;\n",
       "    border: 0;\n",
       "}\n",
       ".meta .features {\n",
       "    background-color: #ffeedd;\n",
       "}\n",
       ".lbl.clusterb,.lbl.clustere {\n",
       "    padding:  0.5em 0.1em 0.1em 0.1em;\n",
       "    margin: 0.8em 0.1em 0.1em 0.1em;\n",
       "    color: #888844;\n",
       "    font-size: x-small;\n",
       "}\n",
       ".lbl.clusterb {\n",
       "    border-left: 0.3em solid #cccc99;\n",
       "    border-right: 0;\n",
       "    border-top: 0;\n",
       "    border-bottom: 0;\n",
       "    border-radius: 1rem;\n",
       "}\n",
       ".lbl.clustere {\n",
       "    border-left: 0;\n",
       "    border-right: 0.3em solid #cccc99;\n",
       "    border-top: 0;\n",
       "    border-bottom: 0;\n",
       "    border-radius: 1rem;\n",
       "}\n",
       ".op {\n",
       "    padding:  0.5em 0.1em 0.1em 0.1em;\n",
       "    margin: 0.8em 0.1em 0.1em 0.1em;\n",
       "    font-family: monospace;\n",
       "    font-size: x-large;\n",
       "    font-weight: bold;\n",
       "}\n",
       ".period {\n",
       "    font-family: monospace;\n",
       "    font-size: medium;\n",
       "    font-weight: bold;\n",
       "    color: #0000bb;\n",
       "}\n",
       ".excavation {\n",
       "    font-family: monospace;\n",
       "    font-size: medium;\n",
       "    font-style: italic;\n",
       "    color: #779900;\n",
       "}\n",
       "</style>"
      ],
      "text/plain": [
       "<IPython.core.display.HTML object>"
      ]
     },
     "metadata": {},
     "output_type": "display_data"
    },
    {
     "data": {
      "text/html": [
       "<div><b>Text-Fabric API:</b> names <a target=\"_blank\" href=\"https://annotation.github.io/text-fabric/cheatsheet.html\" title=\"doc\">N F E L T S C TF</a> directly usable</div><hr>"
      ],
      "text/plain": [
       "<IPython.core.display.HTML object>"
      ]
     },
     "metadata": {},
     "output_type": "display_data"
    },
    {
     "data": {
      "text/html": [
       "<b title=\"local github\">data:</b> <span title=\"repo clone offline under ~/github\">~/github/Nino-cunei/uruk/sources/cdli/images</span>"
      ],
      "text/plain": [
       "<IPython.core.display.HTML object>"
      ]
     },
     "metadata": {},
     "output_type": "display_data"
    },
    {
     "data": {
      "text/html": [
       "Found 2095 ideograph linearts<br>"
      ],
      "text/plain": [
       "<IPython.core.display.HTML object>"
      ]
     },
     "metadata": {},
     "output_type": "display_data"
    },
    {
     "data": {
      "text/html": [
       "Found 2724 tablet linearts<br>"
      ],
      "text/plain": [
       "<IPython.core.display.HTML object>"
      ]
     },
     "metadata": {},
     "output_type": "display_data"
    },
    {
     "data": {
      "text/html": [
       "Found 5495 tablet photos<br>"
      ],
      "text/plain": [
       "<IPython.core.display.HTML object>"
      ]
     },
     "metadata": {},
     "output_type": "display_data"
    }
   ],
   "source": [
    "A = use('uruk:clone', checkout=\"clone\", hoist=globals())\n",
    "# A = use('uruk', hoist=globals())"
   ]
  },
  {
   "cell_type": "code",
   "execution_count": 4,
   "metadata": {},
   "outputs": [],
   "source": [
    "query = '''\n",
    "tablet\n",
    "/without/\n",
    "  case\n",
    "/-/\n",
    "'''"
   ]
  },
  {
   "cell_type": "code",
   "execution_count": 5,
   "metadata": {},
   "outputs": [
    {
     "name": "stdout",
     "output_type": "stream",
     "text": [
      "  0.02s 5384 results\n"
     ]
    }
   ],
   "source": [
    "results = A.search(query)"
   ]
  },
  {
   "cell_type": "code",
   "execution_count": 6,
   "metadata": {},
   "outputs": [
    {
     "data": {
      "text/html": [
       "<p><b>result</b> <i>1</i></p>"
      ],
      "text/plain": [
       "<IPython.core.display.HTML object>"
      ]
     },
     "metadata": {},
     "output_type": "display_data"
    },
    {
     "data": {
      "text/html": [
       "<div class=\"tfsechead \"><a target=\"_blank\" href=\"https://cdli.ucla.edu/search/search_results.php?SearchMode=Text&amp;ObjectID=P006427\" title=\"to CDLI main page for this tablet\" sec=\"P006427\">P006427</a></div><div class=\" children\"><div class=\"contnr c4    \" ><div class=\"lbl c4  \" ><span class=\"nd\">tablet</span> <span class=\"txtu\"><span class=\"tfsechead\">P006427</span></span></div><div class='features'><span class=\"name \" title=\"name\">Anonymous 006427</span><span class=\"period \" title=\"period\">uruk-iii</span></div><div class=\"children ver  \"><div class=\"contnr c1 trm   \" ><div class=\"lbl c1 trm \" ><span class=\"nd\">comment</span> <span class=\"txtu\"><span class=\"plain   \" ><span class=\"plain \" ></span> </span></span></div><div class='features'><span class=\"text \" title=\"text\">atf: lang qpc</span></div></div><div class=\"contnr c2    \" ><div class=\"lbl c2  \" ><span class=\"nd\">face</span> <span class=\"txtu\"><span title=\"type\">obverse</span></span></div><div class=\"children hor  \"><div class=\"contnr c3    \" ><div class=\"lbl c3  \" ><span class=\"nd\">column</span> <span class=\"txtu\"><span title=\"number\">1</span><span title=\"prime\"></span></span></div><div class=\"children ver  \"><div class=\"contnr c2    \" ><div class=\"lbl c2  \" ><span class=\"nd\">line</span> <span class=\"txtu\"><span title=\"number\">1</span></span></div><div class=\"children hor  \"><div class=\"contnr c1 cluster trm   \" ><div class=\"lbl c1 clusterb trm \" ><span class=\"nd\">cluster</span> <span class=\"txtu\"><span title=\"type\">?</span></span></div></div><div class=\"children hor wrap \"><div class=\"contnr c0 trm   \" ><div class=\"lbl c0 trm \" ><span class=\"txtu\"><span title=\"atf\">...</span></span></div></div></div><div class=\"contnr c1 cluster {}   \" ><div class=\"lbl c1 clustere trm \" ><span class=\"nd\">cluster</span> <span class=\"txtu\"><span title=\"type\">?</span></span></div> </div><div class=\"contnr c0 trm   \" ><div class=\"lbl c0 trm \" ><span class=\"txtu\"><span title=\"atf\">X</span></span></div></div><div class=\"contnr c0 trm   \" ><div class=\"lbl c0 trm \" ><span class=\"txtu\"><span title=\"atf\">X</span></span></div></div></div></div></div></div><div class=\"contnr c3    \" ><div class=\"lbl c3  \" ><span class=\"nd\">column</span> <span class=\"txtu\"><span title=\"number\">2</span><span title=\"prime\"></span></span></div><div class=\"children ver  \"><div class=\"contnr c2    \" ><div class=\"lbl c2  \" ><span class=\"nd\">line</span> <span class=\"txtu\"><span title=\"number\">1</span></span></div><div class=\"children hor  \"><div class=\"contnr c0 trm   \" ><div class=\"lbl c0 trm \" ><span class=\"txtu\"><span title=\"atf\">3(N14)</span></span></div><div><a target=\"_blank\" href=\"https://cdli.ucla.edu/tools/SignLists/protocuneiform/archsigns/3(N14).jpg\" title=\"to higher resolution lineart on CDLI\"><img src=\"cdli-imagery/lineart-3(n14).jpg\" style=\"display: inline;max-width: 2em; max-height: 6em;\"  /></a></div></div><div class=\"contnr c0 trm   \" ><div class=\"lbl c0 trm \" ><span class=\"txtu\"><span title=\"atf\">X</span></span></div></div><div class=\"contnr c0 trm   \" ><div class=\"lbl c0 trm \" ><span class=\"txtu\"><span title=\"atf\">SANGA~a?</span></span></div><div><a target=\"_blank\" href=\"https://cdli.ucla.edu/tools/SignLists/protocuneiform/archsigns/SANGA~a.jpg\" title=\"to higher resolution lineart on CDLI\"><img src=\"cdli-imagery/lineart-sanga-a.jpg\" style=\"display: inline;max-width: 2em; max-height: 6em;\"  /></a></div></div><div class=\"contnr c1 cluster trm   \" ><div class=\"lbl c1 clusterb trm \" ><span class=\"nd\">cluster</span> <span class=\"txtu\"><span title=\"type\">?</span></span></div></div><div class=\"children hor wrap \"><div class=\"contnr c0 trm   \" ><div class=\"lbl c0 trm \" ><span class=\"txtu\"><span title=\"atf\">...</span></span></div></div></div><div class=\"contnr c1 cluster {}   \" ><div class=\"lbl c1 clustere trm \" ><span class=\"nd\">cluster</span> <span class=\"txtu\"><span title=\"type\">?</span></span></div> </div></div></div></div></div></div></div></div></div></div>"
      ],
      "text/plain": [
       "<IPython.core.display.HTML object>"
      ]
     },
     "metadata": {},
     "output_type": "display_data"
    },
    {
     "data": {
      "text/html": [
       "<p><b>result</b> <i>2</i></p>"
      ],
      "text/plain": [
       "<IPython.core.display.HTML object>"
      ]
     },
     "metadata": {},
     "output_type": "display_data"
    },
    {
     "data": {
      "text/html": [
       "<div class=\"tfsechead \"><a target=\"_blank\" href=\"https://cdli.ucla.edu/search/search_results.php?SearchMode=Text&amp;ObjectID=P006428\" title=\"to CDLI main page for this tablet\" sec=\"P006428\">P006428</a></div><div class=\" children\"><div class=\"contnr c4    \" ><div class=\"lbl c4  \" ><span class=\"nd\">tablet</span> <span class=\"txtu\"><span class=\"tfsechead\">P006428</span></span></div><div class='features'><span class=\"name \" title=\"name\">Anonymous 006428</span><span class=\"period \" title=\"period\">uruk-iii</span></div><div class=\"children ver  \"><div class=\"contnr c1 trm   \" ><div class=\"lbl c1 trm \" ><span class=\"nd\">comment</span> <span class=\"txtu\"><span class=\"plain   \" ><span class=\"plain \" ></span> </span></span></div><div class='features'><span class=\"text \" title=\"text\">atf: lang qpc</span></div></div><div class=\"contnr c2    \" ><div class=\"lbl c2  \" ><span class=\"nd\">face</span> <span class=\"txtu\"><span title=\"type\">obverse</span></span></div><div class=\"children hor  \"><div class=\"contnr c3    \" ><div class=\"lbl c3  \" ><span class=\"nd\">column</span> <span class=\"txtu\"><span title=\"number\">1</span><span title=\"prime\"></span></span></div><div class=\"children ver  \"><div class=\"contnr c2    \" ><div class=\"lbl c2  \" ><span class=\"nd\">line</span> <span class=\"txtu\"><span title=\"number\">1</span></span></div><div class=\"children hor  \"><div class=\"contnr c0 trm   \" ><div class=\"lbl c0 trm \" ><span class=\"txtu\"><span title=\"atf\">X</span></span></div></div><div class=\"contnr c0 trm   \" ><div class=\"lbl c0 trm \" ><span class=\"txtu\"><span title=\"atf\">X</span></span></div></div></div></div><div class=\"contnr c2    \" ><div class=\"lbl c2  \" ><span class=\"nd\">line</span> <span class=\"txtu\"><span title=\"number\">2</span></span></div><div class=\"children hor  \"><div class=\"contnr c0 trm   \" ><div class=\"lbl c0 trm \" ><span class=\"txtu\"><span title=\"atf\">X</span></span></div></div><div class=\"contnr c0 trm   \" ><div class=\"lbl c0 trm \" ><span class=\"txtu\"><span title=\"atf\">X</span></span></div></div></div></div></div></div><div class=\"contnr c3    \" ><div class=\"lbl c3  \" ><span class=\"nd\">column</span> <span class=\"txtu\"><span title=\"number\">2</span><span title=\"prime\"></span></span></div><div class=\"children ver  \"><div class=\"contnr c2    \" ><div class=\"lbl c2  \" ><span class=\"nd\">line</span> <span class=\"txtu\"><span title=\"number\">1</span></span></div><div class=\"children hor  \"><div class=\"contnr c0 trm   \" ><div class=\"lbl c0 trm \" ><span class=\"txtu\"><span title=\"atf\">X</span></span></div></div><div class=\"contnr c0 trm   \" ><div class=\"lbl c0 trm \" ><span class=\"txtu\"><span title=\"atf\">X</span></span></div></div></div></div><div class=\"contnr c2    \" ><div class=\"lbl c2  \" ><span class=\"nd\">line</span> <span class=\"txtu\"><span title=\"number\">2</span></span></div><div class=\"children hor  \"><div class=\"contnr c0 trm   \" ><div class=\"lbl c0 trm \" ><span class=\"txtu\"><span title=\"atf\">X</span></span></div></div><div class=\"contnr c0 trm   \" ><div class=\"lbl c0 trm \" ><span class=\"txtu\"><span title=\"atf\">X</span></span></div></div></div></div></div></div><div class=\"contnr c3    \" ><div class=\"lbl c3  \" ><span class=\"nd\">column</span> <span class=\"txtu\"><span title=\"number\">3</span><span title=\"prime\"></span></span></div><div class=\"children ver  \"><div class=\"contnr c2    \" ><div class=\"lbl c2  \" ><span class=\"nd\">line</span> <span class=\"txtu\"><span title=\"number\">1</span></span></div><div class=\"children hor  \"><div class=\"contnr c0 trm   \" ><div class=\"lbl c0 trm \" ><span class=\"txtu\"><span title=\"atf\">X</span></span></div></div><div class=\"contnr c0 trm   \" ><div class=\"lbl c0 trm \" ><span class=\"txtu\"><span title=\"atf\">X</span></span></div></div></div></div><div class=\"contnr c2    \" ><div class=\"lbl c2  \" ><span class=\"nd\">line</span> <span class=\"txtu\"><span title=\"number\">2</span></span></div><div class=\"children hor  \"><div class=\"contnr c0 trm   \" ><div class=\"lbl c0 trm \" ><span class=\"txtu\"><span title=\"atf\">3(N14)</span></span></div><div><a target=\"_blank\" href=\"https://cdli.ucla.edu/tools/SignLists/protocuneiform/archsigns/3(N14).jpg\" title=\"to higher resolution lineart on CDLI\"><img src=\"cdli-imagery/lineart-3(n14).jpg\" style=\"display: inline;max-width: 2em; max-height: 6em;\"  /></a></div></div><div class=\"contnr c0 trm   \" ><div class=\"lbl c0 trm \" ><span class=\"txtu\"><span title=\"atf\">X</span></span></div></div></div></div><div class=\"contnr c2    \" ><div class=\"lbl c2  \" ><span class=\"nd\">line</span> <span class=\"txtu\"><span title=\"number\">3</span></span></div><div class=\"children hor  \"><div class=\"contnr c0 trm   \" ><div class=\"lbl c0 trm \" ><span class=\"txtu\"><span title=\"atf\">1(N14)</span></span></div><div><a target=\"_blank\" href=\"https://cdli.ucla.edu/tools/SignLists/protocuneiform/archsigns/1(N14).jpg\" title=\"to higher resolution lineart on CDLI\"><img src=\"cdli-imagery/lineart-1(n14).jpg\" style=\"display: inline;max-width: 2em; max-height: 6em;\"  /></a></div></div><div class=\"contnr c0 trm   \" ><div class=\"lbl c0 trm \" ><span class=\"txtu\"><span title=\"atf\">SUHUR</span></span></div><div><a target=\"_blank\" href=\"https://cdli.ucla.edu/tools/SignLists/protocuneiform/archsigns/SUHUR.jpg\" title=\"to higher resolution lineart on CDLI\"><img src=\"cdli-imagery/lineart-suhur.jpg\" style=\"display: inline;max-width: 2em; max-height: 6em;\"  /></a></div></div></div></div><div class=\"contnr c2    \" ><div class=\"lbl c2  \" ><span class=\"nd\">line</span> <span class=\"txtu\"><span title=\"number\">4</span></span></div><div class=\"children hor  \"><div class=\"contnr c0 trm   \" ><div class=\"lbl c0 trm \" ><span class=\"txtu\"><span title=\"atf\">X</span></span></div></div><div class=\"contnr c0 trm   \" ><div class=\"lbl c0 trm \" ><span class=\"txtu\"><span title=\"atf\">X</span></span></div></div></div></div><div class=\"contnr c2    \" ><div class=\"lbl c2  \" ><span class=\"nd\">line</span> <span class=\"txtu\"><span title=\"number\">5</span></span></div><div class=\"children hor  \"><div class=\"contnr c0 trm   \" ><div class=\"lbl c0 trm \" ><span class=\"txtu\"><span title=\"atf\">1(N01)</span></span></div><div><a target=\"_blank\" href=\"https://cdli.ucla.edu/tools/SignLists/protocuneiform/archsigns/1(N01).jpg\" title=\"to higher resolution lineart on CDLI\"><img src=\"cdli-imagery/lineart-1(n01).jpg\" style=\"display: inline;max-width: 2em; max-height: 6em;\"  /></a></div></div><div class=\"contnr c1    \" ><div class=\"lbl c1  \" ><span class=\"nd\">quad</span></div><div><a target=\"_blank\" href=\"https://cdli.ucla.edu/tools/SignLists/protocuneiform/archsigns/|DUG~bx1(N57)|.jpg\" title=\"to higher resolution lineart on CDLI\"><img src=\"cdli-imagery/lineart-qdug-bx1(n57)q.jpg\" style=\"display: inline;max-width: 4em; max-height: 4em;\"  /></a></div><div class=\"children hor wrap \"><div class=\"contnr c0 trm   \" ><div class=\"lbl c0 trm \" ><span class=\"txtu\"><span title=\"atf\">DUG~b</span></span></div></div><div class=\"op\">x</div><div class=\"contnr c0 trm   \" ><div class=\"lbl c0 trm \" ><span class=\"txtu\"><span title=\"atf\">1(N57)</span></span></div></div></div></div></div></div><div class=\"contnr c2    \" ><div class=\"lbl c2  \" ><span class=\"nd\">line</span> <span class=\"txtu\"><span title=\"number\">6</span></span></div><div class=\"children hor  \"><div class=\"contnr c0 trm   \" ><div class=\"lbl c0 trm \" ><span class=\"txtu\"><span title=\"atf\">X</span></span></div></div><div class=\"contnr c0 trm   \" ><div class=\"lbl c0 trm \" ><span class=\"txtu\"><span title=\"atf\">X</span></span></div></div></div></div><div class=\"contnr c2    \" ><div class=\"lbl c2  \" ><span class=\"nd\">line</span> <span class=\"txtu\"><span title=\"number\">7</span></span></div><div class=\"children hor  \"><div class=\"contnr c0 trm   \" ><div class=\"lbl c0 trm \" ><span class=\"txtu\"><span title=\"atf\">X</span></span></div></div><div class=\"contnr c0 trm   \" ><div class=\"lbl c0 trm \" ><span class=\"txtu\"><span title=\"atf\">X</span></span></div></div></div></div></div></div><div class=\"contnr c3    \" ><div class=\"lbl c3  \" ><span class=\"nd\">column</span> <span class=\"txtu\"><span title=\"number\">4</span><span title=\"prime\"></span></span></div><div class=\"children ver  \"><div class=\"contnr c2    \" ><div class=\"lbl c2  \" ><span class=\"nd\">line</span> <span class=\"txtu\"><span title=\"number\">1</span></span></div><div class=\"children hor  \"><div class=\"contnr c0 trm   \" ><div class=\"lbl c0 trm \" ><span class=\"txtu\"><span title=\"atf\">X</span></span></div></div><div class=\"contnr c0 trm   \" ><div class=\"lbl c0 trm \" ><span class=\"txtu\"><span title=\"atf\">X</span></span></div></div></div></div><div class=\"contnr c2    \" ><div class=\"lbl c2  \" ><span class=\"nd\">line</span> <span class=\"txtu\"><span title=\"number\">2</span></span></div><div class=\"children hor  \"><div class=\"contnr c0 trm   \" ><div class=\"lbl c0 trm \" ><span class=\"txtu\"><span title=\"atf\">X</span></span></div></div><div class=\"contnr c0 trm   \" ><div class=\"lbl c0 trm \" ><span class=\"txtu\"><span title=\"atf\">X</span></span></div></div></div></div></div></div><div class=\"contnr c3    \" ><div class=\"lbl c3  \" ><span class=\"nd\">column</span> <span class=\"txtu\"><span title=\"number\">5</span><span title=\"prime\"></span></span></div><div class=\"children ver  \"><div class=\"contnr c2    \" ><div class=\"lbl c2  \" ><span class=\"nd\">line</span> <span class=\"txtu\"><span title=\"number\">1</span></span></div><div class=\"children hor  \"><div class=\"contnr c1 cluster trm   \" ><div class=\"lbl c1 clusterb trm \" ><span class=\"nd\">cluster</span> <span class=\"txtu\"><span title=\"type\">?</span></span></div></div><div class=\"children hor wrap \"><div class=\"contnr c0 trm   \" ><div class=\"lbl c0 trm \" ><span class=\"txtu\"><span title=\"atf\">...</span></span></div></div></div><div class=\"contnr c1 cluster {}   \" ><div class=\"lbl c1 clustere trm \" ><span class=\"nd\">cluster</span> <span class=\"txtu\"><span title=\"type\">?</span></span></div> </div></div></div></div></div></div></div></div></div></div>"
      ],
      "text/plain": [
       "<IPython.core.display.HTML object>"
      ]
     },
     "metadata": {},
     "output_type": "display_data"
    }
   ],
   "source": [
    "A.show(results, end=2)"
   ]
  },
  {
   "cell_type": "code",
   "execution_count": 7,
   "metadata": {},
   "outputs": [
    {
     "name": "stdout",
     "output_type": "stream",
     "text": [
      "  0.16s 2833 results\n"
     ]
    }
   ],
   "source": [
    "query = '''\n",
    "case\n",
    "/without/\n",
    "  sign type=numeral\n",
    "/-/\n",
    "'''\n",
    "results = A.search(query)"
   ]
  },
  {
   "cell_type": "code",
   "execution_count": 8,
   "metadata": {},
   "outputs": [
    {
     "data": {
      "text/html": [
       "<p><b>result</b> <i>1</i></p>"
      ],
      "text/plain": [
       "<IPython.core.display.HTML object>"
      ]
     },
     "metadata": {},
     "output_type": "display_data"
    },
    {
     "data": {
      "text/html": [
       "<div class=\"tfsechead \"><a target=\"_blank\" href=\"https://cdli.ucla.edu/search/search_results.php?SearchMode=Text&amp;ObjectID=P471695\" title=\"to CDLI main page for this tablet\" sec=\"P471695\">P471695</a></div><div class=\" children\"><div class=\"contnr c4    \" ><div class=\"lbl c4  \" ><span class=\"nd\">tablet</span> <span class=\"txtu\"><span class=\"tfsechead\">P471695</span></span></div><div class='features'><span class=\"name \" title=\"name\">Anonymous 471695</span><span class=\"period \" title=\"period\">uruk-iii</span></div><div class=\"children ver  \"><div class=\"contnr c1 trm   \" ><div class=\"lbl c1 trm \" ><span class=\"nd\">comment</span> <span class=\"txtu\"><span class=\"plain   \" ><span class=\"plain \" ></span> </span></span></div><div class='features'><span class=\"text \" title=\"text\">atf: lang qpc</span></div></div><div class=\"contnr c2    \" ><div class=\"lbl c2  \" ><span class=\"nd\">face</span> <span class=\"txtu\"><span title=\"type\">obverse</span></span></div><div class=\"children hor  \"><div class=\"contnr c3    \" ><div class=\"lbl c3  \" ><span class=\"nd\">column</span> <span class=\"txtu\"><span title=\"number\">1</span><span title=\"prime\"></span></span></div><div class=\"children ver  \"><div class=\"contnr c2    \" ><div class=\"lbl c2  \" ><span class=\"nd\">line</span> <span class=\"txtu\"><span title=\"number\">1</span></span></div><div class=\"children hor  \"><div class=\"contnr c2    \" ><div class=\"lbl c2  \" ><span class=\"nd\">case</span> <span class=\"txtu\"><span title=\"number\">1a</span><span title=\"prime\"></span></span></div><div class=\"children ver False \"><div class=\"contnr c0 trm   \" ><div class=\"lbl c0 trm \" ><span class=\"txtu\"><span title=\"atf\">3(N01)</span></span></div><div><a target=\"_blank\" href=\"https://cdli.ucla.edu/tools/SignLists/protocuneiform/archsigns/3(N01).jpg\" title=\"to higher resolution lineart on CDLI\"><img src=\"cdli-imagery/lineart-3(n01).jpg\" style=\"display: inline;max-width: 2em; max-height: 6em;\"  /></a></div></div><div class=\"contnr c0 trm   \" ><div class=\"lbl c0 trm \" ><span class=\"txtu\"><span title=\"atf\">APIN~a</span></span></div><div><a target=\"_blank\" href=\"https://cdli.ucla.edu/tools/SignLists/protocuneiform/archsigns/APIN~a.jpg\" title=\"to higher resolution lineart on CDLI\"><img src=\"cdli-imagery/lineart-apin-a.jpg\" style=\"display: inline;max-width: 2em; max-height: 6em;\"  /></a></div></div><div class=\"contnr c0 trm   \" ><div class=\"lbl c0 trm \" ><span class=\"txtu\"><span title=\"atf\">3(N57)</span></span></div><div><a target=\"_blank\" href=\"https://cdli.ucla.edu/tools/SignLists/protocuneiform/archsigns/3(N57).jpg\" title=\"to higher resolution lineart on CDLI\"><img src=\"cdli-imagery/lineart-3(n57).jpg\" style=\"display: inline;max-width: 2em; max-height: 6em;\"  /></a></div></div><div class=\"contnr c0 trm   \" ><div class=\"lbl c0 trm \" ><span class=\"txtu\"><span title=\"atf\">UR4~a</span></span></div><div><a target=\"_blank\" href=\"https://cdli.ucla.edu/tools/SignLists/protocuneiform/archsigns/UR4~a.jpg\" title=\"to higher resolution lineart on CDLI\"><img src=\"cdli-imagery/lineart-ur4-a.jpg\" style=\"display: inline;max-width: 2em; max-height: 6em;\"  /></a></div></div></div></div><div class=\"contnr c2    hl\" ><div class=\"lbl c2  hl\" ><span class=\"nd\">case</span> <span class=\"txtu\"><span title=\"number\">1b</span><span title=\"prime\"></span></span></div><div class=\"children ver False \"><div class=\"contnr c2    \" ><div class=\"lbl c2  \" ><span class=\"nd\">case</span> <span class=\"txtu\"><span title=\"number\">1b1</span><span title=\"prime\"></span></span></div><div class=\"children hor False \"><div class=\"contnr c1 cluster trm   \" ><div class=\"lbl c1 clusterb trm \" ><span class=\"nd\">cluster</span> <span class=\"txtu\"><span title=\"type\">=</span></span></div></div><div class=\"children hor wrap \"><div class=\"contnr c0 trm   \" ><div class=\"lbl c0 trm \" ><span class=\"txtu\"><span title=\"atf\">EN~a</span></span></div><div><a target=\"_blank\" href=\"https://cdli.ucla.edu/tools/SignLists/protocuneiform/archsigns/EN~a.jpg\" title=\"to higher resolution lineart on CDLI\"><img src=\"cdli-imagery/lineart-en-a.jpg\" style=\"display: inline;max-width: 2em; max-height: 6em;\"  /></a></div></div><div class=\"contnr c0 trm   \" ><div class=\"lbl c0 trm \" ><span class=\"txtu\"><span title=\"atf\">DU</span></span></div><div><a target=\"_blank\" href=\"https://cdli.ucla.edu/tools/SignLists/protocuneiform/archsigns/DU.jpg\" title=\"to higher resolution lineart on CDLI\"><img src=\"cdli-imagery/lineart-du.jpg\" style=\"display: inline;max-width: 2em; max-height: 6em;\"  /></a></div></div><div class=\"contnr c0 trm   \" ><div class=\"lbl c0 trm \" ><span class=\"txtu\"><span title=\"atf\">ZATU759</span></span></div><div><a target=\"_blank\" href=\"https://cdli.ucla.edu/tools/SignLists/protocuneiform/archsigns/ZATU759.jpg\" title=\"to higher resolution lineart on CDLI\"><img src=\"cdli-imagery/lineart-zatu759.jpg\" style=\"display: inline;max-width: 2em; max-height: 6em;\"  /></a></div></div></div><div class=\"contnr c1 cluster {}   \" ><div class=\"lbl c1 clustere trm \" ><span class=\"nd\">cluster</span> <span class=\"txtu\"><span title=\"type\">=</span></span></div> </div></div></div><div class=\"contnr c2    \" ><div class=\"lbl c2  \" ><span class=\"nd\">case</span> <span class=\"txtu\"><span title=\"number\">1b2</span><span title=\"prime\"></span></span></div><div class=\"children hor False \"><div class=\"contnr c1 cluster trm   \" ><div class=\"lbl c1 clusterb trm \" ><span class=\"nd\">cluster</span> <span class=\"txtu\"><span title=\"type\">=</span></span></div></div><div class=\"children hor wrap \"><div class=\"contnr c0 trm   \" ><div class=\"lbl c0 trm \" ><span class=\"txtu\"><span title=\"atf\">BAN~b</span></span></div><div><a target=\"_blank\" href=\"https://cdli.ucla.edu/tools/SignLists/protocuneiform/archsigns/BAN~b.jpg\" title=\"to higher resolution lineart on CDLI\"><img src=\"cdli-imagery/lineart-ban-b.jpg\" style=\"display: inline;max-width: 2em; max-height: 6em;\"  /></a></div></div><div class=\"contnr c0 trm   \" ><div class=\"lbl c0 trm \" ><span class=\"txtu\"><span title=\"atf\">KASZ~c</span></span></div><div><a target=\"_blank\" href=\"https://cdli.ucla.edu/tools/SignLists/protocuneiform/archsigns/KASZ~c.jpg\" title=\"to higher resolution lineart on CDLI\"><img src=\"cdli-imagery/lineart-kasz-c.jpg\" style=\"display: inline;max-width: 2em; max-height: 6em;\"  /></a></div></div></div><div class=\"contnr c1 cluster {}   \" ><div class=\"lbl c1 clustere trm \" ><span class=\"nd\">cluster</span> <span class=\"txtu\"><span title=\"type\">=</span></span></div> </div></div></div><div class=\"contnr c2    \" ><div class=\"lbl c2  \" ><span class=\"nd\">case</span> <span class=\"txtu\"><span title=\"number\">1b3</span><span title=\"prime\"></span></span></div><div class=\"children hor False \"><div class=\"contnr c1 cluster trm   \" ><div class=\"lbl c1 clusterb trm \" ><span class=\"nd\">cluster</span> <span class=\"txtu\"><span title=\"type\">=</span></span></div></div><div class=\"children hor wrap \"><div class=\"contnr c0 trm   \" ><div class=\"lbl c0 trm \" ><span class=\"txtu\"><span title=\"atf\">KI@n</span></span></div><div><a target=\"_blank\" href=\"https://cdli.ucla.edu/tools/SignLists/protocuneiform/archsigns/KI@n.jpg\" title=\"to higher resolution lineart on CDLI\"><img src=\"cdli-imagery/lineart-ki(a)n.jpg\" style=\"display: inline;max-width: 2em; max-height: 6em;\"  /></a></div></div><div class=\"contnr c0 trm   \" ><div class=\"lbl c0 trm \" ><span class=\"txtu\"><span title=\"atf\">SAG</span></span></div><div><a target=\"_blank\" href=\"https://cdli.ucla.edu/tools/SignLists/protocuneiform/archsigns/SAG.jpg\" title=\"to higher resolution lineart on CDLI\"><img src=\"cdli-imagery/lineart-sag.jpg\" style=\"display: inline;max-width: 2em; max-height: 6em;\"  /></a></div></div></div><div class=\"contnr c1 cluster {}   \" ><div class=\"lbl c1 clustere trm \" ><span class=\"nd\">cluster</span> <span class=\"txtu\"><span title=\"type\">=</span></span></div> </div></div></div></div></div></div></div><div class=\"contnr c2    \" ><div class=\"lbl c2  \" ><span class=\"nd\">line</span> <span class=\"txtu\"><span title=\"number\">2</span></span></div><div class=\"children hor  \"><div class=\"contnr c2    \" ><div class=\"lbl c2  \" ><span class=\"nd\">case</span> <span class=\"txtu\"><span title=\"number\">2a</span><span title=\"prime\"></span></span></div><div class=\"children ver False \"><div class=\"contnr c0 trm   \" ><div class=\"lbl c0 trm \" ><span class=\"txtu\"><span title=\"atf\">1(N14)</span></span></div><div><a target=\"_blank\" href=\"https://cdli.ucla.edu/tools/SignLists/protocuneiform/archsigns/1(N14).jpg\" title=\"to higher resolution lineart on CDLI\"><img src=\"cdli-imagery/lineart-1(n14).jpg\" style=\"display: inline;max-width: 2em; max-height: 6em;\"  /></a></div></div><div class=\"contnr c0 trm   \" ><div class=\"lbl c0 trm \" ><span class=\"txtu\"><span title=\"atf\">2(N01)</span></span></div><div><a target=\"_blank\" href=\"https://cdli.ucla.edu/tools/SignLists/protocuneiform/archsigns/2(N01).jpg\" title=\"to higher resolution lineart on CDLI\"><img src=\"cdli-imagery/lineart-2(n01).jpg\" style=\"display: inline;max-width: 2em; max-height: 6em;\"  /></a></div></div><div class=\"contnr c1 cluster trm   \" ><div class=\"lbl c1 clusterb trm \" ><span class=\"nd\">cluster</span> <span class=\"txtu\"><span title=\"type\">?</span></span></div></div><div class=\"children hor wrap \"><div class=\"contnr c0 trm   \" ><div class=\"lbl c0 trm \" ><span class=\"txtu\"><span title=\"atf\">...</span></span></div></div></div><div class=\"contnr c1 cluster {}   \" ><div class=\"lbl c1 clustere trm \" ><span class=\"nd\">cluster</span> <span class=\"txtu\"><span title=\"type\">?</span></span></div> </div></div></div><div class=\"contnr c2    \" ><div class=\"lbl c2  \" ><span class=\"nd\">case</span> <span class=\"txtu\"><span title=\"number\">2b</span><span title=\"prime\"></span></span></div><div class=\"children ver False \"><div class=\"contnr c2    \" ><div class=\"lbl c2  \" ><span class=\"nd\">case</span> <span class=\"txtu\"><span title=\"number\">2b1</span><span title=\"prime\"></span></span></div><div class=\"children hor False \"><div class=\"contnr c1 cluster trm   \" ><div class=\"lbl c1 clusterb trm \" ><span class=\"nd\">cluster</span> <span class=\"txtu\"><span title=\"type\">=</span></span></div></div><div class=\"children hor wrap \"><div class=\"contnr c0 trm   \" ><div class=\"lbl c0 trm \" ><span class=\"txtu\"><span title=\"atf\">3(N57)</span></span></div><div><a target=\"_blank\" href=\"https://cdli.ucla.edu/tools/SignLists/protocuneiform/archsigns/3(N57).jpg\" title=\"to higher resolution lineart on CDLI\"><img src=\"cdli-imagery/lineart-3(n57).jpg\" style=\"display: inline;max-width: 2em; max-height: 6em;\"  /></a></div></div><div class=\"contnr c0 trm   \" ><div class=\"lbl c0 trm \" ><span class=\"txtu\"><span title=\"atf\">PAP~a</span></span></div><div><a target=\"_blank\" href=\"https://cdli.ucla.edu/tools/SignLists/protocuneiform/archsigns/PAP~a.jpg\" title=\"to higher resolution lineart on CDLI\"><img src=\"cdli-imagery/lineart-pap-a.jpg\" style=\"display: inline;max-width: 2em; max-height: 6em;\"  /></a></div></div></div><div class=\"contnr c1 cluster {}   \" ><div class=\"lbl c1 clustere trm \" ><span class=\"nd\">cluster</span> <span class=\"txtu\"><span title=\"type\">=</span></span></div> </div></div></div><div class=\"contnr c2    \" ><div class=\"lbl c2  \" ><span class=\"nd\">case</span> <span class=\"txtu\"><span title=\"number\">2b2</span><span title=\"prime\"></span></span></div><div class=\"children hor False \"><div class=\"contnr c1 trm   \" ><div class=\"lbl c1 trm \" ><span class=\"nd\">comment</span> <span class=\"txtu\"><span class=\"plain   \" ><span class=\"plain \" ></span> </span></span></div><div class='features'><span class=\"text \" title=\"text\">n lines broken</span></div></div><div class=\"contnr c1 cluster trm   \" ><div class=\"lbl c1 clusterb trm \" ><span class=\"nd\">cluster</span> <span class=\"txtu\"><span title=\"type\">=</span></span></div></div><div class=\"children hor wrap \"><div class=\"contnr c0 trm   \" ><div class=\"lbl c0 trm \" ><span class=\"txtu\"><span title=\"atf\">SZU</span></span></div><div><a target=\"_blank\" href=\"https://cdli.ucla.edu/tools/SignLists/protocuneiform/archsigns/SZU.jpg\" title=\"to higher resolution lineart on CDLI\"><img src=\"cdli-imagery/lineart-szu.jpg\" style=\"display: inline;max-width: 2em; max-height: 6em;\"  /></a></div></div><div class=\"contnr c0 trm   \" ><div class=\"lbl c0 trm \" ><span class=\"txtu\"><span title=\"atf\">KI</span></span></div><div><a target=\"_blank\" href=\"https://cdli.ucla.edu/tools/SignLists/protocuneiform/archsigns/KI.jpg\" title=\"to higher resolution lineart on CDLI\"><img src=\"cdli-imagery/lineart-ki.jpg\" style=\"display: inline;max-width: 2em; max-height: 6em;\"  /></a></div></div><div class=\"contnr c0 trm   \" ><div class=\"lbl c0 trm \" ><span class=\"txtu\"><span title=\"atf\">X</span></span></div></div></div><div class=\"contnr c1 cluster {}   \" ><div class=\"lbl c1 clustere trm \" ><span class=\"nd\">cluster</span> <span class=\"txtu\"><span title=\"type\">=</span></span></div> </div></div></div><div class=\"contnr c2    \" ><div class=\"lbl c2  \" ><span class=\"nd\">case</span> <span class=\"txtu\"><span title=\"number\">2b3</span><span title=\"prime\">'</span></span></div><div class=\"children hor False \"><div class=\"contnr c1 cluster trm   \" ><div class=\"lbl c1 clusterb trm \" ><span class=\"nd\">cluster</span> <span class=\"txtu\"><span title=\"type\">=</span></span></div></div><div class=\"children hor wrap \"><div class=\"contnr c0 trm   \" ><div class=\"lbl c0 trm \" ><span class=\"txtu\"><span title=\"atf\">EN~a</span></span></div><div><a target=\"_blank\" href=\"https://cdli.ucla.edu/tools/SignLists/protocuneiform/archsigns/EN~a.jpg\" title=\"to higher resolution lineart on CDLI\"><img src=\"cdli-imagery/lineart-en-a.jpg\" style=\"display: inline;max-width: 2em; max-height: 6em;\"  /></a></div></div><div class=\"contnr c0 trm   \" ><div class=\"lbl c0 trm \" ><span class=\"txtu\"><span title=\"atf\">AN</span></span></div><div><a target=\"_blank\" href=\"https://cdli.ucla.edu/tools/SignLists/protocuneiform/archsigns/AN.jpg\" title=\"to higher resolution lineart on CDLI\"><img src=\"cdli-imagery/lineart-an.jpg\" style=\"display: inline;max-width: 2em; max-height: 6em;\"  /></a></div></div><div class=\"contnr c0 trm   \" ><div class=\"lbl c0 trm \" ><span class=\"txtu\"><span title=\"atf\">EZINU~d</span></span></div><div><a target=\"_blank\" href=\"https://cdli.ucla.edu/tools/SignLists/protocuneiform/archsigns/EZINU~d.jpg\" title=\"to higher resolution lineart on CDLI\"><img src=\"cdli-imagery/lineart-ezinu-d.jpg\" style=\"display: inline;max-width: 2em; max-height: 6em;\"  /></a></div></div></div><div class=\"contnr c1 cluster {}   \" ><div class=\"lbl c1 clustere trm \" ><span class=\"nd\">cluster</span> <span class=\"txtu\"><span title=\"type\">=</span></span></div> </div></div></div><div class=\"contnr c2    \" ><div class=\"lbl c2  \" ><span class=\"nd\">case</span> <span class=\"txtu\"><span title=\"number\">2b4</span><span title=\"prime\">'</span></span></div><div class=\"children hor False \"><div class=\"contnr c1 trm   \" ><div class=\"lbl c1 trm \" ><span class=\"nd\">comment</span> <span class=\"txtu\"><span class=\"plain   \" ><span class=\"plain \" ></span> </span></span></div><div class='features'><span class=\"text \" title=\"text\">rest broken</span></div></div><div class=\"contnr c1 trm   \" ><div class=\"lbl c1 trm \" ><span class=\"nd\">comment</span> <span class=\"txtu\"><span class=\"plain   \" ><span class=\"plain \" ></span> </span></span></div><div class='features'><span class=\"text \" title=\"text\">(for a total of 12 sub-cases with PNN)</span></div></div><div class=\"contnr c1 cluster trm   \" ><div class=\"lbl c1 clusterb trm \" ><span class=\"nd\">cluster</span> <span class=\"txtu\"><span title=\"type\">=</span></span></div></div><div class=\"children hor wrap \"><div class=\"contnr c0 trm   \" ><div class=\"lbl c0 trm \" ><span class=\"txtu\"><span title=\"atf\">IDIGNA</span></span></div><div><a target=\"_blank\" href=\"https://cdli.ucla.edu/tools/SignLists/protocuneiform/archsigns/IDIGNA.jpg\" title=\"to higher resolution lineart on CDLI\"><img src=\"cdli-imagery/lineart-idigna.jpg\" style=\"display: inline;max-width: 2em; max-height: 6em;\"  /></a></div></div><div class=\"contnr c1 cluster trm   \" ><div class=\"lbl c1 clusterb trm \" ><span class=\"nd\">cluster</span> <span class=\"txtu\"><span title=\"type\">?</span></span></div></div><div class=\"children hor wrap \"><div class=\"contnr c0 trm   \" ><div class=\"lbl c0 trm \" ><span class=\"txtu\"><span title=\"atf\">...</span></span></div></div></div><div class=\"contnr c1 cluster {}   \" ><div class=\"lbl c1 clustere trm \" ><span class=\"nd\">cluster</span> <span class=\"txtu\"><span title=\"type\">?</span></span></div> </div></div><div class=\"contnr c1 cluster {}   \" ><div class=\"lbl c1 clustere trm \" ><span class=\"nd\">cluster</span> <span class=\"txtu\"><span title=\"type\">=</span></span></div> </div></div></div></div></div></div></div></div></div><div class=\"contnr c3    \" ><div class=\"lbl c3  \" ><span class=\"nd\">column</span> <span class=\"txtu\"><span title=\"number\">2</span><span title=\"prime\"></span></span></div><div class=\"children ver  \"><div class=\"contnr c2    \" ><div class=\"lbl c2  \" ><span class=\"nd\">line</span> <span class=\"txtu\"><span title=\"number\">1</span></span></div><div class=\"children hor  \"><div class=\"contnr c2    \" ><div class=\"lbl c2  \" ><span class=\"nd\">case</span> <span class=\"txtu\"><span title=\"number\">1a</span><span title=\"prime\"></span></span></div><div class=\"children ver False \"><div class=\"contnr c0 trm   \" ><div class=\"lbl c0 trm \" ><span class=\"txtu\"><span title=\"atf\">1(N01)</span></span></div><div><a target=\"_blank\" href=\"https://cdli.ucla.edu/tools/SignLists/protocuneiform/archsigns/1(N01).jpg\" title=\"to higher resolution lineart on CDLI\"><img src=\"cdli-imagery/lineart-1(n01).jpg\" style=\"display: inline;max-width: 2em; max-height: 6em;\"  /></a></div></div><div class=\"contnr c0 trm   \" ><div class=\"lbl c0 trm \" ><span class=\"txtu\"><span title=\"atf\">ISZ~a#?</span></span></div><div><a target=\"_blank\" href=\"https://cdli.ucla.edu/tools/SignLists/protocuneiform/archsigns/ISZ~a.jpg\" title=\"to higher resolution lineart on CDLI\"><img src=\"cdli-imagery/lineart-isz-a.jpg\" style=\"display: inline;max-width: 2em; max-height: 6em;\"  /></a></div></div></div></div><div class=\"contnr c2    \" ><div class=\"lbl c2  \" ><span class=\"nd\">case</span> <span class=\"txtu\"><span title=\"number\">1b</span><span title=\"prime\"></span></span></div><div class=\"children ver False \"><div class=\"contnr c2    \" ><div class=\"lbl c2  \" ><span class=\"nd\">case</span> <span class=\"txtu\"><span title=\"number\">1b1</span><span title=\"prime\"></span></span></div><div class=\"children hor False \"><div class=\"contnr c1 trm   \" ><div class=\"lbl c1 trm \" ><span class=\"nd\">comment</span> <span class=\"txtu\"><span class=\"plain   \" ><span class=\"plain \" ></span> </span></span></div><div class='features'><span class=\"text \" title=\"text\">blank space</span></div></div><div class=\"contnr c1 trm   \" ><div class=\"lbl c1 trm \" ><span class=\"nd\">comment</span> <span class=\"txtu\"><span class=\"plain   \" ><span class=\"plain \" ></span> </span></span></div><div class='features'><span class=\"text \" title=\"text\">rest broken</span></div></div><div class=\"contnr c1 cluster trm   \" ><div class=\"lbl c1 clusterb trm \" ><span class=\"nd\">cluster</span> <span class=\"txtu\"><span title=\"type\">=</span></span></div></div><div class=\"children hor wrap \"><div class=\"contnr c0 trm   \" ><div class=\"lbl c0 trm \" ><span class=\"txtu\"><span title=\"atf\">PAP~a</span></span></div><div><a target=\"_blank\" href=\"https://cdli.ucla.edu/tools/SignLists/protocuneiform/archsigns/PAP~a.jpg\" title=\"to higher resolution lineart on CDLI\"><img src=\"cdli-imagery/lineart-pap-a.jpg\" style=\"display: inline;max-width: 2em; max-height: 6em;\"  /></a></div></div><div class=\"contnr c0 trm   \" ><div class=\"lbl c0 trm \" ><span class=\"txtu\"><span title=\"atf\">GIR3~c</span></span></div><div><a target=\"_blank\" href=\"https://cdli.ucla.edu/tools/SignLists/protocuneiform/archsigns/GIR3~c.jpg\" title=\"to higher resolution lineart on CDLI\"><img src=\"cdli-imagery/lineart-gir3-c.jpg\" style=\"display: inline;max-width: 2em; max-height: 6em;\"  /></a></div></div></div><div class=\"contnr c1 cluster {}   \" ><div class=\"lbl c1 clustere trm \" ><span class=\"nd\">cluster</span> <span class=\"txtu\"><span title=\"type\">=</span></span></div> </div></div></div></div></div></div></div></div></div></div></div><div class=\"contnr c2    \" ><div class=\"lbl c2  \" ><span class=\"nd\">face</span> <span class=\"txtu\"><span title=\"type\">reverse</span></span></div><div class=\"children hor  \"><div class=\"contnr c1 trm   \" ><div class=\"lbl c1 trm \" ><span class=\"nd\">comment</span> <span class=\"txtu\"><span class=\"plain   \" ><span class=\"plain \" ></span> </span></span></div><div class='features'><span class=\"text \" title=\"text\">beginning broken</span></div></div><div class=\"contnr c3    \" ><div class=\"lbl c3  \" ><span class=\"nd\">column</span> <span class=\"txtu\"><span title=\"number\">0</span><span title=\"prime\"></span></span></div><div class=\"children ver  \"><div class=\"contnr c2    \" ><div class=\"lbl c2  \" ><span class=\"nd\">line</span> <span class=\"txtu\"><span title=\"number\">1</span></span></div><div class=\"children hor  \"><div class=\"contnr c1 cluster trm   \" ><div class=\"lbl c1 clusterb trm \" ><span class=\"nd\">cluster</span> <span class=\"txtu\"><span title=\"type\">?</span></span></div></div><div class=\"children hor wrap \"><div class=\"contnr c0 trm   \" ><div class=\"lbl c0 trm \" ><span class=\"txtu\"><span title=\"atf\">1(N14)</span></span></div><div><a target=\"_blank\" href=\"https://cdli.ucla.edu/tools/SignLists/protocuneiform/archsigns/1(N14).jpg\" title=\"to higher resolution lineart on CDLI\"><img src=\"cdli-imagery/lineart-1(n14).jpg\" style=\"display: inline;max-width: 2em; max-height: 6em;\"  /></a></div></div></div><div class=\"contnr c1 cluster {}   \" ><div class=\"lbl c1 clustere trm \" ><span class=\"nd\">cluster</span> <span class=\"txtu\"><span title=\"type\">?</span></span></div> </div><div class=\"contnr c0 trm   \" ><div class=\"lbl c0 trm \" ><span class=\"txtu\"><span title=\"atf\">6(N01)#</span></span></div><div><a target=\"_blank\" href=\"https://cdli.ucla.edu/tools/SignLists/protocuneiform/archsigns/6(N01).jpg\" title=\"to higher resolution lineart on CDLI\"><img src=\"cdli-imagery/lineart-6(n01).jpg\" style=\"display: inline;max-width: 2em; max-height: 6em;\"  /></a></div></div><div class=\"contnr c1 cluster trm   \" ><div class=\"lbl c1 clusterb trm \" ><span class=\"nd\">cluster</span> <span class=\"txtu\"><span title=\"type\">?</span></span></div></div><div class=\"children hor wrap \"><div class=\"contnr c0 trm   \" ><div class=\"lbl c0 trm \" ><span class=\"txtu\"><span title=\"atf\">...</span></span></div></div></div><div class=\"contnr c1 cluster {}   \" ><div class=\"lbl c1 clustere trm \" ><span class=\"nd\">cluster</span> <span class=\"txtu\"><span title=\"type\">?</span></span></div> </div></div></div></div></div></div></div></div></div></div>"
      ],
      "text/plain": [
       "<IPython.core.display.HTML object>"
      ]
     },
     "metadata": {},
     "output_type": "display_data"
    },
    {
     "data": {
      "text/html": [
       "<p><b>result</b> <i>2</i></p>"
      ],
      "text/plain": [
       "<IPython.core.display.HTML object>"
      ]
     },
     "metadata": {},
     "output_type": "display_data"
    },
    {
     "data": {
      "text/html": [
       "<div class=\"tfsechead \"><a target=\"_blank\" href=\"https://cdli.ucla.edu/search/search_results.php?SearchMode=Text&amp;ObjectID=P471695\" title=\"to CDLI main page for this tablet\" sec=\"P471695\">P471695</a></div><div class=\" children\"><div class=\"contnr c4    \" ><div class=\"lbl c4  \" ><span class=\"nd\">tablet</span> <span class=\"txtu\"><span class=\"tfsechead\">P471695</span></span></div><div class='features'><span class=\"name \" title=\"name\">Anonymous 471695</span><span class=\"period \" title=\"period\">uruk-iii</span></div><div class=\"children ver  \"><div class=\"contnr c1 trm   \" ><div class=\"lbl c1 trm \" ><span class=\"nd\">comment</span> <span class=\"txtu\"><span class=\"plain   \" ><span class=\"plain \" ></span> </span></span></div><div class='features'><span class=\"text \" title=\"text\">atf: lang qpc</span></div></div><div class=\"contnr c2    \" ><div class=\"lbl c2  \" ><span class=\"nd\">face</span> <span class=\"txtu\"><span title=\"type\">obverse</span></span></div><div class=\"children hor  \"><div class=\"contnr c3    \" ><div class=\"lbl c3  \" ><span class=\"nd\">column</span> <span class=\"txtu\"><span title=\"number\">1</span><span title=\"prime\"></span></span></div><div class=\"children ver  \"><div class=\"contnr c2    \" ><div class=\"lbl c2  \" ><span class=\"nd\">line</span> <span class=\"txtu\"><span title=\"number\">1</span></span></div><div class=\"children hor  \"><div class=\"contnr c2    \" ><div class=\"lbl c2  \" ><span class=\"nd\">case</span> <span class=\"txtu\"><span title=\"number\">1a</span><span title=\"prime\"></span></span></div><div class=\"children ver False \"><div class=\"contnr c0 trm   \" ><div class=\"lbl c0 trm \" ><span class=\"txtu\"><span title=\"atf\">3(N01)</span></span></div><div><a target=\"_blank\" href=\"https://cdli.ucla.edu/tools/SignLists/protocuneiform/archsigns/3(N01).jpg\" title=\"to higher resolution lineart on CDLI\"><img src=\"cdli-imagery/lineart-3(n01).jpg\" style=\"display: inline;max-width: 2em; max-height: 6em;\"  /></a></div></div><div class=\"contnr c0 trm   \" ><div class=\"lbl c0 trm \" ><span class=\"txtu\"><span title=\"atf\">APIN~a</span></span></div><div><a target=\"_blank\" href=\"https://cdli.ucla.edu/tools/SignLists/protocuneiform/archsigns/APIN~a.jpg\" title=\"to higher resolution lineart on CDLI\"><img src=\"cdli-imagery/lineart-apin-a.jpg\" style=\"display: inline;max-width: 2em; max-height: 6em;\"  /></a></div></div><div class=\"contnr c0 trm   \" ><div class=\"lbl c0 trm \" ><span class=\"txtu\"><span title=\"atf\">3(N57)</span></span></div><div><a target=\"_blank\" href=\"https://cdli.ucla.edu/tools/SignLists/protocuneiform/archsigns/3(N57).jpg\" title=\"to higher resolution lineart on CDLI\"><img src=\"cdli-imagery/lineart-3(n57).jpg\" style=\"display: inline;max-width: 2em; max-height: 6em;\"  /></a></div></div><div class=\"contnr c0 trm   \" ><div class=\"lbl c0 trm \" ><span class=\"txtu\"><span title=\"atf\">UR4~a</span></span></div><div><a target=\"_blank\" href=\"https://cdli.ucla.edu/tools/SignLists/protocuneiform/archsigns/UR4~a.jpg\" title=\"to higher resolution lineart on CDLI\"><img src=\"cdli-imagery/lineart-ur4-a.jpg\" style=\"display: inline;max-width: 2em; max-height: 6em;\"  /></a></div></div></div></div><div class=\"contnr c2    \" ><div class=\"lbl c2  \" ><span class=\"nd\">case</span> <span class=\"txtu\"><span title=\"number\">1b</span><span title=\"prime\"></span></span></div><div class=\"children ver False \"><div class=\"contnr c2    hl\" ><div class=\"lbl c2  hl\" ><span class=\"nd\">case</span> <span class=\"txtu\"><span title=\"number\">1b1</span><span title=\"prime\"></span></span></div><div class=\"children hor False \"><div class=\"contnr c1 cluster trm   \" ><div class=\"lbl c1 clusterb trm \" ><span class=\"nd\">cluster</span> <span class=\"txtu\"><span title=\"type\">=</span></span></div></div><div class=\"children hor wrap \"><div class=\"contnr c0 trm   \" ><div class=\"lbl c0 trm \" ><span class=\"txtu\"><span title=\"atf\">EN~a</span></span></div><div><a target=\"_blank\" href=\"https://cdli.ucla.edu/tools/SignLists/protocuneiform/archsigns/EN~a.jpg\" title=\"to higher resolution lineart on CDLI\"><img src=\"cdli-imagery/lineart-en-a.jpg\" style=\"display: inline;max-width: 2em; max-height: 6em;\"  /></a></div></div><div class=\"contnr c0 trm   \" ><div class=\"lbl c0 trm \" ><span class=\"txtu\"><span title=\"atf\">DU</span></span></div><div><a target=\"_blank\" href=\"https://cdli.ucla.edu/tools/SignLists/protocuneiform/archsigns/DU.jpg\" title=\"to higher resolution lineart on CDLI\"><img src=\"cdli-imagery/lineart-du.jpg\" style=\"display: inline;max-width: 2em; max-height: 6em;\"  /></a></div></div><div class=\"contnr c0 trm   \" ><div class=\"lbl c0 trm \" ><span class=\"txtu\"><span title=\"atf\">ZATU759</span></span></div><div><a target=\"_blank\" href=\"https://cdli.ucla.edu/tools/SignLists/protocuneiform/archsigns/ZATU759.jpg\" title=\"to higher resolution lineart on CDLI\"><img src=\"cdli-imagery/lineart-zatu759.jpg\" style=\"display: inline;max-width: 2em; max-height: 6em;\"  /></a></div></div></div><div class=\"contnr c1 cluster {}   \" ><div class=\"lbl c1 clustere trm \" ><span class=\"nd\">cluster</span> <span class=\"txtu\"><span title=\"type\">=</span></span></div> </div></div></div><div class=\"contnr c2    \" ><div class=\"lbl c2  \" ><span class=\"nd\">case</span> <span class=\"txtu\"><span title=\"number\">1b2</span><span title=\"prime\"></span></span></div><div class=\"children hor False \"><div class=\"contnr c1 cluster trm   \" ><div class=\"lbl c1 clusterb trm \" ><span class=\"nd\">cluster</span> <span class=\"txtu\"><span title=\"type\">=</span></span></div></div><div class=\"children hor wrap \"><div class=\"contnr c0 trm   \" ><div class=\"lbl c0 trm \" ><span class=\"txtu\"><span title=\"atf\">BAN~b</span></span></div><div><a target=\"_blank\" href=\"https://cdli.ucla.edu/tools/SignLists/protocuneiform/archsigns/BAN~b.jpg\" title=\"to higher resolution lineart on CDLI\"><img src=\"cdli-imagery/lineart-ban-b.jpg\" style=\"display: inline;max-width: 2em; max-height: 6em;\"  /></a></div></div><div class=\"contnr c0 trm   \" ><div class=\"lbl c0 trm \" ><span class=\"txtu\"><span title=\"atf\">KASZ~c</span></span></div><div><a target=\"_blank\" href=\"https://cdli.ucla.edu/tools/SignLists/protocuneiform/archsigns/KASZ~c.jpg\" title=\"to higher resolution lineart on CDLI\"><img src=\"cdli-imagery/lineart-kasz-c.jpg\" style=\"display: inline;max-width: 2em; max-height: 6em;\"  /></a></div></div></div><div class=\"contnr c1 cluster {}   \" ><div class=\"lbl c1 clustere trm \" ><span class=\"nd\">cluster</span> <span class=\"txtu\"><span title=\"type\">=</span></span></div> </div></div></div><div class=\"contnr c2    \" ><div class=\"lbl c2  \" ><span class=\"nd\">case</span> <span class=\"txtu\"><span title=\"number\">1b3</span><span title=\"prime\"></span></span></div><div class=\"children hor False \"><div class=\"contnr c1 cluster trm   \" ><div class=\"lbl c1 clusterb trm \" ><span class=\"nd\">cluster</span> <span class=\"txtu\"><span title=\"type\">=</span></span></div></div><div class=\"children hor wrap \"><div class=\"contnr c0 trm   \" ><div class=\"lbl c0 trm \" ><span class=\"txtu\"><span title=\"atf\">KI@n</span></span></div><div><a target=\"_blank\" href=\"https://cdli.ucla.edu/tools/SignLists/protocuneiform/archsigns/KI@n.jpg\" title=\"to higher resolution lineart on CDLI\"><img src=\"cdli-imagery/lineart-ki(a)n.jpg\" style=\"display: inline;max-width: 2em; max-height: 6em;\"  /></a></div></div><div class=\"contnr c0 trm   \" ><div class=\"lbl c0 trm \" ><span class=\"txtu\"><span title=\"atf\">SAG</span></span></div><div><a target=\"_blank\" href=\"https://cdli.ucla.edu/tools/SignLists/protocuneiform/archsigns/SAG.jpg\" title=\"to higher resolution lineart on CDLI\"><img src=\"cdli-imagery/lineart-sag.jpg\" style=\"display: inline;max-width: 2em; max-height: 6em;\"  /></a></div></div></div><div class=\"contnr c1 cluster {}   \" ><div class=\"lbl c1 clustere trm \" ><span class=\"nd\">cluster</span> <span class=\"txtu\"><span title=\"type\">=</span></span></div> </div></div></div></div></div></div></div><div class=\"contnr c2    \" ><div class=\"lbl c2  \" ><span class=\"nd\">line</span> <span class=\"txtu\"><span title=\"number\">2</span></span></div><div class=\"children hor  \"><div class=\"contnr c2    \" ><div class=\"lbl c2  \" ><span class=\"nd\">case</span> <span class=\"txtu\"><span title=\"number\">2a</span><span title=\"prime\"></span></span></div><div class=\"children ver False \"><div class=\"contnr c0 trm   \" ><div class=\"lbl c0 trm \" ><span class=\"txtu\"><span title=\"atf\">1(N14)</span></span></div><div><a target=\"_blank\" href=\"https://cdli.ucla.edu/tools/SignLists/protocuneiform/archsigns/1(N14).jpg\" title=\"to higher resolution lineart on CDLI\"><img src=\"cdli-imagery/lineart-1(n14).jpg\" style=\"display: inline;max-width: 2em; max-height: 6em;\"  /></a></div></div><div class=\"contnr c0 trm   \" ><div class=\"lbl c0 trm \" ><span class=\"txtu\"><span title=\"atf\">2(N01)</span></span></div><div><a target=\"_blank\" href=\"https://cdli.ucla.edu/tools/SignLists/protocuneiform/archsigns/2(N01).jpg\" title=\"to higher resolution lineart on CDLI\"><img src=\"cdli-imagery/lineart-2(n01).jpg\" style=\"display: inline;max-width: 2em; max-height: 6em;\"  /></a></div></div><div class=\"contnr c1 cluster trm   \" ><div class=\"lbl c1 clusterb trm \" ><span class=\"nd\">cluster</span> <span class=\"txtu\"><span title=\"type\">?</span></span></div></div><div class=\"children hor wrap \"><div class=\"contnr c0 trm   \" ><div class=\"lbl c0 trm \" ><span class=\"txtu\"><span title=\"atf\">...</span></span></div></div></div><div class=\"contnr c1 cluster {}   \" ><div class=\"lbl c1 clustere trm \" ><span class=\"nd\">cluster</span> <span class=\"txtu\"><span title=\"type\">?</span></span></div> </div></div></div><div class=\"contnr c2    \" ><div class=\"lbl c2  \" ><span class=\"nd\">case</span> <span class=\"txtu\"><span title=\"number\">2b</span><span title=\"prime\"></span></span></div><div class=\"children ver False \"><div class=\"contnr c2    \" ><div class=\"lbl c2  \" ><span class=\"nd\">case</span> <span class=\"txtu\"><span title=\"number\">2b1</span><span title=\"prime\"></span></span></div><div class=\"children hor False \"><div class=\"contnr c1 cluster trm   \" ><div class=\"lbl c1 clusterb trm \" ><span class=\"nd\">cluster</span> <span class=\"txtu\"><span title=\"type\">=</span></span></div></div><div class=\"children hor wrap \"><div class=\"contnr c0 trm   \" ><div class=\"lbl c0 trm \" ><span class=\"txtu\"><span title=\"atf\">3(N57)</span></span></div><div><a target=\"_blank\" href=\"https://cdli.ucla.edu/tools/SignLists/protocuneiform/archsigns/3(N57).jpg\" title=\"to higher resolution lineart on CDLI\"><img src=\"cdli-imagery/lineart-3(n57).jpg\" style=\"display: inline;max-width: 2em; max-height: 6em;\"  /></a></div></div><div class=\"contnr c0 trm   \" ><div class=\"lbl c0 trm \" ><span class=\"txtu\"><span title=\"atf\">PAP~a</span></span></div><div><a target=\"_blank\" href=\"https://cdli.ucla.edu/tools/SignLists/protocuneiform/archsigns/PAP~a.jpg\" title=\"to higher resolution lineart on CDLI\"><img src=\"cdli-imagery/lineart-pap-a.jpg\" style=\"display: inline;max-width: 2em; max-height: 6em;\"  /></a></div></div></div><div class=\"contnr c1 cluster {}   \" ><div class=\"lbl c1 clustere trm \" ><span class=\"nd\">cluster</span> <span class=\"txtu\"><span title=\"type\">=</span></span></div> </div></div></div><div class=\"contnr c2    \" ><div class=\"lbl c2  \" ><span class=\"nd\">case</span> <span class=\"txtu\"><span title=\"number\">2b2</span><span title=\"prime\"></span></span></div><div class=\"children hor False \"><div class=\"contnr c1 trm   \" ><div class=\"lbl c1 trm \" ><span class=\"nd\">comment</span> <span class=\"txtu\"><span class=\"plain   \" ><span class=\"plain \" ></span> </span></span></div><div class='features'><span class=\"text \" title=\"text\">n lines broken</span></div></div><div class=\"contnr c1 cluster trm   \" ><div class=\"lbl c1 clusterb trm \" ><span class=\"nd\">cluster</span> <span class=\"txtu\"><span title=\"type\">=</span></span></div></div><div class=\"children hor wrap \"><div class=\"contnr c0 trm   \" ><div class=\"lbl c0 trm \" ><span class=\"txtu\"><span title=\"atf\">SZU</span></span></div><div><a target=\"_blank\" href=\"https://cdli.ucla.edu/tools/SignLists/protocuneiform/archsigns/SZU.jpg\" title=\"to higher resolution lineart on CDLI\"><img src=\"cdli-imagery/lineart-szu.jpg\" style=\"display: inline;max-width: 2em; max-height: 6em;\"  /></a></div></div><div class=\"contnr c0 trm   \" ><div class=\"lbl c0 trm \" ><span class=\"txtu\"><span title=\"atf\">KI</span></span></div><div><a target=\"_blank\" href=\"https://cdli.ucla.edu/tools/SignLists/protocuneiform/archsigns/KI.jpg\" title=\"to higher resolution lineart on CDLI\"><img src=\"cdli-imagery/lineart-ki.jpg\" style=\"display: inline;max-width: 2em; max-height: 6em;\"  /></a></div></div><div class=\"contnr c0 trm   \" ><div class=\"lbl c0 trm \" ><span class=\"txtu\"><span title=\"atf\">X</span></span></div></div></div><div class=\"contnr c1 cluster {}   \" ><div class=\"lbl c1 clustere trm \" ><span class=\"nd\">cluster</span> <span class=\"txtu\"><span title=\"type\">=</span></span></div> </div></div></div><div class=\"contnr c2    \" ><div class=\"lbl c2  \" ><span class=\"nd\">case</span> <span class=\"txtu\"><span title=\"number\">2b3</span><span title=\"prime\">'</span></span></div><div class=\"children hor False \"><div class=\"contnr c1 cluster trm   \" ><div class=\"lbl c1 clusterb trm \" ><span class=\"nd\">cluster</span> <span class=\"txtu\"><span title=\"type\">=</span></span></div></div><div class=\"children hor wrap \"><div class=\"contnr c0 trm   \" ><div class=\"lbl c0 trm \" ><span class=\"txtu\"><span title=\"atf\">EN~a</span></span></div><div><a target=\"_blank\" href=\"https://cdli.ucla.edu/tools/SignLists/protocuneiform/archsigns/EN~a.jpg\" title=\"to higher resolution lineart on CDLI\"><img src=\"cdli-imagery/lineart-en-a.jpg\" style=\"display: inline;max-width: 2em; max-height: 6em;\"  /></a></div></div><div class=\"contnr c0 trm   \" ><div class=\"lbl c0 trm \" ><span class=\"txtu\"><span title=\"atf\">AN</span></span></div><div><a target=\"_blank\" href=\"https://cdli.ucla.edu/tools/SignLists/protocuneiform/archsigns/AN.jpg\" title=\"to higher resolution lineart on CDLI\"><img src=\"cdli-imagery/lineart-an.jpg\" style=\"display: inline;max-width: 2em; max-height: 6em;\"  /></a></div></div><div class=\"contnr c0 trm   \" ><div class=\"lbl c0 trm \" ><span class=\"txtu\"><span title=\"atf\">EZINU~d</span></span></div><div><a target=\"_blank\" href=\"https://cdli.ucla.edu/tools/SignLists/protocuneiform/archsigns/EZINU~d.jpg\" title=\"to higher resolution lineart on CDLI\"><img src=\"cdli-imagery/lineart-ezinu-d.jpg\" style=\"display: inline;max-width: 2em; max-height: 6em;\"  /></a></div></div></div><div class=\"contnr c1 cluster {}   \" ><div class=\"lbl c1 clustere trm \" ><span class=\"nd\">cluster</span> <span class=\"txtu\"><span title=\"type\">=</span></span></div> </div></div></div><div class=\"contnr c2    \" ><div class=\"lbl c2  \" ><span class=\"nd\">case</span> <span class=\"txtu\"><span title=\"number\">2b4</span><span title=\"prime\">'</span></span></div><div class=\"children hor False \"><div class=\"contnr c1 trm   \" ><div class=\"lbl c1 trm \" ><span class=\"nd\">comment</span> <span class=\"txtu\"><span class=\"plain   \" ><span class=\"plain \" ></span> </span></span></div><div class='features'><span class=\"text \" title=\"text\">rest broken</span></div></div><div class=\"contnr c1 trm   \" ><div class=\"lbl c1 trm \" ><span class=\"nd\">comment</span> <span class=\"txtu\"><span class=\"plain   \" ><span class=\"plain \" ></span> </span></span></div><div class='features'><span class=\"text \" title=\"text\">(for a total of 12 sub-cases with PNN)</span></div></div><div class=\"contnr c1 cluster trm   \" ><div class=\"lbl c1 clusterb trm \" ><span class=\"nd\">cluster</span> <span class=\"txtu\"><span title=\"type\">=</span></span></div></div><div class=\"children hor wrap \"><div class=\"contnr c0 trm   \" ><div class=\"lbl c0 trm \" ><span class=\"txtu\"><span title=\"atf\">IDIGNA</span></span></div><div><a target=\"_blank\" href=\"https://cdli.ucla.edu/tools/SignLists/protocuneiform/archsigns/IDIGNA.jpg\" title=\"to higher resolution lineart on CDLI\"><img src=\"cdli-imagery/lineart-idigna.jpg\" style=\"display: inline;max-width: 2em; max-height: 6em;\"  /></a></div></div><div class=\"contnr c1 cluster trm   \" ><div class=\"lbl c1 clusterb trm \" ><span class=\"nd\">cluster</span> <span class=\"txtu\"><span title=\"type\">?</span></span></div></div><div class=\"children hor wrap \"><div class=\"contnr c0 trm   \" ><div class=\"lbl c0 trm \" ><span class=\"txtu\"><span title=\"atf\">...</span></span></div></div></div><div class=\"contnr c1 cluster {}   \" ><div class=\"lbl c1 clustere trm \" ><span class=\"nd\">cluster</span> <span class=\"txtu\"><span title=\"type\">?</span></span></div> </div></div><div class=\"contnr c1 cluster {}   \" ><div class=\"lbl c1 clustere trm \" ><span class=\"nd\">cluster</span> <span class=\"txtu\"><span title=\"type\">=</span></span></div> </div></div></div></div></div></div></div></div></div><div class=\"contnr c3    \" ><div class=\"lbl c3  \" ><span class=\"nd\">column</span> <span class=\"txtu\"><span title=\"number\">2</span><span title=\"prime\"></span></span></div><div class=\"children ver  \"><div class=\"contnr c2    \" ><div class=\"lbl c2  \" ><span class=\"nd\">line</span> <span class=\"txtu\"><span title=\"number\">1</span></span></div><div class=\"children hor  \"><div class=\"contnr c2    \" ><div class=\"lbl c2  \" ><span class=\"nd\">case</span> <span class=\"txtu\"><span title=\"number\">1a</span><span title=\"prime\"></span></span></div><div class=\"children ver False \"><div class=\"contnr c0 trm   \" ><div class=\"lbl c0 trm \" ><span class=\"txtu\"><span title=\"atf\">1(N01)</span></span></div><div><a target=\"_blank\" href=\"https://cdli.ucla.edu/tools/SignLists/protocuneiform/archsigns/1(N01).jpg\" title=\"to higher resolution lineart on CDLI\"><img src=\"cdli-imagery/lineart-1(n01).jpg\" style=\"display: inline;max-width: 2em; max-height: 6em;\"  /></a></div></div><div class=\"contnr c0 trm   \" ><div class=\"lbl c0 trm \" ><span class=\"txtu\"><span title=\"atf\">ISZ~a#?</span></span></div><div><a target=\"_blank\" href=\"https://cdli.ucla.edu/tools/SignLists/protocuneiform/archsigns/ISZ~a.jpg\" title=\"to higher resolution lineart on CDLI\"><img src=\"cdli-imagery/lineart-isz-a.jpg\" style=\"display: inline;max-width: 2em; max-height: 6em;\"  /></a></div></div></div></div><div class=\"contnr c2    \" ><div class=\"lbl c2  \" ><span class=\"nd\">case</span> <span class=\"txtu\"><span title=\"number\">1b</span><span title=\"prime\"></span></span></div><div class=\"children ver False \"><div class=\"contnr c2    \" ><div class=\"lbl c2  \" ><span class=\"nd\">case</span> <span class=\"txtu\"><span title=\"number\">1b1</span><span title=\"prime\"></span></span></div><div class=\"children hor False \"><div class=\"contnr c1 trm   \" ><div class=\"lbl c1 trm \" ><span class=\"nd\">comment</span> <span class=\"txtu\"><span class=\"plain   \" ><span class=\"plain \" ></span> </span></span></div><div class='features'><span class=\"text \" title=\"text\">blank space</span></div></div><div class=\"contnr c1 trm   \" ><div class=\"lbl c1 trm \" ><span class=\"nd\">comment</span> <span class=\"txtu\"><span class=\"plain   \" ><span class=\"plain \" ></span> </span></span></div><div class='features'><span class=\"text \" title=\"text\">rest broken</span></div></div><div class=\"contnr c1 cluster trm   \" ><div class=\"lbl c1 clusterb trm \" ><span class=\"nd\">cluster</span> <span class=\"txtu\"><span title=\"type\">=</span></span></div></div><div class=\"children hor wrap \"><div class=\"contnr c0 trm   \" ><div class=\"lbl c0 trm \" ><span class=\"txtu\"><span title=\"atf\">PAP~a</span></span></div><div><a target=\"_blank\" href=\"https://cdli.ucla.edu/tools/SignLists/protocuneiform/archsigns/PAP~a.jpg\" title=\"to higher resolution lineart on CDLI\"><img src=\"cdli-imagery/lineart-pap-a.jpg\" style=\"display: inline;max-width: 2em; max-height: 6em;\"  /></a></div></div><div class=\"contnr c0 trm   \" ><div class=\"lbl c0 trm \" ><span class=\"txtu\"><span title=\"atf\">GIR3~c</span></span></div><div><a target=\"_blank\" href=\"https://cdli.ucla.edu/tools/SignLists/protocuneiform/archsigns/GIR3~c.jpg\" title=\"to higher resolution lineart on CDLI\"><img src=\"cdli-imagery/lineart-gir3-c.jpg\" style=\"display: inline;max-width: 2em; max-height: 6em;\"  /></a></div></div></div><div class=\"contnr c1 cluster {}   \" ><div class=\"lbl c1 clustere trm \" ><span class=\"nd\">cluster</span> <span class=\"txtu\"><span title=\"type\">=</span></span></div> </div></div></div></div></div></div></div></div></div></div></div><div class=\"contnr c2    \" ><div class=\"lbl c2  \" ><span class=\"nd\">face</span> <span class=\"txtu\"><span title=\"type\">reverse</span></span></div><div class=\"children hor  \"><div class=\"contnr c1 trm   \" ><div class=\"lbl c1 trm \" ><span class=\"nd\">comment</span> <span class=\"txtu\"><span class=\"plain   \" ><span class=\"plain \" ></span> </span></span></div><div class='features'><span class=\"text \" title=\"text\">beginning broken</span></div></div><div class=\"contnr c3    \" ><div class=\"lbl c3  \" ><span class=\"nd\">column</span> <span class=\"txtu\"><span title=\"number\">0</span><span title=\"prime\"></span></span></div><div class=\"children ver  \"><div class=\"contnr c2    \" ><div class=\"lbl c2  \" ><span class=\"nd\">line</span> <span class=\"txtu\"><span title=\"number\">1</span></span></div><div class=\"children hor  \"><div class=\"contnr c1 cluster trm   \" ><div class=\"lbl c1 clusterb trm \" ><span class=\"nd\">cluster</span> <span class=\"txtu\"><span title=\"type\">?</span></span></div></div><div class=\"children hor wrap \"><div class=\"contnr c0 trm   \" ><div class=\"lbl c0 trm \" ><span class=\"txtu\"><span title=\"atf\">1(N14)</span></span></div><div><a target=\"_blank\" href=\"https://cdli.ucla.edu/tools/SignLists/protocuneiform/archsigns/1(N14).jpg\" title=\"to higher resolution lineart on CDLI\"><img src=\"cdli-imagery/lineart-1(n14).jpg\" style=\"display: inline;max-width: 2em; max-height: 6em;\"  /></a></div></div></div><div class=\"contnr c1 cluster {}   \" ><div class=\"lbl c1 clustere trm \" ><span class=\"nd\">cluster</span> <span class=\"txtu\"><span title=\"type\">?</span></span></div> </div><div class=\"contnr c0 trm   \" ><div class=\"lbl c0 trm \" ><span class=\"txtu\"><span title=\"atf\">6(N01)#</span></span></div><div><a target=\"_blank\" href=\"https://cdli.ucla.edu/tools/SignLists/protocuneiform/archsigns/6(N01).jpg\" title=\"to higher resolution lineart on CDLI\"><img src=\"cdli-imagery/lineart-6(n01).jpg\" style=\"display: inline;max-width: 2em; max-height: 6em;\"  /></a></div></div><div class=\"contnr c1 cluster trm   \" ><div class=\"lbl c1 clusterb trm \" ><span class=\"nd\">cluster</span> <span class=\"txtu\"><span title=\"type\">?</span></span></div></div><div class=\"children hor wrap \"><div class=\"contnr c0 trm   \" ><div class=\"lbl c0 trm \" ><span class=\"txtu\"><span title=\"atf\">...</span></span></div></div></div><div class=\"contnr c1 cluster {}   \" ><div class=\"lbl c1 clustere trm \" ><span class=\"nd\">cluster</span> <span class=\"txtu\"><span title=\"type\">?</span></span></div> </div></div></div></div></div></div></div></div></div></div>"
      ],
      "text/plain": [
       "<IPython.core.display.HTML object>"
      ]
     },
     "metadata": {},
     "output_type": "display_data"
    }
   ],
   "source": [
    "A.show(results, end=2)"
   ]
  },
  {
   "cell_type": "code",
   "execution_count": 9,
   "metadata": {},
   "outputs": [],
   "source": [
    "query = '''\n",
    "tablet\n",
    "/where/\n",
    "  case\n",
    "/have/\n",
    "  /without/\n",
    "    sign type=numeral\n",
    "  /-/\n",
    "/-/\n",
    "/with/\n",
    "  case\n",
    "/-/\n",
    "'''"
   ]
  },
  {
   "cell_type": "code",
   "execution_count": 10,
   "metadata": {},
   "outputs": [
    {
     "name": "stdout",
     "output_type": "stream",
     "text": [
      "  0.01s 53 results\n"
     ]
    }
   ],
   "source": [
    "results = A.search(query) "
   ]
  },
  {
   "cell_type": "code",
   "execution_count": 11,
   "metadata": {},
   "outputs": [
    {
     "data": {
      "text/html": [
       "<p><b>result</b> <i>1</i></p>"
      ],
      "text/plain": [
       "<IPython.core.display.HTML object>"
      ]
     },
     "metadata": {},
     "output_type": "display_data"
    },
    {
     "data": {
      "text/html": [
       "<div class=\"tfsechead \"><a target=\"_blank\" href=\"https://cdli.ucla.edu/search/search_results.php?SearchMode=Text&amp;ObjectID=P006438\" title=\"to CDLI main page for this tablet\" sec=\"P006438\">P006438</a></div><div class=\" children\"><div class=\"contnr c4    \" ><div class=\"lbl c4  \" ><span class=\"nd\">tablet</span> <span class=\"txtu\"><span class=\"tfsechead\">P006438</span></span></div><div class='features'><span class=\"name \" title=\"name\">AOST 109</span><span class=\"period \" title=\"period\">uruk-iii</span></div><div class=\"children ver  \"><div class=\"contnr c1 trm   \" ><div class=\"lbl c1 trm \" ><span class=\"nd\">comment</span> <span class=\"txtu\"><span class=\"plain   \" ><span class=\"plain \" ></span> </span></span></div><div class='features'><span class=\"text \" title=\"text\">atf: lang qpc</span></div></div><div class=\"contnr c2    \" ><div class=\"lbl c2  \" ><span class=\"nd\">face</span> <span class=\"txtu\"><span title=\"type\">obverse</span></span></div><div class=\"children hor  \"><div class=\"contnr c3    \" ><div class=\"lbl c3  \" ><span class=\"nd\">column</span> <span class=\"txtu\"><span title=\"number\">1</span><span title=\"prime\"></span></span></div><div class=\"children ver  \"><div class=\"contnr c2    \" ><div class=\"lbl c2  \" ><span class=\"nd\">line</span> <span class=\"txtu\"><span title=\"number\">1</span></span></div><div class=\"children hor  \"><div class=\"contnr c1 cluster trm   \" ><div class=\"lbl c1 clusterb trm \" ><span class=\"nd\">cluster</span> <span class=\"txtu\"><span title=\"type\">?</span></span></div></div><div class=\"children hor wrap \"><div class=\"contnr c0 trm   \" ><div class=\"lbl c0 trm \" ><span class=\"txtu\"><span title=\"atf\">...</span></span></div></div></div><div class=\"contnr c1 cluster {}   \" ><div class=\"lbl c1 clustere trm \" ><span class=\"nd\">cluster</span> <span class=\"txtu\"><span title=\"type\">?</span></span></div> </div><div class=\"contnr c1 cluster trm   \" ><div class=\"lbl c1 clusterb trm \" ><span class=\"nd\">cluster</span> <span class=\"txtu\"><span title=\"type\">?</span></span></div></div><div class=\"children hor wrap \"><div class=\"contnr c0 trm   \" ><div class=\"lbl c0 trm \" ><span class=\"txtu\"><span title=\"atf\">...</span></span></div></div></div><div class=\"contnr c1 cluster {}   \" ><div class=\"lbl c1 clustere trm \" ><span class=\"nd\">cluster</span> <span class=\"txtu\"><span title=\"type\">?</span></span></div> </div></div></div><div class=\"contnr c2    \" ><div class=\"lbl c2  \" ><span class=\"nd\">line</span> <span class=\"txtu\"><span title=\"number\">2</span></span></div><div class=\"children hor  \"><div class=\"contnr c2    \" ><div class=\"lbl c2  \" ><span class=\"nd\">case</span> <span class=\"txtu\"><span title=\"number\">2a</span><span title=\"prime\"></span></span></div><div class=\"children ver False \"><div class=\"contnr c0 trm   \" ><div class=\"lbl c0 trm \" ><span class=\"txtu\"><span title=\"atf\">KU6~a</span></span></div><div><a target=\"_blank\" href=\"https://cdli.ucla.edu/tools/SignLists/protocuneiform/archsigns/KU6~a.jpg\" title=\"to higher resolution lineart on CDLI\"><img src=\"cdli-imagery/lineart-ku6-a.jpg\" style=\"display: inline;max-width: 2em; max-height: 6em;\"  /></a></div></div><div class=\"contnr c0 trm   \" ><div class=\"lbl c0 trm \" ><span class=\"txtu\"><span title=\"atf\">BU~a</span></span></div><div><a target=\"_blank\" href=\"https://cdli.ucla.edu/tools/SignLists/protocuneiform/archsigns/BU~a.jpg\" title=\"to higher resolution lineart on CDLI\"><img src=\"cdli-imagery/lineart-bu-a.jpg\" style=\"display: inline;max-width: 2em; max-height: 6em;\"  /></a></div></div></div></div><div class=\"contnr c2    \" ><div class=\"lbl c2  \" ><span class=\"nd\">case</span> <span class=\"txtu\"><span title=\"number\">2b</span><span title=\"prime\"></span></span></div><div class=\"children ver False \"><div class=\"contnr c1    \" ><div class=\"lbl c1  \" ><span class=\"nd\">quad</span></div><div><a target=\"_blank\" href=\"https://cdli.ucla.edu/tools/SignLists/protocuneiform/archsigns/|AB~axSUKKAL|.jpg\" title=\"to higher resolution lineart on CDLI\"><img src=\"cdli-imagery/lineart-qab-axsukkalq.jpg\" style=\"display: inline;max-width: 4em; max-height: 4em;\"  /></a></div><div class=\"children hor wrap \"><div class=\"contnr c0 trm   \" ><div class=\"lbl c0 trm \" ><span class=\"txtu\"><span title=\"atf\">AB~a</span></span></div></div><div class=\"op\">x</div><div class=\"contnr c0 trm   \" ><div class=\"lbl c0 trm \" ><span class=\"txtu\"><span title=\"atf\">SUKKAL</span></span></div></div></div></div></div></div><div class=\"contnr c2    \" ><div class=\"lbl c2  \" ><span class=\"nd\">case</span> <span class=\"txtu\"><span title=\"number\">2c</span><span title=\"prime\"></span></span></div><div class=\"children ver False \"><div class=\"contnr c0 trm   \" ><div class=\"lbl c0 trm \" ><span class=\"txtu\"><span title=\"atf\">NAM2</span></span></div><div><a target=\"_blank\" href=\"https://cdli.ucla.edu/tools/SignLists/protocuneiform/archsigns/NAM2.jpg\" title=\"to higher resolution lineart on CDLI\"><img src=\"cdli-imagery/lineart-nam2.jpg\" style=\"display: inline;max-width: 2em; max-height: 6em;\"  /></a></div></div><div class=\"contnr c0 trm   \" ><div class=\"lbl c0 trm \" ><span class=\"txtu\"><span title=\"atf\">RAD~a</span></span></div><div><a target=\"_blank\" href=\"https://cdli.ucla.edu/tools/SignLists/protocuneiform/archsigns/RAD~a.jpg\" title=\"to higher resolution lineart on CDLI\"><img src=\"cdli-imagery/lineart-rad-a.jpg\" style=\"display: inline;max-width: 2em; max-height: 6em;\"  /></a></div></div><div class=\"contnr c0 trm   \" ><div class=\"lbl c0 trm \" ><span class=\"txtu\"><span title=\"atf\">PA~a</span></span></div><div><a target=\"_blank\" href=\"https://cdli.ucla.edu/tools/SignLists/protocuneiform/archsigns/PA~a.jpg\" title=\"to higher resolution lineart on CDLI\"><img src=\"cdli-imagery/lineart-pa-a.jpg\" style=\"display: inline;max-width: 2em; max-height: 6em;\"  /></a></div></div><div class=\"contnr c0 trm   \" ><div class=\"lbl c0 trm \" ><span class=\"txtu\"><span title=\"atf\">SZU</span></span></div><div><a target=\"_blank\" href=\"https://cdli.ucla.edu/tools/SignLists/protocuneiform/archsigns/SZU.jpg\" title=\"to higher resolution lineart on CDLI\"><img src=\"cdli-imagery/lineart-szu.jpg\" style=\"display: inline;max-width: 2em; max-height: 6em;\"  /></a></div></div></div></div><div class=\"contnr c2    \" ><div class=\"lbl c2  \" ><span class=\"nd\">case</span> <span class=\"txtu\"><span title=\"number\">2d</span><span title=\"prime\"></span></span></div><div class=\"children ver False \"><div class=\"contnr c0 trm   \" ><div class=\"lbl c0 trm \" ><span class=\"txtu\"><span title=\"atf\">RAD~a</span></span></div><div><a target=\"_blank\" href=\"https://cdli.ucla.edu/tools/SignLists/protocuneiform/archsigns/RAD~a.jpg\" title=\"to higher resolution lineart on CDLI\"><img src=\"cdli-imagery/lineart-rad-a.jpg\" style=\"display: inline;max-width: 2em; max-height: 6em;\"  /></a></div></div><div class=\"contnr c1 cluster trm   \" ><div class=\"lbl c1 clusterb trm \" ><span class=\"nd\">cluster</span> <span class=\"txtu\"><span title=\"type\">?</span></span></div></div><div class=\"children hor wrap \"><div class=\"contnr c0 trm   \" ><div class=\"lbl c0 trm \" ><span class=\"txtu\"><span title=\"atf\">...</span></span></div></div></div><div class=\"contnr c1 cluster {}   \" ><div class=\"lbl c1 clustere trm \" ><span class=\"nd\">cluster</span> <span class=\"txtu\"><span title=\"type\">?</span></span></div> </div></div></div></div></div><div class=\"contnr c2    \" ><div class=\"lbl c2  \" ><span class=\"nd\">line</span> <span class=\"txtu\"><span title=\"number\">3</span></span></div><div class=\"children hor  \"><div class=\"contnr c1 cluster trm   \" ><div class=\"lbl c1 clusterb trm \" ><span class=\"nd\">cluster</span> <span class=\"txtu\"><span title=\"type\">?</span></span></div></div><div class=\"children hor wrap \"><div class=\"contnr c0 trm   \" ><div class=\"lbl c0 trm \" ><span class=\"txtu\"><span title=\"atf\">...</span></span></div></div></div><div class=\"contnr c1 cluster {}   \" ><div class=\"lbl c1 clustere trm \" ><span class=\"nd\">cluster</span> <span class=\"txtu\"><span title=\"type\">?</span></span></div> </div></div></div></div></div></div></div><div class=\"contnr c2    \" ><div class=\"lbl c2  \" ><span class=\"nd\">face</span> <span class=\"txtu\"><span title=\"type\">reverse</span></span></div><div class=\"children hor  \"><div class=\"contnr c3    \" ><div class=\"lbl c3  \" ><span class=\"nd\">column</span> <span class=\"txtu\"><span title=\"number\">1</span><span title=\"prime\"></span></span></div><div class=\"children ver  \"><div class=\"contnr c2    \" ><div class=\"lbl c2  \" ><span class=\"nd\">line</span> <span class=\"txtu\"><span title=\"number\">1</span></span></div><div class=\"children hor  \"><div class=\"contnr c1 cluster trm   \" ><div class=\"lbl c1 clusterb trm \" ><span class=\"nd\">cluster</span> <span class=\"txtu\"><span title=\"type\">?</span></span></div></div><div class=\"children hor wrap \"><div class=\"contnr c0 trm   \" ><div class=\"lbl c0 trm \" ><span class=\"txtu\"><span title=\"atf\">...</span></span></div></div></div><div class=\"contnr c1 cluster {}   \" ><div class=\"lbl c1 clustere trm \" ><span class=\"nd\">cluster</span> <span class=\"txtu\"><span title=\"type\">?</span></span></div> </div><div class=\"contnr c1 cluster trm   \" ><div class=\"lbl c1 clusterb trm \" ><span class=\"nd\">cluster</span> <span class=\"txtu\"><span title=\"type\">?</span></span></div></div><div class=\"children hor wrap \"><div class=\"contnr c0 trm   \" ><div class=\"lbl c0 trm \" ><span class=\"txtu\"><span title=\"atf\">...</span></span></div></div></div><div class=\"contnr c1 cluster {}   \" ><div class=\"lbl c1 clustere trm \" ><span class=\"nd\">cluster</span> <span class=\"txtu\"><span title=\"type\">?</span></span></div> </div></div></div><div class=\"contnr c2    \" ><div class=\"lbl c2  \" ><span class=\"nd\">line</span> <span class=\"txtu\"><span title=\"number\">2</span></span></div><div class=\"children hor  \"><div class=\"contnr c0 trm   \" ><div class=\"lbl c0 trm \" ><span class=\"txtu\"><span title=\"atf\">1(N01)</span></span></div><div><a target=\"_blank\" href=\"https://cdli.ucla.edu/tools/SignLists/protocuneiform/archsigns/1(N01).jpg\" title=\"to higher resolution lineart on CDLI\"><img src=\"cdli-imagery/lineart-1(n01).jpg\" style=\"display: inline;max-width: 2em; max-height: 6em;\"  /></a></div></div><div class=\"contnr c0 trm   \" ><div class=\"lbl c0 trm \" ><span class=\"txtu\"><span title=\"atf\">USZ~a</span></span></div><div><a target=\"_blank\" href=\"https://cdli.ucla.edu/tools/SignLists/protocuneiform/archsigns/USZ~a.jpg\" title=\"to higher resolution lineart on CDLI\"><img src=\"cdli-imagery/lineart-usz-a.jpg\" style=\"display: inline;max-width: 2em; max-height: 6em;\"  /></a></div></div><div class=\"contnr c0 trm   \" ><div class=\"lbl c0 trm \" ><span class=\"txtu\"><span title=\"atf\">SZUBUR</span></span></div><div><a target=\"_blank\" href=\"https://cdli.ucla.edu/tools/SignLists/protocuneiform/archsigns/SZUBUR.jpg\" title=\"to higher resolution lineart on CDLI\"><img src=\"cdli-imagery/lineart-szubur.jpg\" style=\"display: inline;max-width: 2em; max-height: 6em;\"  /></a></div></div><div class=\"contnr c0 trm   \" ><div class=\"lbl c0 trm \" ><span class=\"txtu\"><span title=\"atf\">GAL~a</span></span></div><div><a target=\"_blank\" href=\"https://cdli.ucla.edu/tools/SignLists/protocuneiform/archsigns/GAL~a.jpg\" title=\"to higher resolution lineart on CDLI\"><img src=\"cdli-imagery/lineart-gal-a.jpg\" style=\"display: inline;max-width: 2em; max-height: 6em;\"  /></a></div></div><div class=\"contnr c0 trm   \" ><div class=\"lbl c0 trm \" ><span class=\"txtu\"><span title=\"atf\">IM~a</span></span></div><div><a target=\"_blank\" href=\"https://cdli.ucla.edu/tools/SignLists/protocuneiform/archsigns/IM~a.jpg\" title=\"to higher resolution lineart on CDLI\"><img src=\"cdli-imagery/lineart-im-a.jpg\" style=\"display: inline;max-width: 2em; max-height: 6em;\"  /></a></div></div></div></div><div class=\"contnr c2    \" ><div class=\"lbl c2  \" ><span class=\"nd\">line</span> <span class=\"txtu\"><span title=\"number\">3</span></span></div><div class=\"children hor  \"><div class=\"contnr c0 trm   \" ><div class=\"lbl c0 trm \" ><span class=\"txtu\"><span title=\"atf\">SZA</span></span></div><div><a target=\"_blank\" href=\"https://cdli.ucla.edu/tools/SignLists/protocuneiform/archsigns/SZA.jpg\" title=\"to higher resolution lineart on CDLI\"><img src=\"cdli-imagery/lineart-sza.jpg\" style=\"display: inline;max-width: 2em; max-height: 6em;\"  /></a></div></div><div class=\"contnr c1 cluster trm   \" ><div class=\"lbl c1 clusterb trm \" ><span class=\"nd\">cluster</span> <span class=\"txtu\"><span title=\"type\">?</span></span></div></div><div class=\"children hor wrap \"><div class=\"contnr c0 trm   \" ><div class=\"lbl c0 trm \" ><span class=\"txtu\"><span title=\"atf\">...</span></span></div></div></div><div class=\"contnr c1 cluster {}   \" ><div class=\"lbl c1 clustere trm \" ><span class=\"nd\">cluster</span> <span class=\"txtu\"><span title=\"type\">?</span></span></div> </div><div class=\"contnr c0 trm   \" ><div class=\"lbl c0 trm \" ><span class=\"txtu\"><span title=\"atf\">RAD~a#</span></span></div><div><a target=\"_blank\" href=\"https://cdli.ucla.edu/tools/SignLists/protocuneiform/archsigns/RAD~a.jpg\" title=\"to higher resolution lineart on CDLI\"><img src=\"cdli-imagery/lineart-rad-a.jpg\" style=\"display: inline;max-width: 2em; max-height: 6em;\"  /></a></div></div></div></div><div class=\"contnr c2    \" ><div class=\"lbl c2  \" ><span class=\"nd\">line</span> <span class=\"txtu\"><span title=\"number\">4</span></span></div><div class=\"children hor  \"><div class=\"contnr c1 cluster trm   \" ><div class=\"lbl c1 clusterb trm \" ><span class=\"nd\">cluster</span> <span class=\"txtu\"><span title=\"type\">?</span></span></div></div><div class=\"children hor wrap \"><div class=\"contnr c0 trm   \" ><div class=\"lbl c0 trm \" ><span class=\"txtu\"><span title=\"atf\">...</span></span></div></div></div><div class=\"contnr c1 cluster {}   \" ><div class=\"lbl c1 clustere trm \" ><span class=\"nd\">cluster</span> <span class=\"txtu\"><span title=\"type\">?</span></span></div> </div><div class=\"contnr c1 cluster trm   \" ><div class=\"lbl c1 clusterb trm \" ><span class=\"nd\">cluster</span> <span class=\"txtu\"><span title=\"type\">?</span></span></div></div><div class=\"children hor wrap \"><div class=\"contnr c0 trm   \" ><div class=\"lbl c0 trm \" ><span class=\"txtu\"><span title=\"atf\">...</span></span></div></div></div><div class=\"contnr c1 cluster {}   \" ><div class=\"lbl c1 clustere trm \" ><span class=\"nd\">cluster</span> <span class=\"txtu\"><span title=\"type\">?</span></span></div> </div></div></div></div></div><div class=\"contnr c3    \" ><div class=\"lbl c3  \" ><span class=\"nd\">column</span> <span class=\"txtu\"><span title=\"number\">2</span><span title=\"prime\"></span></span></div><div class=\"children ver  \"><div class=\"contnr c2    \" ><div class=\"lbl c2  \" ><span class=\"nd\">line</span> <span class=\"txtu\"><span title=\"number\">1</span></span></div><div class=\"children hor  \"><div class=\"contnr c1 cluster trm   \" ><div class=\"lbl c1 clusterb trm \" ><span class=\"nd\">cluster</span> <span class=\"txtu\"><span title=\"type\">?</span></span></div></div><div class=\"children hor wrap \"><div class=\"contnr c0 trm   \" ><div class=\"lbl c0 trm \" ><span class=\"txtu\"><span title=\"atf\">...</span></span></div></div></div><div class=\"contnr c1 cluster {}   \" ><div class=\"lbl c1 clustere trm \" ><span class=\"nd\">cluster</span> <span class=\"txtu\"><span title=\"type\">?</span></span></div> </div><div class=\"contnr c1 cluster trm   \" ><div class=\"lbl c1 clusterb trm \" ><span class=\"nd\">cluster</span> <span class=\"txtu\"><span title=\"type\">?</span></span></div></div><div class=\"children hor wrap \"><div class=\"contnr c0 trm   \" ><div class=\"lbl c0 trm \" ><span class=\"txtu\"><span title=\"atf\">...</span></span></div></div></div><div class=\"contnr c1 cluster {}   \" ><div class=\"lbl c1 clustere trm \" ><span class=\"nd\">cluster</span> <span class=\"txtu\"><span title=\"type\">?</span></span></div> </div></div></div><div class=\"contnr c2    \" ><div class=\"lbl c2  \" ><span class=\"nd\">line</span> <span class=\"txtu\"><span title=\"number\">2</span></span></div><div class=\"children hor  \"><div class=\"contnr c0 trm   \" ><div class=\"lbl c0 trm \" ><span class=\"txtu\"><span title=\"atf\">EN~a</span></span></div><div><a target=\"_blank\" href=\"https://cdli.ucla.edu/tools/SignLists/protocuneiform/archsigns/EN~a.jpg\" title=\"to higher resolution lineart on CDLI\"><img src=\"cdli-imagery/lineart-en-a.jpg\" style=\"display: inline;max-width: 2em; max-height: 6em;\"  /></a></div></div><div class=\"contnr c0 trm   \" ><div class=\"lbl c0 trm \" ><span class=\"txtu\"><span title=\"atf\">LAL2~a#?</span></span></div><div><a target=\"_blank\" href=\"https://cdli.ucla.edu/tools/SignLists/protocuneiform/archsigns/LAL2~a.jpg\" title=\"to higher resolution lineart on CDLI\"><img src=\"cdli-imagery/lineart-lal2-a.jpg\" style=\"display: inline;max-width: 2em; max-height: 6em;\"  /></a></div></div><div class=\"contnr c0 trm   \" ><div class=\"lbl c0 trm \" ><span class=\"txtu\"><span title=\"atf\">NIM~b2#?</span></span></div><div><a target=\"_blank\" href=\"https://cdli.ucla.edu/tools/SignLists/protocuneiform/archsigns/NIM~b2.jpg\" title=\"to higher resolution lineart on CDLI\"><img src=\"cdli-imagery/lineart-nim-b2.jpg\" style=\"display: inline;max-width: 2em; max-height: 6em;\"  /></a></div></div><div class=\"contnr c1 cluster trm   \" ><div class=\"lbl c1 clusterb trm \" ><span class=\"nd\">cluster</span> <span class=\"txtu\"><span title=\"type\">?</span></span></div></div><div class=\"children hor wrap \"><div class=\"contnr c0 trm   \" ><div class=\"lbl c0 trm \" ><span class=\"txtu\"><span title=\"atf\">...</span></span></div></div></div><div class=\"contnr c1 cluster {}   \" ><div class=\"lbl c1 clustere trm \" ><span class=\"nd\">cluster</span> <span class=\"txtu\"><span title=\"type\">?</span></span></div> </div></div></div></div></div></div></div></div></div></div>"
      ],
      "text/plain": [
       "<IPython.core.display.HTML object>"
      ]
     },
     "metadata": {},
     "output_type": "display_data"
    },
    {
     "data": {
      "text/html": [
       "<p><b>result</b> <i>2</i></p>"
      ],
      "text/plain": [
       "<IPython.core.display.HTML object>"
      ]
     },
     "metadata": {},
     "output_type": "display_data"
    },
    {
     "data": {
      "text/html": [
       "<div class=\"tfsechead \"><a target=\"_blank\" href=\"https://cdli.ucla.edu/search/search_results.php?SearchMode=Text&amp;ObjectID=P002044\" title=\"to CDLI main page for this tablet\" sec=\"P002044\">P002044</a></div><div class=\" children\"><div class=\"contnr c4    \" ><div class=\"lbl c4  \" ><span class=\"nd\">tablet</span> <span class=\"txtu\"><span class=\"tfsechead\">P002044</span></span></div><div class='features'><span class=\"name \" title=\"name\">ATU 6, pl. 043, W 14335,x</span><span class=\"period \" title=\"period\">uruk-iii</span><span class=\"excavation \" title=\"excavation\">W 14335,x</span></div><div class=\"children ver  \"><div class=\"contnr c1 trm   \" ><div class=\"lbl c1 trm \" ><span class=\"nd\">comment</span> <span class=\"txtu\"><span class=\"plain   \" ><span class=\"plain \" ></span> </span></span></div><div class='features'><span class=\"text \" title=\"text\">atf: lang qpc</span></div></div><div class=\"contnr c2    \" ><div class=\"lbl c2  \" ><span class=\"nd\">face</span> <span class=\"txtu\"><span title=\"type\">obverse</span></span></div><div class=\"children hor  \"><div class=\"contnr c3    \" ><div class=\"lbl c3  \" ><span class=\"nd\">column</span> <span class=\"txtu\"><span title=\"number\">1</span><span title=\"prime\"></span></span></div><div class=\"children ver  \"><div class=\"contnr c2    \" ><div class=\"lbl c2  \" ><span class=\"nd\">line</span> <span class=\"txtu\"><span title=\"number\">1</span></span></div><div class=\"children hor  \"><div class=\"contnr c2    \" ><div class=\"lbl c2  \" ><span class=\"nd\">case</span> <span class=\"txtu\"><span title=\"number\">1a</span><span title=\"prime\"></span></span></div><div class=\"children ver False \"><div class=\"contnr c1 cluster trm   \" ><div class=\"lbl c1 clusterb trm \" ><span class=\"nd\">cluster</span> <span class=\"txtu\"><span title=\"type\">?</span></span></div></div><div class=\"children hor wrap \"><div class=\"contnr c0 trm   \" ><div class=\"lbl c0 trm \" ><span class=\"txtu\"><span title=\"atf\">...</span></span></div></div></div><div class=\"contnr c1 cluster {}   \" ><div class=\"lbl c1 clustere trm \" ><span class=\"nd\">cluster</span> <span class=\"txtu\"><span title=\"type\">?</span></span></div> </div><div class=\"contnr c1 cluster trm   \" ><div class=\"lbl c1 clusterb trm \" ><span class=\"nd\">cluster</span> <span class=\"txtu\"><span title=\"type\">?</span></span></div></div><div class=\"children hor wrap \"><div class=\"contnr c0 trm   \" ><div class=\"lbl c0 trm \" ><span class=\"txtu\"><span title=\"atf\">...</span></span></div></div></div><div class=\"contnr c1 cluster {}   \" ><div class=\"lbl c1 clustere trm \" ><span class=\"nd\">cluster</span> <span class=\"txtu\"><span title=\"type\">?</span></span></div> </div><div class=\"contnr c0 trm   \" ><div class=\"lbl c0 trm \" ><span class=\"txtu\"><span title=\"atf\">GAL~a#</span></span></div><div><a target=\"_blank\" href=\"https://cdli.ucla.edu/tools/SignLists/protocuneiform/archsigns/GAL~a.jpg\" title=\"to higher resolution lineart on CDLI\"><img src=\"cdli-imagery/lineart-gal-a.jpg\" style=\"display: inline;max-width: 2em; max-height: 6em;\"  /></a></div></div></div></div><div class=\"contnr c2    \" ><div class=\"lbl c2  \" ><span class=\"nd\">case</span> <span class=\"txtu\"><span title=\"number\">1b</span><span title=\"prime\"></span></span></div><div class=\"children ver False \"><div class=\"contnr c1 cluster trm   \" ><div class=\"lbl c1 clusterb trm \" ><span class=\"nd\">cluster</span> <span class=\"txtu\"><span title=\"type\">?</span></span></div></div><div class=\"children hor wrap \"><div class=\"contnr c0 trm   \" ><div class=\"lbl c0 trm \" ><span class=\"txtu\"><span title=\"atf\">...</span></span></div></div></div><div class=\"contnr c1 cluster {}   \" ><div class=\"lbl c1 clustere trm \" ><span class=\"nd\">cluster</span> <span class=\"txtu\"><span title=\"type\">?</span></span></div> </div><div class=\"contnr c1 cluster trm   \" ><div class=\"lbl c1 clusterb trm \" ><span class=\"nd\">cluster</span> <span class=\"txtu\"><span title=\"type\">?</span></span></div></div><div class=\"children hor wrap \"><div class=\"contnr c0 trm   \" ><div class=\"lbl c0 trm \" ><span class=\"txtu\"><span title=\"atf\">...</span></span></div></div></div><div class=\"contnr c1 cluster {}   \" ><div class=\"lbl c1 clustere trm \" ><span class=\"nd\">cluster</span> <span class=\"txtu\"><span title=\"type\">?</span></span></div> </div></div></div></div></div><div class=\"contnr c2    \" ><div class=\"lbl c2  \" ><span class=\"nd\">line</span> <span class=\"txtu\"><span title=\"number\">2</span></span></div><div class=\"children hor  \"><div class=\"contnr c1 cluster trm   \" ><div class=\"lbl c1 clusterb trm \" ><span class=\"nd\">cluster</span> <span class=\"txtu\"><span title=\"type\">?</span></span></div></div><div class=\"children hor wrap \"><div class=\"contnr c0 trm   \" ><div class=\"lbl c0 trm \" ><span class=\"txtu\"><span title=\"atf\">...</span></span></div></div></div><div class=\"contnr c1 cluster {}   \" ><div class=\"lbl c1 clustere trm \" ><span class=\"nd\">cluster</span> <span class=\"txtu\"><span title=\"type\">?</span></span></div> </div><div class=\"contnr c1 cluster trm   \" ><div class=\"lbl c1 clusterb trm \" ><span class=\"nd\">cluster</span> <span class=\"txtu\"><span title=\"type\">?</span></span></div></div><div class=\"children hor wrap \"><div class=\"contnr c0 trm   \" ><div class=\"lbl c0 trm \" ><span class=\"txtu\"><span title=\"atf\">...</span></span></div></div></div><div class=\"contnr c1 cluster {}   \" ><div class=\"lbl c1 clustere trm \" ><span class=\"nd\">cluster</span> <span class=\"txtu\"><span title=\"type\">?</span></span></div> </div><div class=\"contnr c0 trm   \" ><div class=\"lbl c0 trm \" ><span class=\"txtu\"><span title=\"atf\">PAP~a#?</span></span></div><div><a target=\"_blank\" href=\"https://cdli.ucla.edu/tools/SignLists/protocuneiform/archsigns/PAP~a.jpg\" title=\"to higher resolution lineart on CDLI\"><img src=\"cdli-imagery/lineart-pap-a.jpg\" style=\"display: inline;max-width: 2em; max-height: 6em;\"  /></a></div></div></div></div></div></div></div></div></div></div></div>"
      ],
      "text/plain": [
       "<IPython.core.display.HTML object>"
      ]
     },
     "metadata": {},
     "output_type": "display_data"
    }
   ],
   "source": [
    "A.show(results, end=2)"
   ]
  },
  {
   "cell_type": "code",
   "execution_count": 12,
   "metadata": {},
   "outputs": [
    {
     "name": "stdout",
     "output_type": "stream",
     "text": [
      "  0.01s 53 results\n"
     ]
    }
   ],
   "source": [
    "results = A.search(query, shallow=True)\n",
    "customSets = dict(cntablet=results)"
   ]
  },
  {
   "cell_type": "code",
   "execution_count": 13,
   "metadata": {},
   "outputs": [
    {
     "name": "stdout",
     "output_type": "stream",
     "text": [
      "  0.13s 160 results\n"
     ]
    }
   ],
   "source": [
    "query = '''\n",
    "cntablet\n",
    "  sign type=numeral\n",
    "'''\n",
    "results = A.search(query, sets=customSets)"
   ]
  },
  {
   "cell_type": "code",
   "execution_count": 14,
   "metadata": {},
   "outputs": [
    {
     "data": {
      "text/html": [
       "<p><b>result</b> <i>1</i></p>"
      ],
      "text/plain": [
       "<IPython.core.display.HTML object>"
      ]
     },
     "metadata": {},
     "output_type": "display_data"
    },
    {
     "data": {
      "text/html": [
       "<div class=\"tfsechead \"><a target=\"_blank\" href=\"https://cdli.ucla.edu/search/search_results.php?SearchMode=Text&amp;ObjectID=P006438\" title=\"to CDLI main page for this tablet\" sec=\"P006438\">P006438</a></div><div class=\" children\"><div class=\"contnr c4    \" ><div class=\"lbl c4  \" ><span class=\"nd\">tablet</span> <span class=\"txtu\"><span class=\"tfsechead\">P006438</span></span></div><div class='features'><span class=\"name \" title=\"name\">AOST 109</span><span class=\"period \" title=\"period\">uruk-iii</span></div><div class=\"children ver  \"><div class=\"contnr c1 trm   \" ><div class=\"lbl c1 trm \" ><span class=\"nd\">comment</span> <span class=\"txtu\"><span class=\"plain   \" ><span class=\"plain \" ></span> </span></span></div><div class='features'><span class=\"text \" title=\"text\">atf: lang qpc</span></div></div><div class=\"contnr c2    \" ><div class=\"lbl c2  \" ><span class=\"nd\">face</span> <span class=\"txtu\"><span title=\"type\">obverse</span></span></div><div class=\"children hor  \"><div class=\"contnr c3    \" ><div class=\"lbl c3  \" ><span class=\"nd\">column</span> <span class=\"txtu\"><span title=\"number\">1</span><span title=\"prime\"></span></span></div><div class=\"children ver  \"><div class=\"contnr c2    \" ><div class=\"lbl c2  \" ><span class=\"nd\">line</span> <span class=\"txtu\"><span title=\"number\">1</span></span></div><div class=\"children hor  \"><div class=\"contnr c1 cluster trm   \" ><div class=\"lbl c1 clusterb trm \" ><span class=\"nd\">cluster</span> <span class=\"txtu\"><span title=\"type\">?</span></span></div></div><div class=\"children hor wrap \"><div class=\"contnr c0 trm   \" ><div class=\"lbl c0 trm \" ><span class=\"txtu\"><span title=\"atf\">...</span></span></div></div></div><div class=\"contnr c1 cluster {}   \" ><div class=\"lbl c1 clustere trm \" ><span class=\"nd\">cluster</span> <span class=\"txtu\"><span title=\"type\">?</span></span></div> </div><div class=\"contnr c1 cluster trm   \" ><div class=\"lbl c1 clusterb trm \" ><span class=\"nd\">cluster</span> <span class=\"txtu\"><span title=\"type\">?</span></span></div></div><div class=\"children hor wrap \"><div class=\"contnr c0 trm   \" ><div class=\"lbl c0 trm \" ><span class=\"txtu\"><span title=\"atf\">...</span></span></div></div></div><div class=\"contnr c1 cluster {}   \" ><div class=\"lbl c1 clustere trm \" ><span class=\"nd\">cluster</span> <span class=\"txtu\"><span title=\"type\">?</span></span></div> </div></div></div><div class=\"contnr c2    \" ><div class=\"lbl c2  \" ><span class=\"nd\">line</span> <span class=\"txtu\"><span title=\"number\">2</span></span></div><div class=\"children hor  \"><div class=\"contnr c2    \" ><div class=\"lbl c2  \" ><span class=\"nd\">case</span> <span class=\"txtu\"><span title=\"number\">2a</span><span title=\"prime\"></span></span></div><div class=\"children ver False \"><div class=\"contnr c0 trm   \" ><div class=\"lbl c0 trm \" ><span class=\"txtu\"><span title=\"atf\">KU6~a</span></span></div><div><a target=\"_blank\" href=\"https://cdli.ucla.edu/tools/SignLists/protocuneiform/archsigns/KU6~a.jpg\" title=\"to higher resolution lineart on CDLI\"><img src=\"cdli-imagery/lineart-ku6-a.jpg\" style=\"display: inline;max-width: 2em; max-height: 6em;\"  /></a></div></div><div class=\"contnr c0 trm   \" ><div class=\"lbl c0 trm \" ><span class=\"txtu\"><span title=\"atf\">BU~a</span></span></div><div><a target=\"_blank\" href=\"https://cdli.ucla.edu/tools/SignLists/protocuneiform/archsigns/BU~a.jpg\" title=\"to higher resolution lineart on CDLI\"><img src=\"cdli-imagery/lineart-bu-a.jpg\" style=\"display: inline;max-width: 2em; max-height: 6em;\"  /></a></div></div></div></div><div class=\"contnr c2    \" ><div class=\"lbl c2  \" ><span class=\"nd\">case</span> <span class=\"txtu\"><span title=\"number\">2b</span><span title=\"prime\"></span></span></div><div class=\"children ver False \"><div class=\"contnr c1    \" ><div class=\"lbl c1  \" ><span class=\"nd\">quad</span></div><div><a target=\"_blank\" href=\"https://cdli.ucla.edu/tools/SignLists/protocuneiform/archsigns/|AB~axSUKKAL|.jpg\" title=\"to higher resolution lineart on CDLI\"><img src=\"cdli-imagery/lineart-qab-axsukkalq.jpg\" style=\"display: inline;max-width: 4em; max-height: 4em;\"  /></a></div><div class=\"children hor wrap \"><div class=\"contnr c0 trm   \" ><div class=\"lbl c0 trm \" ><span class=\"txtu\"><span title=\"atf\">AB~a</span></span></div></div><div class=\"op\">x</div><div class=\"contnr c0 trm   \" ><div class=\"lbl c0 trm \" ><span class=\"txtu\"><span title=\"atf\">SUKKAL</span></span></div></div></div></div></div></div><div class=\"contnr c2    \" ><div class=\"lbl c2  \" ><span class=\"nd\">case</span> <span class=\"txtu\"><span title=\"number\">2c</span><span title=\"prime\"></span></span></div><div class=\"children ver False \"><div class=\"contnr c0 trm   \" ><div class=\"lbl c0 trm \" ><span class=\"txtu\"><span title=\"atf\">NAM2</span></span></div><div><a target=\"_blank\" href=\"https://cdli.ucla.edu/tools/SignLists/protocuneiform/archsigns/NAM2.jpg\" title=\"to higher resolution lineart on CDLI\"><img src=\"cdli-imagery/lineart-nam2.jpg\" style=\"display: inline;max-width: 2em; max-height: 6em;\"  /></a></div></div><div class=\"contnr c0 trm   \" ><div class=\"lbl c0 trm \" ><span class=\"txtu\"><span title=\"atf\">RAD~a</span></span></div><div><a target=\"_blank\" href=\"https://cdli.ucla.edu/tools/SignLists/protocuneiform/archsigns/RAD~a.jpg\" title=\"to higher resolution lineart on CDLI\"><img src=\"cdli-imagery/lineart-rad-a.jpg\" style=\"display: inline;max-width: 2em; max-height: 6em;\"  /></a></div></div><div class=\"contnr c0 trm   \" ><div class=\"lbl c0 trm \" ><span class=\"txtu\"><span title=\"atf\">PA~a</span></span></div><div><a target=\"_blank\" href=\"https://cdli.ucla.edu/tools/SignLists/protocuneiform/archsigns/PA~a.jpg\" title=\"to higher resolution lineart on CDLI\"><img src=\"cdli-imagery/lineart-pa-a.jpg\" style=\"display: inline;max-width: 2em; max-height: 6em;\"  /></a></div></div><div class=\"contnr c0 trm   \" ><div class=\"lbl c0 trm \" ><span class=\"txtu\"><span title=\"atf\">SZU</span></span></div><div><a target=\"_blank\" href=\"https://cdli.ucla.edu/tools/SignLists/protocuneiform/archsigns/SZU.jpg\" title=\"to higher resolution lineart on CDLI\"><img src=\"cdli-imagery/lineart-szu.jpg\" style=\"display: inline;max-width: 2em; max-height: 6em;\"  /></a></div></div></div></div><div class=\"contnr c2    \" ><div class=\"lbl c2  \" ><span class=\"nd\">case</span> <span class=\"txtu\"><span title=\"number\">2d</span><span title=\"prime\"></span></span></div><div class=\"children ver False \"><div class=\"contnr c0 trm   \" ><div class=\"lbl c0 trm \" ><span class=\"txtu\"><span title=\"atf\">RAD~a</span></span></div><div><a target=\"_blank\" href=\"https://cdli.ucla.edu/tools/SignLists/protocuneiform/archsigns/RAD~a.jpg\" title=\"to higher resolution lineart on CDLI\"><img src=\"cdli-imagery/lineart-rad-a.jpg\" style=\"display: inline;max-width: 2em; max-height: 6em;\"  /></a></div></div><div class=\"contnr c1 cluster trm   \" ><div class=\"lbl c1 clusterb trm \" ><span class=\"nd\">cluster</span> <span class=\"txtu\"><span title=\"type\">?</span></span></div></div><div class=\"children hor wrap \"><div class=\"contnr c0 trm   \" ><div class=\"lbl c0 trm \" ><span class=\"txtu\"><span title=\"atf\">...</span></span></div></div></div><div class=\"contnr c1 cluster {}   \" ><div class=\"lbl c1 clustere trm \" ><span class=\"nd\">cluster</span> <span class=\"txtu\"><span title=\"type\">?</span></span></div> </div></div></div></div></div><div class=\"contnr c2    \" ><div class=\"lbl c2  \" ><span class=\"nd\">line</span> <span class=\"txtu\"><span title=\"number\">3</span></span></div><div class=\"children hor  \"><div class=\"contnr c1 cluster trm   \" ><div class=\"lbl c1 clusterb trm \" ><span class=\"nd\">cluster</span> <span class=\"txtu\"><span title=\"type\">?</span></span></div></div><div class=\"children hor wrap \"><div class=\"contnr c0 trm   \" ><div class=\"lbl c0 trm \" ><span class=\"txtu\"><span title=\"atf\">...</span></span></div></div></div><div class=\"contnr c1 cluster {}   \" ><div class=\"lbl c1 clustere trm \" ><span class=\"nd\">cluster</span> <span class=\"txtu\"><span title=\"type\">?</span></span></div> </div></div></div></div></div></div></div><div class=\"contnr c2    \" ><div class=\"lbl c2  \" ><span class=\"nd\">face</span> <span class=\"txtu\"><span title=\"type\">reverse</span></span></div><div class=\"children hor  \"><div class=\"contnr c3    \" ><div class=\"lbl c3  \" ><span class=\"nd\">column</span> <span class=\"txtu\"><span title=\"number\">1</span><span title=\"prime\"></span></span></div><div class=\"children ver  \"><div class=\"contnr c2    \" ><div class=\"lbl c2  \" ><span class=\"nd\">line</span> <span class=\"txtu\"><span title=\"number\">1</span></span></div><div class=\"children hor  \"><div class=\"contnr c1 cluster trm   \" ><div class=\"lbl c1 clusterb trm \" ><span class=\"nd\">cluster</span> <span class=\"txtu\"><span title=\"type\">?</span></span></div></div><div class=\"children hor wrap \"><div class=\"contnr c0 trm   \" ><div class=\"lbl c0 trm \" ><span class=\"txtu\"><span title=\"atf\">...</span></span></div></div></div><div class=\"contnr c1 cluster {}   \" ><div class=\"lbl c1 clustere trm \" ><span class=\"nd\">cluster</span> <span class=\"txtu\"><span title=\"type\">?</span></span></div> </div><div class=\"contnr c1 cluster trm   \" ><div class=\"lbl c1 clusterb trm \" ><span class=\"nd\">cluster</span> <span class=\"txtu\"><span title=\"type\">?</span></span></div></div><div class=\"children hor wrap \"><div class=\"contnr c0 trm   \" ><div class=\"lbl c0 trm \" ><span class=\"txtu\"><span title=\"atf\">...</span></span></div></div></div><div class=\"contnr c1 cluster {}   \" ><div class=\"lbl c1 clustere trm \" ><span class=\"nd\">cluster</span> <span class=\"txtu\"><span title=\"type\">?</span></span></div> </div></div></div><div class=\"contnr c2    \" ><div class=\"lbl c2  \" ><span class=\"nd\">line</span> <span class=\"txtu\"><span title=\"number\">2</span></span></div><div class=\"children hor  \"><div class=\"contnr c0 trm   hl\" ><div class=\"lbl c0 trm hl\" ><span class=\"txtu\"><span title=\"atf\">1(N01)</span></span></div><div><a target=\"_blank\" href=\"https://cdli.ucla.edu/tools/SignLists/protocuneiform/archsigns/1(N01).jpg\" title=\"to higher resolution lineart on CDLI\"><img src=\"cdli-imagery/lineart-1(n01).jpg\" style=\"display: inline;max-width: 2em; max-height: 6em;\"  /></a></div></div><div class=\"contnr c0 trm   \" ><div class=\"lbl c0 trm \" ><span class=\"txtu\"><span title=\"atf\">USZ~a</span></span></div><div><a target=\"_blank\" href=\"https://cdli.ucla.edu/tools/SignLists/protocuneiform/archsigns/USZ~a.jpg\" title=\"to higher resolution lineart on CDLI\"><img src=\"cdli-imagery/lineart-usz-a.jpg\" style=\"display: inline;max-width: 2em; max-height: 6em;\"  /></a></div></div><div class=\"contnr c0 trm   \" ><div class=\"lbl c0 trm \" ><span class=\"txtu\"><span title=\"atf\">SZUBUR</span></span></div><div><a target=\"_blank\" href=\"https://cdli.ucla.edu/tools/SignLists/protocuneiform/archsigns/SZUBUR.jpg\" title=\"to higher resolution lineart on CDLI\"><img src=\"cdli-imagery/lineart-szubur.jpg\" style=\"display: inline;max-width: 2em; max-height: 6em;\"  /></a></div></div><div class=\"contnr c0 trm   \" ><div class=\"lbl c0 trm \" ><span class=\"txtu\"><span title=\"atf\">GAL~a</span></span></div><div><a target=\"_blank\" href=\"https://cdli.ucla.edu/tools/SignLists/protocuneiform/archsigns/GAL~a.jpg\" title=\"to higher resolution lineart on CDLI\"><img src=\"cdli-imagery/lineart-gal-a.jpg\" style=\"display: inline;max-width: 2em; max-height: 6em;\"  /></a></div></div><div class=\"contnr c0 trm   \" ><div class=\"lbl c0 trm \" ><span class=\"txtu\"><span title=\"atf\">IM~a</span></span></div><div><a target=\"_blank\" href=\"https://cdli.ucla.edu/tools/SignLists/protocuneiform/archsigns/IM~a.jpg\" title=\"to higher resolution lineart on CDLI\"><img src=\"cdli-imagery/lineart-im-a.jpg\" style=\"display: inline;max-width: 2em; max-height: 6em;\"  /></a></div></div></div></div><div class=\"contnr c2    \" ><div class=\"lbl c2  \" ><span class=\"nd\">line</span> <span class=\"txtu\"><span title=\"number\">3</span></span></div><div class=\"children hor  \"><div class=\"contnr c0 trm   \" ><div class=\"lbl c0 trm \" ><span class=\"txtu\"><span title=\"atf\">SZA</span></span></div><div><a target=\"_blank\" href=\"https://cdli.ucla.edu/tools/SignLists/protocuneiform/archsigns/SZA.jpg\" title=\"to higher resolution lineart on CDLI\"><img src=\"cdli-imagery/lineart-sza.jpg\" style=\"display: inline;max-width: 2em; max-height: 6em;\"  /></a></div></div><div class=\"contnr c1 cluster trm   \" ><div class=\"lbl c1 clusterb trm \" ><span class=\"nd\">cluster</span> <span class=\"txtu\"><span title=\"type\">?</span></span></div></div><div class=\"children hor wrap \"><div class=\"contnr c0 trm   \" ><div class=\"lbl c0 trm \" ><span class=\"txtu\"><span title=\"atf\">...</span></span></div></div></div><div class=\"contnr c1 cluster {}   \" ><div class=\"lbl c1 clustere trm \" ><span class=\"nd\">cluster</span> <span class=\"txtu\"><span title=\"type\">?</span></span></div> </div><div class=\"contnr c0 trm   \" ><div class=\"lbl c0 trm \" ><span class=\"txtu\"><span title=\"atf\">RAD~a#</span></span></div><div><a target=\"_blank\" href=\"https://cdli.ucla.edu/tools/SignLists/protocuneiform/archsigns/RAD~a.jpg\" title=\"to higher resolution lineart on CDLI\"><img src=\"cdli-imagery/lineart-rad-a.jpg\" style=\"display: inline;max-width: 2em; max-height: 6em;\"  /></a></div></div></div></div><div class=\"contnr c2    \" ><div class=\"lbl c2  \" ><span class=\"nd\">line</span> <span class=\"txtu\"><span title=\"number\">4</span></span></div><div class=\"children hor  \"><div class=\"contnr c1 cluster trm   \" ><div class=\"lbl c1 clusterb trm \" ><span class=\"nd\">cluster</span> <span class=\"txtu\"><span title=\"type\">?</span></span></div></div><div class=\"children hor wrap \"><div class=\"contnr c0 trm   \" ><div class=\"lbl c0 trm \" ><span class=\"txtu\"><span title=\"atf\">...</span></span></div></div></div><div class=\"contnr c1 cluster {}   \" ><div class=\"lbl c1 clustere trm \" ><span class=\"nd\">cluster</span> <span class=\"txtu\"><span title=\"type\">?</span></span></div> </div><div class=\"contnr c1 cluster trm   \" ><div class=\"lbl c1 clusterb trm \" ><span class=\"nd\">cluster</span> <span class=\"txtu\"><span title=\"type\">?</span></span></div></div><div class=\"children hor wrap \"><div class=\"contnr c0 trm   \" ><div class=\"lbl c0 trm \" ><span class=\"txtu\"><span title=\"atf\">...</span></span></div></div></div><div class=\"contnr c1 cluster {}   \" ><div class=\"lbl c1 clustere trm \" ><span class=\"nd\">cluster</span> <span class=\"txtu\"><span title=\"type\">?</span></span></div> </div></div></div></div></div><div class=\"contnr c3    \" ><div class=\"lbl c3  \" ><span class=\"nd\">column</span> <span class=\"txtu\"><span title=\"number\">2</span><span title=\"prime\"></span></span></div><div class=\"children ver  \"><div class=\"contnr c2    \" ><div class=\"lbl c2  \" ><span class=\"nd\">line</span> <span class=\"txtu\"><span title=\"number\">1</span></span></div><div class=\"children hor  \"><div class=\"contnr c1 cluster trm   \" ><div class=\"lbl c1 clusterb trm \" ><span class=\"nd\">cluster</span> <span class=\"txtu\"><span title=\"type\">?</span></span></div></div><div class=\"children hor wrap \"><div class=\"contnr c0 trm   \" ><div class=\"lbl c0 trm \" ><span class=\"txtu\"><span title=\"atf\">...</span></span></div></div></div><div class=\"contnr c1 cluster {}   \" ><div class=\"lbl c1 clustere trm \" ><span class=\"nd\">cluster</span> <span class=\"txtu\"><span title=\"type\">?</span></span></div> </div><div class=\"contnr c1 cluster trm   \" ><div class=\"lbl c1 clusterb trm \" ><span class=\"nd\">cluster</span> <span class=\"txtu\"><span title=\"type\">?</span></span></div></div><div class=\"children hor wrap \"><div class=\"contnr c0 trm   \" ><div class=\"lbl c0 trm \" ><span class=\"txtu\"><span title=\"atf\">...</span></span></div></div></div><div class=\"contnr c1 cluster {}   \" ><div class=\"lbl c1 clustere trm \" ><span class=\"nd\">cluster</span> <span class=\"txtu\"><span title=\"type\">?</span></span></div> </div></div></div><div class=\"contnr c2    \" ><div class=\"lbl c2  \" ><span class=\"nd\">line</span> <span class=\"txtu\"><span title=\"number\">2</span></span></div><div class=\"children hor  \"><div class=\"contnr c0 trm   \" ><div class=\"lbl c0 trm \" ><span class=\"txtu\"><span title=\"atf\">EN~a</span></span></div><div><a target=\"_blank\" href=\"https://cdli.ucla.edu/tools/SignLists/protocuneiform/archsigns/EN~a.jpg\" title=\"to higher resolution lineart on CDLI\"><img src=\"cdli-imagery/lineart-en-a.jpg\" style=\"display: inline;max-width: 2em; max-height: 6em;\"  /></a></div></div><div class=\"contnr c0 trm   \" ><div class=\"lbl c0 trm \" ><span class=\"txtu\"><span title=\"atf\">LAL2~a#?</span></span></div><div><a target=\"_blank\" href=\"https://cdli.ucla.edu/tools/SignLists/protocuneiform/archsigns/LAL2~a.jpg\" title=\"to higher resolution lineart on CDLI\"><img src=\"cdli-imagery/lineart-lal2-a.jpg\" style=\"display: inline;max-width: 2em; max-height: 6em;\"  /></a></div></div><div class=\"contnr c0 trm   \" ><div class=\"lbl c0 trm \" ><span class=\"txtu\"><span title=\"atf\">NIM~b2#?</span></span></div><div><a target=\"_blank\" href=\"https://cdli.ucla.edu/tools/SignLists/protocuneiform/archsigns/NIM~b2.jpg\" title=\"to higher resolution lineart on CDLI\"><img src=\"cdli-imagery/lineart-nim-b2.jpg\" style=\"display: inline;max-width: 2em; max-height: 6em;\"  /></a></div></div><div class=\"contnr c1 cluster trm   \" ><div class=\"lbl c1 clusterb trm \" ><span class=\"nd\">cluster</span> <span class=\"txtu\"><span title=\"type\">?</span></span></div></div><div class=\"children hor wrap \"><div class=\"contnr c0 trm   \" ><div class=\"lbl c0 trm \" ><span class=\"txtu\"><span title=\"atf\">...</span></span></div></div></div><div class=\"contnr c1 cluster {}   \" ><div class=\"lbl c1 clustere trm \" ><span class=\"nd\">cluster</span> <span class=\"txtu\"><span title=\"type\">?</span></span></div> </div></div></div></div></div></div></div></div></div></div>"
      ],
      "text/plain": [
       "<IPython.core.display.HTML object>"
      ]
     },
     "metadata": {},
     "output_type": "display_data"
    },
    {
     "data": {
      "text/html": [
       "<p><b>result</b> <i>2</i></p>"
      ],
      "text/plain": [
       "<IPython.core.display.HTML object>"
      ]
     },
     "metadata": {},
     "output_type": "display_data"
    },
    {
     "data": {
      "text/html": [
       "<div class=\"tfsechead \"><a target=\"_blank\" href=\"https://cdli.ucla.edu/search/search_results.php?SearchMode=Text&amp;ObjectID=P002082\" title=\"to CDLI main page for this tablet\" sec=\"P002082\">P002082</a></div><div class=\" children\"><div class=\"contnr c4    \" ><div class=\"lbl c4  \" ><span class=\"nd\">tablet</span> <span class=\"txtu\"><span class=\"tfsechead\">P002082</span></span></div><div class='features'><span class=\"name \" title=\"name\">ATU 6, pl. 047, W 14637</span><span class=\"period \" title=\"period\">uruk-iii</span><span class=\"excavation \" title=\"excavation\">W 14637</span></div><div class=\"children ver  \"><div class=\"contnr c1 trm   \" ><div class=\"lbl c1 trm \" ><span class=\"nd\">comment</span> <span class=\"txtu\"><span class=\"plain   \" ><span class=\"plain \" ></span> </span></span></div><div class='features'><span class=\"text \" title=\"text\">atf: lang qpc</span></div></div><div class=\"contnr c2    \" ><div class=\"lbl c2  \" ><span class=\"nd\">face</span> <span class=\"txtu\"><span title=\"type\">obverse</span></span></div><div class=\"children hor  \"><div class=\"contnr c3    \" ><div class=\"lbl c3  \" ><span class=\"nd\">column</span> <span class=\"txtu\"><span title=\"number\">1</span><span title=\"prime\"></span></span></div><div class=\"children ver  \"><div class=\"contnr c2    \" ><div class=\"lbl c2  \" ><span class=\"nd\">line</span> <span class=\"txtu\"><span title=\"number\">1</span></span></div><div class=\"children hor  \"><div class=\"contnr c0 trm   hl\" ><div class=\"lbl c0 trm hl\" ><span class=\"txtu\"><span title=\"atf\">1(N01)#</span></span></div><div><a target=\"_blank\" href=\"https://cdli.ucla.edu/tools/SignLists/protocuneiform/archsigns/1(N01).jpg\" title=\"to higher resolution lineart on CDLI\"><img src=\"cdli-imagery/lineart-1(n01).jpg\" style=\"display: inline;max-width: 2em; max-height: 6em;\"  /></a></div></div><div class=\"contnr c0 trm   \" ><div class=\"lbl c0 trm \" ><span class=\"txtu\"><span title=\"atf\">BA#</span></span></div><div><a target=\"_blank\" href=\"https://cdli.ucla.edu/tools/SignLists/protocuneiform/archsigns/BA.jpg\" title=\"to higher resolution lineart on CDLI\"><img src=\"cdli-imagery/lineart-ba.jpg\" style=\"display: inline;max-width: 2em; max-height: 6em;\"  /></a></div></div><div class=\"contnr c0 trm   \" ><div class=\"lbl c0 trm \" ><span class=\"txtu\"><span title=\"atf\">SUHUR#</span></span></div><div><a target=\"_blank\" href=\"https://cdli.ucla.edu/tools/SignLists/protocuneiform/archsigns/SUHUR.jpg\" title=\"to higher resolution lineart on CDLI\"><img src=\"cdli-imagery/lineart-suhur.jpg\" style=\"display: inline;max-width: 2em; max-height: 6em;\"  /></a></div></div><div class=\"contnr c0 trm   \" ><div class=\"lbl c0 trm \" ><span class=\"txtu\"><span title=\"atf\">SAG</span></span></div><div><a target=\"_blank\" href=\"https://cdli.ucla.edu/tools/SignLists/protocuneiform/archsigns/SAG.jpg\" title=\"to higher resolution lineart on CDLI\"><img src=\"cdli-imagery/lineart-sag.jpg\" style=\"display: inline;max-width: 2em; max-height: 6em;\"  /></a></div></div></div></div><div class=\"contnr c2    \" ><div class=\"lbl c2  \" ><span class=\"nd\">line</span> <span class=\"txtu\"><span title=\"number\">2</span></span></div><div class=\"children hor  \"><div class=\"contnr c0 trm   \" ><div class=\"lbl c0 trm \" ><span class=\"txtu\"><span title=\"atf\">2(N01)#</span></span></div><div><a target=\"_blank\" href=\"https://cdli.ucla.edu/tools/SignLists/protocuneiform/archsigns/2(N01).jpg\" title=\"to higher resolution lineart on CDLI\"><img src=\"cdli-imagery/lineart-2(n01).jpg\" style=\"display: inline;max-width: 2em; max-height: 6em;\"  /></a></div></div><div class=\"contnr c0 trm   \" ><div class=\"lbl c0 trm \" ><span class=\"txtu\"><span title=\"atf\">BA#</span></span></div><div><a target=\"_blank\" href=\"https://cdli.ucla.edu/tools/SignLists/protocuneiform/archsigns/BA.jpg\" title=\"to higher resolution lineart on CDLI\"><img src=\"cdli-imagery/lineart-ba.jpg\" style=\"display: inline;max-width: 2em; max-height: 6em;\"  /></a></div></div><div class=\"contnr c0 trm   \" ><div class=\"lbl c0 trm \" ><span class=\"txtu\"><span title=\"atf\">SUHUR</span></span></div><div><a target=\"_blank\" href=\"https://cdli.ucla.edu/tools/SignLists/protocuneiform/archsigns/SUHUR.jpg\" title=\"to higher resolution lineart on CDLI\"><img src=\"cdli-imagery/lineart-suhur.jpg\" style=\"display: inline;max-width: 2em; max-height: 6em;\"  /></a></div></div></div></div><div class=\"contnr c2    \" ><div class=\"lbl c2  \" ><span class=\"nd\">line</span> <span class=\"txtu\"><span title=\"number\">3</span></span></div><div class=\"children hor  \"><div class=\"contnr c0 trm   \" ><div class=\"lbl c0 trm \" ><span class=\"txtu\"><span title=\"atf\">1(N14)#</span></span></div><div><a target=\"_blank\" href=\"https://cdli.ucla.edu/tools/SignLists/protocuneiform/archsigns/1(N14).jpg\" title=\"to higher resolution lineart on CDLI\"><img src=\"cdli-imagery/lineart-1(n14).jpg\" style=\"display: inline;max-width: 2em; max-height: 6em;\"  /></a></div></div><div class=\"contnr c0 trm   \" ><div class=\"lbl c0 trm \" ><span class=\"txtu\"><span title=\"atf\">X</span></span></div></div><div class=\"contnr c0 trm   \" ><div class=\"lbl c0 trm \" ><span class=\"txtu\"><span title=\"atf\">SUHUR#</span></span></div><div><a target=\"_blank\" href=\"https://cdli.ucla.edu/tools/SignLists/protocuneiform/archsigns/SUHUR.jpg\" title=\"to higher resolution lineart on CDLI\"><img src=\"cdli-imagery/lineart-suhur.jpg\" style=\"display: inline;max-width: 2em; max-height: 6em;\"  /></a></div></div></div></div><div class=\"contnr c2    \" ><div class=\"lbl c2  \" ><span class=\"nd\">line</span> <span class=\"txtu\"><span title=\"number\">4</span></span></div><div class=\"children hor  \"><div class=\"contnr c0 trm   \" ><div class=\"lbl c0 trm \" ><span class=\"txtu\"><span title=\"atf\">1(N01)#</span></span></div><div><a target=\"_blank\" href=\"https://cdli.ucla.edu/tools/SignLists/protocuneiform/archsigns/1(N01).jpg\" title=\"to higher resolution lineart on CDLI\"><img src=\"cdli-imagery/lineart-1(n01).jpg\" style=\"display: inline;max-width: 2em; max-height: 6em;\"  /></a></div></div><div class=\"contnr c0 trm   \" ><div class=\"lbl c0 trm \" ><span class=\"txtu\"><span title=\"atf\">SUMASZ</span></span></div><div><a target=\"_blank\" href=\"https://cdli.ucla.edu/tools/SignLists/protocuneiform/archsigns/SUMASZ.jpg\" title=\"to higher resolution lineart on CDLI\"><img src=\"cdli-imagery/lineart-sumasz.jpg\" style=\"display: inline;max-width: 2em; max-height: 6em;\"  /></a></div></div><div class=\"contnr c0 trm   \" ><div class=\"lbl c0 trm \" ><span class=\"txtu\"><span title=\"atf\">X</span></span></div></div></div></div></div></div><div class=\"contnr c3    \" ><div class=\"lbl c3  \" ><span class=\"nd\">column</span> <span class=\"txtu\"><span title=\"number\">2</span><span title=\"prime\"></span></span></div><div class=\"children ver  \"><div class=\"contnr c2    \" ><div class=\"lbl c2  \" ><span class=\"nd\">line</span> <span class=\"txtu\"><span title=\"number\">1</span></span></div><div class=\"children hor  \"><div class=\"contnr c0 trm   \" ><div class=\"lbl c0 trm \" ><span class=\"txtu\"><span title=\"atf\">1(N34)</span></span></div><div><a target=\"_blank\" href=\"https://cdli.ucla.edu/tools/SignLists/protocuneiform/archsigns/1(N34).jpg\" title=\"to higher resolution lineart on CDLI\"><img src=\"cdli-imagery/lineart-1(n34).jpg\" style=\"display: inline;max-width: 2em; max-height: 6em;\"  /></a></div></div><div class=\"contnr c1    \" ><div class=\"lbl c1  \" ><span class=\"nd\">quad</span></div><div><a target=\"_blank\" href=\"https://cdli.ucla.edu/tools/SignLists/protocuneiform/archsigns/|ZATU759xKU6~a|.jpg\" title=\"to higher resolution lineart on CDLI\"><img src=\"cdli-imagery/lineart-qzatu759xku6-aq.jpg\" style=\"display: inline;max-width: 4em; max-height: 4em;\"  /></a></div><div class=\"children hor wrap \"><div class=\"contnr c0 trm   \" ><div class=\"lbl c0 trm \" ><span class=\"txtu\"><span title=\"atf\">ZATU759</span></span></div></div><div class=\"op\">x</div><div class=\"contnr c0 trm   \" ><div class=\"lbl c0 trm \" ><span class=\"txtu\"><span title=\"atf\">KU6~a</span></span></div></div></div></div></div></div><div class=\"contnr c2    \" ><div class=\"lbl c2  \" ><span class=\"nd\">line</span> <span class=\"txtu\"><span title=\"number\">2</span></span></div><div class=\"children hor  \"><div class=\"contnr c0 trm   \" ><div class=\"lbl c0 trm \" ><span class=\"txtu\"><span title=\"atf\">UB</span></span></div><div><a target=\"_blank\" href=\"https://cdli.ucla.edu/tools/SignLists/protocuneiform/archsigns/UB.jpg\" title=\"to higher resolution lineart on CDLI\"><img src=\"cdli-imagery/lineart-ub.jpg\" style=\"display: inline;max-width: 2em; max-height: 6em;\"  /></a></div></div><div class=\"contnr c0 trm   \" ><div class=\"lbl c0 trm \" ><span class=\"txtu\"><span title=\"atf\">KU6~a</span></span></div><div><a target=\"_blank\" href=\"https://cdli.ucla.edu/tools/SignLists/protocuneiform/archsigns/KU6~a.jpg\" title=\"to higher resolution lineart on CDLI\"><img src=\"cdli-imagery/lineart-ku6-a.jpg\" style=\"display: inline;max-width: 2em; max-height: 6em;\"  /></a></div></div></div></div><div class=\"contnr c2    \" ><div class=\"lbl c2  \" ><span class=\"nd\">line</span> <span class=\"txtu\"><span title=\"number\">3</span></span></div><div class=\"children hor  \"><div class=\"contnr c2    \" ><div class=\"lbl c2  \" ><span class=\"nd\">case</span> <span class=\"txtu\"><span title=\"number\">3a</span><span title=\"prime\"></span></span></div><div class=\"children ver False \"><div class=\"contnr c0 trm   \" ><div class=\"lbl c0 trm \" ><span class=\"txtu\"><span title=\"atf\">X</span></span></div></div><div class=\"contnr c0 trm   \" ><div class=\"lbl c0 trm \" ><span class=\"txtu\"><span title=\"atf\">EN~a#</span></span></div><div><a target=\"_blank\" href=\"https://cdli.ucla.edu/tools/SignLists/protocuneiform/archsigns/EN~a.jpg\" title=\"to higher resolution lineart on CDLI\"><img src=\"cdli-imagery/lineart-en-a.jpg\" style=\"display: inline;max-width: 2em; max-height: 6em;\"  /></a></div></div><div class=\"contnr c0 trm   \" ><div class=\"lbl c0 trm \" ><span class=\"txtu\"><span title=\"atf\">X</span></span></div></div></div></div><div class=\"contnr c2    \" ><div class=\"lbl c2  \" ><span class=\"nd\">case</span> <span class=\"txtu\"><span title=\"number\">3b</span><span title=\"prime\"></span></span></div><div class=\"children ver False \"><div class=\"contnr c2    \" ><div class=\"lbl c2  \" ><span class=\"nd\">case</span> <span class=\"txtu\"><span title=\"number\">3b1</span><span title=\"prime\"></span></span></div><div class=\"children hor False \"><div class=\"contnr c0 trm   \" ><div class=\"lbl c0 trm \" ><span class=\"txtu\"><span title=\"atf\">SUHUR#</span></span></div><div><a target=\"_blank\" href=\"https://cdli.ucla.edu/tools/SignLists/protocuneiform/archsigns/SUHUR.jpg\" title=\"to higher resolution lineart on CDLI\"><img src=\"cdli-imagery/lineart-suhur.jpg\" style=\"display: inline;max-width: 2em; max-height: 6em;\"  /></a></div></div><div class=\"contnr c0 trm   \" ><div class=\"lbl c0 trm \" ><span class=\"txtu\"><span title=\"atf\">X</span></span></div></div></div></div><div class=\"contnr c2    \" ><div class=\"lbl c2  \" ><span class=\"nd\">case</span> <span class=\"txtu\"><span title=\"number\">3b2</span><span title=\"prime\"></span></span></div><div class=\"children hor False \"><div class=\"contnr c0 trm   \" ><div class=\"lbl c0 trm \" ><span class=\"txtu\"><span title=\"atf\">TUR3~a#</span></span></div><div><a target=\"_blank\" href=\"https://cdli.ucla.edu/tools/SignLists/protocuneiform/archsigns/TUR3~a.jpg\" title=\"to higher resolution lineart on CDLI\"><img src=\"cdli-imagery/lineart-tur3-a.jpg\" style=\"display: inline;max-width: 2em; max-height: 6em;\"  /></a></div></div><div class=\"contnr c0 trm   \" ><div class=\"lbl c0 trm \" ><span class=\"txtu\"><span title=\"atf\">DU#</span></span></div><div><a target=\"_blank\" href=\"https://cdli.ucla.edu/tools/SignLists/protocuneiform/archsigns/DU.jpg\" title=\"to higher resolution lineart on CDLI\"><img src=\"cdli-imagery/lineart-du.jpg\" style=\"display: inline;max-width: 2em; max-height: 6em;\"  /></a></div></div><div class=\"contnr c0 trm   \" ><div class=\"lbl c0 trm \" ><span class=\"txtu\"><span title=\"atf\">SZE3#</span></span></div><div><a target=\"_blank\" href=\"https://cdli.ucla.edu/tools/SignLists/protocuneiform/archsigns/SZE3.jpg\" title=\"to higher resolution lineart on CDLI\"><img src=\"cdli-imagery/lineart-sze3.jpg\" style=\"display: inline;max-width: 2em; max-height: 6em;\"  /></a></div></div></div></div></div></div></div></div></div></div></div></div><div class=\"contnr c2    \" ><div class=\"lbl c2  \" ><span class=\"nd\">face</span> <span class=\"txtu\"><span title=\"type\">reverse</span></span></div><div class=\"children hor  \"><div class=\"contnr c3    \" ><div class=\"lbl c3  \" ><span class=\"nd\">column</span> <span class=\"txtu\"><span title=\"number\">1</span><span title=\"prime\"></span></span></div><div class=\"children ver  \"><div class=\"contnr c2    \" ><div class=\"lbl c2  \" ><span class=\"nd\">line</span> <span class=\"txtu\"><span title=\"number\">1</span></span></div><div class=\"children hor  \"><div class=\"contnr c1 cluster trm   \" ><div class=\"lbl c1 clusterb trm \" ><span class=\"nd\">cluster</span> <span class=\"txtu\"><span title=\"type\">?</span></span></div></div><div class=\"children hor wrap \"><div class=\"contnr c0 trm   \" ><div class=\"lbl c0 trm \" ><span class=\"txtu\"><span title=\"atf\">...</span></span></div></div></div><div class=\"contnr c1 cluster {}   \" ><div class=\"lbl c1 clustere trm \" ><span class=\"nd\">cluster</span> <span class=\"txtu\"><span title=\"type\">?</span></span></div> </div><div class=\"contnr c1 cluster trm   \" ><div class=\"lbl c1 clusterb trm \" ><span class=\"nd\">cluster</span> <span class=\"txtu\"><span title=\"type\">?</span></span></div></div><div class=\"children hor wrap \"><div class=\"contnr c0 trm   \" ><div class=\"lbl c0 trm \" ><span class=\"txtu\"><span title=\"atf\">...</span></span></div></div></div><div class=\"contnr c1 cluster {}   \" ><div class=\"lbl c1 clustere trm \" ><span class=\"nd\">cluster</span> <span class=\"txtu\"><span title=\"type\">?</span></span></div> </div></div></div></div></div><div class=\"contnr c3    \" ><div class=\"lbl c3  \" ><span class=\"nd\">column</span> <span class=\"txtu\"><span title=\"number\">2</span><span title=\"prime\"></span></span></div><div class=\"children ver  \"><div class=\"contnr c2    \" ><div class=\"lbl c2  \" ><span class=\"nd\">line</span> <span class=\"txtu\"><span title=\"number\">1</span></span></div><div class=\"children hor  \"><div class=\"contnr c1    \" ><div class=\"lbl c1  \" ><span class=\"nd\">quad</span></div><div><a target=\"_blank\" href=\"https://cdli.ucla.edu/tools/SignLists/protocuneiform/archsigns/|GI&amp;GI|.jpg\" title=\"to higher resolution lineart on CDLI\"><img src=\"cdli-imagery/lineart-qgi(e)giq.jpg\" style=\"display: inline;max-width: 4em; max-height: 4em;\"  /></a></div><div class=\"children hor wrap \"><div class=\"contnr c0 trm   \" ><div class=\"lbl c0 trm \" ><span class=\"txtu\"><span title=\"atf\">GI</span></span></div></div><div class=\"op\">&</div><div class=\"contnr c0 trm   \" ><div class=\"lbl c0 trm \" ><span class=\"txtu\"><span title=\"atf\">GI</span></span></div></div></div></div><div class=\"contnr c0 trm   \" ><div class=\"lbl c0 trm \" ><span class=\"txtu\"><span title=\"atf\">GIR3~a#?</span></span></div><div><a target=\"_blank\" href=\"https://cdli.ucla.edu/tools/SignLists/protocuneiform/archsigns/GIR3~a.jpg\" title=\"to higher resolution lineart on CDLI\"><img src=\"cdli-imagery/lineart-gir3-a.jpg\" style=\"display: inline;max-width: 2em; max-height: 6em;\"  /></a></div></div><div class=\"contnr c0 trm   \" ><div class=\"lbl c0 trm \" ><span class=\"txtu\"><span title=\"atf\">SUHUR#</span></span></div><div><a target=\"_blank\" href=\"https://cdli.ucla.edu/tools/SignLists/protocuneiform/archsigns/SUHUR.jpg\" title=\"to higher resolution lineart on CDLI\"><img src=\"cdli-imagery/lineart-suhur.jpg\" style=\"display: inline;max-width: 2em; max-height: 6em;\"  /></a></div></div></div></div></div></div></div></div></div></div></div>"
      ],
      "text/plain": [
       "<IPython.core.display.HTML object>"
      ]
     },
     "metadata": {},
     "output_type": "display_data"
    }
   ],
   "source": [
    "A.show(results, end=2, queryFeatures=False)"
   ]
  },
  {
   "cell_type": "code",
   "execution_count": 15,
   "metadata": {},
   "outputs": [
    {
     "name": "stdout",
     "output_type": "stream",
     "text": [
      "  0.14s 160 results\n"
     ]
    },
    {
     "data": {
      "text/html": [
       "<p><b>result</b> <i>1</i></p>"
      ],
      "text/plain": [
       "<IPython.core.display.HTML object>"
      ]
     },
     "metadata": {},
     "output_type": "display_data"
    },
    {
     "data": {
      "text/html": [
       "<div class=\"tfsechead \"><a target=\"_blank\" href=\"https://cdli.ucla.edu/search/search_results.php?SearchMode=Text&amp;ObjectID=P006438\" title=\"to CDLI main page for this tablet\" sec=\"P006438\">P006438</a></div><div class=\" children\"><div class=\"contnr c4    \" ><div class=\"lbl c4  \" ><span class=\"nd\">tablet</span> <span class=\"txtu\"><span class=\"tfsechead\">P006438</span></span></div><div class='features'><span class=\"name \" title=\"name\">AOST 109</span><span class=\"period \" title=\"period\">uruk-iii</span></div><div class=\"children ver  \"><div class=\"contnr c1 trm   \" ><div class=\"lbl c1 trm \" ><span class=\"nd\">comment</span> <span class=\"txtu\"><span class=\"plain   \" ><span class=\"plain \" ></span> </span></span></div><div class='features'><span class=\"text \" title=\"text\">atf: lang qpc</span></div></div><div class=\"contnr c2    \" ><div class=\"lbl c2  \" ><span class=\"nd\">face</span> <span class=\"txtu\"><span title=\"type\">obverse</span></span></div><div class=\"children hor  \"><div class=\"contnr c3    \" ><div class=\"lbl c3  \" ><span class=\"nd\">column</span> <span class=\"txtu\"><span title=\"number\">1</span><span title=\"prime\"></span></span></div><div class=\"children ver  \"><div class=\"contnr c2    \" ><div class=\"lbl c2  \" ><span class=\"nd\">line</span> <span class=\"txtu\"><span title=\"number\">1</span></span></div><div class=\"children hor  \"><div class=\"contnr c1 cluster trm   \" ><div class=\"lbl c1 clusterb trm \" ><span class=\"nd\">cluster</span> <span class=\"txtu\"><span title=\"type\">?</span></span></div></div><div class=\"children hor wrap \"><div class=\"contnr c0 trm   \" ><div class=\"lbl c0 trm \" ><span class=\"txtu\"><span title=\"atf\">...</span></span></div></div></div><div class=\"contnr c1 cluster {}   \" ><div class=\"lbl c1 clustere trm \" ><span class=\"nd\">cluster</span> <span class=\"txtu\"><span title=\"type\">?</span></span></div> </div><div class=\"contnr c1 cluster trm   \" ><div class=\"lbl c1 clusterb trm \" ><span class=\"nd\">cluster</span> <span class=\"txtu\"><span title=\"type\">?</span></span></div></div><div class=\"children hor wrap \"><div class=\"contnr c0 trm   \" ><div class=\"lbl c0 trm \" ><span class=\"txtu\"><span title=\"atf\">...</span></span></div></div></div><div class=\"contnr c1 cluster {}   \" ><div class=\"lbl c1 clustere trm \" ><span class=\"nd\">cluster</span> <span class=\"txtu\"><span title=\"type\">?</span></span></div> </div></div></div><div class=\"contnr c2    \" ><div class=\"lbl c2  \" ><span class=\"nd\">line</span> <span class=\"txtu\"><span title=\"number\">2</span></span></div><div class=\"children hor  \"><div class=\"contnr c2    \" ><div class=\"lbl c2  \" ><span class=\"nd\">case</span> <span class=\"txtu\"><span title=\"number\">2a</span><span title=\"prime\"></span></span></div><div class=\"children ver False \"><div class=\"contnr c0 trm   \" ><div class=\"lbl c0 trm \" ><span class=\"txtu\"><span title=\"atf\">KU6~a</span></span></div><div><a target=\"_blank\" href=\"https://cdli.ucla.edu/tools/SignLists/protocuneiform/archsigns/KU6~a.jpg\" title=\"to higher resolution lineart on CDLI\"><img src=\"cdli-imagery/lineart-ku6-a.jpg\" style=\"display: inline;max-width: 2em; max-height: 6em;\"  /></a></div></div><div class=\"contnr c0 trm   \" ><div class=\"lbl c0 trm \" ><span class=\"txtu\"><span title=\"atf\">BU~a</span></span></div><div><a target=\"_blank\" href=\"https://cdli.ucla.edu/tools/SignLists/protocuneiform/archsigns/BU~a.jpg\" title=\"to higher resolution lineart on CDLI\"><img src=\"cdli-imagery/lineart-bu-a.jpg\" style=\"display: inline;max-width: 2em; max-height: 6em;\"  /></a></div></div></div></div><div class=\"contnr c2    \" ><div class=\"lbl c2  \" ><span class=\"nd\">case</span> <span class=\"txtu\"><span title=\"number\">2b</span><span title=\"prime\"></span></span></div><div class=\"children ver False \"><div class=\"contnr c1    \" ><div class=\"lbl c1  \" ><span class=\"nd\">quad</span></div><div><a target=\"_blank\" href=\"https://cdli.ucla.edu/tools/SignLists/protocuneiform/archsigns/|AB~axSUKKAL|.jpg\" title=\"to higher resolution lineart on CDLI\"><img src=\"cdli-imagery/lineart-qab-axsukkalq.jpg\" style=\"display: inline;max-width: 4em; max-height: 4em;\"  /></a></div><div class=\"children hor wrap \"><div class=\"contnr c0 trm   \" ><div class=\"lbl c0 trm \" ><span class=\"txtu\"><span title=\"atf\">AB~a</span></span></div></div><div class=\"op\">x</div><div class=\"contnr c0 trm   \" ><div class=\"lbl c0 trm \" ><span class=\"txtu\"><span title=\"atf\">SUKKAL</span></span></div></div></div></div></div></div><div class=\"contnr c2    \" ><div class=\"lbl c2  \" ><span class=\"nd\">case</span> <span class=\"txtu\"><span title=\"number\">2c</span><span title=\"prime\"></span></span></div><div class=\"children ver False \"><div class=\"contnr c0 trm   \" ><div class=\"lbl c0 trm \" ><span class=\"txtu\"><span title=\"atf\">NAM2</span></span></div><div><a target=\"_blank\" href=\"https://cdli.ucla.edu/tools/SignLists/protocuneiform/archsigns/NAM2.jpg\" title=\"to higher resolution lineart on CDLI\"><img src=\"cdli-imagery/lineart-nam2.jpg\" style=\"display: inline;max-width: 2em; max-height: 6em;\"  /></a></div></div><div class=\"contnr c0 trm   \" ><div class=\"lbl c0 trm \" ><span class=\"txtu\"><span title=\"atf\">RAD~a</span></span></div><div><a target=\"_blank\" href=\"https://cdli.ucla.edu/tools/SignLists/protocuneiform/archsigns/RAD~a.jpg\" title=\"to higher resolution lineart on CDLI\"><img src=\"cdli-imagery/lineart-rad-a.jpg\" style=\"display: inline;max-width: 2em; max-height: 6em;\"  /></a></div></div><div class=\"contnr c0 trm   \" ><div class=\"lbl c0 trm \" ><span class=\"txtu\"><span title=\"atf\">PA~a</span></span></div><div><a target=\"_blank\" href=\"https://cdli.ucla.edu/tools/SignLists/protocuneiform/archsigns/PA~a.jpg\" title=\"to higher resolution lineart on CDLI\"><img src=\"cdli-imagery/lineart-pa-a.jpg\" style=\"display: inline;max-width: 2em; max-height: 6em;\"  /></a></div></div><div class=\"contnr c0 trm   \" ><div class=\"lbl c0 trm \" ><span class=\"txtu\"><span title=\"atf\">SZU</span></span></div><div><a target=\"_blank\" href=\"https://cdli.ucla.edu/tools/SignLists/protocuneiform/archsigns/SZU.jpg\" title=\"to higher resolution lineart on CDLI\"><img src=\"cdli-imagery/lineart-szu.jpg\" style=\"display: inline;max-width: 2em; max-height: 6em;\"  /></a></div></div></div></div><div class=\"contnr c2    \" ><div class=\"lbl c2  \" ><span class=\"nd\">case</span> <span class=\"txtu\"><span title=\"number\">2d</span><span title=\"prime\"></span></span></div><div class=\"children ver False \"><div class=\"contnr c0 trm   \" ><div class=\"lbl c0 trm \" ><span class=\"txtu\"><span title=\"atf\">RAD~a</span></span></div><div><a target=\"_blank\" href=\"https://cdli.ucla.edu/tools/SignLists/protocuneiform/archsigns/RAD~a.jpg\" title=\"to higher resolution lineart on CDLI\"><img src=\"cdli-imagery/lineart-rad-a.jpg\" style=\"display: inline;max-width: 2em; max-height: 6em;\"  /></a></div></div><div class=\"contnr c1 cluster trm   \" ><div class=\"lbl c1 clusterb trm \" ><span class=\"nd\">cluster</span> <span class=\"txtu\"><span title=\"type\">?</span></span></div></div><div class=\"children hor wrap \"><div class=\"contnr c0 trm   \" ><div class=\"lbl c0 trm \" ><span class=\"txtu\"><span title=\"atf\">...</span></span></div></div></div><div class=\"contnr c1 cluster {}   \" ><div class=\"lbl c1 clustere trm \" ><span class=\"nd\">cluster</span> <span class=\"txtu\"><span title=\"type\">?</span></span></div> </div></div></div></div></div><div class=\"contnr c2    \" ><div class=\"lbl c2  \" ><span class=\"nd\">line</span> <span class=\"txtu\"><span title=\"number\">3</span></span></div><div class=\"children hor  \"><div class=\"contnr c1 cluster trm   \" ><div class=\"lbl c1 clusterb trm \" ><span class=\"nd\">cluster</span> <span class=\"txtu\"><span title=\"type\">?</span></span></div></div><div class=\"children hor wrap \"><div class=\"contnr c0 trm   \" ><div class=\"lbl c0 trm \" ><span class=\"txtu\"><span title=\"atf\">...</span></span></div></div></div><div class=\"contnr c1 cluster {}   \" ><div class=\"lbl c1 clustere trm \" ><span class=\"nd\">cluster</span> <span class=\"txtu\"><span title=\"type\">?</span></span></div> </div></div></div></div></div></div></div><div class=\"contnr c2    \" ><div class=\"lbl c2  \" ><span class=\"nd\">face</span> <span class=\"txtu\"><span title=\"type\">reverse</span></span></div><div class=\"children hor  \"><div class=\"contnr c3    \" ><div class=\"lbl c3  \" ><span class=\"nd\">column</span> <span class=\"txtu\"><span title=\"number\">1</span><span title=\"prime\"></span></span></div><div class=\"children ver  \"><div class=\"contnr c2    \" ><div class=\"lbl c2  \" ><span class=\"nd\">line</span> <span class=\"txtu\"><span title=\"number\">1</span></span></div><div class=\"children hor  \"><div class=\"contnr c1 cluster trm   \" ><div class=\"lbl c1 clusterb trm \" ><span class=\"nd\">cluster</span> <span class=\"txtu\"><span title=\"type\">?</span></span></div></div><div class=\"children hor wrap \"><div class=\"contnr c0 trm   \" ><div class=\"lbl c0 trm \" ><span class=\"txtu\"><span title=\"atf\">...</span></span></div></div></div><div class=\"contnr c1 cluster {}   \" ><div class=\"lbl c1 clustere trm \" ><span class=\"nd\">cluster</span> <span class=\"txtu\"><span title=\"type\">?</span></span></div> </div><div class=\"contnr c1 cluster trm   \" ><div class=\"lbl c1 clusterb trm \" ><span class=\"nd\">cluster</span> <span class=\"txtu\"><span title=\"type\">?</span></span></div></div><div class=\"children hor wrap \"><div class=\"contnr c0 trm   \" ><div class=\"lbl c0 trm \" ><span class=\"txtu\"><span title=\"atf\">...</span></span></div></div></div><div class=\"contnr c1 cluster {}   \" ><div class=\"lbl c1 clustere trm \" ><span class=\"nd\">cluster</span> <span class=\"txtu\"><span title=\"type\">?</span></span></div> </div></div></div><div class=\"contnr c2    \" ><div class=\"lbl c2  \" ><span class=\"nd\">line</span> <span class=\"txtu\"><span title=\"number\">2</span></span></div><div class=\"children hor  \"><div class=\"contnr c0 trm   hl\" ><div class=\"lbl c0 trm hl\" ><span class=\"txtu\"><span title=\"atf\">1(N01)</span></span></div><div><a target=\"_blank\" href=\"https://cdli.ucla.edu/tools/SignLists/protocuneiform/archsigns/1(N01).jpg\" title=\"to higher resolution lineart on CDLI\"><img src=\"cdli-imagery/lineart-1(n01).jpg\" style=\"display: inline;max-width: 2em; max-height: 6em;\"  /></a></div></div><div class=\"contnr c0 trm   \" ><div class=\"lbl c0 trm \" ><span class=\"txtu\"><span title=\"atf\">USZ~a</span></span></div><div><a target=\"_blank\" href=\"https://cdli.ucla.edu/tools/SignLists/protocuneiform/archsigns/USZ~a.jpg\" title=\"to higher resolution lineart on CDLI\"><img src=\"cdli-imagery/lineart-usz-a.jpg\" style=\"display: inline;max-width: 2em; max-height: 6em;\"  /></a></div></div><div class=\"contnr c0 trm   \" ><div class=\"lbl c0 trm \" ><span class=\"txtu\"><span title=\"atf\">SZUBUR</span></span></div><div><a target=\"_blank\" href=\"https://cdli.ucla.edu/tools/SignLists/protocuneiform/archsigns/SZUBUR.jpg\" title=\"to higher resolution lineart on CDLI\"><img src=\"cdli-imagery/lineart-szubur.jpg\" style=\"display: inline;max-width: 2em; max-height: 6em;\"  /></a></div></div><div class=\"contnr c0 trm   \" ><div class=\"lbl c0 trm \" ><span class=\"txtu\"><span title=\"atf\">GAL~a</span></span></div><div><a target=\"_blank\" href=\"https://cdli.ucla.edu/tools/SignLists/protocuneiform/archsigns/GAL~a.jpg\" title=\"to higher resolution lineart on CDLI\"><img src=\"cdli-imagery/lineart-gal-a.jpg\" style=\"display: inline;max-width: 2em; max-height: 6em;\"  /></a></div></div><div class=\"contnr c0 trm   \" ><div class=\"lbl c0 trm \" ><span class=\"txtu\"><span title=\"atf\">IM~a</span></span></div><div><a target=\"_blank\" href=\"https://cdli.ucla.edu/tools/SignLists/protocuneiform/archsigns/IM~a.jpg\" title=\"to higher resolution lineart on CDLI\"><img src=\"cdli-imagery/lineart-im-a.jpg\" style=\"display: inline;max-width: 2em; max-height: 6em;\"  /></a></div></div></div></div><div class=\"contnr c2    \" ><div class=\"lbl c2  \" ><span class=\"nd\">line</span> <span class=\"txtu\"><span title=\"number\">3</span></span></div><div class=\"children hor  \"><div class=\"contnr c0 trm   \" ><div class=\"lbl c0 trm \" ><span class=\"txtu\"><span title=\"atf\">SZA</span></span></div><div><a target=\"_blank\" href=\"https://cdli.ucla.edu/tools/SignLists/protocuneiform/archsigns/SZA.jpg\" title=\"to higher resolution lineart on CDLI\"><img src=\"cdli-imagery/lineart-sza.jpg\" style=\"display: inline;max-width: 2em; max-height: 6em;\"  /></a></div></div><div class=\"contnr c1 cluster trm   \" ><div class=\"lbl c1 clusterb trm \" ><span class=\"nd\">cluster</span> <span class=\"txtu\"><span title=\"type\">?</span></span></div></div><div class=\"children hor wrap \"><div class=\"contnr c0 trm   \" ><div class=\"lbl c0 trm \" ><span class=\"txtu\"><span title=\"atf\">...</span></span></div></div></div><div class=\"contnr c1 cluster {}   \" ><div class=\"lbl c1 clustere trm \" ><span class=\"nd\">cluster</span> <span class=\"txtu\"><span title=\"type\">?</span></span></div> </div><div class=\"contnr c0 trm   \" ><div class=\"lbl c0 trm \" ><span class=\"txtu\"><span title=\"atf\">RAD~a#</span></span></div><div><a target=\"_blank\" href=\"https://cdli.ucla.edu/tools/SignLists/protocuneiform/archsigns/RAD~a.jpg\" title=\"to higher resolution lineart on CDLI\"><img src=\"cdli-imagery/lineart-rad-a.jpg\" style=\"display: inline;max-width: 2em; max-height: 6em;\"  /></a></div></div></div></div><div class=\"contnr c2    \" ><div class=\"lbl c2  \" ><span class=\"nd\">line</span> <span class=\"txtu\"><span title=\"number\">4</span></span></div><div class=\"children hor  \"><div class=\"contnr c1 cluster trm   \" ><div class=\"lbl c1 clusterb trm \" ><span class=\"nd\">cluster</span> <span class=\"txtu\"><span title=\"type\">?</span></span></div></div><div class=\"children hor wrap \"><div class=\"contnr c0 trm   \" ><div class=\"lbl c0 trm \" ><span class=\"txtu\"><span title=\"atf\">...</span></span></div></div></div><div class=\"contnr c1 cluster {}   \" ><div class=\"lbl c1 clustere trm \" ><span class=\"nd\">cluster</span> <span class=\"txtu\"><span title=\"type\">?</span></span></div> </div><div class=\"contnr c1 cluster trm   \" ><div class=\"lbl c1 clusterb trm \" ><span class=\"nd\">cluster</span> <span class=\"txtu\"><span title=\"type\">?</span></span></div></div><div class=\"children hor wrap \"><div class=\"contnr c0 trm   \" ><div class=\"lbl c0 trm \" ><span class=\"txtu\"><span title=\"atf\">...</span></span></div></div></div><div class=\"contnr c1 cluster {}   \" ><div class=\"lbl c1 clustere trm \" ><span class=\"nd\">cluster</span> <span class=\"txtu\"><span title=\"type\">?</span></span></div> </div></div></div></div></div><div class=\"contnr c3    \" ><div class=\"lbl c3  \" ><span class=\"nd\">column</span> <span class=\"txtu\"><span title=\"number\">2</span><span title=\"prime\"></span></span></div><div class=\"children ver  \"><div class=\"contnr c2    \" ><div class=\"lbl c2  \" ><span class=\"nd\">line</span> <span class=\"txtu\"><span title=\"number\">1</span></span></div><div class=\"children hor  \"><div class=\"contnr c1 cluster trm   \" ><div class=\"lbl c1 clusterb trm \" ><span class=\"nd\">cluster</span> <span class=\"txtu\"><span title=\"type\">?</span></span></div></div><div class=\"children hor wrap \"><div class=\"contnr c0 trm   \" ><div class=\"lbl c0 trm \" ><span class=\"txtu\"><span title=\"atf\">...</span></span></div></div></div><div class=\"contnr c1 cluster {}   \" ><div class=\"lbl c1 clustere trm \" ><span class=\"nd\">cluster</span> <span class=\"txtu\"><span title=\"type\">?</span></span></div> </div><div class=\"contnr c1 cluster trm   \" ><div class=\"lbl c1 clusterb trm \" ><span class=\"nd\">cluster</span> <span class=\"txtu\"><span title=\"type\">?</span></span></div></div><div class=\"children hor wrap \"><div class=\"contnr c0 trm   \" ><div class=\"lbl c0 trm \" ><span class=\"txtu\"><span title=\"atf\">...</span></span></div></div></div><div class=\"contnr c1 cluster {}   \" ><div class=\"lbl c1 clustere trm \" ><span class=\"nd\">cluster</span> <span class=\"txtu\"><span title=\"type\">?</span></span></div> </div></div></div><div class=\"contnr c2    \" ><div class=\"lbl c2  \" ><span class=\"nd\">line</span> <span class=\"txtu\"><span title=\"number\">2</span></span></div><div class=\"children hor  \"><div class=\"contnr c0 trm   \" ><div class=\"lbl c0 trm \" ><span class=\"txtu\"><span title=\"atf\">EN~a</span></span></div><div><a target=\"_blank\" href=\"https://cdli.ucla.edu/tools/SignLists/protocuneiform/archsigns/EN~a.jpg\" title=\"to higher resolution lineart on CDLI\"><img src=\"cdli-imagery/lineart-en-a.jpg\" style=\"display: inline;max-width: 2em; max-height: 6em;\"  /></a></div></div><div class=\"contnr c0 trm   \" ><div class=\"lbl c0 trm \" ><span class=\"txtu\"><span title=\"atf\">LAL2~a#?</span></span></div><div><a target=\"_blank\" href=\"https://cdli.ucla.edu/tools/SignLists/protocuneiform/archsigns/LAL2~a.jpg\" title=\"to higher resolution lineart on CDLI\"><img src=\"cdli-imagery/lineart-lal2-a.jpg\" style=\"display: inline;max-width: 2em; max-height: 6em;\"  /></a></div></div><div class=\"contnr c0 trm   \" ><div class=\"lbl c0 trm \" ><span class=\"txtu\"><span title=\"atf\">NIM~b2#?</span></span></div><div><a target=\"_blank\" href=\"https://cdli.ucla.edu/tools/SignLists/protocuneiform/archsigns/NIM~b2.jpg\" title=\"to higher resolution lineart on CDLI\"><img src=\"cdli-imagery/lineart-nim-b2.jpg\" style=\"display: inline;max-width: 2em; max-height: 6em;\"  /></a></div></div><div class=\"contnr c1 cluster trm   \" ><div class=\"lbl c1 clusterb trm \" ><span class=\"nd\">cluster</span> <span class=\"txtu\"><span title=\"type\">?</span></span></div></div><div class=\"children hor wrap \"><div class=\"contnr c0 trm   \" ><div class=\"lbl c0 trm \" ><span class=\"txtu\"><span title=\"atf\">...</span></span></div></div></div><div class=\"contnr c1 cluster {}   \" ><div class=\"lbl c1 clustere trm \" ><span class=\"nd\">cluster</span> <span class=\"txtu\"><span title=\"type\">?</span></span></div> </div></div></div></div></div></div></div></div></div></div>"
      ],
      "text/plain": [
       "<IPython.core.display.HTML object>"
      ]
     },
     "metadata": {},
     "output_type": "display_data"
    },
    {
     "data": {
      "text/html": [
       "<p><b>result</b> <i>2</i></p>"
      ],
      "text/plain": [
       "<IPython.core.display.HTML object>"
      ]
     },
     "metadata": {},
     "output_type": "display_data"
    },
    {
     "data": {
      "text/html": [
       "<div class=\"tfsechead \"><a target=\"_blank\" href=\"https://cdli.ucla.edu/search/search_results.php?SearchMode=Text&amp;ObjectID=P002082\" title=\"to CDLI main page for this tablet\" sec=\"P002082\">P002082</a></div><div class=\" children\"><div class=\"contnr c4    \" ><div class=\"lbl c4  \" ><span class=\"nd\">tablet</span> <span class=\"txtu\"><span class=\"tfsechead\">P002082</span></span></div><div class='features'><span class=\"name \" title=\"name\">ATU 6, pl. 047, W 14637</span><span class=\"period \" title=\"period\">uruk-iii</span><span class=\"excavation \" title=\"excavation\">W 14637</span></div><div class=\"children ver  \"><div class=\"contnr c1 trm   \" ><div class=\"lbl c1 trm \" ><span class=\"nd\">comment</span> <span class=\"txtu\"><span class=\"plain   \" ><span class=\"plain \" ></span> </span></span></div><div class='features'><span class=\"text \" title=\"text\">atf: lang qpc</span></div></div><div class=\"contnr c2    \" ><div class=\"lbl c2  \" ><span class=\"nd\">face</span> <span class=\"txtu\"><span title=\"type\">obverse</span></span></div><div class=\"children hor  \"><div class=\"contnr c3    \" ><div class=\"lbl c3  \" ><span class=\"nd\">column</span> <span class=\"txtu\"><span title=\"number\">1</span><span title=\"prime\"></span></span></div><div class=\"children ver  \"><div class=\"contnr c2    \" ><div class=\"lbl c2  \" ><span class=\"nd\">line</span> <span class=\"txtu\"><span title=\"number\">1</span></span></div><div class=\"children hor  \"><div class=\"contnr c0 trm   hl\" ><div class=\"lbl c0 trm hl\" ><span class=\"txtu\"><span title=\"atf\">1(N01)#</span></span></div><div><a target=\"_blank\" href=\"https://cdli.ucla.edu/tools/SignLists/protocuneiform/archsigns/1(N01).jpg\" title=\"to higher resolution lineart on CDLI\"><img src=\"cdli-imagery/lineart-1(n01).jpg\" style=\"display: inline;max-width: 2em; max-height: 6em;\"  /></a></div></div><div class=\"contnr c0 trm   \" ><div class=\"lbl c0 trm \" ><span class=\"txtu\"><span title=\"atf\">BA#</span></span></div><div><a target=\"_blank\" href=\"https://cdli.ucla.edu/tools/SignLists/protocuneiform/archsigns/BA.jpg\" title=\"to higher resolution lineart on CDLI\"><img src=\"cdli-imagery/lineart-ba.jpg\" style=\"display: inline;max-width: 2em; max-height: 6em;\"  /></a></div></div><div class=\"contnr c0 trm   \" ><div class=\"lbl c0 trm \" ><span class=\"txtu\"><span title=\"atf\">SUHUR#</span></span></div><div><a target=\"_blank\" href=\"https://cdli.ucla.edu/tools/SignLists/protocuneiform/archsigns/SUHUR.jpg\" title=\"to higher resolution lineart on CDLI\"><img src=\"cdli-imagery/lineart-suhur.jpg\" style=\"display: inline;max-width: 2em; max-height: 6em;\"  /></a></div></div><div class=\"contnr c0 trm   \" ><div class=\"lbl c0 trm \" ><span class=\"txtu\"><span title=\"atf\">SAG</span></span></div><div><a target=\"_blank\" href=\"https://cdli.ucla.edu/tools/SignLists/protocuneiform/archsigns/SAG.jpg\" title=\"to higher resolution lineart on CDLI\"><img src=\"cdli-imagery/lineart-sag.jpg\" style=\"display: inline;max-width: 2em; max-height: 6em;\"  /></a></div></div></div></div><div class=\"contnr c2    \" ><div class=\"lbl c2  \" ><span class=\"nd\">line</span> <span class=\"txtu\"><span title=\"number\">2</span></span></div><div class=\"children hor  \"><div class=\"contnr c0 trm   \" ><div class=\"lbl c0 trm \" ><span class=\"txtu\"><span title=\"atf\">2(N01)#</span></span></div><div><a target=\"_blank\" href=\"https://cdli.ucla.edu/tools/SignLists/protocuneiform/archsigns/2(N01).jpg\" title=\"to higher resolution lineart on CDLI\"><img src=\"cdli-imagery/lineart-2(n01).jpg\" style=\"display: inline;max-width: 2em; max-height: 6em;\"  /></a></div></div><div class=\"contnr c0 trm   \" ><div class=\"lbl c0 trm \" ><span class=\"txtu\"><span title=\"atf\">BA#</span></span></div><div><a target=\"_blank\" href=\"https://cdli.ucla.edu/tools/SignLists/protocuneiform/archsigns/BA.jpg\" title=\"to higher resolution lineart on CDLI\"><img src=\"cdli-imagery/lineart-ba.jpg\" style=\"display: inline;max-width: 2em; max-height: 6em;\"  /></a></div></div><div class=\"contnr c0 trm   \" ><div class=\"lbl c0 trm \" ><span class=\"txtu\"><span title=\"atf\">SUHUR</span></span></div><div><a target=\"_blank\" href=\"https://cdli.ucla.edu/tools/SignLists/protocuneiform/archsigns/SUHUR.jpg\" title=\"to higher resolution lineart on CDLI\"><img src=\"cdli-imagery/lineart-suhur.jpg\" style=\"display: inline;max-width: 2em; max-height: 6em;\"  /></a></div></div></div></div><div class=\"contnr c2    \" ><div class=\"lbl c2  \" ><span class=\"nd\">line</span> <span class=\"txtu\"><span title=\"number\">3</span></span></div><div class=\"children hor  \"><div class=\"contnr c0 trm   \" ><div class=\"lbl c0 trm \" ><span class=\"txtu\"><span title=\"atf\">1(N14)#</span></span></div><div><a target=\"_blank\" href=\"https://cdli.ucla.edu/tools/SignLists/protocuneiform/archsigns/1(N14).jpg\" title=\"to higher resolution lineart on CDLI\"><img src=\"cdli-imagery/lineart-1(n14).jpg\" style=\"display: inline;max-width: 2em; max-height: 6em;\"  /></a></div></div><div class=\"contnr c0 trm   \" ><div class=\"lbl c0 trm \" ><span class=\"txtu\"><span title=\"atf\">X</span></span></div></div><div class=\"contnr c0 trm   \" ><div class=\"lbl c0 trm \" ><span class=\"txtu\"><span title=\"atf\">SUHUR#</span></span></div><div><a target=\"_blank\" href=\"https://cdli.ucla.edu/tools/SignLists/protocuneiform/archsigns/SUHUR.jpg\" title=\"to higher resolution lineart on CDLI\"><img src=\"cdli-imagery/lineart-suhur.jpg\" style=\"display: inline;max-width: 2em; max-height: 6em;\"  /></a></div></div></div></div><div class=\"contnr c2    \" ><div class=\"lbl c2  \" ><span class=\"nd\">line</span> <span class=\"txtu\"><span title=\"number\">4</span></span></div><div class=\"children hor  \"><div class=\"contnr c0 trm   \" ><div class=\"lbl c0 trm \" ><span class=\"txtu\"><span title=\"atf\">1(N01)#</span></span></div><div><a target=\"_blank\" href=\"https://cdli.ucla.edu/tools/SignLists/protocuneiform/archsigns/1(N01).jpg\" title=\"to higher resolution lineart on CDLI\"><img src=\"cdli-imagery/lineart-1(n01).jpg\" style=\"display: inline;max-width: 2em; max-height: 6em;\"  /></a></div></div><div class=\"contnr c0 trm   \" ><div class=\"lbl c0 trm \" ><span class=\"txtu\"><span title=\"atf\">SUMASZ</span></span></div><div><a target=\"_blank\" href=\"https://cdli.ucla.edu/tools/SignLists/protocuneiform/archsigns/SUMASZ.jpg\" title=\"to higher resolution lineart on CDLI\"><img src=\"cdli-imagery/lineart-sumasz.jpg\" style=\"display: inline;max-width: 2em; max-height: 6em;\"  /></a></div></div><div class=\"contnr c0 trm   \" ><div class=\"lbl c0 trm \" ><span class=\"txtu\"><span title=\"atf\">X</span></span></div></div></div></div></div></div><div class=\"contnr c3    \" ><div class=\"lbl c3  \" ><span class=\"nd\">column</span> <span class=\"txtu\"><span title=\"number\">2</span><span title=\"prime\"></span></span></div><div class=\"children ver  \"><div class=\"contnr c2    \" ><div class=\"lbl c2  \" ><span class=\"nd\">line</span> <span class=\"txtu\"><span title=\"number\">1</span></span></div><div class=\"children hor  \"><div class=\"contnr c0 trm   \" ><div class=\"lbl c0 trm \" ><span class=\"txtu\"><span title=\"atf\">1(N34)</span></span></div><div><a target=\"_blank\" href=\"https://cdli.ucla.edu/tools/SignLists/protocuneiform/archsigns/1(N34).jpg\" title=\"to higher resolution lineart on CDLI\"><img src=\"cdli-imagery/lineart-1(n34).jpg\" style=\"display: inline;max-width: 2em; max-height: 6em;\"  /></a></div></div><div class=\"contnr c1    \" ><div class=\"lbl c1  \" ><span class=\"nd\">quad</span></div><div><a target=\"_blank\" href=\"https://cdli.ucla.edu/tools/SignLists/protocuneiform/archsigns/|ZATU759xKU6~a|.jpg\" title=\"to higher resolution lineart on CDLI\"><img src=\"cdli-imagery/lineart-qzatu759xku6-aq.jpg\" style=\"display: inline;max-width: 4em; max-height: 4em;\"  /></a></div><div class=\"children hor wrap \"><div class=\"contnr c0 trm   \" ><div class=\"lbl c0 trm \" ><span class=\"txtu\"><span title=\"atf\">ZATU759</span></span></div></div><div class=\"op\">x</div><div class=\"contnr c0 trm   \" ><div class=\"lbl c0 trm \" ><span class=\"txtu\"><span title=\"atf\">KU6~a</span></span></div></div></div></div></div></div><div class=\"contnr c2    \" ><div class=\"lbl c2  \" ><span class=\"nd\">line</span> <span class=\"txtu\"><span title=\"number\">2</span></span></div><div class=\"children hor  \"><div class=\"contnr c0 trm   \" ><div class=\"lbl c0 trm \" ><span class=\"txtu\"><span title=\"atf\">UB</span></span></div><div><a target=\"_blank\" href=\"https://cdli.ucla.edu/tools/SignLists/protocuneiform/archsigns/UB.jpg\" title=\"to higher resolution lineart on CDLI\"><img src=\"cdli-imagery/lineart-ub.jpg\" style=\"display: inline;max-width: 2em; max-height: 6em;\"  /></a></div></div><div class=\"contnr c0 trm   \" ><div class=\"lbl c0 trm \" ><span class=\"txtu\"><span title=\"atf\">KU6~a</span></span></div><div><a target=\"_blank\" href=\"https://cdli.ucla.edu/tools/SignLists/protocuneiform/archsigns/KU6~a.jpg\" title=\"to higher resolution lineart on CDLI\"><img src=\"cdli-imagery/lineart-ku6-a.jpg\" style=\"display: inline;max-width: 2em; max-height: 6em;\"  /></a></div></div></div></div><div class=\"contnr c2    \" ><div class=\"lbl c2  \" ><span class=\"nd\">line</span> <span class=\"txtu\"><span title=\"number\">3</span></span></div><div class=\"children hor  \"><div class=\"contnr c2    \" ><div class=\"lbl c2  \" ><span class=\"nd\">case</span> <span class=\"txtu\"><span title=\"number\">3a</span><span title=\"prime\"></span></span></div><div class=\"children ver False \"><div class=\"contnr c0 trm   \" ><div class=\"lbl c0 trm \" ><span class=\"txtu\"><span title=\"atf\">X</span></span></div></div><div class=\"contnr c0 trm   \" ><div class=\"lbl c0 trm \" ><span class=\"txtu\"><span title=\"atf\">EN~a#</span></span></div><div><a target=\"_blank\" href=\"https://cdli.ucla.edu/tools/SignLists/protocuneiform/archsigns/EN~a.jpg\" title=\"to higher resolution lineart on CDLI\"><img src=\"cdli-imagery/lineart-en-a.jpg\" style=\"display: inline;max-width: 2em; max-height: 6em;\"  /></a></div></div><div class=\"contnr c0 trm   \" ><div class=\"lbl c0 trm \" ><span class=\"txtu\"><span title=\"atf\">X</span></span></div></div></div></div><div class=\"contnr c2    \" ><div class=\"lbl c2  \" ><span class=\"nd\">case</span> <span class=\"txtu\"><span title=\"number\">3b</span><span title=\"prime\"></span></span></div><div class=\"children ver False \"><div class=\"contnr c2    \" ><div class=\"lbl c2  \" ><span class=\"nd\">case</span> <span class=\"txtu\"><span title=\"number\">3b1</span><span title=\"prime\"></span></span></div><div class=\"children hor False \"><div class=\"contnr c0 trm   \" ><div class=\"lbl c0 trm \" ><span class=\"txtu\"><span title=\"atf\">SUHUR#</span></span></div><div><a target=\"_blank\" href=\"https://cdli.ucla.edu/tools/SignLists/protocuneiform/archsigns/SUHUR.jpg\" title=\"to higher resolution lineart on CDLI\"><img src=\"cdli-imagery/lineart-suhur.jpg\" style=\"display: inline;max-width: 2em; max-height: 6em;\"  /></a></div></div><div class=\"contnr c0 trm   \" ><div class=\"lbl c0 trm \" ><span class=\"txtu\"><span title=\"atf\">X</span></span></div></div></div></div><div class=\"contnr c2    \" ><div class=\"lbl c2  \" ><span class=\"nd\">case</span> <span class=\"txtu\"><span title=\"number\">3b2</span><span title=\"prime\"></span></span></div><div class=\"children hor False \"><div class=\"contnr c0 trm   \" ><div class=\"lbl c0 trm \" ><span class=\"txtu\"><span title=\"atf\">TUR3~a#</span></span></div><div><a target=\"_blank\" href=\"https://cdli.ucla.edu/tools/SignLists/protocuneiform/archsigns/TUR3~a.jpg\" title=\"to higher resolution lineart on CDLI\"><img src=\"cdli-imagery/lineart-tur3-a.jpg\" style=\"display: inline;max-width: 2em; max-height: 6em;\"  /></a></div></div><div class=\"contnr c0 trm   \" ><div class=\"lbl c0 trm \" ><span class=\"txtu\"><span title=\"atf\">DU#</span></span></div><div><a target=\"_blank\" href=\"https://cdli.ucla.edu/tools/SignLists/protocuneiform/archsigns/DU.jpg\" title=\"to higher resolution lineart on CDLI\"><img src=\"cdli-imagery/lineart-du.jpg\" style=\"display: inline;max-width: 2em; max-height: 6em;\"  /></a></div></div><div class=\"contnr c0 trm   \" ><div class=\"lbl c0 trm \" ><span class=\"txtu\"><span title=\"atf\">SZE3#</span></span></div><div><a target=\"_blank\" href=\"https://cdli.ucla.edu/tools/SignLists/protocuneiform/archsigns/SZE3.jpg\" title=\"to higher resolution lineart on CDLI\"><img src=\"cdli-imagery/lineart-sze3.jpg\" style=\"display: inline;max-width: 2em; max-height: 6em;\"  /></a></div></div></div></div></div></div></div></div></div></div></div></div><div class=\"contnr c2    \" ><div class=\"lbl c2  \" ><span class=\"nd\">face</span> <span class=\"txtu\"><span title=\"type\">reverse</span></span></div><div class=\"children hor  \"><div class=\"contnr c3    \" ><div class=\"lbl c3  \" ><span class=\"nd\">column</span> <span class=\"txtu\"><span title=\"number\">1</span><span title=\"prime\"></span></span></div><div class=\"children ver  \"><div class=\"contnr c2    \" ><div class=\"lbl c2  \" ><span class=\"nd\">line</span> <span class=\"txtu\"><span title=\"number\">1</span></span></div><div class=\"children hor  \"><div class=\"contnr c1 cluster trm   \" ><div class=\"lbl c1 clusterb trm \" ><span class=\"nd\">cluster</span> <span class=\"txtu\"><span title=\"type\">?</span></span></div></div><div class=\"children hor wrap \"><div class=\"contnr c0 trm   \" ><div class=\"lbl c0 trm \" ><span class=\"txtu\"><span title=\"atf\">...</span></span></div></div></div><div class=\"contnr c1 cluster {}   \" ><div class=\"lbl c1 clustere trm \" ><span class=\"nd\">cluster</span> <span class=\"txtu\"><span title=\"type\">?</span></span></div> </div><div class=\"contnr c1 cluster trm   \" ><div class=\"lbl c1 clusterb trm \" ><span class=\"nd\">cluster</span> <span class=\"txtu\"><span title=\"type\">?</span></span></div></div><div class=\"children hor wrap \"><div class=\"contnr c0 trm   \" ><div class=\"lbl c0 trm \" ><span class=\"txtu\"><span title=\"atf\">...</span></span></div></div></div><div class=\"contnr c1 cluster {}   \" ><div class=\"lbl c1 clustere trm \" ><span class=\"nd\">cluster</span> <span class=\"txtu\"><span title=\"type\">?</span></span></div> </div></div></div></div></div><div class=\"contnr c3    \" ><div class=\"lbl c3  \" ><span class=\"nd\">column</span> <span class=\"txtu\"><span title=\"number\">2</span><span title=\"prime\"></span></span></div><div class=\"children ver  \"><div class=\"contnr c2    \" ><div class=\"lbl c2  \" ><span class=\"nd\">line</span> <span class=\"txtu\"><span title=\"number\">1</span></span></div><div class=\"children hor  \"><div class=\"contnr c1    \" ><div class=\"lbl c1  \" ><span class=\"nd\">quad</span></div><div><a target=\"_blank\" href=\"https://cdli.ucla.edu/tools/SignLists/protocuneiform/archsigns/|GI&amp;GI|.jpg\" title=\"to higher resolution lineart on CDLI\"><img src=\"cdli-imagery/lineart-qgi(e)giq.jpg\" style=\"display: inline;max-width: 4em; max-height: 4em;\"  /></a></div><div class=\"children hor wrap \"><div class=\"contnr c0 trm   \" ><div class=\"lbl c0 trm \" ><span class=\"txtu\"><span title=\"atf\">GI</span></span></div></div><div class=\"op\">&</div><div class=\"contnr c0 trm   \" ><div class=\"lbl c0 trm \" ><span class=\"txtu\"><span title=\"atf\">GI</span></span></div></div></div></div><div class=\"contnr c0 trm   \" ><div class=\"lbl c0 trm \" ><span class=\"txtu\"><span title=\"atf\">GIR3~a#?</span></span></div><div><a target=\"_blank\" href=\"https://cdli.ucla.edu/tools/SignLists/protocuneiform/archsigns/GIR3~a.jpg\" title=\"to higher resolution lineart on CDLI\"><img src=\"cdli-imagery/lineart-gir3-a.jpg\" style=\"display: inline;max-width: 2em; max-height: 6em;\"  /></a></div></div><div class=\"contnr c0 trm   \" ><div class=\"lbl c0 trm \" ><span class=\"txtu\"><span title=\"atf\">SUHUR#</span></span></div><div><a target=\"_blank\" href=\"https://cdli.ucla.edu/tools/SignLists/protocuneiform/archsigns/SUHUR.jpg\" title=\"to higher resolution lineart on CDLI\"><img src=\"cdli-imagery/lineart-suhur.jpg\" style=\"display: inline;max-width: 2em; max-height: 6em;\"  /></a></div></div></div></div></div></div></div></div></div></div></div>"
      ],
      "text/plain": [
       "<IPython.core.display.HTML object>"
      ]
     },
     "metadata": {},
     "output_type": "display_data"
    }
   ],
   "source": [
    "query = '''\n",
    "tablet\n",
    "/without/\n",
    "  case\n",
    "    sign type=numeral\n",
    "/-/\n",
    "/with/\n",
    "  case\n",
    "/-/\n",
    "  sign type=numeral\n",
    "'''\n",
    "results = A.search(query)\n",
    "A.show(results, end=2, queryFeatures=False)"
   ]
  }
 ],
 "metadata": {
  "kernelspec": {
   "display_name": "Python3.9",
   "language": "python",
   "name": "python3"
  },
  "language_info": {
   "codemirror_mode": {
    "name": "ipython",
    "version": 3
   },
   "file_extension": ".py",
   "mimetype": "text/x-python",
   "name": "python",
   "nbconvert_exporter": "python",
   "pygments_lexer": "ipython3",
   "version": "3.9.0"
  }
 },
 "nbformat": 4,
 "nbformat_minor": 4
}