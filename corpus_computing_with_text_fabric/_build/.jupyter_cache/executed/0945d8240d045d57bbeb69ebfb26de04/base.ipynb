{
 "cells": [
  {
   "cell_type": "code",
   "execution_count": 1,
   "metadata": {},
   "outputs": [],
   "source": [
    "%load_ext autoreload\n",
    "%autoreload 2"
   ]
  },
  {
   "cell_type": "code",
   "execution_count": 2,
   "metadata": {},
   "outputs": [],
   "source": [
    "from tf.fabric import Fabric\n",
    "from tf.compose import combine, modify"
   ]
  },
  {
   "cell_type": "code",
   "execution_count": 3,
   "metadata": {},
   "outputs": [],
   "source": [
    "PREFIX = 'combine/input'\n",
    "SUFFIX = 'tf/0.2'\n",
    "\n",
    "locations = (\n",
    "    ('banks', f'{PREFIX}/banks1/{SUFFIX}'),\n",
    "    ('rivers', f'{PREFIX}/banks2/{SUFFIX}'),\n",
    ")\n",
    "\n",
    "COMBINED = 'combine/_temp/riverbanks'"
   ]
  },
  {
   "cell_type": "code",
   "execution_count": 4,
   "metadata": {},
   "outputs": [
    {
     "name": "stdout",
     "output_type": "stream",
     "text": [
      "  0.00s inspect metadata ...\n"
     ]
    },
    {
     "name": "stdout",
     "output_type": "stream",
     "text": [
      "This is Text-Fabric 8.4.6\n",
      "Api reference : https://annotation.github.io/text-fabric/cheatsheet.html\n",
      "\n"
     ]
    },
    {
     "name": "stdout",
     "output_type": "stream",
     "text": [
      "10 features found and 0 ignored\n"
     ]
    },
    {
     "name": "stdout",
     "output_type": "stream",
     "text": [
      "This is Text-Fabric 8.4.6\n",
      "Api reference : https://annotation.github.io/text-fabric/cheatsheet.html\n",
      "\n"
     ]
    },
    {
     "name": "stdout",
     "output_type": "stream",
     "text": [
      "10 features found and 0 ignored\n"
     ]
    },
    {
     "name": "stdout",
     "output_type": "stream",
     "text": [
      "WARNING: otext.structureFeatures metadata varies across sources\n"
     ]
    },
    {
     "name": "stdout",
     "output_type": "stream",
     "text": [
      "WARNING: otext.structureTypes metadata varies across sources\n"
     ]
    },
    {
     "name": "stdout",
     "output_type": "stream",
     "text": [
      "WARNING: author.compiler metadata varies across sources\n"
     ]
    },
    {
     "name": "stdout",
     "output_type": "stream",
     "text": [
      "WARNING: author.purpose metadata varies across sources\n"
     ]
    },
    {
     "name": "stdout",
     "output_type": "stream",
     "text": [
      "WARNING: letters.description metadata varies across sources\n"
     ]
    },
    {
     "name": "stdout",
     "output_type": "stream",
     "text": [
      "  0.01s determine nodetypes ...\n"
     ]
    },
    {
     "name": "stdout",
     "output_type": "stream",
     "text": [
      "   |     0.00s \r",
      "  1 0.2)"
     ]
    },
    {
     "name": "stdout",
     "output_type": "stream",
     "text": [
      "This is Text-Fabric 8.4.6\n",
      "Api reference : https://annotation.github.io/text-fabric/cheatsheet.html\n",
      "\n"
     ]
    },
    {
     "name": "stdout",
     "output_type": "stream",
     "text": [
      "10 features found and 0 ignored\n"
     ]
    },
    {
     "name": "stdout",
     "output_type": "stream",
     "text": [
      "  0.00s loading features ...\n"
     ]
    },
    {
     "name": "stdout",
     "output_type": "stream",
     "text": [
      "  0.01s All features loaded/computed - for details use loadLog()\n"
     ]
    },
    {
     "name": "stdout",
     "output_type": "stream",
     "text": [
      "   |     0.01s \r",
      "  2 0.2)"
     ]
    },
    {
     "name": "stdout",
     "output_type": "stream",
     "text": [
      "This is Text-Fabric 8.4.6\n",
      "Api reference : https://annotation.github.io/text-fabric/cheatsheet.html\n",
      "\n"
     ]
    },
    {
     "name": "stdout",
     "output_type": "stream",
     "text": [
      "10 features found and 0 ignored\n"
     ]
    },
    {
     "name": "stdout",
     "output_type": "stream",
     "text": [
      "  0.00s loading features ...\n"
     ]
    },
    {
     "name": "stdout",
     "output_type": "stream",
     "text": [
      "  0.01s All features loaded/computed - for details use loadLog()\n"
     ]
    },
    {
     "name": "stdout",
     "output_type": "stream",
     "text": [
      "   |   \r"
     ]
    },
    {
     "name": "stdout",
     "output_type": "stream",
     "text": [
      "   |     0.02s done\n"
     ]
    },
    {
     "name": "stdout",
     "output_type": "stream",
     "text": [
      "   |     0.02s compute offsets ...\n"
     ]
    },
    {
     "name": "stdout",
     "output_type": "stream",
     "text": [
      "   |     0.02s remap features ...\n"
     ]
    },
    {
     "name": "stdout",
     "output_type": "stream",
     "text": [
      "   |     0.00s \r",
      "  1 0.2)"
     ]
    },
    {
     "name": "stdout",
     "output_type": "stream",
     "text": [
      "This is Text-Fabric 8.4.6\n",
      "Api reference : https://annotation.github.io/text-fabric/cheatsheet.html\n",
      "\n"
     ]
    },
    {
     "name": "stdout",
     "output_type": "stream",
     "text": [
      "10 features found and 0 ignored\n"
     ]
    },
    {
     "name": "stdout",
     "output_type": "stream",
     "text": [
      "  0.00s loading features ...\n"
     ]
    },
    {
     "name": "stdout",
     "output_type": "stream",
     "text": [
      "  0.01s All features loaded/computed - for details use loadLog()\n"
     ]
    },
    {
     "name": "stdout",
     "output_type": "stream",
     "text": [
      "  0.00s loading features ...\n"
     ]
    },
    {
     "name": "stdout",
     "output_type": "stream",
     "text": [
      "  0.00s All additional features loaded - for details use loadLog()\n"
     ]
    },
    {
     "name": "stdout",
     "output_type": "stream",
     "text": [
      "   |     0.01s \r",
      "  2 0.2)"
     ]
    },
    {
     "name": "stdout",
     "output_type": "stream",
     "text": [
      "This is Text-Fabric 8.4.6\n",
      "Api reference : https://annotation.github.io/text-fabric/cheatsheet.html\n",
      "\n"
     ]
    },
    {
     "name": "stdout",
     "output_type": "stream",
     "text": [
      "10 features found and 0 ignored\n"
     ]
    },
    {
     "name": "stdout",
     "output_type": "stream",
     "text": [
      "  0.00s loading features ...\n"
     ]
    },
    {
     "name": "stdout",
     "output_type": "stream",
     "text": [
      "  0.01s All features loaded/computed - for details use loadLog()\n"
     ]
    },
    {
     "name": "stdout",
     "output_type": "stream",
     "text": [
      "  0.00s loading features ...\n"
     ]
    },
    {
     "name": "stdout",
     "output_type": "stream",
     "text": [
      "  0.00s All additional features loaded - for details use loadLog()\n"
     ]
    },
    {
     "name": "stdout",
     "output_type": "stream",
     "text": [
      "   |     0.03s write TF data ...\n"
     ]
    },
    {
     "name": "stdout",
     "output_type": "stream",
     "text": [
      "   |     0.03s done\n"
     ]
    },
    {
     "data": {
      "text/plain": [
       "True"
      ]
     },
     "execution_count": 4,
     "metadata": {},
     "output_type": "execute_result"
    }
   ],
   "source": [
    "output = COMBINED\n",
    "\n",
    "!rm -rf {output}\n",
    "\n",
    "combine(\n",
    "  locations,\n",
    "  output,\n",
    "  componentType='volume',\n",
    "  componentFeature='title',\n",
    "  featureMeta=dict(\n",
    "    otext=dict(\n",
    "      sectionTypes='volume,chapter,line',\n",
    "      sectionFeatures='title,number,number',\n",
    "      **{'fmt:text-orig-full': '{letters} '},\n",
    "    ),\n",
    "  ),\n",
    ")"
   ]
  },
  {
   "cell_type": "code",
   "execution_count": 5,
   "metadata": {},
   "outputs": [
    {
     "name": "stdout",
     "output_type": "stream",
     "text": [
      "WARNING: otext.structureFeatures metadata varies across sources\n"
     ]
    },
    {
     "name": "stdout",
     "output_type": "stream",
     "text": [
      "WARNING: otext.structureTypes metadata varies across sources\n"
     ]
    },
    {
     "name": "stdout",
     "output_type": "stream",
     "text": [
      "WARNING: author.compiler metadata varies across sources\n"
     ]
    },
    {
     "name": "stdout",
     "output_type": "stream",
     "text": [
      "WARNING: author.purpose metadata varies across sources\n"
     ]
    },
    {
     "name": "stdout",
     "output_type": "stream",
     "text": [
      "WARNING: letters.description metadata varies across sources\n"
     ]
    },
    {
     "data": {
      "text/plain": [
       "True"
      ]
     },
     "execution_count": 5,
     "metadata": {},
     "output_type": "execute_result"
    }
   ],
   "source": [
    "output = COMBINED\n",
    "\n",
    "!rm -rf {output}\n",
    "\n",
    "combine(\n",
    "  locations,\n",
    "  output,\n",
    "  componentType='volume',\n",
    "  componentFeature='title',\n",
    "  featureMeta=dict(\n",
    "    otext=dict(\n",
    "      sectionTypes='volume,chapter,line',\n",
    "      sectionFeatures='title,number,number',\n",
    "      **{'fmt:text-orig-full': '{letters} '},\n",
    "    ),\n",
    "  ),\n",
    "  silent=True,\n",
    ")"
   ]
  },
  {
   "cell_type": "code",
   "execution_count": 6,
   "metadata": {},
   "outputs": [
    {
     "name": "stdout",
     "output_type": "stream",
     "text": [
      "total 80\r\n",
      "-rw-r--r--  1 dirk  staff   638 Jan  5 13:04 author.tf\r\n",
      "-rw-r--r--  1 dirk  staff   597 Jan  5 13:04 gap.tf\r\n",
      "-rw-r--r--  1 dirk  staff  1692 Jan  5 13:04 letters.tf\r\n",
      "-rw-r--r--  1 dirk  staff   621 Jan  5 13:04 number.tf\r\n",
      "-rw-r--r--  1 dirk  staff   754 Jan  5 13:04 oslots.tf\r\n",
      "-rw-r--r--  1 dirk  staff  1135 Jan  5 13:04 otext.tf\r\n",
      "-rw-r--r--  1 dirk  staff   558 Jan  5 13:04 otype.tf\r\n",
      "-rw-r--r--  1 dirk  staff   713 Jan  5 13:04 punc.tf\r\n",
      "-rw-r--r--  1 dirk  staff   567 Jan  5 13:04 terminator.tf\r\n",
      "-rw-r--r--  1 dirk  staff   636 Jan  5 13:04 title.tf\r\n"
     ]
    }
   ],
   "source": [
    "!ls  -l {output}"
   ]
  },
  {
   "cell_type": "code",
   "execution_count": 7,
   "metadata": {},
   "outputs": [
    {
     "name": "stdout",
     "output_type": "stream",
     "text": [
      "total 80\r\n",
      "-rw-r--r--  1 dirk  staff  359 May 20  2019 author.tf\r\n",
      "-rw-r--r--  1 dirk  staff  409 May 20  2019 gap.tf\r\n",
      "-rw-r--r--  1 dirk  staff  911 May 20  2019 letters.tf\r\n",
      "-rw-r--r--  1 dirk  staff  421 May 20  2019 number.tf\r\n",
      "-rw-r--r--  1 dirk  staff  419 May 20  2019 oslots.tf\r\n",
      "-rw-r--r--  1 dirk  staff  572 May 20  2019 otext.tf\r\n",
      "-rw-r--r--  1 dirk  staff  372 May 30  2019 otype.tf\r\n",
      "-rw-r--r--  1 dirk  staff  457 May 20  2019 punc.tf\r\n",
      "-rw-r--r--  1 dirk  staff  377 May 20  2019 terminator.tf\r\n",
      "-rw-r--r--  1 dirk  staff  361 May 20  2019 title.tf\r\n"
     ]
    }
   ],
   "source": [
    "!ls -l {PREFIX}/banks1/{SUFFIX}"
   ]
  },
  {
   "cell_type": "code",
   "execution_count": 8,
   "metadata": {},
   "outputs": [
    {
     "name": "stdout",
     "output_type": "stream",
     "text": [
      "This is Text-Fabric 8.4.6\n",
      "Api reference : https://annotation.github.io/text-fabric/cheatsheet.html\n",
      "\n"
     ]
    },
    {
     "name": "stdout",
     "output_type": "stream",
     "text": [
      "10 features found and 0 ignored\n"
     ]
    },
    {
     "name": "stdout",
     "output_type": "stream",
     "text": [
      "  0.00s loading features ...\n"
     ]
    },
    {
     "name": "stdout",
     "output_type": "stream",
     "text": [
      "   |     0.00s T otype                from combine/_temp/riverbanks\n"
     ]
    },
    {
     "name": "stdout",
     "output_type": "stream",
     "text": [
      "   |     0.00s T oslots               from combine/_temp/riverbanks\n"
     ]
    },
    {
     "name": "stdout",
     "output_type": "stream",
     "text": [
      "   |     0.00s Dataset without structure sections in otext:no structure functions in the T-API\n"
     ]
    },
    {
     "name": "stdout",
     "output_type": "stream",
     "text": [
      "   |     0.00s T terminator           from combine/_temp/riverbanks\n"
     ]
    },
    {
     "name": "stdout",
     "output_type": "stream",
     "text": [
      "   |     0.00s T letters              from combine/_temp/riverbanks\n"
     ]
    },
    {
     "name": "stdout",
     "output_type": "stream",
     "text": [
      "   |     0.00s T gap                  from combine/_temp/riverbanks\n"
     ]
    },
    {
     "name": "stdout",
     "output_type": "stream",
     "text": [
      "   |     0.00s T title                from combine/_temp/riverbanks\n"
     ]
    },
    {
     "name": "stdout",
     "output_type": "stream",
     "text": [
      "   |     0.00s T punc                 from combine/_temp/riverbanks\n"
     ]
    },
    {
     "name": "stdout",
     "output_type": "stream",
     "text": [
      "   |     0.00s T number               from combine/_temp/riverbanks\n"
     ]
    },
    {
     "name": "stdout",
     "output_type": "stream",
     "text": [
      "   |      |     0.00s C __levels__           from otype, oslots, otext\n"
     ]
    },
    {
     "name": "stdout",
     "output_type": "stream",
     "text": [
      "   |      |     0.00s C __order__            from otype, oslots, __levels__\n"
     ]
    },
    {
     "name": "stdout",
     "output_type": "stream",
     "text": [
      "   |      |     0.00s C __rank__             from otype, __order__\n"
     ]
    },
    {
     "name": "stdout",
     "output_type": "stream",
     "text": [
      "   |      |     0.00s C __levUp__            from otype, oslots, __rank__\n"
     ]
    },
    {
     "name": "stdout",
     "output_type": "stream",
     "text": [
      "   |      |     0.00s C __levDown__          from otype, __levUp__, __rank__\n"
     ]
    },
    {
     "name": "stdout",
     "output_type": "stream",
     "text": [
      "   |      |     0.00s C __boundary__         from otype, oslots, __rank__\n"
     ]
    },
    {
     "name": "stdout",
     "output_type": "stream",
     "text": [
      "   |      |     0.00s C __sections__         from otype, oslots, otext, __levUp__, __levels__, title, number, number\n"
     ]
    },
    {
     "name": "stdout",
     "output_type": "stream",
     "text": [
      "  0.03s All features loaded/computed - for details use loadLog()\n"
     ]
    },
    {
     "name": "stdout",
     "output_type": "stream",
     "text": [
      "  0.00s loading features ...\n"
     ]
    },
    {
     "name": "stdout",
     "output_type": "stream",
     "text": [
      "   |     0.00s T author               from combine/_temp/riverbanks\n"
     ]
    },
    {
     "name": "stdout",
     "output_type": "stream",
     "text": [
      "  0.00s All additional features loaded - for details use loadLog()\n"
     ]
    }
   ],
   "source": [
    "TF = Fabric(locations=COMBINED)\n",
    "api = TF.loadAll(silent=False)\n",
    "docs = api.makeAvailableIn(globals())"
   ]
  },
  {
   "cell_type": "code",
   "execution_count": 9,
   "metadata": {},
   "outputs": [
    {
     "data": {
      "text/plain": [
       "('banks', 1, 1)"
      ]
     },
     "execution_count": 9,
     "metadata": {},
     "output_type": "execute_result"
    }
   ],
   "source": [
    "T.sectionFromNode(1)"
   ]
  },
  {
   "cell_type": "code",
   "execution_count": 10,
   "metadata": {},
   "outputs": [
    {
     "data": {
      "text/plain": [
       "('rivers', 1, 1)"
      ]
     },
     "execution_count": 10,
     "metadata": {},
     "output_type": "execute_result"
    }
   ],
   "source": [
    "T.sectionFromNode(100)"
   ]
  },
  {
   "cell_type": "code",
   "execution_count": 11,
   "metadata": {},
   "outputs": [
    {
     "data": {
      "text/plain": [
       "(('book', 99.0, 199, 200),\n",
       " ('volume', 99.0, 235, 236),\n",
       " ('chapter', 49.5, 201, 204),\n",
       " ('sentence', 33.0, 229, 234),\n",
       " ('line', 7.666666666666667, 205, 228),\n",
       " ('word', 1, 1, 198))"
      ]
     },
     "execution_count": 11,
     "metadata": {},
     "output_type": "execute_result"
    }
   ],
   "source": [
    "C.levels.data"
   ]
  },
  {
   "cell_type": "code",
   "execution_count": 12,
   "metadata": {},
   "outputs": [
    {
     "data": {
      "text/plain": [
       "dict_items([(199, 'Consider Phlebas'), (200, 'Consider Phlebas'), (235, 'banks'), (236, 'rivers')])"
      ]
     },
     "execution_count": 12,
     "metadata": {},
     "output_type": "execute_result"
    }
   ],
   "source": [
    "F.title.items()"
   ]
  },
  {
   "cell_type": "code",
   "execution_count": 13,
   "metadata": {},
   "outputs": [],
   "source": [
    "location = f'{PREFIX}/banks1/{SUFFIX}'\n",
    "\n",
    "MODIFIED = '_temp/mudbanks'"
   ]
  },
  {
   "cell_type": "code",
   "execution_count": 14,
   "metadata": {},
   "outputs": [],
   "source": [
    "otext = dict(\n",
    "    sectionTypes='book,chapter',\n",
    "    sectionFeatures='title,number',\n",
    "    **{'fmt:text-orig-full': '{letters} '},\n",
    ")"
   ]
  },
  {
   "cell_type": "code",
   "execution_count": 15,
   "metadata": {},
   "outputs": [
    {
     "data": {
      "text/plain": [
       "True"
      ]
     },
     "execution_count": 15,
     "metadata": {},
     "output_type": "execute_result"
    }
   ],
   "source": [
    "test = 'meta'\n",
    "output = f'{MODIFIED}.{test}'\n",
    "\n",
    "!rm -rf {output}\n",
    "\n",
    "modify(\n",
    "  location,\n",
    "  output,\n",
    "  featureMeta=dict(otext=otext),\n",
    "  silent=True,\n",
    ")"
   ]
  },
  {
   "cell_type": "code",
   "execution_count": 16,
   "metadata": {},
   "outputs": [
    {
     "name": "stdout",
     "output_type": "stream",
     "text": [
      "   |     0.00s T otype                from _temp/mudbanks.meta\n"
     ]
    },
    {
     "name": "stdout",
     "output_type": "stream",
     "text": [
      "   |     0.00s T oslots               from _temp/mudbanks.meta\n"
     ]
    },
    {
     "name": "stdout",
     "output_type": "stream",
     "text": [
      "   |     0.00s T title                from _temp/mudbanks.meta\n"
     ]
    },
    {
     "name": "stdout",
     "output_type": "stream",
     "text": [
      "   |     0.00s T letters              from _temp/mudbanks.meta\n"
     ]
    },
    {
     "name": "stdout",
     "output_type": "stream",
     "text": [
      "   |     0.00s T terminator           from _temp/mudbanks.meta\n"
     ]
    },
    {
     "name": "stdout",
     "output_type": "stream",
     "text": [
      "   |     0.00s T number               from _temp/mudbanks.meta\n"
     ]
    },
    {
     "name": "stdout",
     "output_type": "stream",
     "text": [
      "   |      |     0.00s C __levels__           from otype, oslots, otext\n"
     ]
    },
    {
     "name": "stdout",
     "output_type": "stream",
     "text": [
      "   |      |     0.00s C __order__            from otype, oslots, __levels__\n"
     ]
    },
    {
     "name": "stdout",
     "output_type": "stream",
     "text": [
      "   |      |     0.00s C __rank__             from otype, __order__\n"
     ]
    },
    {
     "name": "stdout",
     "output_type": "stream",
     "text": [
      "   |      |     0.00s C __levUp__            from otype, oslots, __rank__\n"
     ]
    },
    {
     "name": "stdout",
     "output_type": "stream",
     "text": [
      "   |      |     0.00s C __levDown__          from otype, __levUp__, __rank__\n"
     ]
    },
    {
     "name": "stdout",
     "output_type": "stream",
     "text": [
      "   |      |     0.00s C __boundary__         from otype, oslots, __rank__\n"
     ]
    },
    {
     "name": "stdout",
     "output_type": "stream",
     "text": [
      "   |      |     0.00s C __sections__         from otype, oslots, otext, __levUp__, __levels__, title, number\n"
     ]
    },
    {
     "name": "stdout",
     "output_type": "stream",
     "text": [
      "   |      |     0.00s C __structure__        from otype, oslots, otext, __rank__, __levUp__, title, number, number, number\n"
     ]
    },
    {
     "name": "stdout",
     "output_type": "stream",
     "text": [
      "   |     0.00s T author               from _temp/mudbanks.meta\n"
     ]
    },
    {
     "name": "stdout",
     "output_type": "stream",
     "text": [
      "   |     0.00s T gap                  from _temp/mudbanks.meta\n"
     ]
    },
    {
     "name": "stdout",
     "output_type": "stream",
     "text": [
      "   |     0.00s T punc                 from _temp/mudbanks.meta\n"
     ]
    }
   ],
   "source": [
    "TF = Fabric(locations=f'{MODIFIED}.{test}', silent=True)\n",
    "api = TF.loadAll(silent=True)\n",
    "docs = api.makeAvailableIn(globals())"
   ]
  },
  {
   "cell_type": "code",
   "execution_count": 17,
   "metadata": {},
   "outputs": [
    {
     "data": {
      "text/plain": [
       "('Consider Phlebas', 1)"
      ]
     },
     "execution_count": 17,
     "metadata": {},
     "output_type": "execute_result"
    }
   ],
   "source": [
    "T.sectionFromNode(1)"
   ]
  },
  {
   "cell_type": "code",
   "execution_count": 18,
   "metadata": {},
   "outputs": [
    {
     "data": {
      "text/plain": [
       "('Consider Phlebas', 2)"
      ]
     },
     "execution_count": 18,
     "metadata": {},
     "output_type": "execute_result"
    }
   ],
   "source": [
    "T.sectionFromNode(99)"
   ]
  },
  {
   "cell_type": "code",
   "execution_count": 19,
   "metadata": {},
   "outputs": [],
   "source": [
    "otext = dict(\n",
    "    sectionTypes='book,chapter',\n",
    "    sectionFeatures='heading,heading',\n",
    "    structureTypes='book,chapter',\n",
    "    structureFeatures='heading,heading',\n",
    "    **{\n",
    "      'fmt:text-orig-full': '{content} ',\n",
    "      'fmt:text-orig-fake': '{fake} ',\n",
    "      'fmt:line-default': '{content:XXX}{terminator} ',\n",
    "    },\n",
    ")"
   ]
  },
  {
   "cell_type": "code",
   "execution_count": 20,
   "metadata": {},
   "outputs": [
    {
     "data": {
      "text/plain": [
       "True"
      ]
     },
     "execution_count": 20,
     "metadata": {},
     "output_type": "execute_result"
    }
   ],
   "source": [
    "test = 'merge.f'\n",
    "output = f'{MODIFIED}.{test}'\n",
    "\n",
    "!rm -rf {output}\n",
    "\n",
    "modify(\n",
    "  location,\n",
    "  output,\n",
    "  mergeFeatures=dict(\n",
    "    heading=('title number'),\n",
    "    content=('punc letters'),\n",
    "    fake=('letters punc')\n",
    "  ),\n",
    "  featureMeta=dict(\n",
    "    otext=otext,\n",
    "  ),\n",
    "  silent=True,\n",
    ")"
   ]
  },
  {
   "cell_type": "code",
   "execution_count": 21,
   "metadata": {},
   "outputs": [
    {
     "name": "stdout",
     "output_type": "stream",
     "text": [
      "   |     0.00s T otype                from _temp/mudbanks.merge.f\n"
     ]
    },
    {
     "name": "stdout",
     "output_type": "stream",
     "text": [
      "   |     0.00s T oslots               from _temp/mudbanks.merge.f\n"
     ]
    },
    {
     "name": "stdout",
     "output_type": "stream",
     "text": [
      "   |     0.00s T terminator           from _temp/mudbanks.merge.f\n"
     ]
    },
    {
     "name": "stdout",
     "output_type": "stream",
     "text": [
      "   |     0.00s T heading              from _temp/mudbanks.merge.f\n"
     ]
    },
    {
     "name": "stdout",
     "output_type": "stream",
     "text": [
      "   |     0.00s T fake                 from _temp/mudbanks.merge.f\n"
     ]
    },
    {
     "name": "stdout",
     "output_type": "stream",
     "text": [
      "   |     0.00s T content              from _temp/mudbanks.merge.f\n"
     ]
    },
    {
     "name": "stdout",
     "output_type": "stream",
     "text": [
      "   |      |     0.00s C __levels__           from otype, oslots, otext\n"
     ]
    },
    {
     "name": "stdout",
     "output_type": "stream",
     "text": [
      "   |      |     0.00s C __order__            from otype, oslots, __levels__\n"
     ]
    },
    {
     "name": "stdout",
     "output_type": "stream",
     "text": [
      "   |      |     0.00s C __rank__             from otype, __order__\n"
     ]
    },
    {
     "name": "stdout",
     "output_type": "stream",
     "text": [
      "   |      |     0.00s C __levUp__            from otype, oslots, __rank__\n"
     ]
    },
    {
     "name": "stdout",
     "output_type": "stream",
     "text": [
      "   |      |     0.00s C __levDown__          from otype, __levUp__, __rank__\n"
     ]
    },
    {
     "name": "stdout",
     "output_type": "stream",
     "text": [
      "   |      |     0.00s C __boundary__         from otype, oslots, __rank__\n"
     ]
    },
    {
     "name": "stdout",
     "output_type": "stream",
     "text": [
      "   |      |     0.00s C __sections__         from otype, oslots, otext, __levUp__, __levels__, heading, heading\n"
     ]
    },
    {
     "name": "stdout",
     "output_type": "stream",
     "text": [
      "   |      |     0.00s C __structure__        from otype, oslots, otext, __rank__, __levUp__, heading, heading\n"
     ]
    },
    {
     "name": "stdout",
     "output_type": "stream",
     "text": [
      "   |     0.00s T author               from _temp/mudbanks.merge.f\n"
     ]
    },
    {
     "name": "stdout",
     "output_type": "stream",
     "text": [
      "   |     0.00s T gap                  from _temp/mudbanks.merge.f\n"
     ]
    }
   ],
   "source": [
    "TF = Fabric(locations=f'{MODIFIED}.{test}', silent=True)\n",
    "api = TF.loadAll(silent=True)\n",
    "docs = api.makeAvailableIn(globals())"
   ]
  },
  {
   "cell_type": "code",
   "execution_count": 22,
   "metadata": {},
   "outputs": [
    {
     "data": {
      "text/plain": [
       "'Consider Phlebas'"
      ]
     },
     "execution_count": 22,
     "metadata": {},
     "output_type": "execute_result"
    }
   ],
   "source": [
    "b = F.otype.s('book')[0]\n",
    "F.heading.v(b)"
   ]
  },
  {
   "cell_type": "code",
   "execution_count": 23,
   "metadata": {},
   "outputs": [
    {
     "data": {
      "text/plain": [
       "'1'"
      ]
     },
     "execution_count": 23,
     "metadata": {},
     "output_type": "execute_result"
    }
   ],
   "source": [
    "c = F.otype.s('chapter')[0]\n",
    "F.heading.v(c)"
   ]
  },
  {
   "cell_type": "code",
   "execution_count": 24,
   "metadata": {},
   "outputs": [
    {
     "data": {
      "text/plain": [
       "['author', 'content', 'fake', 'gap', 'heading', 'otype', 'terminator']"
      ]
     },
     "execution_count": 24,
     "metadata": {},
     "output_type": "execute_result"
    }
   ],
   "source": [
    "Fall()"
   ]
  },
  {
   "cell_type": "code",
   "execution_count": 25,
   "metadata": {},
   "outputs": [
    {
     "data": {
      "text/plain": [
       "'Everything about us everything around us everything we know '"
      ]
     },
     "execution_count": 25,
     "metadata": {},
     "output_type": "execute_result"
    }
   ],
   "source": [
    "T.text(range(1,10))"
   ]
  },
  {
   "cell_type": "code",
   "execution_count": 26,
   "metadata": {},
   "outputs": [
    {
     "data": {
      "text/plain": [
       "'Everything about , everything around , everything we know '"
      ]
     },
     "execution_count": 26,
     "metadata": {},
     "output_type": "execute_result"
    }
   ],
   "source": [
    "T.text(range(1,10), fmt='text-orig-fake')"
   ]
  },
  {
   "cell_type": "code",
   "execution_count": 27,
   "metadata": {},
   "outputs": [
    {
     "name": "stderr",
     "output_type": "stream",
     "text": [
      "   |   Missing for text API: features: terminator\n"
     ]
    },
    {
     "data": {
      "text/plain": [
       "False"
      ]
     },
     "execution_count": 27,
     "metadata": {},
     "output_type": "execute_result"
    }
   ],
   "source": [
    "test = 'delete.f'\n",
    "output = f'{MODIFIED}.{test}'\n",
    "\n",
    "!rm -rf {output}\n",
    "\n",
    "modify(\n",
    "  location,\n",
    "  output,\n",
    "  deleteFeatures='author terminator',\n",
    "  silent=True,\n",
    ")"
   ]
  },
  {
   "cell_type": "code",
   "execution_count": 28,
   "metadata": {},
   "outputs": [
    {
     "data": {
      "text/plain": [
       "True"
      ]
     },
     "execution_count": 28,
     "metadata": {},
     "output_type": "execute_result"
    }
   ],
   "source": [
    "test = 'delete.f'\n",
    "output = f'{MODIFIED}.{test}'\n",
    "\n",
    "modify(\n",
    "  location,\n",
    "  output,\n",
    "  deleteFeatures='author gap',\n",
    "  silent=True,\n",
    ")"
   ]
  },
  {
   "cell_type": "code",
   "execution_count": 29,
   "metadata": {},
   "outputs": [
    {
     "name": "stdout",
     "output_type": "stream",
     "text": [
      "   |     0.00s T otype                from _temp/mudbanks.delete.f\n"
     ]
    },
    {
     "name": "stdout",
     "output_type": "stream",
     "text": [
      "   |     0.00s T oslots               from _temp/mudbanks.delete.f\n"
     ]
    },
    {
     "name": "stdout",
     "output_type": "stream",
     "text": [
      "   |     0.00s T terminator           from _temp/mudbanks.delete.f\n"
     ]
    },
    {
     "name": "stdout",
     "output_type": "stream",
     "text": [
      "   |     0.00s T letters              from _temp/mudbanks.delete.f\n"
     ]
    },
    {
     "name": "stdout",
     "output_type": "stream",
     "text": [
      "   |     0.00s T title                from _temp/mudbanks.delete.f\n"
     ]
    },
    {
     "name": "stdout",
     "output_type": "stream",
     "text": [
      "   |     0.00s T punc                 from _temp/mudbanks.delete.f\n"
     ]
    },
    {
     "name": "stdout",
     "output_type": "stream",
     "text": [
      "   |     0.00s T number               from _temp/mudbanks.delete.f\n"
     ]
    },
    {
     "name": "stdout",
     "output_type": "stream",
     "text": [
      "   |      |     0.00s C __levels__           from otype, oslots, otext\n"
     ]
    },
    {
     "name": "stdout",
     "output_type": "stream",
     "text": [
      "   |      |     0.00s C __order__            from otype, oslots, __levels__\n"
     ]
    },
    {
     "name": "stdout",
     "output_type": "stream",
     "text": [
      "   |      |     0.00s C __rank__             from otype, __order__\n"
     ]
    },
    {
     "name": "stdout",
     "output_type": "stream",
     "text": [
      "   |      |     0.00s C __levUp__            from otype, oslots, __rank__\n"
     ]
    },
    {
     "name": "stdout",
     "output_type": "stream",
     "text": [
      "   |      |     0.00s C __levDown__          from otype, __levUp__, __rank__\n"
     ]
    },
    {
     "name": "stdout",
     "output_type": "stream",
     "text": [
      "   |      |     0.00s C __boundary__         from otype, oslots, __rank__\n"
     ]
    },
    {
     "name": "stdout",
     "output_type": "stream",
     "text": [
      "   |      |     0.00s C __sections__         from otype, oslots, otext, __levUp__, __levels__, title, number, number\n"
     ]
    },
    {
     "name": "stdout",
     "output_type": "stream",
     "text": [
      "   |      |     0.00s C __structure__        from otype, oslots, otext, __rank__, __levUp__, title, number, number, number\n"
     ]
    }
   ],
   "source": [
    "TF = Fabric(locations=f'{MODIFIED}.{test}', silent=True)\n",
    "api = TF.loadAll(silent=True)\n",
    "docs = api.makeAvailableIn(globals())"
   ]
  },
  {
   "cell_type": "code",
   "execution_count": 30,
   "metadata": {},
   "outputs": [
    {
     "data": {
      "text/plain": [
       "['letters', 'number', 'otype', 'punc', 'terminator', 'title']"
      ]
     },
     "execution_count": 30,
     "metadata": {},
     "output_type": "execute_result"
    }
   ],
   "source": [
    "Fall()"
   ]
  },
  {
   "cell_type": "code",
   "execution_count": 31,
   "metadata": {},
   "outputs": [
    {
     "name": "stdout",
     "output_type": "stream",
     "text": [
      "I told you so! Sigh ...\n"
     ]
    }
   ],
   "source": [
    "try:\n",
    "    F.gap.freqList()\n",
    "except Exception:\n",
    "    print(\"I told you so! Sigh ...\")"
   ]
  },
  {
   "cell_type": "code",
   "execution_count": 32,
   "metadata": {},
   "outputs": [
    {
     "name": "stderr",
     "output_type": "stream",
     "text": [
      "   |   Add features: big: feature values are declared to be int but some values are not int\n"
     ]
    },
    {
     "data": {
      "text/plain": [
       "False"
      ]
     },
     "execution_count": 32,
     "metadata": {},
     "output_type": "execute_result"
    }
   ],
   "source": [
    "test = 'add.f'\n",
    "output = f'{MODIFIED}.{test}'\n",
    "\n",
    "!rm -rf {output}\n",
    "\n",
    "modify(\n",
    "  location,\n",
    "  output,\n",
    "  addFeatures=dict(\n",
    "    nodeFeatures=dict(\n",
    "      author={101: 'Banks Jr.', 102: 'Banks Sr.'},\n",
    "      lemma={n: 1000 + n for n in range(1, 10)},\n",
    "      small={n: chr(ord('a') + n % 26) for n in range(1, 10)},\n",
    "      big={n: chr(ord('A') + n % 26) for n in range(1, 10)},\n",
    "    ),\n",
    "    edgeFeatures=dict(\n",
    "      link={n: {n + i for i in range(1,3)} for n in range(1,10)},\n",
    "      similarity={n: {n + i: chr(ord('a') + (i + n) % 26) for i in range(1,3)} for n in range(1,10)},\n",
    "    ),\n",
    "  ),\n",
    "  featureMeta=dict(\n",
    "    lemma=dict(\n",
    "      valueType='str',\n",
    "    ),\n",
    "    big=dict(\n",
    "      valueType='int',\n",
    "    ),\n",
    "  ),\n",
    "  silent=True,\n",
    ")"
   ]
  },
  {
   "cell_type": "code",
   "execution_count": 33,
   "metadata": {},
   "outputs": [
    {
     "data": {
      "text/plain": [
       "True"
      ]
     },
     "execution_count": 33,
     "metadata": {},
     "output_type": "execute_result"
    }
   ],
   "source": [
    "test = 'add.f'\n",
    "output = f'{MODIFIED}.{test}'\n",
    "\n",
    "!rm -rf {output}\n",
    "\n",
    "modify(\n",
    "  location,\n",
    "  output,\n",
    "  addFeatures=dict(\n",
    "    nodeFeatures=dict(\n",
    "      author={101: 'Banks Jr.', 102: 'Banks Sr.'},\n",
    "      lemma={n: 1000 + n for n in range(1, 10)},\n",
    "      small={n: chr(ord('a') + n % 26) for n in range(1, 10)},\n",
    "      big={n: chr(ord('A') + n % 26) for n in range(1, 10)},\n",
    "    ),\n",
    "    edgeFeatures=dict(\n",
    "      link={n: {n + i for i in range(1,3)} for n in range(1,10)},\n",
    "      similarity={n: {n + i: chr(ord('a') + (i + n) % 26) for i in range(1,3)} for n in range(1,10)},\n",
    "    ),\n",
    "  ),\n",
    "  silent=True,\n",
    ")"
   ]
  },
  {
   "cell_type": "code",
   "execution_count": 34,
   "metadata": {},
   "outputs": [
    {
     "name": "stdout",
     "output_type": "stream",
     "text": [
      "   |     0.00s T otype                from _temp/mudbanks.add.f\n"
     ]
    },
    {
     "name": "stdout",
     "output_type": "stream",
     "text": [
      "   |     0.00s T oslots               from _temp/mudbanks.add.f\n"
     ]
    },
    {
     "name": "stdout",
     "output_type": "stream",
     "text": [
      "   |     0.00s T terminator           from _temp/mudbanks.add.f\n"
     ]
    },
    {
     "name": "stdout",
     "output_type": "stream",
     "text": [
      "   |     0.00s T letters              from _temp/mudbanks.add.f\n"
     ]
    },
    {
     "name": "stdout",
     "output_type": "stream",
     "text": [
      "   |     0.00s T title                from _temp/mudbanks.add.f\n"
     ]
    },
    {
     "name": "stdout",
     "output_type": "stream",
     "text": [
      "   |     0.00s T punc                 from _temp/mudbanks.add.f\n"
     ]
    },
    {
     "name": "stdout",
     "output_type": "stream",
     "text": [
      "   |     0.00s T number               from _temp/mudbanks.add.f\n"
     ]
    },
    {
     "name": "stdout",
     "output_type": "stream",
     "text": [
      "   |      |     0.00s C __levels__           from otype, oslots, otext\n"
     ]
    },
    {
     "name": "stdout",
     "output_type": "stream",
     "text": [
      "   |      |     0.00s C __order__            from otype, oslots, __levels__\n"
     ]
    },
    {
     "name": "stdout",
     "output_type": "stream",
     "text": [
      "   |      |     0.00s C __rank__             from otype, __order__\n"
     ]
    },
    {
     "name": "stdout",
     "output_type": "stream",
     "text": [
      "   |      |     0.00s C __levUp__            from otype, oslots, __rank__\n"
     ]
    },
    {
     "name": "stdout",
     "output_type": "stream",
     "text": [
      "   |      |     0.00s C __levDown__          from otype, __levUp__, __rank__\n"
     ]
    },
    {
     "name": "stdout",
     "output_type": "stream",
     "text": [
      "   |      |     0.00s C __boundary__         from otype, oslots, __rank__\n"
     ]
    },
    {
     "name": "stdout",
     "output_type": "stream",
     "text": [
      "   |      |     0.00s C __sections__         from otype, oslots, otext, __levUp__, __levels__, title, number, number\n"
     ]
    },
    {
     "name": "stdout",
     "output_type": "stream",
     "text": [
      "   |      |     0.00s C __structure__        from otype, oslots, otext, __rank__, __levUp__, title, number, number, number\n"
     ]
    },
    {
     "name": "stdout",
     "output_type": "stream",
     "text": [
      "   |     0.00s T author               from _temp/mudbanks.add.f\n"
     ]
    },
    {
     "name": "stdout",
     "output_type": "stream",
     "text": [
      "   |     0.00s T big                  from _temp/mudbanks.add.f\n"
     ]
    },
    {
     "name": "stdout",
     "output_type": "stream",
     "text": [
      "   |     0.00s T gap                  from _temp/mudbanks.add.f\n"
     ]
    },
    {
     "name": "stdout",
     "output_type": "stream",
     "text": [
      "   |     0.00s T lemma                from _temp/mudbanks.add.f\n"
     ]
    },
    {
     "name": "stdout",
     "output_type": "stream",
     "text": [
      "   |     0.00s T link                 from _temp/mudbanks.add.f\n"
     ]
    },
    {
     "name": "stdout",
     "output_type": "stream",
     "text": [
      "   |     0.00s T similarity           from _temp/mudbanks.add.f\n"
     ]
    },
    {
     "name": "stdout",
     "output_type": "stream",
     "text": [
      "   |     0.00s T small                from _temp/mudbanks.add.f\n"
     ]
    }
   ],
   "source": [
    "TF = Fabric(locations=f'{MODIFIED}.{test}', silent=True)\n",
    "api = TF.loadAll(silent=True)\n",
    "docs = api.makeAvailableIn(globals())"
   ]
  },
  {
   "cell_type": "code",
   "execution_count": 35,
   "metadata": {},
   "outputs": [
    {
     "data": {
      "text/plain": [
       "['author',\n",
       " 'big',\n",
       " 'gap',\n",
       " 'lemma',\n",
       " 'letters',\n",
       " 'number',\n",
       " 'otype',\n",
       " 'punc',\n",
       " 'small',\n",
       " 'terminator',\n",
       " 'title']"
      ]
     },
     "execution_count": 35,
     "metadata": {},
     "output_type": "execute_result"
    }
   ],
   "source": [
    "Fall()"
   ]
  },
  {
   "cell_type": "code",
   "execution_count": 36,
   "metadata": {},
   "outputs": [
    {
     "data": {
      "text/plain": [
       "['link', 'oslots', 'similarity']"
      ]
     },
     "execution_count": 36,
     "metadata": {},
     "output_type": "execute_result"
    }
   ],
   "source": [
    "Eall()"
   ]
  },
  {
   "cell_type": "code",
   "execution_count": 37,
   "metadata": {},
   "outputs": [
    {
     "data": {
      "text/plain": [
       "dict_items([(1, frozenset({2, 3})), (2, frozenset({3, 4})), (3, frozenset({4, 5})), (4, frozenset({5, 6})), (5, frozenset({6, 7})), (6, frozenset({8, 7})), (7, frozenset({8, 9})), (8, frozenset({9, 10})), (9, frozenset({10, 11}))])"
      ]
     },
     "execution_count": 37,
     "metadata": {},
     "output_type": "execute_result"
    }
   ],
   "source": [
    "E.link.items()"
   ]
  },
  {
   "cell_type": "code",
   "execution_count": 38,
   "metadata": {},
   "outputs": [
    {
     "data": {
      "text/plain": [
       "dict_items([(1, {2: 'c', 3: 'd'}), (2, {3: 'd', 4: 'e'}), (3, {4: 'e', 5: 'f'}), (4, {5: 'f', 6: 'g'}), (5, {6: 'g', 7: 'h'}), (6, {7: 'h', 8: 'i'}), (7, {8: 'i', 9: 'j'}), (8, {9: 'j', 10: 'k'}), (9, {10: 'k', 11: 'l'})])"
      ]
     },
     "execution_count": 38,
     "metadata": {},
     "output_type": "execute_result"
    }
   ],
   "source": [
    "E.similarity.items()"
   ]
  },
  {
   "cell_type": "code",
   "execution_count": 39,
   "metadata": {},
   "outputs": [
    {
     "data": {
      "text/plain": [
       "((2, 'c'), (3, 'd'))"
      ]
     },
     "execution_count": 39,
     "metadata": {},
     "output_type": "execute_result"
    }
   ],
   "source": [
    "E.similarity.f(1)"
   ]
  },
  {
   "cell_type": "code",
   "execution_count": 40,
   "metadata": {},
   "outputs": [
    {
     "data": {
      "text/plain": [
       "dict_items([(100, 'Iain M. Banks'), (101, 'Banks Jr.'), (102, 'Banks Sr.')])"
      ]
     },
     "execution_count": 40,
     "metadata": {},
     "output_type": "execute_result"
    }
   ],
   "source": [
    "F.author.items()"
   ]
  },
  {
   "cell_type": "code",
   "execution_count": 41,
   "metadata": {},
   "outputs": [
    {
     "data": {
      "text/plain": [
       "dict_items([(1, 'b'), (2, 'c'), (3, 'd'), (4, 'e'), (5, 'f'), (6, 'g'), (7, 'h'), (8, 'i'), (9, 'j')])"
      ]
     },
     "execution_count": 41,
     "metadata": {},
     "output_type": "execute_result"
    }
   ],
   "source": [
    "F.small.items()"
   ]
  },
  {
   "cell_type": "code",
   "execution_count": 42,
   "metadata": {},
   "outputs": [
    {
     "data": {
      "text/plain": [
       "dict_items([(1, 'B'), (2, 'C'), (3, 'D'), (4, 'E'), (5, 'F'), (6, 'G'), (7, 'H'), (8, 'I'), (9, 'J')])"
      ]
     },
     "execution_count": 42,
     "metadata": {},
     "output_type": "execute_result"
    }
   ],
   "source": [
    "F.big.items()"
   ]
  },
  {
   "cell_type": "code",
   "execution_count": 43,
   "metadata": {},
   "outputs": [
    {
     "data": {
      "text/plain": [
       "dict_items([(1, 1001), (2, 1002), (3, 1003), (4, 1004), (5, 1005), (6, 1006), (7, 1007), (8, 1008), (9, 1009)])"
      ]
     },
     "execution_count": 43,
     "metadata": {},
     "output_type": "execute_result"
    }
   ],
   "source": [
    "F.lemma.items()"
   ]
  },
  {
   "cell_type": "code",
   "execution_count": 44,
   "metadata": {},
   "outputs": [
    {
     "data": {
      "text/plain": [
       "True"
      ]
     },
     "execution_count": 44,
     "metadata": {},
     "output_type": "execute_result"
    }
   ],
   "source": [
    "test = 'merge.t'\n",
    "output = f'{MODIFIED}.{test}'\n",
    "\n",
    "!rm -rf {output}\n",
    "\n",
    "modify(\n",
    "  location,\n",
    "  output,\n",
    "  mergeFeatures=dict(\n",
    "    nm='title number'\n",
    "  ),\n",
    "  mergeTypes=dict(\n",
    "    rule=dict(\n",
    "      line=dict(\n",
    "        type='line',\n",
    "      ),\n",
    "      sentence=dict(\n",
    "        type='sentence',\n",
    "      ),\n",
    "    ),\n",
    "    section=dict(\n",
    "      book=dict(\n",
    "        type='book',\n",
    "      ),\n",
    "      chapter=dict(\n",
    "        type='chapter',\n",
    "      ),\n",
    "    ),\n",
    "  ),\n",
    "  featureMeta=dict(\n",
    "    otext=dict(\n",
    "      sectionTypes='section,rule',\n",
    "      sectionFeatures='nm,nm',\n",
    "      structureTypes='section',\n",
    "      structureFeatures='nm',\n",
    "    ),\n",
    "  ),\n",
    "  silent=True,\n",
    ")"
   ]
  },
  {
   "cell_type": "code",
   "execution_count": 45,
   "metadata": {},
   "outputs": [
    {
     "name": "stdout",
     "output_type": "stream",
     "text": [
      "   |     0.00s T otype                from _temp/mudbanks.merge.t\n"
     ]
    },
    {
     "name": "stdout",
     "output_type": "stream",
     "text": [
      "   |     0.00s T oslots               from _temp/mudbanks.merge.t\n"
     ]
    },
    {
     "name": "stdout",
     "output_type": "stream",
     "text": [
      "   |     0.00s T terminator           from _temp/mudbanks.merge.t\n"
     ]
    },
    {
     "name": "stdout",
     "output_type": "stream",
     "text": [
      "   |     0.00s T letters              from _temp/mudbanks.merge.t\n"
     ]
    },
    {
     "name": "stdout",
     "output_type": "stream",
     "text": [
      "   |     0.00s T punc                 from _temp/mudbanks.merge.t\n"
     ]
    },
    {
     "name": "stdout",
     "output_type": "stream",
     "text": [
      "   |     0.00s T nm                   from _temp/mudbanks.merge.t\n"
     ]
    },
    {
     "name": "stdout",
     "output_type": "stream",
     "text": [
      "   |      |     0.00s C __levels__           from otype, oslots, otext\n"
     ]
    },
    {
     "name": "stdout",
     "output_type": "stream",
     "text": [
      "   |      |     0.00s C __order__            from otype, oslots, __levels__\n"
     ]
    },
    {
     "name": "stdout",
     "output_type": "stream",
     "text": [
      "   |      |     0.00s C __rank__             from otype, __order__\n"
     ]
    },
    {
     "name": "stdout",
     "output_type": "stream",
     "text": [
      "   |      |     0.00s C __levUp__            from otype, oslots, __rank__\n"
     ]
    },
    {
     "name": "stdout",
     "output_type": "stream",
     "text": [
      "   |      |     0.00s C __levDown__          from otype, __levUp__, __rank__\n"
     ]
    },
    {
     "name": "stdout",
     "output_type": "stream",
     "text": [
      "   |      |     0.00s C __boundary__         from otype, oslots, __rank__\n"
     ]
    },
    {
     "name": "stdout",
     "output_type": "stream",
     "text": [
      "   |      |     0.00s C __sections__         from otype, oslots, otext, __levUp__, __levels__, nm, nm\n"
     ]
    },
    {
     "name": "stdout",
     "output_type": "stream",
     "text": [
      "   |      |     0.00s C __structure__        from otype, oslots, otext, __rank__, __levUp__, nm\n"
     ]
    },
    {
     "name": "stdout",
     "output_type": "stream",
     "text": [
      "   |     0.00s T author               from _temp/mudbanks.merge.t\n"
     ]
    },
    {
     "name": "stdout",
     "output_type": "stream",
     "text": [
      "   |     0.00s T gap                  from _temp/mudbanks.merge.t\n"
     ]
    },
    {
     "name": "stdout",
     "output_type": "stream",
     "text": [
      "   |     0.00s T type                 from _temp/mudbanks.merge.t\n"
     ]
    }
   ],
   "source": [
    "TF = Fabric(locations=f'{MODIFIED}.{test}', silent=True)\n",
    "api = TF.loadAll(silent=True)\n",
    "docs = api.makeAvailableIn(globals())"
   ]
  },
  {
   "cell_type": "code",
   "execution_count": 46,
   "metadata": {},
   "outputs": [
    {
     "data": {
      "text/plain": [
       "(('section', 66.0, 100, 102),\n",
       " ('rule', 12.733333333333333, 103, 117),\n",
       " ('word', 1, 1, 99))"
      ]
     },
     "execution_count": 46,
     "metadata": {},
     "output_type": "execute_result"
    }
   ],
   "source": [
    "C.levels.data"
   ]
  },
  {
   "cell_type": "code",
   "execution_count": 47,
   "metadata": {},
   "outputs": [
    {
     "data": {
      "text/plain": [
       "['author', 'gap', 'letters', 'nm', 'otype', 'punc', 'terminator', 'type']"
      ]
     },
     "execution_count": 47,
     "metadata": {},
     "output_type": "execute_result"
    }
   ],
   "source": [
    "Fall()"
   ]
  },
  {
   "cell_type": "code",
   "execution_count": 48,
   "metadata": {},
   "outputs": [
    {
     "name": "stderr",
     "output_type": "stream",
     "text": [
      "   |   Missing for text API: types: line, sentence\n"
     ]
    },
    {
     "data": {
      "text/plain": [
       "False"
      ]
     },
     "execution_count": 48,
     "metadata": {},
     "output_type": "execute_result"
    }
   ],
   "source": [
    "test = 'delete.t'\n",
    "output = f'{MODIFIED}.{test}'\n",
    "\n",
    "!rm -rf {output}\n",
    "\n",
    "modify(\n",
    "  location,\n",
    "  output,\n",
    "  deleteTypes='sentence line',\n",
    "  silent=True,\n",
    ")"
   ]
  },
  {
   "cell_type": "code",
   "execution_count": 49,
   "metadata": {},
   "outputs": [
    {
     "data": {
      "text/plain": [
       "True"
      ]
     },
     "execution_count": 49,
     "metadata": {},
     "output_type": "execute_result"
    }
   ],
   "source": [
    "test = 'delete.t'\n",
    "output = f'{MODIFIED}.{test}'\n",
    "\n",
    "modify(\n",
    "  location,\n",
    "  output,\n",
    "  deleteTypes='sentence line',\n",
    "  featureMeta=dict(\n",
    "    otext=dict(\n",
    "      sectionTypes='book,chapter',\n",
    "      sectionFeatures='title,number',\n",
    "      structureTypes='book,chapter',\n",
    "      structureFeatures='title,number',\n",
    "    ),\n",
    "  ),\n",
    "  silent=True,\n",
    ")"
   ]
  },
  {
   "cell_type": "code",
   "execution_count": 50,
   "metadata": {},
   "outputs": [
    {
     "name": "stdout",
     "output_type": "stream",
     "text": [
      "   |     0.00s T otype                from _temp/mudbanks.delete.t\n"
     ]
    },
    {
     "name": "stdout",
     "output_type": "stream",
     "text": [
      "   |     0.00s T oslots               from _temp/mudbanks.delete.t\n"
     ]
    },
    {
     "name": "stdout",
     "output_type": "stream",
     "text": [
      "   |     0.00s T terminator           from _temp/mudbanks.delete.t\n"
     ]
    },
    {
     "name": "stdout",
     "output_type": "stream",
     "text": [
      "   |     0.00s T letters              from _temp/mudbanks.delete.t\n"
     ]
    },
    {
     "name": "stdout",
     "output_type": "stream",
     "text": [
      "   |     0.00s T title                from _temp/mudbanks.delete.t\n"
     ]
    },
    {
     "name": "stdout",
     "output_type": "stream",
     "text": [
      "   |     0.00s T punc                 from _temp/mudbanks.delete.t\n"
     ]
    },
    {
     "name": "stdout",
     "output_type": "stream",
     "text": [
      "   |     0.00s T number               from _temp/mudbanks.delete.t\n"
     ]
    },
    {
     "name": "stdout",
     "output_type": "stream",
     "text": [
      "   |      |     0.00s C __levels__           from otype, oslots, otext\n"
     ]
    },
    {
     "name": "stdout",
     "output_type": "stream",
     "text": [
      "   |      |     0.00s C __order__            from otype, oslots, __levels__\n"
     ]
    },
    {
     "name": "stdout",
     "output_type": "stream",
     "text": [
      "   |      |     0.00s C __rank__             from otype, __order__\n"
     ]
    },
    {
     "name": "stdout",
     "output_type": "stream",
     "text": [
      "   |      |     0.00s C __levUp__            from otype, oslots, __rank__\n"
     ]
    },
    {
     "name": "stdout",
     "output_type": "stream",
     "text": [
      "   |      |     0.00s C __levDown__          from otype, __levUp__, __rank__\n"
     ]
    },
    {
     "name": "stdout",
     "output_type": "stream",
     "text": [
      "   |      |     0.00s C __boundary__         from otype, oslots, __rank__\n"
     ]
    },
    {
     "name": "stdout",
     "output_type": "stream",
     "text": [
      "   |      |     0.00s C __sections__         from otype, oslots, otext, __levUp__, __levels__, title, number\n"
     ]
    },
    {
     "name": "stdout",
     "output_type": "stream",
     "text": [
      "   |      |     0.00s C __structure__        from otype, oslots, otext, __rank__, __levUp__, title, number\n"
     ]
    },
    {
     "name": "stdout",
     "output_type": "stream",
     "text": [
      "   |     0.00s T author               from _temp/mudbanks.delete.t\n"
     ]
    },
    {
     "name": "stdout",
     "output_type": "stream",
     "text": [
      "   |     0.00s T gap                  from _temp/mudbanks.delete.t\n"
     ]
    }
   ],
   "source": [
    "TF = Fabric(locations=f'{MODIFIED}.{test}', silent=True)\n",
    "api = TF.loadAll(silent=True)\n",
    "docs = api.makeAvailableIn(globals())"
   ]
  },
  {
   "cell_type": "code",
   "execution_count": 51,
   "metadata": {},
   "outputs": [
    {
     "data": {
      "text/plain": [
       "(('book', 99.0, 100, 100), ('chapter', 49.5, 101, 102), ('word', 1, 1, 99))"
      ]
     },
     "execution_count": 51,
     "metadata": {},
     "output_type": "execute_result"
    }
   ],
   "source": [
    "C.levels.data"
   ]
  },
  {
   "cell_type": "code",
   "execution_count": 52,
   "metadata": {},
   "outputs": [
    {
     "data": {
      "text/plain": [
       "True"
      ]
     },
     "execution_count": 52,
     "metadata": {},
     "output_type": "execute_result"
    }
   ],
   "source": [
    "test = 'add.t'\n",
    "output = f'{MODIFIED}.{test}'\n",
    "\n",
    "!rm -rf {output}\n",
    "\n",
    "modify(\n",
    "  location,\n",
    "  output,\n",
    "  addTypes=dict(\n",
    "    bis=dict(\n",
    "      nodeFrom=1,\n",
    "      nodeTo=5,\n",
    "      nodeSlots={\n",
    "        1: {10, 11},\n",
    "        2: {20, 21},\n",
    "        3: {30, 31},\n",
    "        4: {40, 41},\n",
    "        5: {50, 51},\n",
    "      },\n",
    "      nodeFeatures=dict(\n",
    "        name={\n",
    "          1: 'b1',\n",
    "          2: 'b2',\n",
    "          3: 'b3',\n",
    "          4: 'b4',\n",
    "          5: 'b5',\n",
    "        },\n",
    "      ),\n",
    "      edgeFeatures=dict(\n",
    "        link={\n",
    "          1: {2: 100, 3: 50, 4: 25},\n",
    "          2: {3: 50, 4: 25, 5: 12},\n",
    "          3: {4: 25, 5: 12},\n",
    "          4: {5: 12, 1: 6},\n",
    "          5: {1: 6, 2: 3, 4: 1},\n",
    "        },\n",
    "      ),\n",
    "    ),\n",
    "    tris=dict(\n",
    "      nodeFrom=1,\n",
    "      nodeTo=4,\n",
    "      nodeSlots={\n",
    "        1: {60, 61, 62},\n",
    "        2: {70, 71, 72},\n",
    "        3: {80, 81, 82},\n",
    "        4: {90, 91, 94},\n",
    "      },\n",
    "      nodeFeatures=dict(\n",
    "        name={\n",
    "          1: 'tr1',\n",
    "          2: 'tr2',\n",
    "          3: 'tr3',\n",
    "          4: 'tr4',\n",
    "        },\n",
    "      ),\n",
    "      edgeFeatures=dict(\n",
    "        sim={\n",
    "          1: {2, 3, 4},\n",
    "          2: {3, 4},\n",
    "          3: {4},\n",
    "          4: {5, 1},\n",
    "        },\n",
    "      ),\n",
    "    ),\n",
    "  ),\n",
    "  silent=True,\n",
    ")"
   ]
  },
  {
   "cell_type": "code",
   "execution_count": 53,
   "metadata": {},
   "outputs": [
    {
     "name": "stdout",
     "output_type": "stream",
     "text": [
      "   |     0.00s T otype                from _temp/mudbanks.add.t\n"
     ]
    },
    {
     "name": "stdout",
     "output_type": "stream",
     "text": [
      "   |     0.00s T oslots               from _temp/mudbanks.add.t\n"
     ]
    },
    {
     "name": "stdout",
     "output_type": "stream",
     "text": [
      "   |     0.00s T terminator           from _temp/mudbanks.add.t\n"
     ]
    },
    {
     "name": "stdout",
     "output_type": "stream",
     "text": [
      "   |     0.00s T letters              from _temp/mudbanks.add.t\n"
     ]
    },
    {
     "name": "stdout",
     "output_type": "stream",
     "text": [
      "   |     0.00s T title                from _temp/mudbanks.add.t\n"
     ]
    },
    {
     "name": "stdout",
     "output_type": "stream",
     "text": [
      "   |     0.00s T punc                 from _temp/mudbanks.add.t\n"
     ]
    },
    {
     "name": "stdout",
     "output_type": "stream",
     "text": [
      "   |     0.00s T number               from _temp/mudbanks.add.t\n"
     ]
    },
    {
     "name": "stdout",
     "output_type": "stream",
     "text": [
      "   |      |     0.00s C __levels__           from otype, oslots, otext\n"
     ]
    },
    {
     "name": "stdout",
     "output_type": "stream",
     "text": [
      "   |      |     0.00s C __order__            from otype, oslots, __levels__\n"
     ]
    },
    {
     "name": "stdout",
     "output_type": "stream",
     "text": [
      "   |      |     0.00s C __rank__             from otype, __order__\n"
     ]
    },
    {
     "name": "stdout",
     "output_type": "stream",
     "text": [
      "   |      |     0.00s C __levUp__            from otype, oslots, __rank__\n"
     ]
    },
    {
     "name": "stdout",
     "output_type": "stream",
     "text": [
      "   |      |     0.00s C __levDown__          from otype, __levUp__, __rank__\n"
     ]
    },
    {
     "name": "stdout",
     "output_type": "stream",
     "text": [
      "   |      |     0.00s C __boundary__         from otype, oslots, __rank__\n"
     ]
    },
    {
     "name": "stdout",
     "output_type": "stream",
     "text": [
      "   |      |     0.00s C __sections__         from otype, oslots, otext, __levUp__, __levels__, title, number, number\n"
     ]
    },
    {
     "name": "stdout",
     "output_type": "stream",
     "text": [
      "   |      |     0.00s C __structure__        from otype, oslots, otext, __rank__, __levUp__, title, number, number, number\n"
     ]
    },
    {
     "name": "stdout",
     "output_type": "stream",
     "text": [
      "   |     0.00s T author               from _temp/mudbanks.add.t\n"
     ]
    },
    {
     "name": "stdout",
     "output_type": "stream",
     "text": [
      "   |     0.00s T gap                  from _temp/mudbanks.add.t\n"
     ]
    },
    {
     "name": "stdout",
     "output_type": "stream",
     "text": [
      "   |     0.00s T link                 from _temp/mudbanks.add.t\n"
     ]
    },
    {
     "name": "stdout",
     "output_type": "stream",
     "text": [
      "   |     0.00s T name                 from _temp/mudbanks.add.t\n"
     ]
    },
    {
     "name": "stdout",
     "output_type": "stream",
     "text": [
      "   |     0.00s T sim                  from _temp/mudbanks.add.t\n"
     ]
    }
   ],
   "source": [
    "TF = Fabric(locations=f'{MODIFIED}.{test}', silent=True)\n",
    "api = TF.loadAll(silent=True)\n",
    "docs = api.makeAvailableIn(globals())"
   ]
  },
  {
   "cell_type": "code",
   "execution_count": 54,
   "metadata": {},
   "outputs": [
    {
     "data": {
      "text/plain": [
       "(('book', 99.0, 100, 100),\n",
       " ('chapter', 49.5, 101, 102),\n",
       " ('sentence', 33.0, 115, 117),\n",
       " ('line', 7.666666666666667, 103, 114),\n",
       " ('tris', 3.0, 123, 126),\n",
       " ('bis', 2.0, 118, 122),\n",
       " ('word', 1, 1, 99))"
      ]
     },
     "execution_count": 54,
     "metadata": {},
     "output_type": "execute_result"
    }
   ],
   "source": [
    "C.levels.data"
   ]
  },
  {
   "cell_type": "code",
   "execution_count": 55,
   "metadata": {},
   "outputs": [
    {
     "data": {
      "text/plain": [
       "['author',\n",
       " 'gap',\n",
       " 'letters',\n",
       " 'name',\n",
       " 'number',\n",
       " 'otype',\n",
       " 'punc',\n",
       " 'terminator',\n",
       " 'title']"
      ]
     },
     "execution_count": 55,
     "metadata": {},
     "output_type": "execute_result"
    }
   ],
   "source": [
    "Fall()"
   ]
  },
  {
   "cell_type": "code",
   "execution_count": 56,
   "metadata": {},
   "outputs": [
    {
     "data": {
      "text/plain": [
       "[(118, 'b1'),\n",
       " (119, 'b2'),\n",
       " (120, 'b3'),\n",
       " (121, 'b4'),\n",
       " (122, 'b5'),\n",
       " (123, 'tr1'),\n",
       " (124, 'tr2'),\n",
       " (125, 'tr3'),\n",
       " (126, 'tr4')]"
      ]
     },
     "execution_count": 56,
     "metadata": {},
     "output_type": "execute_result"
    }
   ],
   "source": [
    "sorted(F.name.items())"
   ]
  },
  {
   "cell_type": "code",
   "execution_count": 57,
   "metadata": {},
   "outputs": [
    {
     "data": {
      "text/plain": [
       "['link', 'oslots', 'sim']"
      ]
     },
     "execution_count": 57,
     "metadata": {},
     "output_type": "execute_result"
    }
   ],
   "source": [
    "Eall()"
   ]
  },
  {
   "cell_type": "code",
   "execution_count": 58,
   "metadata": {},
   "outputs": [
    {
     "data": {
      "text/plain": [
       "[(118, {121: '25', 120: '50', 119: '100'}),\n",
       " (119, {122: '12', 121: '25', 120: '50'}),\n",
       " (120, {122: '12', 121: '25'}),\n",
       " (121, {118: '6', 122: '12'}),\n",
       " (122, {121: '1', 119: '3', 118: '6'})]"
      ]
     },
     "execution_count": 58,
     "metadata": {},
     "output_type": "execute_result"
    }
   ],
   "source": [
    "sorted(E.link.items())"
   ]
  },
  {
   "cell_type": "code",
   "execution_count": 59,
   "metadata": {},
   "outputs": [
    {
     "data": {
      "text/plain": [
       "[(123, frozenset({124, 125, 126})),\n",
       " (124, frozenset({125, 126})),\n",
       " (125, frozenset({126})),\n",
       " (126, frozenset({123}))]"
      ]
     },
     "execution_count": 59,
     "metadata": {},
     "output_type": "execute_result"
    }
   ],
   "source": [
    "sorted(E.sim.items())"
   ]
  }
 ],
 "metadata": {
  "kernelspec": {
   "display_name": "Python3.9",
   "language": "python",
   "name": "python3"
  },
  "language_info": {
   "codemirror_mode": {
    "name": "ipython",
    "version": 3
   },
   "file_extension": ".py",
   "mimetype": "text/x-python",
   "name": "python",
   "nbconvert_exporter": "python",
   "pygments_lexer": "ipython3",
   "version": "3.9.0"
  },
  "toc-autonumbering": false,
  "toc-showtags": false
 },
 "nbformat": 4,
 "nbformat_minor": 4
}