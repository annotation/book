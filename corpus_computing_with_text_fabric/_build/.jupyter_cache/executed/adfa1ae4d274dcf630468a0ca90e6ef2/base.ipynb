{
 "cells": [
  {
   "cell_type": "code",
   "execution_count": 1,
   "metadata": {},
   "outputs": [],
   "source": [
    "%load_ext autoreload\n",
    "%autoreload 2"
   ]
  },
  {
   "cell_type": "code",
   "execution_count": 2,
   "metadata": {},
   "outputs": [],
   "source": [
    "from tf.advanced.helpers import dm\n",
    "from tf.advanced.repo import checkoutRepo"
   ]
  },
  {
   "cell_type": "code",
   "execution_count": 3,
   "metadata": {},
   "outputs": [],
   "source": [
    "ORG = 'annotation'\n",
    "REPO = 'banks'\n",
    "MAIN = 'tf'\n",
    "MOD = 'sim/tf'"
   ]
  },
  {
   "cell_type": "code",
   "execution_count": 4,
   "metadata": {},
   "outputs": [],
   "source": [
    "def do(task):\n",
    "  result = task\n",
    "  md = f'''\n",
    "commit | release | local | base | subdir\n",
    "--- | --- | --- | --- | ---\n",
    "`{task[0]}` | `{task[1]}` | `{task[2]}` | `{task[3]}` | `{task[4]}`\n",
    "'''\n",
    "  dm(md)"
   ]
  },
  {
   "cell_type": "code",
   "execution_count": 5,
   "metadata": {},
   "outputs": [
    {
     "data": {
      "text/html": [
       "<b title=\"local github\">data:</b> <span title=\"repo clone offline under ~/github\">~/github/annotation/banks/tf/0.2</span>"
      ],
      "text/plain": [
       "<IPython.core.display.HTML object>"
      ]
     },
     "metadata": {},
     "output_type": "display_data"
    },
    {
     "data": {
      "text/markdown": [
       "\n",
       "commit | release | local | base | subdir\n",
       "--- | --- | --- | --- | ---\n",
       "`None` | `None` | `clone` | `~/github` | `annotation/banks/tf`\n"
      ],
      "text/plain": [
       "<IPython.core.display.Markdown object>"
      ]
     },
     "metadata": {},
     "output_type": "display_data"
    }
   ],
   "source": [
    "do(\n",
    "  checkoutRepo(org=ORG, repo=REPO, folder=MAIN, version='0.2', checkout='clone')\n",
    ")"
   ]
  },
  {
   "cell_type": "code",
   "execution_count": 6,
   "metadata": {},
   "outputs": [],
   "source": [
    "%%sh\n",
    "\n",
    "mv ~/github/annotation/banks/tf ~/github/annotation/banks/tfxxx"
   ]
  },
  {
   "cell_type": "code",
   "execution_count": 7,
   "metadata": {},
   "outputs": [
    {
     "name": "stderr",
     "output_type": "stream",
     "text": [
      "The requested data is not available offline\n"
     ]
    },
    {
     "name": "stderr",
     "output_type": "stream",
     "text": [
      "\t~/github/annotation/banks/tf not found\n"
     ]
    },
    {
     "data": {
      "text/markdown": [
       "\n",
       "commit | release | local | base | subdir\n",
       "--- | --- | --- | --- | ---\n",
       "`None` | `None` | `False` | `False` | `None`\n"
      ],
      "text/plain": [
       "<IPython.core.display.Markdown object>"
      ]
     },
     "metadata": {},
     "output_type": "display_data"
    }
   ],
   "source": [
    "do(\n",
    "  checkoutRepo(org=ORG, repo=REPO, folder=MAIN, version='0.2', checkout='clone')\n",
    ")"
   ]
  },
  {
   "cell_type": "code",
   "execution_count": 8,
   "metadata": {},
   "outputs": [],
   "source": [
    "%%sh\n",
    "\n",
    "mv ~/github/annotation/banks/tfxxx ~/github/annotation/banks/tf"
   ]
  },
  {
   "cell_type": "code",
   "execution_count": 9,
   "metadata": {},
   "outputs": [
    {
     "data": {
      "text/html": [
       "<b title=\"local release\">data:</b> <span title=\"rv2.0=#9713e71c18fd296cf1860d6411312f9127710ba7 offline under ~/text-fabric-data\">~/text-fabric-data/annotation/banks/tf/0.2</span>"
      ],
      "text/plain": [
       "<IPython.core.display.HTML object>"
      ]
     },
     "metadata": {},
     "output_type": "display_data"
    },
    {
     "data": {
      "text/markdown": [
       "\n",
       "commit | release | local | base | subdir\n",
       "--- | --- | --- | --- | ---\n",
       "`9713e71c18fd296cf1860d6411312f9127710ba7` | `v2.0` | `local` | `~/text-fabric-data` | `annotation/banks/tf`\n"
      ],
      "text/plain": [
       "<IPython.core.display.Markdown object>"
      ]
     },
     "metadata": {},
     "output_type": "display_data"
    }
   ],
   "source": [
    "do(\n",
    "  checkoutRepo(org=ORG, repo=REPO, folder=MAIN, version='0.2', checkout='local')\n",
    ")"
   ]
  },
  {
   "cell_type": "code",
   "execution_count": 10,
   "metadata": {},
   "outputs": [],
   "source": [
    "%%sh\n",
    "\n",
    "mv ~/text-fabric-data/annotation/banks/tf ~/text-fabric-data/annotation/banks/tfxxx"
   ]
  },
  {
   "cell_type": "code",
   "execution_count": 11,
   "metadata": {},
   "outputs": [
    {
     "name": "stderr",
     "output_type": "stream",
     "text": [
      "The requested data is not available offline\n"
     ]
    },
    {
     "name": "stderr",
     "output_type": "stream",
     "text": [
      "\t~/text-fabric-data/annotation/banks/tf not found\n"
     ]
    },
    {
     "data": {
      "text/markdown": [
       "\n",
       "commit | release | local | base | subdir\n",
       "--- | --- | --- | --- | ---\n",
       "`None` | `None` | `False` | `False` | `None`\n"
      ],
      "text/plain": [
       "<IPython.core.display.Markdown object>"
      ]
     },
     "metadata": {},
     "output_type": "display_data"
    }
   ],
   "source": [
    "do(\n",
    "  checkoutRepo(org=ORG, repo=REPO, folder=MAIN, version='0.2', checkout='local')\n",
    ")"
   ]
  },
  {
   "cell_type": "code",
   "execution_count": 12,
   "metadata": {},
   "outputs": [],
   "source": [
    "%%sh\n",
    "\n",
    "mv ~/text-fabric-data/annotation/banks/tfxxx ~/text-fabric-data/annotation/banks/tf"
   ]
  },
  {
   "cell_type": "code",
   "execution_count": 13,
   "metadata": {},
   "outputs": [
    {
     "data": {
      "text/html": [
       "<b title=\"local release\">data:</b> <span title=\"rv2.0=#9713e71c18fd296cf1860d6411312f9127710ba7 offline under ~/text-fabric-data\">~/text-fabric-data/annotation/banks/tf/0.2</span>"
      ],
      "text/plain": [
       "<IPython.core.display.HTML object>"
      ]
     },
     "metadata": {},
     "output_type": "display_data"
    },
    {
     "data": {
      "text/markdown": [
       "\n",
       "commit | release | local | base | subdir\n",
       "--- | --- | --- | --- | ---\n",
       "`9713e71c18fd296cf1860d6411312f9127710ba7` | `v2.0` | `local` | `~/text-fabric-data` | `annotation/banks/tf`\n"
      ],
      "text/plain": [
       "<IPython.core.display.Markdown object>"
      ]
     },
     "metadata": {},
     "output_type": "display_data"
    }
   ],
   "source": [
    "do(\n",
    "  checkoutRepo(org=ORG, repo=REPO, folder=MAIN, version='0.2', checkout='')\n",
    ")"
   ]
  },
  {
   "cell_type": "code",
   "execution_count": 14,
   "metadata": {},
   "outputs": [],
   "source": [
    "%%sh\n",
    "\n",
    "rm -rf ~/text-fabric-data/annotation/banks/tf"
   ]
  },
  {
   "cell_type": "code",
   "execution_count": 15,
   "metadata": {},
   "outputs": [
    {
     "name": "stdout",
     "output_type": "stream",
     "text": [
      "The requested data is not available offline\n"
     ]
    },
    {
     "name": "stdout",
     "output_type": "stream",
     "text": [
      "\t~/text-fabric-data/annotation/banks/tf not found\n"
     ]
    },
    {
     "name": "stdout",
     "output_type": "stream",
     "text": [
      "rate limit is 5000 requests per hour, with 5000 left for this hour\n"
     ]
    },
    {
     "name": "stdout",
     "output_type": "stream",
     "text": [
      "\tconnecting to online GitHub repo annotation/banks ... "
     ]
    },
    {
     "name": "stdout",
     "output_type": "stream",
     "text": [
      "connected\n"
     ]
    },
    {
     "name": "stdout",
     "output_type": "stream",
     "text": [
      "\ttf/0.2/author.tf..."
     ]
    },
    {
     "name": "stdout",
     "output_type": "stream",
     "text": [
      "downloaded\n"
     ]
    },
    {
     "name": "stdout",
     "output_type": "stream",
     "text": [
      "\ttf/0.2/gap.tf..."
     ]
    },
    {
     "name": "stdout",
     "output_type": "stream",
     "text": [
      "downloaded\n"
     ]
    },
    {
     "name": "stdout",
     "output_type": "stream",
     "text": [
      "\ttf/0.2/letters.tf..."
     ]
    },
    {
     "name": "stdout",
     "output_type": "stream",
     "text": [
      "downloaded\n"
     ]
    },
    {
     "name": "stdout",
     "output_type": "stream",
     "text": [
      "\ttf/0.2/number.tf..."
     ]
    },
    {
     "name": "stdout",
     "output_type": "stream",
     "text": [
      "downloaded\n"
     ]
    },
    {
     "name": "stdout",
     "output_type": "stream",
     "text": [
      "\ttf/0.2/oslots.tf..."
     ]
    },
    {
     "name": "stdout",
     "output_type": "stream",
     "text": [
      "downloaded\n"
     ]
    },
    {
     "name": "stdout",
     "output_type": "stream",
     "text": [
      "\ttf/0.2/otext.tf..."
     ]
    },
    {
     "name": "stdout",
     "output_type": "stream",
     "text": [
      "downloaded\n"
     ]
    },
    {
     "name": "stdout",
     "output_type": "stream",
     "text": [
      "\ttf/0.2/otype.tf..."
     ]
    },
    {
     "name": "stdout",
     "output_type": "stream",
     "text": [
      "downloaded\n"
     ]
    },
    {
     "name": "stdout",
     "output_type": "stream",
     "text": [
      "\ttf/0.2/punc.tf..."
     ]
    },
    {
     "name": "stdout",
     "output_type": "stream",
     "text": [
      "downloaded\n"
     ]
    },
    {
     "name": "stdout",
     "output_type": "stream",
     "text": [
      "\ttf/0.2/terminator.tf..."
     ]
    },
    {
     "name": "stdout",
     "output_type": "stream",
     "text": [
      "downloaded\n"
     ]
    },
    {
     "name": "stdout",
     "output_type": "stream",
     "text": [
      "\ttf/0.2/title.tf..."
     ]
    },
    {
     "name": "stdout",
     "output_type": "stream",
     "text": [
      "downloaded\n"
     ]
    },
    {
     "name": "stdout",
     "output_type": "stream",
     "text": [
      "\tOK\n"
     ]
    },
    {
     "data": {
      "text/html": [
       "<b title=\"latest release\">data:</b> <span title=\"rv3.0=#4fc68c6f0bf20ef7070a82ec534416bf39b836a2\">~/text-fabric-data/annotation/banks/tf/0.2</span>"
      ],
      "text/plain": [
       "<IPython.core.display.HTML object>"
      ]
     },
     "metadata": {},
     "output_type": "display_data"
    },
    {
     "data": {
      "text/markdown": [
       "\n",
       "commit | release | local | base | subdir\n",
       "--- | --- | --- | --- | ---\n",
       "`4fc68c6f0bf20ef7070a82ec534416bf39b836a2` | `v3.0` | `None` | `~/text-fabric-data` | `annotation/banks/tf`\n"
      ],
      "text/plain": [
       "<IPython.core.display.Markdown object>"
      ]
     },
     "metadata": {},
     "output_type": "display_data"
    }
   ],
   "source": [
    "do(\n",
    "  checkoutRepo(org=ORG, repo=REPO, folder=MAIN, version='0.2', checkout='')\n",
    ")"
   ]
  },
  {
   "cell_type": "code",
   "execution_count": 16,
   "metadata": {},
   "outputs": [
    {
     "name": "stdout",
     "output_type": "stream",
     "text": [
      "The requested data is not available offline\n"
     ]
    },
    {
     "name": "stdout",
     "output_type": "stream",
     "text": [
      "\t~/text-fabric-data/annotation/banks/tf not found\n"
     ]
    },
    {
     "name": "stdout",
     "output_type": "stream",
     "text": [
      "rate limit is 5000 requests per hour, with 4979 left for this hour\n"
     ]
    },
    {
     "name": "stdout",
     "output_type": "stream",
     "text": [
      "\tconnecting to online GitHub repo annotation/banks ... "
     ]
    },
    {
     "name": "stdout",
     "output_type": "stream",
     "text": [
      "connected\n"
     ]
    },
    {
     "name": "stdout",
     "output_type": "stream",
     "text": [
      "\ttf/0.1/author.tf..."
     ]
    },
    {
     "name": "stdout",
     "output_type": "stream",
     "text": [
      "downloaded\n"
     ]
    },
    {
     "name": "stdout",
     "output_type": "stream",
     "text": [
      "\ttf/0.1/gap.tf..."
     ]
    },
    {
     "name": "stdout",
     "output_type": "stream",
     "text": [
      "downloaded\n"
     ]
    },
    {
     "name": "stdout",
     "output_type": "stream",
     "text": [
      "\ttf/0.1/letters.tf..."
     ]
    },
    {
     "name": "stdout",
     "output_type": "stream",
     "text": [
      "downloaded\n"
     ]
    },
    {
     "name": "stdout",
     "output_type": "stream",
     "text": [
      "\ttf/0.1/number.tf..."
     ]
    },
    {
     "name": "stdout",
     "output_type": "stream",
     "text": [
      "downloaded\n"
     ]
    },
    {
     "name": "stdout",
     "output_type": "stream",
     "text": [
      "\ttf/0.1/oslots.tf..."
     ]
    },
    {
     "name": "stdout",
     "output_type": "stream",
     "text": [
      "downloaded\n"
     ]
    },
    {
     "name": "stdout",
     "output_type": "stream",
     "text": [
      "\ttf/0.1/otext.tf..."
     ]
    },
    {
     "name": "stdout",
     "output_type": "stream",
     "text": [
      "downloaded\n"
     ]
    },
    {
     "name": "stdout",
     "output_type": "stream",
     "text": [
      "\ttf/0.1/otype.tf..."
     ]
    },
    {
     "name": "stdout",
     "output_type": "stream",
     "text": [
      "downloaded\n"
     ]
    },
    {
     "name": "stdout",
     "output_type": "stream",
     "text": [
      "\ttf/0.1/punc.tf..."
     ]
    },
    {
     "name": "stdout",
     "output_type": "stream",
     "text": [
      "downloaded\n"
     ]
    },
    {
     "name": "stdout",
     "output_type": "stream",
     "text": [
      "\ttf/0.1/terminator.tf..."
     ]
    },
    {
     "name": "stdout",
     "output_type": "stream",
     "text": [
      "downloaded\n"
     ]
    },
    {
     "name": "stdout",
     "output_type": "stream",
     "text": [
      "\ttf/0.1/title.tf..."
     ]
    },
    {
     "name": "stdout",
     "output_type": "stream",
     "text": [
      "downloaded\n"
     ]
    },
    {
     "name": "stdout",
     "output_type": "stream",
     "text": [
      "\tOK\n"
     ]
    },
    {
     "data": {
      "text/html": [
       "<b title=\"latest release\">data:</b> <span title=\"rv3.0=#4fc68c6f0bf20ef7070a82ec534416bf39b836a2\">~/text-fabric-data/annotation/banks/tf/0.1</span>"
      ],
      "text/plain": [
       "<IPython.core.display.HTML object>"
      ]
     },
     "metadata": {},
     "output_type": "display_data"
    },
    {
     "data": {
      "text/markdown": [
       "\n",
       "commit | release | local | base | subdir\n",
       "--- | --- | --- | --- | ---\n",
       "`4fc68c6f0bf20ef7070a82ec534416bf39b836a2` | `v3.0` | `None` | `~/text-fabric-data` | `annotation/banks/tf`\n"
      ],
      "text/plain": [
       "<IPython.core.display.Markdown object>"
      ]
     },
     "metadata": {},
     "output_type": "display_data"
    }
   ],
   "source": [
    "do(\n",
    "  checkoutRepo(org=ORG, repo=REPO, folder=MAIN, version='0.1', checkout='')\n",
    ")"
   ]
  },
  {
   "cell_type": "code",
   "execution_count": 17,
   "metadata": {},
   "outputs": [],
   "source": [
    "%%sh\n",
    "\n",
    "networksetup -setairportpower en0 off"
   ]
  },
  {
   "cell_type": "code",
   "execution_count": 18,
   "metadata": {},
   "outputs": [
    {
     "name": "stdout",
     "output_type": "stream",
     "text": [
      "no internet\n"
     ]
    },
    {
     "name": "stdout",
     "output_type": "stream",
     "text": [
      "The offline data may not be the latest\n"
     ]
    },
    {
     "data": {
      "text/html": [
       "<b title=\"latest? release\">data:</b> <span title=\"rv3.0=#4fc68c6f0bf20ef7070a82ec534416bf39b836a2\">~/text-fabric-data/annotation/banks/tf/0.1</span>"
      ],
      "text/plain": [
       "<IPython.core.display.HTML object>"
      ]
     },
     "metadata": {},
     "output_type": "display_data"
    },
    {
     "data": {
      "text/markdown": [
       "\n",
       "commit | release | local | base | subdir\n",
       "--- | --- | --- | --- | ---\n",
       "`4fc68c6f0bf20ef7070a82ec534416bf39b836a2` | `v3.0` | `None` | `~/text-fabric-data` | `annotation/banks/tf`\n"
      ],
      "text/plain": [
       "<IPython.core.display.Markdown object>"
      ]
     },
     "metadata": {},
     "output_type": "display_data"
    }
   ],
   "source": [
    "do(\n",
    "  checkoutRepo(org=ORG, repo=REPO, folder=MAIN, version='0.1', checkout='latest')\n",
    ")"
   ]
  },
  {
   "cell_type": "code",
   "execution_count": 19,
   "metadata": {},
   "outputs": [],
   "source": [
    "%%sh\n",
    "\n",
    "mv ~/text-fabric-data/annotation/banks/tf/0.1 ~/text-fabric-data/annotation/banks/tf/0.1xxx"
   ]
  },
  {
   "cell_type": "code",
   "execution_count": 20,
   "metadata": {},
   "outputs": [
    {
     "name": "stdout",
     "output_type": "stream",
     "text": [
      "no internet\n"
     ]
    },
    {
     "name": "stderr",
     "output_type": "stream",
     "text": [
      "The requested data is not available offline\n"
     ]
    },
    {
     "data": {
      "text/markdown": [
       "\n",
       "commit | release | local | base | subdir\n",
       "--- | --- | --- | --- | ---\n",
       "`None` | `None` | `False` | `False` | `None`\n"
      ],
      "text/plain": [
       "<IPython.core.display.Markdown object>"
      ]
     },
     "metadata": {},
     "output_type": "display_data"
    }
   ],
   "source": [
    "do(\n",
    "  checkoutRepo(org=ORG, repo=REPO, folder=MAIN, version='0.1', checkout='latest')\n",
    ")"
   ]
  },
  {
   "cell_type": "code",
   "execution_count": 21,
   "metadata": {},
   "outputs": [],
   "source": [
    "%%sh\n",
    "\n",
    "mv ~/text-fabric-data/annotation/banks/tf/0.1xxx ~/text-fabric-data/annotation/banks/tf/0.1"
   ]
  },
  {
   "cell_type": "code",
   "execution_count": 22,
   "metadata": {},
   "outputs": [],
   "source": [
    "%%sh\n",
    "\n",
    "networksetup -setairportpower en0 on"
   ]
  },
  {
   "cell_type": "code",
   "execution_count": 23,
   "metadata": {},
   "outputs": [
    {
     "name": "stdout",
     "output_type": "stream",
     "text": [
      "no internet\n"
     ]
    },
    {
     "name": "stdout",
     "output_type": "stream",
     "text": [
      "The offline data may not be the latest\n"
     ]
    },
    {
     "data": {
      "text/html": [
       "<b title=\"latest? release\">data:</b> <span title=\"rv3.0=#4fc68c6f0bf20ef7070a82ec534416bf39b836a2\">~/text-fabric-data/annotation/banks/tf/0.2</span>"
      ],
      "text/plain": [
       "<IPython.core.display.HTML object>"
      ]
     },
     "metadata": {},
     "output_type": "display_data"
    },
    {
     "data": {
      "text/markdown": [
       "\n",
       "commit | release | local | base | subdir\n",
       "--- | --- | --- | --- | ---\n",
       "`4fc68c6f0bf20ef7070a82ec534416bf39b836a2` | `v3.0` | `None` | `~/text-fabric-data` | `annotation/banks/tf`\n"
      ],
      "text/plain": [
       "<IPython.core.display.Markdown object>"
      ]
     },
     "metadata": {},
     "output_type": "display_data"
    }
   ],
   "source": [
    "do(\n",
    "  checkoutRepo(org=ORG, repo=REPO, folder=MAIN, version='0.2', checkout='latest')\n",
    ")"
   ]
  },
  {
   "cell_type": "code",
   "execution_count": 24,
   "metadata": {},
   "outputs": [
    {
     "name": "stdout",
     "output_type": "stream",
     "text": [
      "no internet\n"
     ]
    },
    {
     "name": "stderr",
     "output_type": "stream",
     "text": [
      "The requested data is not available offline\n"
     ]
    },
    {
     "data": {
      "text/markdown": [
       "\n",
       "commit | release | local | base | subdir\n",
       "--- | --- | --- | --- | ---\n",
       "`None` | `None` | `False` | `False` | `None`\n"
      ],
      "text/plain": [
       "<IPython.core.display.Markdown object>"
      ]
     },
     "metadata": {},
     "output_type": "display_data"
    }
   ],
   "source": [
    "do(\n",
    "  checkoutRepo(org=ORG, repo=REPO, folder=MOD, version='0.2', checkout='latest')\n",
    ")"
   ]
  },
  {
   "cell_type": "code",
   "execution_count": 25,
   "metadata": {},
   "outputs": [
    {
     "data": {
      "text/html": [
       "<b title=\"local commit\">data:</b> <span title=\"#8d87675fd02ee96ad6f4c3a5ce99e0bda8277a54 offline under ~/text-fabric-data\">~/text-fabric-data/annotation/banks/sim/tf/0.2</span>"
      ],
      "text/plain": [
       "<IPython.core.display.HTML object>"
      ]
     },
     "metadata": {},
     "output_type": "display_data"
    },
    {
     "data": {
      "text/markdown": [
       "\n",
       "commit | release | local | base | subdir\n",
       "--- | --- | --- | --- | ---\n",
       "`8d87675fd02ee96ad6f4c3a5ce99e0bda8277a54` | `None` | `local` | `~/text-fabric-data` | `annotation/banks/sim/tf`\n"
      ],
      "text/plain": [
       "<IPython.core.display.Markdown object>"
      ]
     },
     "metadata": {},
     "output_type": "display_data"
    }
   ],
   "source": [
    "do(\n",
    "  checkoutRepo(org=ORG, repo=REPO, folder=MOD, version='0.2', checkout='')\n",
    ")"
   ]
  },
  {
   "cell_type": "code",
   "execution_count": 26,
   "metadata": {},
   "outputs": [
    {
     "name": "stdout",
     "output_type": "stream",
     "text": [
      "no internet\n"
     ]
    },
    {
     "name": "stdout",
     "output_type": "stream",
     "text": [
      "The offline data may not be the latest\n"
     ]
    },
    {
     "data": {
      "text/html": [
       "<b title=\"latest? commit\">data:</b> <span title=\"#8d87675fd02ee96ad6f4c3a5ce99e0bda8277a54\">~/text-fabric-data/annotation/banks/sim/tf/0.2</span>"
      ],
      "text/plain": [
       "<IPython.core.display.HTML object>"
      ]
     },
     "metadata": {},
     "output_type": "display_data"
    },
    {
     "data": {
      "text/markdown": [
       "\n",
       "commit | release | local | base | subdir\n",
       "--- | --- | --- | --- | ---\n",
       "`8d87675fd02ee96ad6f4c3a5ce99e0bda8277a54` | `None` | `None` | `~/text-fabric-data` | `annotation/banks/sim/tf`\n"
      ],
      "text/plain": [
       "<IPython.core.display.Markdown object>"
      ]
     },
     "metadata": {},
     "output_type": "display_data"
    }
   ],
   "source": [
    "do(\n",
    "  checkoutRepo(org=ORG, repo=REPO, folder=MOD, version='0.2', checkout='hot')\n",
    ")"
   ]
  },
  {
   "cell_type": "code",
   "execution_count": 27,
   "metadata": {},
   "outputs": [
    {
     "name": "stdout",
     "output_type": "stream",
     "text": [
      "no internet\n"
     ]
    },
    {
     "name": "stdout",
     "output_type": "stream",
     "text": [
      "The offline data may not be the latest\n"
     ]
    },
    {
     "data": {
      "text/html": [
       "<b title=\"latest? commit\">data:</b> <span title=\"rv3.0=#4fc68c6f0bf20ef7070a82ec534416bf39b836a2\">~/text-fabric-data/annotation/banks/tf/0.2</span>"
      ],
      "text/plain": [
       "<IPython.core.display.HTML object>"
      ]
     },
     "metadata": {},
     "output_type": "display_data"
    },
    {
     "data": {
      "text/markdown": [
       "\n",
       "commit | release | local | base | subdir\n",
       "--- | --- | --- | --- | ---\n",
       "`4fc68c6f0bf20ef7070a82ec534416bf39b836a2` | `v3.0` | `None` | `~/text-fabric-data` | `annotation/banks/tf`\n"
      ],
      "text/plain": [
       "<IPython.core.display.Markdown object>"
      ]
     },
     "metadata": {},
     "output_type": "display_data"
    }
   ],
   "source": [
    "do(\n",
    "  checkoutRepo(org=ORG, repo=REPO, folder=MAIN, version='0.2', checkout='hot')\n",
    ")"
   ]
  },
  {
   "cell_type": "code",
   "execution_count": 28,
   "metadata": {},
   "outputs": [
    {
     "name": "stdout",
     "output_type": "stream",
     "text": [
      "no internet\n"
     ]
    },
    {
     "name": "stdout",
     "output_type": "stream",
     "text": [
      "The offline data may not be the latest\n"
     ]
    },
    {
     "data": {
      "text/html": [
       "<b title=\"latest? release\">data:</b> <span title=\"rv3.0=#4fc68c6f0bf20ef7070a82ec534416bf39b836a2\">~/text-fabric-data/annotation/banks/tf/0.2</span>"
      ],
      "text/plain": [
       "<IPython.core.display.HTML object>"
      ]
     },
     "metadata": {},
     "output_type": "display_data"
    },
    {
     "data": {
      "text/markdown": [
       "\n",
       "commit | release | local | base | subdir\n",
       "--- | --- | --- | --- | ---\n",
       "`4fc68c6f0bf20ef7070a82ec534416bf39b836a2` | `v3.0` | `None` | `~/text-fabric-data` | `annotation/banks/tf`\n"
      ],
      "text/plain": [
       "<IPython.core.display.Markdown object>"
      ]
     },
     "metadata": {},
     "output_type": "display_data"
    }
   ],
   "source": [
    "do(\n",
    "  checkoutRepo(org=ORG, repo=REPO, folder=MAIN, version='0.2', checkout='latest')\n",
    ")"
   ]
  },
  {
   "cell_type": "code",
   "execution_count": 29,
   "metadata": {},
   "outputs": [
    {
     "name": "stdout",
     "output_type": "stream",
     "text": [
      "no internet\n"
     ]
    },
    {
     "name": "stdout",
     "output_type": "stream",
     "text": [
      "The requested data is not available offline\n"
     ]
    },
    {
     "name": "stderr",
     "output_type": "stream",
     "text": [
      "No online connection\n"
     ]
    },
    {
     "data": {
      "text/markdown": [
       "\n",
       "commit | release | local | base | subdir\n",
       "--- | --- | --- | --- | ---\n",
       "`None` | `None` | `False` | `False` | `None`\n"
      ],
      "text/plain": [
       "<IPython.core.display.Markdown object>"
      ]
     },
     "metadata": {},
     "output_type": "display_data"
    }
   ],
   "source": [
    "do(\n",
    "  checkoutRepo(org=ORG, repo=REPO, folder=MAIN, version='0.1', checkout='v1.0')\n",
    ")"
   ]
  },
  {
   "cell_type": "code",
   "execution_count": 30,
   "metadata": {},
   "outputs": [
    {
     "name": "stdout",
     "output_type": "stream",
     "text": [
      "no internet\n"
     ]
    },
    {
     "name": "stdout",
     "output_type": "stream",
     "text": [
      "The requested data is not available offline\n"
     ]
    },
    {
     "name": "stderr",
     "output_type": "stream",
     "text": [
      "No online connection\n"
     ]
    },
    {
     "data": {
      "text/markdown": [
       "\n",
       "commit | release | local | base | subdir\n",
       "--- | --- | --- | --- | ---\n",
       "`None` | `None` | `False` | `False` | `None`\n"
      ],
      "text/plain": [
       "<IPython.core.display.Markdown object>"
      ]
     },
     "metadata": {},
     "output_type": "display_data"
    }
   ],
   "source": [
    "do(\n",
    "  checkoutRepo(org=ORG, repo=REPO, folder=MAIN, version='0.2', checkout='v1.0')\n",
    ")"
   ]
  },
  {
   "cell_type": "code",
   "execution_count": 31,
   "metadata": {},
   "outputs": [
    {
     "name": "stdout",
     "output_type": "stream",
     "text": [
      "no internet\n"
     ]
    },
    {
     "name": "stdout",
     "output_type": "stream",
     "text": [
      "The requested data is not available offline\n"
     ]
    },
    {
     "name": "stderr",
     "output_type": "stream",
     "text": [
      "No online connection\n"
     ]
    },
    {
     "data": {
      "text/markdown": [
       "\n",
       "commit | release | local | base | subdir\n",
       "--- | --- | --- | --- | ---\n",
       "`None` | `None` | `False` | `False` | `None`\n"
      ],
      "text/plain": [
       "<IPython.core.display.Markdown object>"
      ]
     },
     "metadata": {},
     "output_type": "display_data"
    }
   ],
   "source": [
    "do(\n",
    "  checkoutRepo(org=ORG, repo=REPO, folder=MAIN, version='0.1', checkout='a81746c5f9627637db4dae04c2d5348bda9e511a')\n",
    ")"
   ]
  },
  {
   "cell_type": "code",
   "execution_count": 32,
   "metadata": {},
   "outputs": [],
   "source": [
    "MY_GH = '~/Downloads/repoclones'\n",
    "MY_TFD = '~/Downloads/textbase'"
   ]
  },
  {
   "cell_type": "code",
   "execution_count": 33,
   "metadata": {},
   "outputs": [
    {
     "name": "stdout",
     "output_type": "stream",
     "text": [
      "The requested data is not available offline\n"
     ]
    },
    {
     "name": "stdout",
     "output_type": "stream",
     "text": [
      "\t~/Downloads/textbase/annotation/banks/tf not found\n"
     ]
    },
    {
     "name": "stdout",
     "output_type": "stream",
     "text": [
      "no internet\n"
     ]
    },
    {
     "name": "stderr",
     "output_type": "stream",
     "text": [
      "The requested data is not available offline\n"
     ]
    },
    {
     "data": {
      "text/markdown": [
       "\n",
       "commit | release | local | base | subdir\n",
       "--- | --- | --- | --- | ---\n",
       "`None` | `None` | `False` | `False` | `None`\n"
      ],
      "text/plain": [
       "<IPython.core.display.Markdown object>"
      ]
     },
     "metadata": {},
     "output_type": "display_data"
    }
   ],
   "source": [
    "do(\n",
    "  checkoutRepo(org=ORG, repo=REPO, folder=MAIN, version='0.2', checkout='', source=MY_GH, dest=MY_TFD)\n",
    ")"
   ]
  },
  {
   "cell_type": "code",
   "execution_count": 34,
   "metadata": {},
   "outputs": [
    {
     "name": "stdout",
     "output_type": "stream",
     "text": [
      "The requested data is not available offline\n"
     ]
    },
    {
     "name": "stdout",
     "output_type": "stream",
     "text": [
      "\t~/Downloads/textbase/annotation/banks/tf not found\n"
     ]
    },
    {
     "name": "stdout",
     "output_type": "stream",
     "text": [
      "no internet\n"
     ]
    },
    {
     "name": "stderr",
     "output_type": "stream",
     "text": [
      "The requested data is not available offline\n"
     ]
    },
    {
     "data": {
      "text/markdown": [
       "\n",
       "commit | release | local | base | subdir\n",
       "--- | --- | --- | --- | ---\n",
       "`None` | `None` | `False` | `False` | `None`\n"
      ],
      "text/plain": [
       "<IPython.core.display.Markdown object>"
      ]
     },
     "metadata": {},
     "output_type": "display_data"
    }
   ],
   "source": [
    "do(\n",
    "  checkoutRepo(org=ORG, repo=REPO, folder=MAIN, version='0.2', checkout='', source=MY_GH, dest=MY_TFD)\n",
    ")"
   ]
  },
  {
   "cell_type": "code",
   "execution_count": 35,
   "metadata": {},
   "outputs": [],
   "source": [
    "%%sh\n",
    "\n",
    "mkdir -p ~/Downloads/repoclones/annotation\n",
    "cp -R ~/github/annotation/banks ~/Downloads/repoclones/annotation/banks"
   ]
  },
  {
   "cell_type": "code",
   "execution_count": 36,
   "metadata": {},
   "outputs": [
    {
     "data": {
      "text/html": [
       "<b title=\"local github\">data:</b> <span title=\"repo clone offline under ~/Downloads/repoclones\">~/Downloads/repoclones/annotation/banks/tf/0.2</span>"
      ],
      "text/plain": [
       "<IPython.core.display.HTML object>"
      ]
     },
     "metadata": {},
     "output_type": "display_data"
    },
    {
     "data": {
      "text/markdown": [
       "\n",
       "commit | release | local | base | subdir\n",
       "--- | --- | --- | --- | ---\n",
       "`None` | `None` | `clone` | `~/Downloads/repoclones` | `annotation/banks/tf`\n"
      ],
      "text/plain": [
       "<IPython.core.display.Markdown object>"
      ]
     },
     "metadata": {},
     "output_type": "display_data"
    }
   ],
   "source": [
    "do(\n",
    "  checkoutRepo(org=ORG, repo=REPO, folder=MAIN, version='0.2', checkout='clone', source=MY_GH, dest=MY_TFD)\n",
    ")"
   ]
  }
 ],
 "metadata": {
  "kernelspec": {
   "display_name": "Python3.9",
   "language": "python",
   "name": "python3"
  },
  "language_info": {
   "codemirror_mode": {
    "name": "ipython",
    "version": 3
   },
   "file_extension": ".py",
   "mimetype": "text/x-python",
   "name": "python",
   "nbconvert_exporter": "python",
   "pygments_lexer": "ipython3",
   "version": "3.9.0"
  },
  "toc-autonumbering": false
 },
 "nbformat": 4,
 "nbformat_minor": 4
}