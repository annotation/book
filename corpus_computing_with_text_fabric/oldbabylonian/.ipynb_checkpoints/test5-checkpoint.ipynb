{
 "cells": [
  {
   "cell_type": "code",
   "execution_count": 46,
   "metadata": {},
   "outputs": [],
   "source": [
    "from IPython.display import display, HTML, Markdown\n",
    "from markdown import markdown"
   ]
  },
  {
   "cell_type": "code",
   "execution_count": 90,
   "metadata": {},
   "outputs": [],
   "source": [
    "def dh(ht):\n",
    "  display(HTML(ht))\n",
    "  \n",
    "def md(dm):\n",
    "  display(Markdown(dm))\n",
    "  \n",
    "def dm2(dm):\n",
    "  m = markdown(dm)\n",
    "  dh(m)"
   ]
  },
  {
   "cell_type": "code",
   "execution_count": 91,
   "metadata": {},
   "outputs": [],
   "source": [
    "a1 = '''\n",
    "\n",
    "ha | hb\n",
    "--- | ---\n",
    "<span>xa</span> | <span>xb</span>\n",
    "<span>ya</span> | <span>yb</span>\n",
    "\n",
    "'''\n",
    "\n",
    "a2 = '''\n",
    "\n",
    "ha | hb | hc\n",
    "--- | --- | ---\n",
    "<span>xa</span> | <span>xb</span>\n",
    "<span>ya</span> | <span>yb</span>\n",
    "\n",
    "'''\n",
    "\n",
    "a3 = '''\n",
    "n | sign\n",
    "--- | ---\n",
    "12 | <span><span class=\"hl hlup\">7(disz)</span> aa </span>\n",
    "13 | <span class=\"hl hlup\">7(disz)</span>\n",
    "14 | 7(disz)\n",
    "'''\n",
    "\n",
    "a4 = '''\n",
    "<table>\n",
    "<tr><th>n</th><th>sign</th></tr>\n",
    "<tr><td>12</td><td><span><span class=\"hl hlup\">7(disz)</span> aa </span></td></tr>\n",
    "<tr><td>13</td><td><span class=\"hl hlup\">7(disz)</span></td></tr>\n",
    "<tr><td>14</td><td>7(disz)</td></tr>\n",
    "</table>\n",
    "'''"
   ]
  },
  {
   "cell_type": "code",
   "execution_count": 92,
   "metadata": {},
   "outputs": [
    {
     "data": {
      "text/markdown": [
       "\n",
       "\n",
       "ha | hb\n",
       "--- | ---\n",
       "<span>xa</span> | <span>xb</span>\n",
       "<span>ya</span> | <span>yb</span>\n",
       "\n"
      ],
      "text/plain": [
       "<IPython.core.display.Markdown object>"
      ]
     },
     "metadata": {},
     "output_type": "display_data"
    }
   ],
   "source": [
    "md(a1)"
   ]
  },
  {
   "cell_type": "code",
   "execution_count": 93,
   "metadata": {},
   "outputs": [
    {
     "data": {
      "text/markdown": [
       "\n",
       "\n",
       "ha | hb | hc\n",
       "--- | --- | ---\n",
       "<span>xa</span> | <span>xb</span>\n",
       "<span>ya</span> | <span>yb</span>\n",
       "\n"
      ],
      "text/plain": [
       "<IPython.core.display.Markdown object>"
      ]
     },
     "metadata": {},
     "output_type": "display_data"
    }
   ],
   "source": [
    "md(a2)"
   ]
  },
  {
   "cell_type": "code",
   "execution_count": 94,
   "metadata": {},
   "outputs": [
    {
     "data": {
      "text/markdown": [
       "\n",
       "n | sign\n",
       "--- | ---\n",
       "12 | <span><span class=\"hl hlup\">7(disz)</span> aa </span>\n",
       "13 | <span class=\"hl hlup\">7(disz)</span>\n",
       "14 | 7(disz)\n"
      ],
      "text/plain": [
       "<IPython.core.display.Markdown object>"
      ]
     },
     "metadata": {},
     "output_type": "display_data"
    }
   ],
   "source": [
    "md(a3)"
   ]
  },
  {
   "cell_type": "code",
   "execution_count": 95,
   "metadata": {},
   "outputs": [
    {
     "data": {
      "text/html": [
       "<p>n | sign\n",
       "--- | ---\n",
       "12 | <span><span class=\"hl hlup\">7(disz)</span> aa </span>\n",
       "13 | <span class=\"hl hlup\">7(disz)</span>\n",
       "14 | 7(disz)</p>"
      ],
      "text/plain": [
       "<IPython.core.display.HTML object>"
      ]
     },
     "metadata": {},
     "output_type": "display_data"
    }
   ],
   "source": [
    "dm2(a3)"
   ]
  },
  {
   "cell_type": "code",
   "execution_count": 96,
   "metadata": {},
   "outputs": [
    {
     "data": {
      "text/html": [
       "\n",
       "<table>\n",
       "<tr><th>n</th><th>sign</th></tr>\n",
       "<tr><td>12</td><td><span><span class=\"hl hlup\">7(disz)</span> aa </span></td></tr>\n",
       "<tr><td>13</td><td><span class=\"hl hlup\">7(disz)</span></td></tr>\n",
       "<tr><td>14</td><td>7(disz)</td></tr>\n",
       "</table>\n"
      ],
      "text/plain": [
       "<IPython.core.display.HTML object>"
      ]
     },
     "metadata": {},
     "output_type": "display_data"
    }
   ],
   "source": [
    "dh(a4)"
   ]
  },
  {
   "cell_type": "code",
   "execution_count": null,
   "metadata": {},
   "outputs": [],
   "source": []
  },
  {
   "cell_type": "code",
   "execution_count": null,
   "metadata": {},
   "outputs": [],
   "source": []
  }
 ],
 "metadata": {
  "kernelspec": {
   "display_name": "Python 3",
   "language": "python",
   "name": "python3"
  },
  "language_info": {
   "codemirror_mode": {
    "name": "ipython",
    "version": 3
   },
   "file_extension": ".py",
   "mimetype": "text/x-python",
   "name": "python",
   "nbconvert_exporter": "python",
   "pygments_lexer": "ipython3",
   "version": "3.7.2"
  }
 },
 "nbformat": 4,
 "nbformat_minor": 2
}
