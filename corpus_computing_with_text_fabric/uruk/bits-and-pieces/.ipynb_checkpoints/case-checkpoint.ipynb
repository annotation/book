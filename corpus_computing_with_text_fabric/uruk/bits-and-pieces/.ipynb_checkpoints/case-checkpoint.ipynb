{
 "cells": [
  {
   "cell_type": "markdown",
   "metadata": {},
   "source": [
    "# Case"
   ]
  },
  {
   "cell_type": "code",
   "execution_count": 39,
   "metadata": {
    "collapsed": true
   },
   "outputs": [],
   "source": [
    "import os, sys, collections\n",
    "from IPython.display import display, Markdown\n",
    "from tf.extra.cunei import Cunei"
   ]
  },
  {
   "cell_type": "code",
   "execution_count": 2,
   "metadata": {},
   "outputs": [
    {
     "name": "stdout",
     "output_type": "stream",
     "text": [
      "Found 2095 ideograph linearts\n",
      "Found 2724 tablet linearts\n",
      "Found 5495 tablet photos\n"
     ]
    },
    {
     "data": {
      "text/markdown": [
       "**Documentation:** <a target=\"_blank\" href=\"https://github.com/Nino-cunei/uruk/blob/master/docs/about.md\" title=\"provenance of this corpus\">Uruk IV-III (v1.0)</a> <a target=\"_blank\" href=\"https://github.com/Nino-cunei/uruk/blob/master/docs/transcription.md\" title=\"feature documentation\">Feature docs</a> <a target=\"_blank\" href=\"https://github.com/Dans-labs/text-fabric/wiki/Cunei\" title=\"cunei api documentation\">Cunei API</a> <a target=\"_blank\" href=\"https://github.com/Dans-labs/text-fabric/wiki/api\" title=\"text-fabric-api\">Text-Fabric API</a>"
      ],
      "text/plain": [
       "<IPython.core.display.Markdown object>"
      ]
     },
     "metadata": {},
     "output_type": "display_data"
    },
    {
     "data": {
      "text/markdown": [
       "\n",
       "This notebook online:\n",
       "<a target=\"_blank\" href=\"http://nbviewer.jupyter.org/github/Nino-cunei/tutorials/blob/master/bits-and-pieces/casesByLevel.ipynb\">NBViewer</a>\n",
       "<a target=\"_blank\" href=\"https://github.com/Nino-cunei/tutorials/blob/master/bits-and-pieces/casesByLevel.ipynb\">GitHub</a>\n"
      ],
      "text/plain": [
       "<IPython.core.display.Markdown object>"
      ]
     },
     "metadata": {},
     "output_type": "display_data"
    }
   ],
   "source": [
    "import sys, os\n",
    "LOC = ('~/github', 'Nino-cunei/uruk', 'casesByLevel')\n",
    "CN = Cunei(*LOC)\n",
    "CN.api.makeAvailableIn(globals())"
   ]
  },
  {
   "cell_type": "markdown",
   "metadata": {},
   "source": [
    "## Level 0\n",
    "\n",
    "If we do `casesByLevel(0, terminal=False)` we get all lines.\n",
    "\n",
    "If we do `casesByLevel(0)`, we get precisely the undivided lines."
   ]
  },
  {
   "cell_type": "code",
   "execution_count": 3,
   "metadata": {},
   "outputs": [
    {
     "name": "stdout",
     "output_type": "stream",
     "text": [
      "test0Cases: 35842\n",
      "allLines : 35842\n",
      "test0Cases equal to allLines: True\n",
      "types of test0Cases: {'line'}\n",
      "test0CasesT: 32732\n",
      "Divided lines:  3110\n"
     ]
    }
   ],
   "source": [
    "test0Cases = set(CN.casesByLevel(0, terminal=False))\n",
    "allLines = set(F.otype.s('line'))\n",
    "types0 = {F.otype.v(n) for n in test0Cases}\n",
    "print(f'test0Cases: {len(test0Cases):>5}')\n",
    "print(f'allLines : {len(allLines):>5}')\n",
    "print(f'test0Cases equal to allLines: {test0Cases == allLines}')\n",
    "print(f'types of test0Cases: {types0}')\n",
    "\n",
    "test0CasesT = set(CN.casesByLevel(0))\n",
    "print(f'test0CasesT: {len(test0CasesT):>5}')\n",
    "print(f'Divided lines: {len(test0Cases) - len(test0CasesT):>5}')"
   ]
  },
  {
   "cell_type": "markdown",
   "metadata": {},
   "source": [
    "## Level 1\n",
    "\n",
    "If we do `casesByLevel(1, terminal=False)` we get all cases (not lines) that are the first subdivision of a line.\n",
    "\n",
    "If we do `casesByLevel(1)`, we get a subset of these cases, namely the ones that are not themselves subdivided."
   ]
  },
  {
   "cell_type": "code",
   "execution_count": 4,
   "metadata": {},
   "outputs": [
    {
     "name": "stdout",
     "output_type": "stream",
     "text": [
      "test1Cases:  6559\n",
      "types of test1Cases: {'case'}\n",
      "test1CasesT:  5468\n",
      "Divided cases:  1091\n"
     ]
    }
   ],
   "source": [
    "test1Cases = set(CN.casesByLevel(1, terminal=False))\n",
    "types1 = {F.otype.v(n) for n in test1Cases}\n",
    "\n",
    "print(f'test1Cases: {len(test1Cases):>5}')\n",
    "print(f'types of test1Cases: {types1}')\n",
    "\n",
    "test1CasesT = set(CN.casesByLevel(1))\n",
    "print(f'test1CasesT: {len(test1CasesT):>5}')\n",
    "print(f'Divided cases: {len(test1Cases) - len(test1CasesT):>5}')"
   ]
  },
  {
   "cell_type": "markdown",
   "metadata": {},
   "source": [
    "## Example tablet\n",
    "Here we show by means of an example tablet the difference between `terminal=False` and \n",
    "`terminal=True` when calling `CN.casesByLevel`\n",
    "\n",
    "We'll use an example tablet `P471695`."
   ]
  },
  {
   "cell_type": "code",
   "execution_count": 5,
   "metadata": {},
   "outputs": [
    {
     "name": "stdout",
     "output_type": "stream",
     "text": [
      "&P471695 = Anonymous 471695\n",
      "#atf: lang qpc \n",
      "@obverse \n",
      "@column 1 \n",
      "1.a. 3(N01) , APIN~a 3(N57) UR4~a \n",
      "1.b1. , (EN~a DU ZATU759)a \n",
      "1.b2. , (BAN~b KASZ~c)a \n",
      "1.b3. , (KI@n SAG)a \n",
      "2.a. 1(N14) 2(N01) , [...] \n",
      "2.b1. , (3(N57) PAP~a)a \n",
      "2.b2. , (SZU KI X)a \n",
      "$ n lines broken \n",
      "2.b3'. , (EN~a AN EZINU~d)a \n",
      "2.b4'. , (IDIGNA [...])a \n",
      "$ rest broken \n",
      "$ (for a total of 12 sub-cases with PNN) \n",
      "@column 2 \n",
      "1.a. 1(N01) , ISZ~a#? \n",
      "1.b1. , (PAP~a GIR3~c)a \n",
      "$ blank space \n",
      "$ rest broken \n",
      "@reverse \n",
      "$ beginning broken \n",
      "1'. [1(N14)] 6(N01)# , [...] \n",
      "1'. [1(N14)] 6(N01)# , [...] \n"
     ]
    }
   ],
   "source": [
    "examplePnum = 'P471695'\n",
    "exampleTablet = T.nodeFromSection((examplePnum,))\n",
    "print('\\n'.join(CN.getSource(exampleTablet)))"
   ]
  },
  {
   "cell_type": "markdown",
   "metadata": {},
   "source": [
    "Above we have selected all cases of level 1 from the whole corpus, in two ways.\n",
    "Now we take the intersection of these sets with the cases of the example tablet."
   ]
  },
  {
   "cell_type": "code",
   "execution_count": 6,
   "metadata": {},
   "outputs": [],
   "source": [
    "exampleCases = (\n",
    "    set(L.d(exampleTablet, otype='case'))\n",
    "    |\n",
    "    set(L.d(exampleTablet, otype='line'))\n",
    ")\n",
    "example2 = test1Cases & exampleCases\n",
    "example2T = test1CasesT & exampleCases"
   ]
  },
  {
   "cell_type": "code",
   "execution_count": 7,
   "metadata": {},
   "outputs": [
    {
     "name": "stdout",
     "output_type": "stream",
     "text": [
      "1.a. 3(N01) , APIN~a 3(N57) UR4~a \n",
      "------------------------------------------------\n",
      "1.b1. , (EN~a DU ZATU759)a \n",
      "1.b2. , (BAN~b KASZ~c)a \n",
      "1.b3. , (KI@n SAG)a \n",
      "------------------------------------------------\n",
      "2.a. 1(N14) 2(N01) , [...] \n",
      "------------------------------------------------\n",
      "2.b1. , (3(N57) PAP~a)a \n",
      "2.b2. , (SZU KI X)a \n",
      "$ n lines broken \n",
      "2.b3'. , (EN~a AN EZINU~d)a \n",
      "2.b4'. , (IDIGNA [...])a \n",
      "$ rest broken \n",
      "$ (for a total of 12 sub-cases with PNN) \n",
      "------------------------------------------------\n",
      "1.a. 1(N01) , ISZ~a#? \n",
      "------------------------------------------------\n",
      "1.b1. , (PAP~a GIR3~c)a \n",
      "$ blank space \n",
      "$ rest broken \n"
     ]
    }
   ],
   "source": [
    "print(f'\\n{\"-\" * 48}\\n'.join('\\n'.join(CN.getSource(c)) for c in sorted(example2)))"
   ]
  },
  {
   "cell_type": "code",
   "execution_count": 8,
   "metadata": {},
   "outputs": [
    {
     "name": "stdout",
     "output_type": "stream",
     "text": [
      "1.a. 3(N01) , APIN~a 3(N57) UR4~a \n",
      "------------------------------------------------\n",
      "2.a. 1(N14) 2(N01) , [...] \n",
      "------------------------------------------------\n",
      "1.a. 1(N01) , ISZ~a#? \n"
     ]
    }
   ],
   "source": [
    "print(f'\\n{\"-\" * 48}\\n'.join('\\n'.join(CN.getSource(c)) for c in sorted(example2T)))"
   ]
  },
  {
   "cell_type": "markdown",
   "metadata": {},
   "source": [
    "What about case `1.b`?\n",
    "It is a case at level 2.\n",
    "Why isn't is in `example2T`?\n",
    "\n",
    "Yes, but it is not a terminal case. It has subcases.\n",
    "That is why `1.b` is left out. \n",
    "The parameter `terminal` specifies that only cases without children will be in the result."
   ]
  },
  {
   "cell_type": "markdown",
   "metadata": {},
   "source": [
    "## Level 2\n",
    "\n",
    "What if we want all signs that occur in a subcase, i.e. a case at level 2?\n",
    "\n",
    "We can call `casesByLevel(2, terminal=False)`, iterate through the resulting cases, and \n",
    "collect all signs per case.\n",
    "However, we will encounter signs multiple times. \n",
    "Because if a sign is in a subcase, it is also in its containing case and in its containing line.\n",
    "We can solve this by collecting the signs in a set.\n",
    "Then we loose the corpus order of the signs, but we can easily reorder the set into a list.\n",
    "\n",
    "There is an alternative method: a search template.\n",
    "Search delivers unordered results, so we will reorder the search results as well.\n",
    "\n",
    "Text-Fabric has an API function for sorting nodes into corpus order: `sortNodes`.\n",
    "\n",
    "Let us try out both methods and compare the outcomes."
   ]
  },
  {
   "cell_type": "markdown",
   "metadata": {},
   "source": [
    "### Method casesByLevel"
   ]
  },
  {
   "cell_type": "code",
   "execution_count": 11,
   "metadata": {},
   "outputs": [
    {
     "data": {
      "text/plain": [
       "7738"
      ]
     },
     "execution_count": 11,
     "metadata": {},
     "output_type": "execute_result"
    }
   ],
   "source": [
    "cases = CN.casesByLevel(2, terminal=False)\n",
    "signSet = set()\n",
    "for case in cases:\n",
    "    signSet |= set(L.d(case, otype='sign'))\n",
    "signsA = sortNodes(signSet)\n",
    "len(signsA)"
   ]
  },
  {
   "cell_type": "markdown",
   "metadata": {},
   "source": [
    "### Method search\n",
    "\n",
    "You might want to read the \n",
    "[docs](https://github.com/Dans-labs/text-fabric/wiki/Api#search) first.\n",
    "\n",
    "#### Explanation\n",
    "\n",
    "The search template is basically\n",
    "\n",
    "```\n",
    "line\n",
    "   case\n",
    "      case\n",
    "         sign\n",
    "```\n",
    "\n",
    "This bare template looks for a sign within a case within a case within a line.\n",
    "Indententation acts as shorthand for embedding.\n",
    "\n",
    "But this is not enough, because a subsubcase of a case is also embedded in that case.\n",
    "We look for a situation where the first case is *directly* embedded in the line,\n",
    "and the second case is *directly* embedded in the first case.\n",
    "\n",
    "In our data we have an *edge* (relationship), called `sub`, that connects lines/cases with\n",
    "cases that are directly embedded in them.\n",
    "\n",
    "So\n",
    "\n",
    "```\n",
    "c0 -sub> c1\n",
    "```\n",
    "\n",
    "means that `c0` is `sub`-related to `c1`.\n",
    "\n",
    "We just give names to our animals (`case` and `line`) and state\n",
    "the desired relationships.\n",
    "\n",
    "Now it is possible to see that the result of this query will have signs that occur in\n",
    "subcases of cases of lines."
   ]
  },
  {
   "cell_type": "code",
   "execution_count": 10,
   "metadata": {},
   "outputs": [
    {
     "data": {
      "text/plain": [
       "7738"
      ]
     },
     "execution_count": 10,
     "metadata": {},
     "output_type": "execute_result"
    }
   ],
   "source": [
    "query = '''\n",
    "c0:line\n",
    "   c1:case\n",
    "      c2:case\n",
    "         sign\n",
    "c0 -sub> c1\n",
    "c1 -sub> c2\n",
    "'''\n",
    "results = S.search(query)\n",
    "signsB = sortNodes(r[3] for r in results)\n",
    "len(signsB)"
   ]
  },
  {
   "cell_type": "markdown",
   "metadata": {},
   "source": [
    "A bit about results.\n",
    "The query mentions four quantities: `line`, `case`, `case`, `sign`.\n",
    "Every result of the query is an instantiation of those 4 quantities, hence a tuple of nodes:\n",
    "\n",
    "```\n",
    "(resultLine, resultCase1, resultCase2, resultSign)\n",
    "```\n",
    "\n",
    "For our purposes we are only interested in the `resultSign` part, so we select it by the\n",
    "`r[3]` when we walk through all results `r`."
   ]
  },
  {
   "cell_type": "markdown",
   "metadata": {},
   "source": [
    "### Check\n",
    "\n",
    "Both methods yield the same number of results, but are they exactly the same results?"
   ]
  },
  {
   "cell_type": "code",
   "execution_count": 12,
   "metadata": {},
   "outputs": [
    {
     "data": {
      "text/plain": [
       "True"
      ]
     },
     "execution_count": 12,
     "metadata": {},
     "output_type": "execute_result"
    }
   ],
   "source": [
    "signsA == signsB"
   ]
  },
  {
   "cell_type": "markdown",
   "metadata": {},
   "source": [
    "Yes!"
   ]
  },
  {
   "cell_type": "markdown",
   "metadata": {},
   "source": [
    "### Twist\n",
    "\n",
    "Now we want to restrict ourselves to non-numerical signs.\n",
    "If you look at the feature docs (see the link at the start of the notebook),\n",
    "and read about the `type` feature for signs, you see that it can have the values\n",
    "`empty` `unknown` `numeral` `ideograph`.\n",
    "We just want the ideographs.\n",
    "\n",
    "We'll adapt both methods to get them and ignore the numerals and lesser defined graphemes.\n",
    "\n",
    "Of course, we can just filter the result list that we have already got, \n",
    "but this is a tutorial, and it may come in handy to have a well stocked repertoire \n",
    "of direct ways to drill to your data."
   ]
  },
  {
   "cell_type": "markdown",
   "metadata": {},
   "source": [
    "### Method casesByLevel (revisited)"
   ]
  },
  {
   "cell_type": "code",
   "execution_count": 13,
   "metadata": {},
   "outputs": [
    {
     "data": {
      "text/plain": [
       "3815"
      ]
     },
     "execution_count": 13,
     "metadata": {},
     "output_type": "execute_result"
    }
   ],
   "source": [
    "cases = CN.casesByLevel(2, terminal=False)\n",
    "signSet = set()\n",
    "for case in cases:\n",
    "    signSet |= set(s for s in L.d(case, otype='sign') if F.type.v(s) == 'ideograph')\n",
    "signsA = sortNodes(signSet)\n",
    "len(signsA)"
   ]
  },
  {
   "cell_type": "markdown",
   "metadata": {},
   "source": [
    "### Method search (revisited)\n",
    "\n",
    "Note that it is very easy to add the desired condition to the template.\n",
    "\n",
    "This method is much easier to adapt than the first method!"
   ]
  },
  {
   "cell_type": "code",
   "execution_count": 14,
   "metadata": {},
   "outputs": [
    {
     "data": {
      "text/plain": [
       "3815"
      ]
     },
     "execution_count": 14,
     "metadata": {},
     "output_type": "execute_result"
    }
   ],
   "source": [
    "query = '''\n",
    "c0:line\n",
    "   c1:case\n",
    "      c2:case\n",
    "         sign type=ideograph\n",
    "c0 -sub> c1\n",
    "c1 -sub> c2\n",
    "'''\n",
    "results = S.search(query)\n",
    "signsB = sortNodes(r[3] for r in results)\n",
    "len(signsB)"
   ]
  },
  {
   "cell_type": "code",
   "execution_count": 15,
   "metadata": {},
   "outputs": [
    {
     "data": {
      "text/plain": [
       "True"
      ]
     },
     "execution_count": 15,
     "metadata": {},
     "output_type": "execute_result"
    }
   ],
   "source": [
    "signsA == signsB"
   ]
  },
  {
   "cell_type": "markdown",
   "metadata": {},
   "source": [
    "# Supercase versus subcase\n",
    "\n",
    "We finish of with a comparison of the frequencies of signs that occur on lines and level-1 cases, and the frequencies of signs that occur on level-2 and deeper cases.\n",
    "\n",
    "From both groups we pick the top-20.\n",
    "We make a nice markdown table showing the frequencies those top-20 signs in both groups.\n",
    "\n",
    "We do this for non-numeric ideographs only.\n",
    "\n",
    "Note that we have already collected the group of the subcases and deeper: `signsB`.\n",
    "\n",
    "We give this sequence an other name: `subSigns`."
   ]
  },
  {
   "cell_type": "code",
   "execution_count": 44,
   "metadata": {},
   "outputs": [
    {
     "data": {
      "text/plain": [
       "3815"
      ]
     },
     "execution_count": 44,
     "metadata": {},
     "output_type": "execute_result"
    }
   ],
   "source": [
    "subSigns = signsB\n",
    "len(subSigns)"
   ]
  },
  {
   "cell_type": "markdown",
   "metadata": {},
   "source": [
    "We need to collect the group of signs in lines and immediate cases.\n",
    "So we have to exclude cases that are subdivided in subcases.\n",
    "\n",
    "For that, we use the feature `terminal`, which exists and is equal to `1` for undivided\n",
    "cases and lines, and which does not exist for divided cases and lines.\n",
    "\n",
    "We get this group by two queries."
   ]
  },
  {
   "cell_type": "code",
   "execution_count": 45,
   "metadata": {},
   "outputs": [
    {
     "data": {
      "text/plain": [
       "42485"
      ]
     },
     "execution_count": 45,
     "metadata": {},
     "output_type": "execute_result"
    }
   ],
   "source": [
    "query0 = '''\n",
    "line terminal=1\n",
    "   sign type=ideograph\n",
    "'''\n",
    "signs0 = [r[1] for r in S.search(query0)]\n",
    "len(signs0)"
   ]
  },
  {
   "cell_type": "code",
   "execution_count": 46,
   "metadata": {},
   "outputs": [
    {
     "data": {
      "text/plain": [
       "7665"
      ]
     },
     "execution_count": 46,
     "metadata": {},
     "output_type": "execute_result"
    }
   ],
   "source": [
    "query1 = '''\n",
    "c0:line\n",
    "   c1:case terminal=1\n",
    "      sign type=ideograph\n",
    "c0 -sub> c1\n",
    "'''\n",
    "signs1 = [r[2] for r in S.search(query1)]\n",
    "len(signs1)"
   ]
  },
  {
   "cell_type": "markdown",
   "metadata": {},
   "source": [
    "Let us collect both results into `superSigns`.\n",
    "Note that `signs0` and `signs1` have no occurrences in common:\n",
    "a sign in `signs1` is part of a case, so the line that contains that case is divided,\n",
    "so it has no value for the`terminal` feature, so ot is not in the results of `query0`."
   ]
  },
  {
   "cell_type": "code",
   "execution_count": 47,
   "metadata": {},
   "outputs": [],
   "source": [
    "superSigns = signs0 + signs1"
   ]
  },
  {
   "cell_type": "markdown",
   "metadata": {},
   "source": [
    "Also note that `superSigns` and `subSigns` have nothing in common, for the same kind of reasoning as why `signs0` and `signs1` have no occurrences in common.\n",
    "\n",
    "That said, reasoning is one thing, and using data to verify assertions is another thing.\n",
    "Let us just check!"
   ]
  },
  {
   "cell_type": "code",
   "execution_count": 48,
   "metadata": {},
   "outputs": [
    {
     "data": {
      "text/plain": [
       "set()"
      ]
     },
     "execution_count": 48,
     "metadata": {},
     "output_type": "execute_result"
    }
   ],
   "source": [
    "set(signs0) & set(signs1)"
   ]
  },
  {
   "cell_type": "code",
   "execution_count": 23,
   "metadata": {},
   "outputs": [
    {
     "data": {
      "text/plain": [
       "set()"
      ]
     },
     "execution_count": 23,
     "metadata": {},
     "output_type": "execute_result"
    }
   ],
   "source": [
    "set(subSigns) & set(superSigns)"
   ]
  },
  {
   "cell_type": "markdown",
   "metadata": {},
   "source": [
    "Check!"
   ]
  },
  {
   "cell_type": "markdown",
   "metadata": {},
   "source": [
    "Last, but not least, we want to compare the frequencies of the super and sub groups with the\n",
    "overall frequencies."
   ]
  },
  {
   "cell_type": "code",
   "execution_count": 31,
   "metadata": {},
   "outputs": [
    {
     "data": {
      "text/plain": [
       "53965"
      ]
     },
     "execution_count": 31,
     "metadata": {},
     "output_type": "execute_result"
    }
   ],
   "source": [
    "queryA = '''\n",
    "line\n",
    "   sign type=ideograph\n",
    "'''\n",
    "allSigns = [r[1] for r in S.search(queryA)]\n",
    "len(allSigns)"
   ]
  },
  {
   "cell_type": "markdown",
   "metadata": {},
   "source": [
    "### Frequency and rank\n",
    "\n",
    "We are going to make a frequency distribution for both groups.\n",
    "We do not want to repeat ourselves\n",
    "[DRY](https://en.wikipedia.org/wiki/Don%27t_repeat_yourself),\n",
    "so we write a function that given a list of items,\n",
    "produces a frequency list.\n",
    "\n",
    "While we're at it, we also produce a ranking list: the most frequent item has rank 1,\n",
    "the second frequent item has rank 2, and so on.\n",
    "\n",
    "When we compute the frequencies, we count the number of times a sign, identified by its\n",
    "ATF transcription (without flags), occurs."
   ]
  },
  {
   "cell_type": "code",
   "execution_count": 49,
   "metadata": {},
   "outputs": [],
   "source": [
    "def getFreqs(items):\n",
    "    freqs = collections.Counter()\n",
    "    for item in items:\n",
    "        freqs[CN.atfFromSign(item)] += 1\n",
    "    ranks = {}\n",
    "    for item in sorted(freqs, key=lambda i: -freqs[i]):\n",
    "        ranks[item] = len(ranks) + 1\n",
    "    return (freqs, ranks)"
   ]
  },
  {
   "cell_type": "code",
   "execution_count": 50,
   "metadata": {},
   "outputs": [],
   "source": [
    "(allFreqs, allRanks) = getFreqs(allSigns)\n",
    "(superFreqs, superRanks) = getFreqs(superSigns)\n",
    "(subFreqs, subRanks) = getFreqs(subSigns)"
   ]
  },
  {
   "cell_type": "markdown",
   "metadata": {},
   "source": [
    "Now we want the top scorers in the super and sub teams.\n",
    "We make it customisable whether you want the top-20 or top-100, or whatever."
   ]
  },
  {
   "cell_type": "code",
   "execution_count": 51,
   "metadata": {},
   "outputs": [],
   "source": [
    "def getTop(ranks, amount):\n",
    "    return sorted(ranks, key=lambda i: ranks[i])[0:amount]"
   ]
  },
  {
   "cell_type": "code",
   "execution_count": 52,
   "metadata": {},
   "outputs": [],
   "source": [
    "AMOUNT = 20\n",
    "superTop = getTop(superRanks, AMOUNT)\n",
    "subTop = getTop(subRanks, AMOUNT)"
   ]
  },
  {
   "cell_type": "markdown",
   "metadata": {},
   "source": [
    "We combine the two tops without duplication ..."
   ]
  },
  {
   "cell_type": "code",
   "execution_count": 53,
   "metadata": {},
   "outputs": [],
   "source": [
    "combiTopSet = set(superTop) | set(subTop)"
   ]
  },
  {
   "cell_type": "markdown",
   "metadata": {},
   "source": [
    "... and sort them by overall rank:"
   ]
  },
  {
   "cell_type": "code",
   "execution_count": 54,
   "metadata": {},
   "outputs": [],
   "source": [
    "combiTop = sorted(combiTopSet, key=lambda i: allRanks[i])"
   ]
  },
  {
   "cell_type": "markdown",
   "metadata": {},
   "source": [
    "Since we have now our top characters ready, let us just show them.\n",
    "We group them into horizontal lines."
   ]
  },
  {
   "cell_type": "code",
   "execution_count": 55,
   "metadata": {},
   "outputs": [],
   "source": [
    "def chunk(items, chunkSize):\n",
    "    chunks = [[]]\n",
    "    j = 0\n",
    "    for item in items:\n",
    "        if j == chunkSize:\n",
    "            chunks.append([])\n",
    "            j = 0\n",
    "        chunks[-1].append(item)\n",
    "        j += 1\n",
    "    return chunks\n",
    "    "
   ]
  },
  {
   "cell_type": "code",
   "execution_count": 56,
   "metadata": {},
   "outputs": [
    {
     "data": {
      "text/markdown": [
       "\n",
       "\n",
       "---\n",
       "\n"
      ],
      "text/plain": [
       "<IPython.core.display.Markdown object>"
      ]
     },
     "metadata": {},
     "output_type": "display_data"
    },
    {
     "data": {
      "text/html": [
       "        <div style=\"display: flex;flex-flow: row nowrap;justify-content: flex-start;align-items: center;align-content: flex-start;\">            <div style=\"padding: 0.5rem;\">                <div style=\"display: flex;flex-flow: column nowrap;justify-content: space-between;align-items: center;align-content: space-between;\"><div><a target=\"_blank\" href=\"https://cdli.ucla.edu/tools/SignLists/protocuneiform/archsigns/EN~a.jpg\" title=\"to higher resolution lineart on CDLI\"><img src=\"cdli-imagery/nodeEN~alineart.jpg\" style=\"display: inline;max-height: 80px; max-width: 60px;\"  /></a></div><div><a target=\"_blank\" href=\"https://cdli.ucla.edu/tools/SignLists/protocuneiform/archsigns.html\" title=\"to CDLI main page for this item\">EN~a</a></div></div></div><div style=\"padding: 0.5rem;\"><div style=\"display: flex;flex-flow: column nowrap;justify-content: space-between;align-items: center;align-content: space-between;\"><div><a target=\"_blank\" href=\"https://cdli.ucla.edu/tools/SignLists/protocuneiform/archsigns/SZE~a.jpg\" title=\"to higher resolution lineart on CDLI\"><img src=\"cdli-imagery/nodeSZE~alineart.jpg\" style=\"display: inline;max-height: 80px; max-width: 60px;\"  /></a></div><div><a target=\"_blank\" href=\"https://cdli.ucla.edu/tools/SignLists/protocuneiform/archsigns.html\" title=\"to CDLI main page for this item\">SZE~a</a></div></div></div><div style=\"padding: 0.5rem;\"><div style=\"display: flex;flex-flow: column nowrap;justify-content: space-between;align-items: center;align-content: space-between;\"><div><a target=\"_blank\" href=\"https://cdli.ucla.edu/tools/SignLists/protocuneiform/archsigns/GAL~a.jpg\" title=\"to higher resolution lineart on CDLI\"><img src=\"cdli-imagery/nodeGAL~alineart.jpg\" style=\"display: inline;max-height: 80px; max-width: 60px;\"  /></a></div><div><a target=\"_blank\" href=\"https://cdli.ucla.edu/tools/SignLists/protocuneiform/archsigns.html\" title=\"to CDLI main page for this item\">GAL~a</a></div></div></div><div style=\"padding: 0.5rem;\"><div style=\"display: flex;flex-flow: column nowrap;justify-content: space-between;align-items: center;align-content: space-between;\"><div><a target=\"_blank\" href=\"https://cdli.ucla.edu/tools/SignLists/protocuneiform/archsigns/U4.jpg\" title=\"to higher resolution lineart on CDLI\"><img src=\"cdli-imagery/nodeU4lineart.jpg\" style=\"display: inline;max-height: 80px; max-width: 60px;\"  /></a></div><div><a target=\"_blank\" href=\"https://cdli.ucla.edu/tools/SignLists/protocuneiform/archsigns.html\" title=\"to CDLI main page for this item\">U4</a></div></div>            </div>        </div>        "
      ],
      "text/plain": [
       "<IPython.core.display.HTML object>"
      ]
     },
     "metadata": {},
     "output_type": "display_data"
    },
    {
     "data": {
      "text/markdown": [
       "\n",
       "\n",
       "---\n",
       "\n"
      ],
      "text/plain": [
       "<IPython.core.display.Markdown object>"
      ]
     },
     "metadata": {},
     "output_type": "display_data"
    },
    {
     "data": {
      "text/html": [
       "        <div style=\"display: flex;flex-flow: row nowrap;justify-content: flex-start;align-items: center;align-content: flex-start;\">            <div style=\"padding: 0.5rem;\">                <div style=\"display: flex;flex-flow: column nowrap;justify-content: space-between;align-items: center;align-content: space-between;\"><div><a target=\"_blank\" href=\"https://cdli.ucla.edu/tools/SignLists/protocuneiform/archsigns/AN.jpg\" title=\"to higher resolution lineart on CDLI\"><img src=\"cdli-imagery/nodeANlineart.jpg\" style=\"display: inline;max-height: 80px; max-width: 60px;\"  /></a></div><div><a target=\"_blank\" href=\"https://cdli.ucla.edu/tools/SignLists/protocuneiform/archsigns.html\" title=\"to CDLI main page for this item\">AN</a></div></div></div><div style=\"padding: 0.5rem;\"><div style=\"display: flex;flex-flow: column nowrap;justify-content: space-between;align-items: center;align-content: space-between;\"><div><a target=\"_blank\" href=\"https://cdli.ucla.edu/tools/SignLists/protocuneiform/archsigns/SAL.jpg\" title=\"to higher resolution lineart on CDLI\"><img src=\"cdli-imagery/nodeSALlineart.jpg\" style=\"display: inline;max-height: 80px; max-width: 60px;\"  /></a></div><div><a target=\"_blank\" href=\"https://cdli.ucla.edu/tools/SignLists/protocuneiform/archsigns.html\" title=\"to CDLI main page for this item\">SAL</a></div></div></div><div style=\"padding: 0.5rem;\"><div style=\"display: flex;flex-flow: column nowrap;justify-content: space-between;align-items: center;align-content: space-between;\"><div><a target=\"_blank\" href=\"https://cdli.ucla.edu/tools/SignLists/protocuneiform/archsigns/PAP~a.jpg\" title=\"to higher resolution lineart on CDLI\"><img src=\"cdli-imagery/nodePAP~alineart.jpg\" style=\"display: inline;max-height: 80px; max-width: 60px;\"  /></a></div><div><a target=\"_blank\" href=\"https://cdli.ucla.edu/tools/SignLists/protocuneiform/archsigns.html\" title=\"to CDLI main page for this item\">PAP~a</a></div></div></div><div style=\"padding: 0.5rem;\"><div style=\"display: flex;flex-flow: column nowrap;justify-content: space-between;align-items: center;align-content: space-between;\"><div><a target=\"_blank\" href=\"https://cdli.ucla.edu/tools/SignLists/protocuneiform/archsigns/GI.jpg\" title=\"to higher resolution lineart on CDLI\"><img src=\"cdli-imagery/nodeGIlineart.jpg\" style=\"display: inline;max-height: 80px; max-width: 60px;\"  /></a></div><div><a target=\"_blank\" href=\"https://cdli.ucla.edu/tools/SignLists/protocuneiform/archsigns.html\" title=\"to CDLI main page for this item\">GI</a></div></div>            </div>        </div>        "
      ],
      "text/plain": [
       "<IPython.core.display.HTML object>"
      ]
     },
     "metadata": {},
     "output_type": "display_data"
    },
    {
     "data": {
      "text/markdown": [
       "\n",
       "\n",
       "---\n",
       "\n"
      ],
      "text/plain": [
       "<IPython.core.display.Markdown object>"
      ]
     },
     "metadata": {},
     "output_type": "display_data"
    },
    {
     "data": {
      "text/html": [
       "        <div style=\"display: flex;flex-flow: row nowrap;justify-content: flex-start;align-items: center;align-content: flex-start;\">            <div style=\"padding: 0.5rem;\">                <div style=\"display: flex;flex-flow: column nowrap;justify-content: space-between;align-items: center;align-content: space-between;\"><div><a target=\"_blank\" href=\"https://cdli.ucla.edu/tools/SignLists/protocuneiform/archsigns/BA.jpg\" title=\"to higher resolution lineart on CDLI\"><img src=\"cdli-imagery/nodeBAlineart.jpg\" style=\"display: inline;max-height: 80px; max-width: 60px;\"  /></a></div><div><a target=\"_blank\" href=\"https://cdli.ucla.edu/tools/SignLists/protocuneiform/archsigns.html\" title=\"to CDLI main page for this item\">BA</a></div></div></div><div style=\"padding: 0.5rem;\"><div style=\"display: flex;flex-flow: column nowrap;justify-content: space-between;align-items: center;align-content: space-between;\"><div><a target=\"_blank\" href=\"https://cdli.ucla.edu/tools/SignLists/protocuneiform/archsigns/NUN~a.jpg\" title=\"to higher resolution lineart on CDLI\"><img src=\"cdli-imagery/nodeNUN~alineart.jpg\" style=\"display: inline;max-height: 80px; max-width: 60px;\"  /></a></div><div><a target=\"_blank\" href=\"https://cdli.ucla.edu/tools/SignLists/protocuneiform/archsigns.html\" title=\"to CDLI main page for this item\">NUN~a</a></div></div></div><div style=\"padding: 0.5rem;\"><div style=\"display: flex;flex-flow: column nowrap;justify-content: space-between;align-items: center;align-content: space-between;\"><div><a target=\"_blank\" href=\"https://cdli.ucla.edu/tools/SignLists/protocuneiform/archsigns/N.jpg\" title=\"to higher resolution lineart on CDLI\"><span><b>no lineart</b> for ideograph <code>N</code></span></a></div><div><a target=\"_blank\" href=\"https://cdli.ucla.edu/tools/SignLists/protocuneiform/archsigns.html\" title=\"to CDLI main page for this item\">N</a></div></div></div><div style=\"padding: 0.5rem;\"><div style=\"display: flex;flex-flow: column nowrap;justify-content: space-between;align-items: center;align-content: space-between;\"><div><a target=\"_blank\" href=\"https://cdli.ucla.edu/tools/SignLists/protocuneiform/archsigns/SANGA~a.jpg\" title=\"to higher resolution lineart on CDLI\"><img src=\"cdli-imagery/nodeSANGA~alineart.jpg\" style=\"display: inline;max-height: 80px; max-width: 60px;\"  /></a></div><div><a target=\"_blank\" href=\"https://cdli.ucla.edu/tools/SignLists/protocuneiform/archsigns.html\" title=\"to CDLI main page for this item\">SANGA~a</a></div></div>            </div>        </div>        "
      ],
      "text/plain": [
       "<IPython.core.display.HTML object>"
      ]
     },
     "metadata": {},
     "output_type": "display_data"
    },
    {
     "data": {
      "text/markdown": [
       "\n",
       "\n",
       "---\n",
       "\n"
      ],
      "text/plain": [
       "<IPython.core.display.Markdown object>"
      ]
     },
     "metadata": {},
     "output_type": "display_data"
    },
    {
     "data": {
      "text/html": [
       "        <div style=\"display: flex;flex-flow: row nowrap;justify-content: flex-start;align-items: center;align-content: flex-start;\">            <div style=\"padding: 0.5rem;\">                <div style=\"display: flex;flex-flow: column nowrap;justify-content: space-between;align-items: center;align-content: space-between;\"><div><a target=\"_blank\" href=\"https://cdli.ucla.edu/tools/SignLists/protocuneiform/archsigns/SZU.jpg\" title=\"to higher resolution lineart on CDLI\"><img src=\"cdli-imagery/nodeSZUlineart.jpg\" style=\"display: inline;max-height: 80px; max-width: 60px;\"  /></a></div><div><a target=\"_blank\" href=\"https://cdli.ucla.edu/tools/SignLists/protocuneiform/archsigns.html\" title=\"to CDLI main page for this item\">SZU</a></div></div></div><div style=\"padding: 0.5rem;\"><div style=\"display: flex;flex-flow: column nowrap;justify-content: space-between;align-items: center;align-content: space-between;\"><div><a target=\"_blank\" href=\"https://cdli.ucla.edu/tools/SignLists/protocuneiform/archsigns/BU~a.jpg\" title=\"to higher resolution lineart on CDLI\"><img src=\"cdli-imagery/nodeBU~alineart.jpg\" style=\"display: inline;max-height: 80px; max-width: 60px;\"  /></a></div><div><a target=\"_blank\" href=\"https://cdli.ucla.edu/tools/SignLists/protocuneiform/archsigns.html\" title=\"to CDLI main page for this item\">BU~a</a></div></div></div><div style=\"padding: 0.5rem;\"><div style=\"display: flex;flex-flow: column nowrap;justify-content: space-between;align-items: center;align-content: space-between;\"><div><a target=\"_blank\" href=\"https://cdli.ucla.edu/tools/SignLists/protocuneiform/archsigns/NAM2.jpg\" title=\"to higher resolution lineart on CDLI\"><img src=\"cdli-imagery/nodeNAM2lineart.jpg\" style=\"display: inline;max-height: 80px; max-width: 60px;\"  /></a></div><div><a target=\"_blank\" href=\"https://cdli.ucla.edu/tools/SignLists/protocuneiform/archsigns.html\" title=\"to CDLI main page for this item\">NAM2</a></div></div></div><div style=\"padding: 0.5rem;\"><div style=\"display: flex;flex-flow: column nowrap;justify-content: space-between;align-items: center;align-content: space-between;\"><div><a target=\"_blank\" href=\"https://cdli.ucla.edu/tools/SignLists/protocuneiform/archsigns/E2~a.jpg\" title=\"to higher resolution lineart on CDLI\"><img src=\"cdli-imagery/nodeE2~alineart.jpg\" style=\"display: inline;max-height: 80px; max-width: 60px;\"  /></a></div><div><a target=\"_blank\" href=\"https://cdli.ucla.edu/tools/SignLists/protocuneiform/archsigns.html\" title=\"to CDLI main page for this item\">E2~a</a></div></div>            </div>        </div>        "
      ],
      "text/plain": [
       "<IPython.core.display.HTML object>"
      ]
     },
     "metadata": {},
     "output_type": "display_data"
    },
    {
     "data": {
      "text/markdown": [
       "\n",
       "\n",
       "---\n",
       "\n"
      ],
      "text/plain": [
       "<IPython.core.display.Markdown object>"
      ]
     },
     "metadata": {},
     "output_type": "display_data"
    },
    {
     "data": {
      "text/html": [
       "        <div style=\"display: flex;flex-flow: row nowrap;justify-content: flex-start;align-items: center;align-content: flex-start;\">            <div style=\"padding: 0.5rem;\">                <div style=\"display: flex;flex-flow: column nowrap;justify-content: space-between;align-items: center;align-content: space-between;\"><div><a target=\"_blank\" href=\"https://cdli.ucla.edu/tools/SignLists/protocuneiform/archsigns/UDU~a.jpg\" title=\"to higher resolution lineart on CDLI\"><img src=\"cdli-imagery/nodeUDU~alineart.jpg\" style=\"display: inline;max-height: 80px; max-width: 60px;\"  /></a></div><div><a target=\"_blank\" href=\"https://cdli.ucla.edu/tools/SignLists/protocuneiform/archsigns.html\" title=\"to CDLI main page for this item\">UDU~a</a></div></div></div><div style=\"padding: 0.5rem;\"><div style=\"display: flex;flex-flow: column nowrap;justify-content: space-between;align-items: center;align-content: space-between;\"><div><a target=\"_blank\" href=\"https://cdli.ucla.edu/tools/SignLists/protocuneiform/archsigns/A.jpg\" title=\"to higher resolution lineart on CDLI\"><img src=\"cdli-imagery/nodeAlineart.jpg\" style=\"display: inline;max-height: 80px; max-width: 60px;\"  /></a></div><div><a target=\"_blank\" href=\"https://cdli.ucla.edu/tools/SignLists/protocuneiform/archsigns.html\" title=\"to CDLI main page for this item\">A</a></div></div></div><div style=\"padding: 0.5rem;\"><div style=\"display: flex;flex-flow: column nowrap;justify-content: space-between;align-items: center;align-content: space-between;\"><div><a target=\"_blank\" href=\"https://cdli.ucla.edu/tools/SignLists/protocuneiform/archsigns/KI.jpg\" title=\"to higher resolution lineart on CDLI\"><img src=\"cdli-imagery/nodeKIlineart.jpg\" style=\"display: inline;max-height: 80px; max-width: 60px;\"  /></a></div><div><a target=\"_blank\" href=\"https://cdli.ucla.edu/tools/SignLists/protocuneiform/archsigns.html\" title=\"to CDLI main page for this item\">KI</a></div></div></div><div style=\"padding: 0.5rem;\"><div style=\"display: flex;flex-flow: column nowrap;justify-content: space-between;align-items: center;align-content: space-between;\"><div><a target=\"_blank\" href=\"https://cdli.ucla.edu/tools/SignLists/protocuneiform/archsigns/DUG~b.jpg\" title=\"to higher resolution lineart on CDLI\"><img src=\"cdli-imagery/nodeDUG~blineart.jpg\" style=\"display: inline;max-height: 80px; max-width: 60px;\"  /></a></div><div><a target=\"_blank\" href=\"https://cdli.ucla.edu/tools/SignLists/protocuneiform/archsigns.html\" title=\"to CDLI main page for this item\">DUG~b</a></div></div>            </div>        </div>        "
      ],
      "text/plain": [
       "<IPython.core.display.HTML object>"
      ]
     },
     "metadata": {},
     "output_type": "display_data"
    },
    {
     "data": {
      "text/markdown": [
       "\n",
       "\n",
       "---\n",
       "\n"
      ],
      "text/plain": [
       "<IPython.core.display.Markdown object>"
      ]
     },
     "metadata": {},
     "output_type": "display_data"
    },
    {
     "data": {
      "text/html": [
       "        <div style=\"display: flex;flex-flow: row nowrap;justify-content: flex-start;align-items: center;align-content: flex-start;\">            <div style=\"padding: 0.5rem;\">                <div style=\"display: flex;flex-flow: column nowrap;justify-content: space-between;align-items: center;align-content: space-between;\"><div><a target=\"_blank\" href=\"https://cdli.ucla.edu/tools/SignLists/protocuneiform/archsigns/DU.jpg\" title=\"to higher resolution lineart on CDLI\"><img src=\"cdli-imagery/nodeDUlineart.jpg\" style=\"display: inline;max-height: 80px; max-width: 60px;\"  /></a></div><div><a target=\"_blank\" href=\"https://cdli.ucla.edu/tools/SignLists/protocuneiform/archsigns.html\" title=\"to CDLI main page for this item\">DU</a></div></div></div><div style=\"padding: 0.5rem;\"><div style=\"display: flex;flex-flow: column nowrap;justify-content: space-between;align-items: center;align-content: space-between;\"><div><a target=\"_blank\" href=\"https://cdli.ucla.edu/tools/SignLists/protocuneiform/archsigns/HI.jpg\" title=\"to higher resolution lineart on CDLI\"><img src=\"cdli-imagery/nodeHIlineart.jpg\" style=\"display: inline;max-height: 80px; max-width: 60px;\"  /></a></div><div><a target=\"_blank\" href=\"https://cdli.ucla.edu/tools/SignLists/protocuneiform/archsigns.html\" title=\"to CDLI main page for this item\">HI</a></div></div></div><div style=\"padding: 0.5rem;\"><div style=\"display: flex;flex-flow: column nowrap;justify-content: space-between;align-items: center;align-content: space-between;\"><div><a target=\"_blank\" href=\"https://cdli.ucla.edu/tools/SignLists/protocuneiform/archsigns/TUR.jpg\" title=\"to higher resolution lineart on CDLI\"><img src=\"cdli-imagery/nodeTURlineart.jpg\" style=\"display: inline;max-height: 80px; max-width: 60px;\"  /></a></div><div><a target=\"_blank\" href=\"https://cdli.ucla.edu/tools/SignLists/protocuneiform/archsigns.html\" title=\"to CDLI main page for this item\">TUR</a></div></div></div><div style=\"padding: 0.5rem;\"><div style=\"display: flex;flex-flow: column nowrap;justify-content: space-between;align-items: center;align-content: space-between;\"><div><a target=\"_blank\" href=\"https://cdli.ucla.edu/tools/SignLists/protocuneiform/archsigns/KU3~a.jpg\" title=\"to higher resolution lineart on CDLI\"><img src=\"cdli-imagery/nodeKU3~alineart.jpg\" style=\"display: inline;max-height: 80px; max-width: 60px;\"  /></a></div><div><a target=\"_blank\" href=\"https://cdli.ucla.edu/tools/SignLists/protocuneiform/archsigns.html\" title=\"to CDLI main page for this item\">KU3~a</a></div></div>            </div>        </div>        "
      ],
      "text/plain": [
       "<IPython.core.display.HTML object>"
      ]
     },
     "metadata": {},
     "output_type": "display_data"
    },
    {
     "data": {
      "text/markdown": [
       "\n",
       "\n",
       "---\n",
       "\n"
      ],
      "text/plain": [
       "<IPython.core.display.Markdown object>"
      ]
     },
     "metadata": {},
     "output_type": "display_data"
    },
    {
     "data": {
      "text/html": [
       "        <div style=\"display: flex;flex-flow: row nowrap;justify-content: flex-start;align-items: center;align-content: flex-start;\">            <div style=\"padding: 0.5rem;\">                <div style=\"display: flex;flex-flow: column nowrap;justify-content: space-between;align-items: center;align-content: space-between;\"><div><a target=\"_blank\" href=\"https://cdli.ucla.edu/tools/SignLists/protocuneiform/archsigns/HI@g~a.jpg\" title=\"to higher resolution lineart on CDLI\"><img src=\"cdli-imagery/nodeHI@g~alineart.jpg\" style=\"display: inline;max-height: 80px; max-width: 60px;\"  /></a></div><div><a target=\"_blank\" href=\"https://cdli.ucla.edu/tools/SignLists/protocuneiform/archsigns.html\" title=\"to CDLI main page for this item\">HI@g~a</a></div></div>            </div>        </div>        "
      ],
      "text/plain": [
       "<IPython.core.display.HTML object>"
      ]
     },
     "metadata": {},
     "output_type": "display_data"
    }
   ],
   "source": [
    "for batch in chunk(combiTop, 4):\n",
    "    display(Markdown('\\n\\n---\\n\\n'))\n",
    "    display(CN.lineart(batch, height=80, width=60))"
   ]
  },
  {
   "cell_type": "markdown",
   "metadata": {},
   "source": [
    "We can now compose our table.\n",
    "\n",
    "For each sign we make a row in which we report the frequency and rank of that sign in all\n",
    "groups."
   ]
  },
  {
   "cell_type": "code",
   "execution_count": 60,
   "metadata": {},
   "outputs": [
    {
     "data": {
      "text/markdown": [
       "\n",
       "### Frequencies and ranks of non-numeral signs\n",
       "sign | all F | all R | super F | super R | sub F | sub R\n",
       "---  | ---   | ---   | ---     | ---     | ---   | ---\n",
       "**EN~a** | **1830** | **1** | 1670 | *1* | 160 | *1*\n",
       "**SZE~a** | **1294** | **2** | 1178 | *2* | 116 | *2*\n",
       "**GAL~a** | **1164** | **3** | 1136 | *3* | 28 | *30*\n",
       "**U4** | **1022** | **4** | 936 | *5* | 86 | *7*\n",
       "**AN** | **1020** | **5** | 946 | *4* | 74 | *9*\n",
       "**SAL** | **876** | **6** | 795 | *6* | 81 | *8*\n",
       "**PAP~a** | **851** | **7** | 765 | *7* | 86 | *6*\n",
       "**GI** | **849** | **8** | 754 | *8* | 95 | *4*\n",
       "**BA** | **781** | **9** | 679 | *11* | 102 | *3*\n",
       "**NUN~a** | **719** | **10** | 677 | *12* | 42 | *20*\n",
       "**N** | **716** | **11** | 714 | *9* | 2 | *241*\n",
       "**SANGA~a** | **714** | **12** | 698 | *10* | 16 | *60*\n",
       "**SZU** | **680** | **13** | 611 | *14* | 69 | *10*\n",
       "**BU~a** | **653** | **14** | 561 | *17* | 92 | *5*\n",
       "**NAM2** | **649** | **15** | 625 | *13* | 24 | *39*\n",
       "**E2~a** | **646** | **16** | 583 | *15* | 63 | *11*\n",
       "**UDU~a** | **616** | **17** | 574 | *16* | 42 | *19*\n",
       "**A** | **600** | **18** | 557 | *18* | 43 | *18*\n",
       "**KI** | **546** | **19** | 503 | *20* | 43 | *17*\n",
       "**DUG~b** | **509** | **20** | 506 | *19* | 3 | *226*\n",
       "**DU** | **480** | **21** | 435 | *23* | 45 | *14*\n",
       "**HI** | **408** | **30** | 363 | *32* | 45 | *15*\n",
       "**TUR** | **382** | **33** | 330 | *37* | 52 | *12*\n",
       "**KU3~a** | **264** | **53** | 220 | *59* | 44 | *16*\n",
       "**HI@g~a** | **235** | **59** | 186 | *68* | 49 | *13*\n"
      ],
      "text/plain": [
       "<IPython.core.display.Markdown object>"
      ]
     },
     "metadata": {},
     "output_type": "display_data"
    }
   ],
   "source": [
    "table = f'''\n",
    "### Frequencies and ranks of non-numeral signs\n",
    "sign | all F | all R | super F | super R | sub F | sub R\n",
    "---  | ---   | ---   | ---     | ---     | ---   | ---\n",
    "'''\n",
    "for sign in combiTop:\n",
    "    allF = allFreqs[sign]\n",
    "    allR = allRanks[sign]\n",
    "    superF = superFreqs.get(sign, ' ')\n",
    "    superR = superRanks.get(sign, ' ')\n",
    "    subF = subFreqs.get(sign, ' ')\n",
    "    subR = subRanks.get(sign, ' ')\n",
    "    row = f'**{sign}** | **{allF}** | **{allR}** | {superF} | *{superR}* | {subF} | *{subR}*'\n",
    "    table += f'{row}\\n'\n",
    "display(Markdown(table))"
   ]
  },
  {
   "cell_type": "code",
   "execution_count": null,
   "metadata": {},
   "outputs": [],
   "source": []
  }
 ],
 "metadata": {
  "kernelspec": {
   "display_name": "Python 3",
   "language": "python",
   "name": "python3"
  },
  "language_info": {
   "codemirror_mode": {
    "name": "ipython",
    "version": 3
   },
   "file_extension": ".py",
   "mimetype": "text/x-python",
   "name": "python",
   "nbconvert_exporter": "python",
   "pygments_lexer": "ipython3",
   "version": "3.6.4"
  }
 },
 "nbformat": 4,
 "nbformat_minor": 2
}
