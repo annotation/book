{
 "cells": [
  {
   "cell_type": "markdown",
   "metadata": {
    "toc": true
   },
   "source": [
    "<h1>Table of Contents<span class=\"tocSkip\"></span></h1>\n",
    "<div class=\"toc\" style=\"margin-top: 1em;\"><ul class=\"toc-item\"><li><span><a href=\"#Landscape\" data-toc-modified-id=\"Landscape-1\"><span class=\"toc-item-num\">1&nbsp;&nbsp;</span>Landscape</a></span></li><li><span><a href=\"#Starting-points\" data-toc-modified-id=\"Starting-points-2\"><span class=\"toc-item-num\">2&nbsp;&nbsp;</span>Starting points</a></span><ul class=\"toc-item\"><li><span><a href=\"#Single-things\" data-toc-modified-id=\"Single-things-2.1\"><span class=\"toc-item-num\">2.1&nbsp;&nbsp;</span>Single things</a></span></li><li><span><a href=\"#Sets\" data-toc-modified-id=\"Sets-2.2\"><span class=\"toc-item-num\">2.2&nbsp;&nbsp;</span>Sets</a></span><ul class=\"toc-item\"><li><span><a href=\"#Walk-all-nodes\" data-toc-modified-id=\"Walk-all-nodes-2.2.1\"><span class=\"toc-item-num\">2.2.1&nbsp;&nbsp;</span>Walk all nodes</a></span></li></ul></li></ul></li><li><span><a href=\"#Navigation\" data-toc-modified-id=\"Navigation-3\"><span class=\"toc-item-num\">3&nbsp;&nbsp;</span>Navigation</a></span></li></ul></div>"
   ]
  },
  {
   "cell_type": "markdown",
   "metadata": {},
   "source": [
    "<img align=\"right\" src=\"images/ninologo.png\" width=\"200\"/>\n",
    "<img align=\"right\" src=\"images/dans.png\" width=\"100\"/>\n",
    "<img align=\"right\" src=\"images/tf.png\" width=\"100\"/>\n",
    "\n",
    "# Steps\n",
    "\n",
    "The transliterations in the Uruk corpus are a kind of landscape.\n",
    "In this notebook we take our first steps around."
   ]
  },
  {
   "cell_type": "markdown",
   "metadata": {},
   "source": [
    "## Landscape\n",
    "\n",
    "The transcriptions of the tablets in their TF form is organized in a model of nodes, edges and features.\n",
    "\n",
    "The things such as tablets, faces, columns, cases, and, at the most basic level, signs, are numbered.\n",
    "The signs correspond to number 1 ... 100,000+, in the same order as they occur in the corpus.\n",
    "All other things are built from signs. They have higher numbers.\n",
    "\n",
    "In TF, we call these numbers *nodes*. \n",
    "Like a barcode, this number gives access to a whole bunch of\n",
    "information about the corresponding object.\n",
    "\n",
    "For example, cases have a property (in TF we call it a *feature*) called `fullNumber`. \n",
    "It contains the hierarchical number found at the start of\n",
    "the numbered lines in the transcription.\n",
    "\n",
    "If the node (barcode) for a line is `n`, we can find its hierarchical number by saying\n",
    "\n",
    "```\n",
    "F.fullNumber.v(n)\n",
    "```\n",
    "\n",
    "In words, it reads as:\n",
    "\n",
    "* `F`: I want to look up a `F`eature\n",
    "* `fullNumber`: the name of the feature\n",
    "* `.v`: I want the value of that feature\n",
    "* `(n)`: for the given node `n`\n",
    "\n",
    "Seen in this way, the data is like a gigantic spreadsheet of half a million rows (the nodes),\n",
    "and a few dozen columns (the features).\n",
    "\n",
    "There is a bit more to it, since the nodes can be grouped together in ways we will see later on.\n",
    "\n",
    "The complete reference information is in the\n",
    "[Feature docs](https://github.com/Nino-cunei/uruk/blob/master/docs/transcription.md)."
   ]
  },
  {
   "cell_type": "markdown",
   "metadata": {},
   "source": [
    "# Incantation\n",
    "\n",
    "We start the notebook by the familiar incantation."
   ]
  },
  {
   "cell_type": "code",
   "execution_count": 1,
   "metadata": {
    "ExecuteTime": {
     "end_time": "2018-03-08T05:39:26.701988Z",
     "start_time": "2018-03-08T05:39:25.627106Z"
    }
   },
   "outputs": [
    {
     "name": "stdout",
     "output_type": "stream",
     "text": [
      "Found 2095 ideograph linearts\n",
      "Found 2724 tablet linearts\n",
      "Found 5495 tablet photos\n"
     ]
    },
    {
     "data": {
      "text/markdown": [
       "**Documentation:** <a target=\"_blank\" href=\"https://github.com/Nino-cunei/uruk/blob/master/docs/about.md\" title=\"{provenance of this corpus}\">Uruk IV-III (v1.0)</a> <a target=\"_blank\" href=\"https://github.com/Nino-cunei/uruk/blob/master/docs/transcription.md\" title=\"{source} feature documentation\">Feature docs</a> <a target=\"_blank\" href=\"https://github.com/Nino-cunei/uruk/blob/master/docs/cunei.md\" title=\"cunei api documentation\">Cunei API</a> <a target=\"_blank\" href=\"https://github.com/Dans-labs/text-fabric/wiki/api\" title=\"text-fabric-api\">Text-Fabric API</a>"
      ],
      "text/plain": [
       "<IPython.core.display.Markdown object>"
      ]
     },
     "metadata": {},
     "output_type": "display_data"
    },
    {
     "data": {
      "text/markdown": [
       "\n",
       "This notebook online:\n",
       "<a target=\"_blank\" href=\"http://nbviewer.jupyter.org/github/Nino-cunei/tutorials/blob/master/start.ipynb\">NBViewer</a>\n",
       "<a target=\"_blank\" href=\"https://github.com/Nino-cunei/tutorials/blob/master/start.ipynb\">GitHub</a>\n"
      ],
      "text/plain": [
       "<IPython.core.display.Markdown object>"
      ]
     },
     "metadata": {},
     "output_type": "display_data"
    }
   ],
   "source": [
    "import sys, os\n",
    "LOC = ('~/github', 'Nino-cunei/uruk', 'start')\n",
    "sys.path.append(os.path.expanduser(f'{LOC[0]}/{LOC[1]}/programs'))\n",
    "from cunei import Cunei\n",
    "CN = Cunei(*LOC)\n",
    "CN.api.makeAvailableIn(globals())"
   ]
  },
  {
   "cell_type": "markdown",
   "metadata": {},
   "source": [
    "## Starting points\n",
    "\n",
    "We need a place to begin. That could be a single tablet, or case, or a set of signs.\n",
    "\n",
    "### Single things\n",
    "\n",
    "We start with looking up a tablet by its *P-number*."
   ]
  },
  {
   "cell_type": "code",
   "execution_count": 3,
   "metadata": {
    "ExecuteTime": {
     "end_time": "2018-03-08T05:41:57.759859Z",
     "start_time": "2018-03-08T05:41:57.752176Z"
    }
   },
   "outputs": [
    {
     "data": {
      "text/plain": [
       "148166"
      ]
     },
     "execution_count": 3,
     "metadata": {},
     "output_type": "execute_result"
    }
   ],
   "source": [
    "pNum = 'P005381'\n",
    "tablet = T.nodeFromSection((pNum,))\n",
    "tablet"
   ]
  },
  {
   "cell_type": "markdown",
   "metadata": {},
   "source": [
    "**Explanation**\n",
    "\n",
    "We have imposed a division in sections on the Uruk corpus.\n",
    "Three levels:\n",
    "* tablets;\n",
    "* columns;\n",
    "* line.\n",
    "\n",
    "With `T` we get access to section functions.\n",
    "\n",
    "If we identify a section, by specifying its tablet, column number, and line number,\n",
    "`T` will give us back the node (barcode) of that section.\n",
    "\n",
    "If we specify just a P-number, we get the node of the corresponding tablet.\n",
    "\n",
    "If we specify a P-number and a column number, we get the node of the corresponding column.\n",
    "\n",
    "If we, additionally, specify a line number, we get the node of the line.\n",
    "\n",
    "**Warning**\n",
    "\n",
    "The expression `(pNum, )` is the Python way of denoting a tuple with one element.\n",
    "Without the awkaward comma the brackets are just grouping brackets, not tuple brackets.\n",
    "So if you say\n",
    "\n",
    "```\n",
    "tablet = T.nodeFromSection((pNum))\n",
    "```\n",
    "\n",
    "things go horribly wrong."
   ]
  },
  {
   "cell_type": "markdown",
   "metadata": {},
   "source": [
    "Here is its transcription, because a node is just a number, not very informative to us humans."
   ]
  },
  {
   "cell_type": "code",
   "execution_count": 4,
   "metadata": {
    "ExecuteTime": {
     "end_time": "2018-03-08T05:42:00.952647Z",
     "start_time": "2018-03-08T05:42:00.944811Z"
    }
   },
   "outputs": [
    {
     "data": {
      "text/plain": [
       "['&P005381 = MSVO 3, 70',\n",
       " '#atf: lang qpc ',\n",
       " '@obverse ',\n",
       " '@column 1 ',\n",
       " '1.a. 2(N14) , SZE~a SAL TUR3~a NUN~a ',\n",
       " '1.b. 3(N19) , |GISZ.TE| ',\n",
       " '2. 1(N14) , NAR NUN~a SIG7 ',\n",
       " '3. 2(N04)# , PIRIG~b1 SIG7 URI3~a NUN~a ',\n",
       " '@column 2 ',\n",
       " '1. 3(N04) , |GISZ.TE| GAR |SZU2.((HI+1(N57))+(HI+1(N57)))| GI4~a ',\n",
       " '2. , GU7 AZ SI4~f ',\n",
       " '@reverse ',\n",
       " '@column 1 ',\n",
       " '1. 3(N14) , SZE~a ',\n",
       " '2. 3(N19) 5(N04) , ',\n",
       " '3. , GU7 ',\n",
       " '@column 2 ',\n",
       " '1. , AZ SI4~f ']"
      ]
     },
     "execution_count": 4,
     "metadata": {},
     "output_type": "execute_result"
    }
   ],
   "source": [
    "CN.getSource(tablet)"
   ]
  },
  {
   "cell_type": "markdown",
   "metadata": {},
   "source": [
    "And, to be even more hands on, we show the lineart:"
   ]
  },
  {
   "cell_type": "code",
   "execution_count": 6,
   "metadata": {
    "ExecuteTime": {
     "end_time": "2018-03-08T05:42:48.985364Z",
     "start_time": "2018-03-08T05:42:48.975238Z"
    }
   },
   "outputs": [
    {
     "data": {
      "text/html": [
       "        <div style=\"display: flex;flex-flow: row nowrap;justify-content: flex-start;align-items: center;align-content: flex-start;\">            <div style=\"padding: 0.5rem;\">                <div style=\"display: flex;flex-flow: column nowrap;justify-content: space-between;align-items: center;align-content: space-between;\"><div><a target=\"_blank\" href=\"https://cdli.ucla.edu/dl/lineart/P005381_l.jpg\" title=\"to higher resolution lineart on CDLI\"><img src=\"cdli-imagery/node148166lineart.jpg\" style=\"display: inline;\" width=\"200\" /></a></div><div><a target=\"_blank\" href=\"https://cdli.ucla.edu/search/search_results.php?SearchMode=Text&ObjectID=P005381\" title=\"to CDLI main page\">P005381 on CDLI</a></div></div>            </div>        </div>        "
      ],
      "text/plain": [
       "<IPython.core.display.HTML object>"
      ]
     },
     "execution_count": 6,
     "metadata": {},
     "output_type": "execute_result"
    }
   ],
   "source": [
    "CN.lineart(tablet, width=200)"
   ]
  },
  {
   "cell_type": "markdown",
   "metadata": {},
   "source": [
    "Now let's check out the columns and lines."
   ]
  },
  {
   "cell_type": "code",
   "execution_count": 5,
   "metadata": {
    "ExecuteTime": {
     "end_time": "2018-03-07T15:24:39.832518Z",
     "start_time": "2018-03-07T15:24:39.824200Z"
    }
   },
   "outputs": [
    {
     "data": {
      "text/plain": [
       "['@column 1 ',\n",
       " '1.a. 2(N14) , SZE~a SAL TUR3~a NUN~a ',\n",
       " '1.b. 3(N19) , |GISZ.TE| ',\n",
       " '2. 1(N14) , NAR NUN~a SIG7 ',\n",
       " '3. 2(N04)# , PIRIG~b1 SIG7 URI3~a NUN~a ']"
      ]
     },
     "execution_count": 5,
     "metadata": {},
     "output_type": "execute_result"
    }
   ],
   "source": [
    "column = T.nodeFromSection((pNum, 'obverse:1'))\n",
    "CN.getSource(column)"
   ]
  },
  {
   "cell_type": "markdown",
   "metadata": {},
   "source": [
    "Note that you have to include the *face*-name into the column number!\n",
    "\n",
    "Now lines:"
   ]
  },
  {
   "cell_type": "code",
   "execution_count": 6,
   "metadata": {
    "ExecuteTime": {
     "end_time": "2018-03-07T15:24:40.967646Z",
     "start_time": "2018-03-07T15:24:40.958297Z"
    }
   },
   "outputs": [
    {
     "name": "stdout",
     "output_type": "stream",
     "text": [
      "85116: 1.a. 2(N14) , SZE~a SAL TUR3~a NUN~a \n",
      "85117: 1.b. 3(N19) , |GISZ.TE| \n"
     ]
    }
   ],
   "source": [
    "line = T.nodeFromSection((pNum, 'obverse:1', '1'))\n",
    "print('\\n'.join(CN.getSource(line, lineNumbers=True)))"
   ]
  },
  {
   "cell_type": "markdown",
   "metadata": {},
   "source": [
    "Note that we have printed the lines not as a Python list, but as a string,\n",
    "where we have joined the lines in the list with newlines.\n",
    "\n",
    "We also wanted to see the line numbers in the source files.\n",
    "These source files are also in the data repo, e.g.\n",
    "[uruk-iii](https://github.com/Nino-cunei/uruk/blob/master/sources/cdli/transcriptions/1.0/uruk-iii.txt).\n",
    "\n",
    "We want to go one step further. We want to get the node corresponding to\n",
    "individual lines in the transliterations.\n",
    "These correspond to cases which are themselves not divided into cases\n",
    "(*terminal* cases).\n",
    "\n",
    "Text-Fabric itself only knows three section levels, we cannot use `T.sectionFromNode()`\n",
    "for this. \n",
    "Text-Fabric is a generic package, which has been used for various other\n",
    "corpora, such as the Hebrew Bible. It does not know anything of (proto)cuneiform data.\n",
    "\n",
    "But on top of Text-Fabric we are using a bunch of dedicated cuneiform functions, and\n",
    "one of them mimicks `T.nodeFromSection`:"
   ]
  },
  {
   "cell_type": "code",
   "execution_count": 7,
   "metadata": {
    "ExecuteTime": {
     "end_time": "2018-03-07T15:24:42.542228Z",
     "start_time": "2018-03-07T15:24:42.530055Z"
    }
   },
   "outputs": [
    {
     "name": "stdout",
     "output_type": "stream",
     "text": [
      "85117 1.b. 3(N19) , |GISZ.TE| \n"
     ]
    }
   ],
   "source": [
    "case = CN.nodeFromCase((pNum, 'obverse:1', '1.b'))\n",
    "print('\\n'.join(CN.getSource(case, lineNumbers=True)))"
   ]
  },
  {
   "cell_type": "markdown",
   "metadata": {},
   "source": [
    "### Sets\n",
    "\n",
    "Many times we want to start with whole sets.\n",
    "For example all composite signs, also known as *quads*:"
   ]
  },
  {
   "cell_type": "code",
   "execution_count": 8,
   "metadata": {
    "ExecuteTime": {
     "end_time": "2018-03-07T15:24:43.740349Z",
     "start_time": "2018-03-07T15:24:43.731186Z"
    }
   },
   "outputs": [
    {
     "data": {
      "text/plain": [
       "3794"
      ]
     },
     "execution_count": 8,
     "metadata": {},
     "output_type": "execute_result"
    }
   ],
   "source": [
    "quads = F.otype.s('quad')\n",
    "len(quads)"
   ]
  },
  {
   "cell_type": "markdown",
   "metadata": {},
   "source": [
    "This reads as:\n",
    "\n",
    "* `F` give me the features\n",
    "* `otype` I want the feature that gives the type of nodes\n",
    "* `s('quad')` I want the nodes whose `otype` value is `'quad'`\n",
    "  i.e. the nodes that *support* `otype`-value `'quad'`\n",
    "  \n",
    "As we see, there are nearly 4000 of them.\n",
    "\n",
    "Later, we'll see where they are."
   ]
  },
  {
   "cell_type": "code",
   "execution_count": 9,
   "metadata": {
    "ExecuteTime": {
     "end_time": "2018-03-07T15:24:45.817823Z",
     "start_time": "2018-03-07T15:24:45.809614Z"
    }
   },
   "outputs": [
    {
     "data": {
      "text/plain": [
       "1"
      ]
     },
     "execution_count": 9,
     "metadata": {},
     "output_type": "execute_result"
    }
   ],
   "source": [
    "primes = F.prime.s(2)\n",
    "len(primes)"
   ]
  },
  {
   "cell_type": "markdown",
   "metadata": {},
   "source": [
    "In the same manner, we want to see all things with a double prime.\n",
    "There is only one.\n",
    "We pick up a bit of additional information, but later we'll see where it is."
   ]
  },
  {
   "cell_type": "code",
   "execution_count": 10,
   "metadata": {
    "ExecuteTime": {
     "end_time": "2018-03-07T15:24:47.227969Z",
     "start_time": "2018-03-07T15:24:47.220977Z"
    }
   },
   "outputs": [
    {
     "name": "stdout",
     "output_type": "stream",
     "text": [
      "56360 sign\n"
     ]
    }
   ],
   "source": [
    "for n in primes:\n",
    "    print(n, F.otype.v(n))"
   ]
  },
  {
   "cell_type": "markdown",
   "metadata": {},
   "source": [
    "It is the sign with node (barcode) 56360."
   ]
  },
  {
   "cell_type": "markdown",
   "metadata": {},
   "source": [
    "#### Walk all nodes\n",
    "\n",
    "If we want to go over all nodes, in a sensible order, we do it like this:"
   ]
  },
  {
   "cell_type": "code",
   "execution_count": 11,
   "metadata": {
    "ExecuteTime": {
     "end_time": "2018-03-07T15:24:49.686715Z",
     "start_time": "2018-03-07T15:24:49.602358Z"
    }
   },
   "outputs": [
    {
     "data": {
      "text/plain": [
       "304199"
      ]
     },
     "execution_count": 11,
     "metadata": {},
     "output_type": "execute_result"
    }
   ],
   "source": [
    "count = 0\n",
    "\n",
    "for n in N():\n",
    "    count += 1\n",
    "\n",
    "count"
   ]
  },
  {
   "cell_type": "markdown",
   "metadata": {},
   "source": [
    "Here we show the first 20 nodes with their type:"
   ]
  },
  {
   "cell_type": "code",
   "execution_count": 12,
   "metadata": {
    "ExecuteTime": {
     "end_time": "2018-03-07T15:24:50.833127Z",
     "start_time": "2018-03-07T15:24:50.819634Z"
    }
   },
   "outputs": [
    {
     "name": "stdout",
     "output_type": "stream",
     "text": [
      "143889 tablet\n",
      "159709 comment\n",
      "     1 sign\n",
      "150253 face\n",
      "170799 column\n",
      "217575 line\n",
      "253417 case\n",
      "184822 cluster\n",
      "     2 sign\n",
      "     3 sign\n",
      "     4 sign\n",
      "170800 column\n",
      "217576 line\n",
      "253418 case\n",
      "     5 sign\n",
      "     6 sign\n",
      "     7 sign\n",
      "184823 cluster\n",
      "     8 sign\n",
      "143890 tablet\n"
     ]
    }
   ],
   "source": [
    "limit = 20\n",
    "for (i, n) in enumerate(N()):\n",
    "    if i >= limit: break\n",
    "    print(f'{n:>6} {F.otype.v(n)}')"
   ]
  },
  {
   "cell_type": "markdown",
   "metadata": {},
   "source": [
    "As you see, the order is not the sequence order of the nodes.\n",
    "You see first things (in the corpus) first, and if several things start at the same\n",
    "position, the bigger things come first."
   ]
  },
  {
   "cell_type": "markdown",
   "metadata": {},
   "source": [
    "## Navigation\n",
    "\n",
    "After our starting points, we would like to visit the neighbourhood.\n",
    "We want to go from nodes to the ones in which they lie embedded, and back.\n",
    "We want to go to the next node on the same level and back.\n",
    "\n",
    "We do that with `L.` functions.\n",
    "\n",
    "* `L.d()` goes \"down\": from enbedder to embeddee;\n",
    "* `L.u()` goes \"up\": from embeddee to embedder;\n",
    "* `L.p()` goes \"previous\": to the first left sibling;\n",
    "* `L.n()` goes \"next\": to the first right sibling.\n",
    "\n",
    "Above, we collected some \"interesting\" nodes, but we had not yet a way to find out where\n",
    "they were.\n",
    "\n",
    "Now we have.\n",
    "\n",
    "Remember the double prime?"
   ]
  },
  {
   "cell_type": "code",
   "execution_count": 13,
   "metadata": {
    "ExecuteTime": {
     "end_time": "2018-03-07T15:24:53.320763Z",
     "start_time": "2018-03-07T15:24:53.314124Z"
    }
   },
   "outputs": [
    {
     "name": "stdout",
     "output_type": "stream",
     "text": [
      "51246 3.b. 3(N41) 1(N24'')# , [TAR~a] \n"
     ]
    }
   ],
   "source": [
    "caseDouble = L.u(primes[0], otype='case')[0]\n",
    "print('\\n'.join(CN.getSource(caseDouble, lineNumbers=True)))"
   ]
  },
  {
   "cell_type": "markdown",
   "metadata": {},
   "source": [
    "So we can go to the source, to the exact line number!\n",
    "\n",
    "We can also show the whole tablet:"
   ]
  },
  {
   "cell_type": "code",
   "execution_count": 14,
   "metadata": {
    "ExecuteTime": {
     "end_time": "2018-03-07T15:24:54.482732Z",
     "start_time": "2018-03-07T15:24:54.475409Z"
    }
   },
   "outputs": [
    {
     "name": "stdout",
     "output_type": "stream",
     "text": [
      "51220 &P411604 = CUSAS 21, 074\n",
      "51221: #atf: lang qpc \n",
      "51223: @obverse \n",
      "51224: @column 1 \n",
      "51225: 1. 1(N01) , AN NUNUZ~a1 ZATU788# \n",
      "51226: 2. 1(N01) 1(N39~a) MUD NA~a# BU~a \n",
      "51227: 3. 1(N01) 1(N39~a) U4# KU6~a A \n",
      "51228: 4. 1(N01) 1(N39~a) AB~a SZE~a \n",
      "51229: 5. 3(N01) , BAHAR2~b \n",
      "51230: 6. 2(N01) [...] \n",
      "51231: 7. 2(N01) [...] MUD# [NA~a] BU~a# \n",
      "51232: @column 2 \n",
      "51233: 1.a. 2(N01) 1(N57) , NIN \n",
      "51234: 1.b. 1(N39~a) TAR~a \n",
      "51235: 2.a. 4(N01) , ZATU694 KU6~a KISAL~b1 \n",
      "51236: 2.b. 2(N39~a) TAR~a \n",
      "51237: 3. 1(N39~a) AB~a SZUBUR BULUG3 SZE~a \n",
      "51238: 4. , GIBIL GU7 \n",
      "51239: 5. 2(N04) 1(N41) , U4 \n",
      "51240: 6. 1(N19) , NAM~a NA2~a \n",
      "51241: @column 3 \n",
      "51242: 1.a. 3(N01) , 3(N57) [...] \n",
      "51243: 1.b. 2(N39~a) 1(N24) , [TAR~a] \n",
      "51244: 2. 1(N19) , AB~a \n",
      "51245: 3.a. 1(N19) 1(N04) , AN NUNUZ~a1# ZATU788 X \n",
      "51246: 3.b. 3(N41) 1(N24'')# , [TAR~a] \n",
      "51247: 4. , GU7 \n",
      "51248: @reverse \n",
      "51249: $ blank space \n"
     ]
    }
   ],
   "source": [
    "tabletDouble = L.u(primes[0], otype='tablet')[0]\n",
    "print('\\n'.join(CN.getSource(tabletDouble, lineNumbers=True)))"
   ]
  },
  {
   "cell_type": "markdown",
   "metadata": {},
   "source": [
    "The `L.u()` function takes a node as starting point and looks up all nodes that embed it.\n",
    "You can restrict those to nodes of a certain type, as we did by `otype='case'`.\n",
    "It yields a list of nodes, so if you want a single embedder, you have to select one,\n",
    "as we did by `[0]`."
   ]
  },
  {
   "cell_type": "markdown",
   "metadata": {},
   "source": [
    "Let us do the same with the first 10 *quads* (composite signs).\n",
    "\n",
    "For each such quad we assemble the following pieces of information:\n",
    "\n",
    "* the P-number of the tablet\n",
    "* the transcription line number\n",
    "* a representation of the quad\n",
    "* the list of signs of which the quad is composed."
   ]
  },
  {
   "cell_type": "code",
   "execution_count": 15,
   "metadata": {
    "ExecuteTime": {
     "end_time": "2018-03-07T15:24:56.629736Z",
     "start_time": "2018-03-07T15:24:56.598837Z"
    }
   },
   "outputs": [
    {
     "name": "stdout",
     "output_type": "stream",
     "text": [
      "   27 P006428 5     |DUG~bx1(N57)|  with DUG~b , 1(N57)\n",
      "   66 P448702 1'    |U4x1(N01)|     with U4 , 1(N01)\n",
      "   80 P448703 1     |U4.1(N08)|     with U4 , 1(N08)\n",
      "   81 P448703 2     |U4.1(N08)|     with U4 , 1(N08)\n",
      "   82 P448703 3     |U4.1(N08)|     with U4 , 1(N08)\n",
      "   82 P448703 3     |GI&GI|         with GI , GI\n",
      "   83 P448703 4     |U4.1(N08)|     with U4 , 1(N08)\n",
      "   84 P448703 5     |U4.1(N08)|     with U4 , 1(N08)\n",
      "  142 P482083 2a'   |U4x3(N01)|     with U4 , 3(N01)\n",
      "  161 P499393 2     |LAGAB~bxX|     with LAGAB~b , X\n"
     ]
    }
   ],
   "source": [
    "for q in quads[0:10]:\n",
    "    t = L.u(q, otype='tablet')[0]\n",
    "    c = L.u(q, otype='case')[0]\n",
    "    lineNum = F.srcLnNum.v(c)\n",
    "    caseNum = CN.caseFromNode(c)[2]\n",
    "\n",
    "    pNum = T.sectionFromNode(t)[0]\n",
    "    qRep = CN.atfFromQuad(q)\n",
    "    signs = L.d(q, otype='sign')\n",
    "    signReps = ' , '.join([CN.atfFromSign(s) for s in signs])\n",
    "    print(f'{lineNum:>5} {pNum} {caseNum:<5} {qRep:<15} with {signReps}')"
   ]
  },
  {
   "cell_type": "markdown",
   "metadata": {},
   "source": [
    "Admittedly, this was a bit advanced. We used things we haven't explained yet.\n",
    "\n",
    "* there is also a `CN.caseFromNode()`: it gives you section headings\n",
    "  if you give it a node. (exactly opposite to `CN.nodeFromCase()`).\n",
    "* likewise, `T.sectionFromNode()` is opposite to `T.nodeFromSection()`.\n",
    "* we have functions to generate ATF transliterations for nodes, especially for\n",
    "  quads and signs: \n",
    "  * `CN.atfFromQuad(n)` gives you the transliteration of the\n",
    "    *quad* identified by node (barcode) `n`;\n",
    "  * `CN.atfFromSign(n)` likewise for *sign*s."
   ]
  },
  {
   "cell_type": "markdown",
   "metadata": {},
   "source": [
    "With our mastery of starting points and navigation,\n",
    "we really do not have to see the actual node numbers (barcodes) anymore.\n",
    "\n",
    "We'll see less and less of them, but they are the invisible glue that\n",
    "holds the whole corpus together."
   ]
  },
  {
   "cell_type": "markdown",
   "metadata": {},
   "source": [
    "# See also\n",
    "\n",
    "[jumps](jumps.ipynb)\n",
    "\n",
    "Because there are more ways to travel ...\n",
    "\n",
    "# Next\n",
    "\n",
    "[signs](signs.ipynb)\n",
    "\n",
    "*Back to the basics ...*\n",
    "\n",
    "All chapters:\n",
    "[start](start.ipynb)\n",
    "[imagery](imagery.ipynb)\n",
    "[steps](steps.ipynb)\n",
    "[signs](signs.ipynb)\n",
    "[quads](quads.ipynb)\n",
    "[jumps](jumps.ipynb)"
   ]
  },
  {
   "cell_type": "code",
   "execution_count": null,
   "metadata": {},
   "outputs": [],
   "source": []
  }
 ],
 "metadata": {
  "kernelspec": {
   "display_name": "Python 3",
   "language": "python",
   "name": "python3"
  },
  "language_info": {
   "codemirror_mode": {
    "name": "ipython",
    "version": 3
   },
   "file_extension": ".py",
   "mimetype": "text/x-python",
   "name": "python",
   "nbconvert_exporter": "python",
   "pygments_lexer": "ipython3",
   "version": "3.6.4"
  },
  "toc": {
   "nav_menu": {},
   "number_sections": true,
   "sideBar": true,
   "skip_h1_title": true,
   "toc_cell": true,
   "toc_position": {
    "height": "607px",
    "left": "0px",
    "right": "983px",
    "top": "110px",
    "width": "297px"
   },
   "toc_section_display": "block",
   "toc_window_display": true
  }
 },
 "nbformat": 4,
 "nbformat_minor": 1
}
